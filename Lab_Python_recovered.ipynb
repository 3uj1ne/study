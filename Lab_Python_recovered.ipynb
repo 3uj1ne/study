{
  "cells": [
    {
      "cell_type": "markdown",
      "metadata": {
        "id": "2LDjNwV-L07C"
      },
      "source": [
        "# \u0410\u043d\u0430\u043b\u0438\u0442\u0438\u043a\u0430 \u0434\u0430\u043d\u043d\u044b\u0445 \u0441 \u043f\u043e\u043c\u043e\u0449\u044c\u044e `pandas` \u0438 `matplotlib`"
      ],
      "outputs": []
    },
    {
      "cell_type": "markdown",
      "metadata": {
        "id": "yahCEf27L8Xz"
      },
      "source": [
        "\u0412 \u044d\u0442\u043e\u043c \u0437\u0430\u0434\u0430\u043d\u0438\u0438 \u0432\u0430\u043c \u043f\u0440\u0435\u0434\u043b\u0430\u0433\u0430\u0435\u0442\u0441\u044f \u0432\u044b\u043f\u043e\u043b\u043d\u0438\u0442\u044c \u0430\u043d\u0430\u043b\u0438\u0437 \u0434\u0430\u043d\u043d\u044b\u0445 \u043a\u0440\u0438\u043f\u0442\u043e\u0432\u0430\u043b\u044e\u0442 \u0441 \u043f\u043e\u043c\u043e\u0449\u044c\u044e \u0431\u0438\u0431\u043b\u0438\u043e\u0442\u0435\u043a pandas \u0438 matplotlib.\n",
        "\u0417\u0430\u0434\u0430\u043d\u0438\u0435 \u0432\u044b\u0433\u043b\u044f\u0434\u0438\u0442 \u043a\u0430\u043a \u043b\u0430\u0431\u043e\u0440\u0430\u0442\u043e\u0440\u043d\u0430\u044f \u0440\u0430\u0431\u043e\u0442\u0430, \u0432 \u043a\u043e\u0442\u043e\u0440\u043e\u0439 \u0432\u0430\u043c \u043f\u0440\u0435\u0434\u0441\u0442\u043e\u0438\u0442 \u0437\u0430\u043f\u043e\u043b\u043d\u0438\u0442\u044c \u043d\u0435\u0434\u043e\u0441\u0442\u0430\u044e\u0449\u0438\u0435 \u043a\u043b\u0435\u0442\u043a\u0438 \u0438 \u043e\u0442\u0432\u0435\u0442\u0438\u0442\u044c \u043d\u0430 \u0440\u044f\u0434 \u0432\u043e\u043f\u0440\u043e\u0441\u043e\u0432.\n",
        " - [\u041e\u0444\u0438\u0446\u0438\u0430\u043b\u044c\u043d\u0430\u044f \u0434\u043e\u043a\u0443\u043c\u0435\u043d\u0442\u0430\u0446\u0438\u044f pandas](https://pandas.pydata.org/)\n",
        " - [\u041e\u0444\u0438\u0446\u0438\u0430\u043b\u044c\u043d\u0430\u044f \u0434\u043e\u043a\u0443\u043c\u0435\u043d\u0442\u0430\u0446\u0438\u044f matplotlib](https://matplotlib.org/index.html)"
      ],
      "outputs": []
    },
    {
      "cell_type": "markdown",
      "metadata": {
        "id": "OEDe7x8YRID0"
      },
      "source": [
        "## \u0412\u043d\u0438\u043c\u0430\u043d\u0438\u0435! Attention! Achtung!"
      ],
      "outputs": []
    },
    {
      "cell_type": "markdown",
      "metadata": {
        "id": "ZEmKA-7NR1Y9"
      },
      "source": [
        "**\u0414\u0430\u043d\u043d\u0430\u044f \u043b\u0430\u0431\u043e\u0440\u0430\u0442\u043e\u0440\u043d\u0430\u044f \u0440\u0430\u0431\u043e\u0442\u0430 \u044f\u0432\u043b\u044f\u0435\u0442\u0441\u044f \u0431\u043b\u043e\u043a\u0438\u0440\u0443\u044e\u0449\u0435\u0439**, \u0442.\u0435. \u0435\u0441\u043b\u0438 \u043b\u0430\u0431\u043e\u0440\u0430\u0442\u043e\u0440\u043d\u0430\u044f \u0440\u0430\u0431\u043e\u0442\u0430 \u043d\u0435 \u0432\u044b\u043f\u043e\u043b\u043d\u0435\u043d\u0430, \u0442\u043e \u043e\u0446\u0435\u043d\u043a\u0430 \u0437\u0430 \u043a\u0443\u0440\u0441 - \u043d\u0435\u0443\u0434.\n",
        "\n",
        "\u041b\u0430\u0431\u043e\u0440\u0430\u0442\u043e\u0440\u043d\u0430\u044f \u0440\u0430\u0431\u043e\u0442\u0430 \u0441\u0447\u0438\u0442\u0430\u0435\u0442\u0441\u044f \u0432\u044b\u043f\u043e\u043b\u043d\u0435\u043d\u043d\u043e\u0439, \u0435\u0441\u043b\u0438 \u043d\u0430\u0431\u0440\u0430\u043d\u043e \u043a\u0430\u043a \u043c\u0438\u043d\u0438\u043c\u0443\u043c 2 \u0431\u0430\u043b\u043b\u0430 \u0438\u0437 10."
      ],
      "outputs": []
    },
    {
      "cell_type": "markdown",
      "metadata": {
        "id": "N1ZbZ8dkR5q_"
      },
      "source": [
        "## \u0424\u043e\u0440\u043c\u0430\u0442 \u0441\u0434\u0430\u0447\u0438 \u043b\u0430\u0431\u043e\u0440\u0430\u0442\u043e\u0440\u043d\u043e\u0439 \u0440\u0430\u0431\u043e\u0442\u044b"
      ],
      "outputs": []
    },
    {
      "cell_type": "markdown",
      "metadata": {
        "id": "tEwx7LLQR-h8"
      },
      "source": [
        "\u0414\u0430\u043d\u043d\u0430\u044f \u043b\u0430\u0431\u043e\u0440\u0430\u0442\u043e\u0440\u043d\u0430\u044f \u0440\u0430\u0431\u043e\u0442\u0430 \u0441\u0434\u0430\u0435\u0442\u0441\u044f \u0442\u0430\u043a \u0436\u0435, \u043a\u0430\u043a \u0438 \u043f\u0440\u043e\u0435\u043a\u0442:\n",
        "- \u0437\u0430\u043f\u043e\u043b\u043d\u044f\u0435\u0442\u0435 \u0434\u0430\u043d\u043d\u044b\u0439 \u043d\u043e\u0443\u0442\u0431\u0443\u043a\n",
        "- \u0441\u043e\u0437\u0434\u0430\u0435\u0442\u0435 \u043f\u0440\u0438\u0432\u0430\u0442\u043d\u044b\u0439 \u0440\u0435\u043f\u043e\u0437\u0438\u0442\u043e\u0440\u0438\u0439 \u0432 GitHub\n",
        "- \u0434\u043e\u0431\u0430\u0432\u043b\u044f\u0435\u0442\u0435 \u0432 \u043d\u0435\u0433\u043e \u043f\u0440\u043e\u0432\u0435\u0440\u044f\u044e\u0449\u0435\u0433\u043e\n",
        "- \u0437\u0430\u0433\u0440\u0443\u0436\u0430\u0435\u0442\u0435 \u0437\u0430\u043f\u043e\u043b\u043d\u0435\u043d\u043d\u044b\u0439 \u043d\u043e\u0443\u0442\u0431\u0443\u043a \u0432 \u043e\u0442\u0434\u0435\u043b\u044c\u043d\u0443\u044e \u0432\u0435\u0442\u043a\u0443\n",
        "- \u0441\u043e\u0437\u0434\u0430\u0435\u0442\u0435 MR \u0438 \u0434\u043e\u0431\u0430\u0432\u043b\u044f\u0435\u0442\u0435 \u043f\u0440\u043e\u0432\u0435\u0440\u044f\u044e\u0449\u0438\u0445 \u0432\u043d\u0435 \u0437\u0430\u0432\u0438\u0441\u0438\u043c\u043e\u0441\u0442\u0438 \u043e\u0442 \u0442\u043e\u0433\u043e \u0447\u044c\u0438 \u0441\u0435\u043c\u0438\u043d\u0430\u0440\u044b \u0432\u044b \u043f\u043e\u0441\u0435\u0449\u0430\u043b\u0438\n",
        "    `@boyarnikov`\n",
        "    `@KatyaProkhorchuk`"
      ],
      "outputs": []
    },
    {
      "cell_type": "markdown",
      "metadata": {
        "id": "qKwaNCJKj7b8"
      },
      "source": [
        "**\u041f\u0440\u043e\u0432\u0435\u0440\u044f\u044e\u0449\u0438\u0435 \u043d\u0435 \u0431\u0443\u0434\u0443\u0442 \u0437\u0430\u043f\u0443\u0441\u043a\u0430\u0442\u044c \u044f\u0447\u0435\u0439\u043a\u0438 \u043a\u043e\u0434\u0430, \u0430 \u0441\u043c\u043e\u0442\u0440\u0435\u0442\u044c \u043d\u0430 \u0432\u044b\u0432\u0435\u0434\u0435\u043d\u043d\u044b\u0439 \u0440\u0435\u0437\u0443\u043b\u044c\u0442\u0430\u0442 \u0438 \u043a\u043e\u0434. \u0415\u0441\u043b\u0438 \u044f\u0447\u0435\u0439\u043a\u0430 \u043a\u043e\u0434\u0430 \u043d\u0435 \u0437\u0430\u043f\u0443\u0449\u0435\u043d\u0430 - \u0431\u0430\u043b\u043b \u043d\u0435 \u0441\u0442\u0430\u0432\u0438\u0442\u0441\u044f, \u0434\u0430\u0436\u0435 \u043f\u0440\u0438 \u043f\u0440\u0430\u0432\u0438\u043b\u044c\u043d\u043e \u043d\u0430\u043f\u0438\u0441\u0430\u043d\u043d\u043e\u043c \u043a\u043e\u0434\u0435.**"
      ],
      "outputs": []
    },
    {
      "cell_type": "markdown",
      "metadata": {
        "id": "dWNu1zPiL07Q"
      },
      "source": [
        "## 1. \u0414\u0430\u043d\u043d\u044b\u0435 (2 \u0431\u0430\u043b\u043b\u0430)"
      ],
      "outputs": []
    },
    {
      "cell_type": "markdown",
      "metadata": {
        "id": "Nh7axXM5MrlX"
      },
      "source": [
        "\u0421\u043a\u0430\u0447\u0438\u0432\u0430\u0435\u043c \u0434\u0430\u043d\u043d\u044b\u0435 \u0434\u043b\u044f \u0440\u0430\u0431\u043e\u0442\u044b:"
      ],
      "outputs": []
    },
    {
      "cell_type": "code",
      "execution_count": null,
      "metadata": {
        "colab": {
          "base_uri": "https://localhost:8080/",
          "referenced_widgets": []
        },
        "id": "RtrjRqJbn7WT",
        "outputId": "3dbef6b5-bc81-4cc8-fe48-67ecbaed5d5b"
      },
      "outputs": [],
      "source": [
        "%pip install gdown\n"
      ]
    },
    {
      "cell_type": "code",
      "execution_count": null,
      "metadata": {
        "colab": {
          "base_uri": "https://localhost:8080/",
          "referenced_widgets": []
        },
        "id": "bzRxn9yrMq79",
        "outputId": "bc11c177-c779-4347-c9ab-db906121d065"
      },
      "outputs": [],
      "source": [
        "!gdown 1l-vkTaM1sK0g2jWHkwiFWDtWjCrac9uM"
      ]
    },
    {
      "cell_type": "markdown",
      "metadata": {
        "id": "rxz0pXGIL07S"
      },
      "source": [
        "\u041d\u0430\u0447\u043d\u0435\u043c \u0441 \u043d\u0435\u043e\u0431\u0445\u043e\u0434\u0438\u043c\u044b\u0445 \u043f\u0440\u0438\u0433\u043e\u0442\u043e\u0432\u043b\u0435\u043d\u0438\u0439."
      ],
      "outputs": []
    },
    {
      "cell_type": "code",
      "execution_count": null,
      "metadata": {
        "id": "-G3lHlpmL07T"
      },
      "outputs": [],
      "source": [
        "import numpy as np\n",
        "import pandas as pd\n",
        "import matplotlib as mpl\n",
        "import matplotlib.pyplot as plt\n",
        "import ipywidgets  # \u0411\u0438\u0431\u043b\u0438\u043e\u0442\u0435\u043a\u0430 \u0434\u043b\u044f \u0438\u043d\u0442\u0435\u0440\u0430\u043a\u0442\u0438\u0432\u043d\u044b\u0445 \u043a\u043e\u043d\u0442\u0440\u043e\u043b\u043e\u0432 \u0432 jupyter notebook'\u0435\n",
        "\n",
        "%matplotlib inline"
      ]
    },
    {
      "cell_type": "markdown",
      "metadata": {
        "id": "syVncWO5L07X"
      },
      "source": [
        "#### \u0417\u0430\u0433\u0440\u0443\u0437\u0438\u0442\u0435 \u0437\u0430\u0440\u0430\u043d\u0435\u0435 \u043f\u043e\u0434\u0433\u043e\u0442\u043e\u0432\u043b\u0435\u043d\u043d\u044b\u0439 \u0434\u0430\u0442\u0430\u0441\u0435\u0442 \u0438\u0437 \u0444\u0430\u0439\u043b\u0430 `coins.csv`. \u0421\u043e\u0437\u0434\u0430\u0439\u0442\u0435 \u043e\u0431\u044a\u0435\u043a\u0442 \u0442\u0438\u043f\u0430 `pandas.DataFrame` \u0441 \u0438\u043c\u0435\u043d\u0435\u043c `coins` \u0438 \u0432 \u043a\u0430\u0447\u0435\u0441\u0442\u0432\u0435 \u0438\u043d\u0434\u0435\u043a\u0441\u0430 \u0432\u044b\u0431\u0435\u0440\u0438\u0442\u0435 \u043a\u043e\u043b\u043e\u043d\u043a\u0443 \u0441 \u0434\u0430\u0442\u043e\u0439."
      ],
      "outputs": []
    },
    {
      "cell_type": "code",
      "execution_count": null,
      "metadata": {
        "id": "3a-dnCG0L07Z"
      },
      "outputs": [],
      "source": [
        "coins = pd.read_csv(\"coins.csv\", index_col='date')"
      ]
    },
    {
      "cell_type": "markdown",
      "metadata": {
        "id": "XYauvggmL07a"
      },
      "source": [
        "\u041f\u043e\u0441\u043c\u043e\u0442\u0440\u0438\u043c \u0447\u0442\u043e \u043f\u043e\u043b\u0443\u0447\u0438\u043b\u043e\u0441\u044c"
      ],
      "outputs": []
    },
    {
      "cell_type": "code",
      "execution_count": null,
      "metadata": {
        "colab": {
          "base_uri": "https://localhost:8080/",
          "height": 206,
          "referenced_widgets": []
        },
        "id": "l4uGAbw2L07e",
        "outputId": "b45a4931-9b9b-45af-a0f6-d4bc644dcd94"
      },
      "outputs": [],
      "source": [
        "coins.head(4)"
      ]
    },
    {
      "cell_type": "markdown",
      "metadata": {
        "id": "KVwDhn2bL07i"
      },
      "source": [
        "\u041f\u043e\u044f\u0441\u043d\u0438\u043c \u0437\u043d\u0430\u0447\u0435\u043d\u0438\u044f \u0445\u0440\u0430\u043d\u044f\u0449\u0438\u0435\u0441\u044f \u0432 \u043a\u043e\u043b\u043e\u043d\u043a\u0430\u0445\n",
        " - date - \u0434\u0430\u0442\u0430 \u0438\u0437\u043c\u0435\u0440\u0435\u043d\u0438\u0439\n",
        " - name - \u043f\u043e\u043b\u043d\u043e\u0435 \u043d\u0430\u0437\u0432\u0430\u043d\u0438\u0435 \u043c\u043e\u043d\u0435\u0442\u044b\n",
        " - symbol - \u0441\u043e\u043a\u0440\u0430\u0449\u0435\u043d\u043d\u043e\u0435 \u043d\u0430\u0437\u0432\u0430\u043d\u0438\u0435 \u043c\u043e\u043d\u0435\u0442\u044b\n",
        " - price - \u0441\u0440\u0435\u0434\u043d\u044f\u044f \u0446\u0435\u043d\u0430 \u043c\u043e\u043d\u0435\u0442\u044b \u0437\u0430 \u0442\u043e\u0440\u0433\u043e\u0432\u044b\u0439 \u0434\u0435\u043d\u044c \u0432 USD\n",
        " - txCount - \u043a\u043e\u043b\u0438\u0447\u0435\u0441\u0442\u0432\u043e \u0442\u0440\u0430\u043d\u0437\u0430\u043a\u0446\u0438\u0439 \u0432 \u0441\u0435\u0442\u0438 \u0434\u0430\u043d\u043d\u043e\u0439 \u043c\u043e\u043d\u0435\u0442\u044b\n",
        " - txVolume - \u043e\u0431\u044a\u0435\u043c \u043c\u043e\u043d\u0435\u0442 \u043f\u0435\u0440\u0435\u0432\u0435\u0434\u0435\u043d\u043d\u044b\u0445 \u043c\u0435\u0436\u0434\u0443 \u0430\u0434\u0440\u0435\u0441\u0430\u043c\u0438 \u0432 \u0441\u0435\u0442\u0438 \u0434\u0430\u043d\u043d\u043e\u0439 \u043c\u043e\u043d\u0435\u0442\u044b\n",
        " - activeAddresses - \u043a\u043e\u043b\u0438\u0447\u0435\u0441\u0442\u0432\u043e \u0430\u0434\u0440\u0435\u0441\u043e\u0432 \u0441\u043e\u0432\u0435\u0440\u0448\u0430\u0432\u0448\u0438\u0445 \u0430 \u0434\u0430\u043d\u043d\u044b\u0439 \u0434\u0435\u043d\u044c \u0442\u0440\u0430\u043d\u0437\u0430\u0446\u0438\u0438 \u0432 \u0441\u0435\u0442\u0438 \u0434\u0430\u043d\u043d\u043e\u0439 \u043c\u043e\u043d\u0435\u0442\u044b\n",
        " - open - \u0446\u0435\u043d\u0430 \u043c\u043e\u043d\u0435\u0442\u044b \u0432 \u043d\u0430\u0447\u0430\u043b\u0435 \u0442\u043e\u0440\u0433\u043e\u0432 \u0434\u0430\u043d\u043d\u043e\u0433\u043e \u0434\u043d\u044f\n",
        " - close - \u0446\u0435\u043d\u0430 \u043c\u043e\u043d\u0435\u0442\u044b \u0432 \u043a\u043e\u043d\u0446\u0435 \u0442\u043e\u0440\u0433\u043e\u0432 \u0434\u0430\u043d\u043d\u043e\u0433\u043e \u0434\u043d\u044f\n",
        " - high - \u0441\u0430\u043c\u0430\u044f \u0432\u044b\u0441\u043e\u043a\u0430\u044f \u0446\u0435\u043d\u0430 \u0434\u0430\u043d\u043d\u043e\u0439 \u043c\u043e\u043d\u0435\u0442\u044b \u0432 \u0442\u0435\u0447\u0435\u043d\u0438\u0435 \u0434\u0430\u043d\u043d\u043e\u0433\u043e \u0442\u043e\u0440\u0433\u043e\u0432\u043e\u0433\u043e \u0434\u043d\u044f\n",
        " - low - \u0441\u0430\u043c\u0430\u044f \u043d\u0438\u0437\u043a\u0430\u044f \u0446\u0435\u043d\u0430 \u0434\u0430\u043d\u043d\u043e\u0439 \u043c\u043e\u043d\u0435\u0442\u044b \u0432 \u0442\u0435\u0447\u0435\u043d\u0438\u0435 \u0434\u0430\u043d\u043d\u043e\u0433\u043e \u0442\u043e\u0440\u0433\u043e\u0432\u043e\u0433\u043e \u0434\u043d\u044f\n",
        " - volume - \u043e\u0431\u044a\u0435\u043c \u0442\u043e\u0440\u0433\u043e\u0432 \u0434\u0430\u043d\u043d\u043e\u0439 \u043c\u043e\u043d\u0435\u0442\u043e\u0439 \u043d\u0430 \u0431\u0438\u0440\u0436\u0430\u0445 \u0432 \u0434\u0430\u043d\u043d\u044b\u0439 \u0434\u0435\u043d\u044c\n",
        " - market - \u043a\u0430\u043f\u0438\u0442\u0430\u043b\u0438\u0437\u0430\u0446\u0438\u044f \u0434\u0430\u043d\u043d\u043e\u0439 \u043c\u043e\u043d\u0435\u0442\u044b \u0432 \u0434\u0430\u043d\u043d\u044b\u0439 \u0434\u0435\u043d\u044c"
      ],
      "outputs": []
    },
    {
      "cell_type": "markdown",
      "metadata": {
        "id": "_q8b6IndNKmV"
      },
      "source": [
        "\u0418\u0437\u0443\u0447\u0438\u043c \u043f\u043e\u043b\u0443\u0447\u0435\u043d\u043d\u044b\u0435 \u0434\u0430\u043d\u043d\u044b\u0435. \u041e\u0442\u0432\u0435\u0442\u044c\u0442\u0435 \u043d\u0430 \u0441\u043b\u0435\u0434\u0443\u044e\u0449\u0438\u0435 \u0432\u043e\u043f\u0440\u043e\u0441\u044b (\u0432\u0441\u0442\u0430\u0432\u043b\u044f\u0439\u0442\u0435 \u043a\u043b\u0435\u0442\u043a\u0438 \u0441 \u043a\u043e\u0434\u043e\u043c \u0438 \u0442\u0435\u043a\u0442\u043e\u043c \u043d\u0438\u0436\u0435):"
      ],
      "outputs": []
    },
    {
      "cell_type": "markdown",
      "metadata": {
        "id": "7ud0R7PcL07k"
      },
      "source": [
        "### 1. \u0421\u043a\u043e\u043b\u044c\u043a\u043e \u0432\u0441\u0435\u0433\u043e \u0440\u0430\u0437\u043b\u0438\u0447\u043d\u044b\u0445 \u043c\u043e\u043d\u0435\u0442 \u043f\u0440\u0435\u0434\u0441\u0442\u0430\u0432\u043b\u0435\u043d\u043e \u0432 \u0434\u0430\u0442\u0430\u0441\u0435\u0442\u0435? (0.4 \u0431\u0430\u043b\u043b\u0430)"
      ],
      "outputs": []
    },
    {
      "cell_type": "code",
      "execution_count": null,
      "metadata": {
        "colab": {
          "base_uri": "https://localhost:8080/",
          "referenced_widgets": []
        },
        "id": "oN2d3V71L07m",
        "outputId": "a6e339d2-5de8-496c-8e22-9ce7e5329188"
      },
      "outputs": [],
      "source": [
        "coins['name'].nunique()"
      ]
    },
    {
      "cell_type": "markdown",
      "metadata": {
        "id": "TDffn2rLL07n"
      },
      "source": [
        "### 2. \u0417\u0430 \u043a\u0430\u043a\u043e\u0439 \u043f\u0435\u0440\u0438\u043e\u0434 \u0434\u0430\u043d\u043d\u044b\u0435 \u043c\u044b \u0438\u043c\u0435\u0435\u043c? (0.4 \u0431\u0430\u043b\u043b\u0430)"
      ],
      "outputs": []
    },
    {
      "cell_type": "code",
      "execution_count": null,
      "metadata": {
        "colab": {
          "base_uri": "https://localhost:8080/",
          "referenced_widgets": []
        },
        "id": "7Ucmnjv1L07p",
        "outputId": "49ad3929-41a1-4580-de39-96d65b83d496"
      },
      "outputs": [],
      "source": [
        "print(coins.reset_index()[\"date\"].min(), \"-\", coins.reset_index()[\"date\"].max())"
      ]
    },
    {
      "cell_type": "markdown",
      "metadata": {
        "id": "XFHJsy_5L07p"
      },
      "source": [
        "### 3. \u0415\u0441\u0442\u044c \u043b\u0438 \u043f\u0440\u043e\u043f\u0443\u0441\u043a\u0438 \u0432 \u0434\u0430\u043d\u043d\u044b\u0445? \u041a\u0430\u043a\u043e\u0439 \u043f\u0440\u0438\u0440\u043e\u0434\u044b \u044d\u0442\u0438 \u043f\u0440\u043e\u043f\u0443\u0441\u043a\u0438, \u0447\u0435\u043c \u043e\u043d\u0438 \u0441\u043a\u043e\u0440\u0435\u0435 \u0432\u0441\u0435\u0433\u043e \u0432\u044b\u0437\u0432\u0430\u043d\u044b? (0.5 \u0431\u0430\u043b\u043b\u0430)"
      ],
      "outputs": []
    },
    {
      "cell_type": "markdown",
      "metadata": {
        "id": "fERh1TQIIihM"
      },
      "source": [
        "\u041f\u0440\u043e\u0432\u0435\u0440\u0438\u043c \u043d\u0430\u043b\u0438\u0447\u0438\u0435 \u043f\u0440\u043e\u043f\u0443\u0441\u043a\u043e\u0432:"
      ],
      "outputs": []
    },
    {
      "cell_type": "code",
      "execution_count": null,
      "metadata": {
        "colab": {
          "base_uri": "https://localhost:8080/",
          "referenced_widgets": []
        },
        "id": "D-nOmmFjL07r",
        "outputId": "39aaba66-e298-4063-8ead-3c9b41a85d34"
      },
      "outputs": [],
      "source": [
        "coins.info"
      ]
    },
    {
      "cell_type": "code",
      "execution_count": null,
      "metadata": {
        "colab": {
          "base_uri": "https://localhost:8080/",
          "height": 460,
          "referenced_widgets": []
        },
        "id": "lVta9R3QE49O",
        "outputId": "5f891b57-2ac7-40ea-d3b1-104810fbaf86"
      },
      "outputs": [],
      "source": [
        "coins.isnull().sum()"
      ]
    },
    {
      "cell_type": "markdown",
      "metadata": {
        "id": "N2HT4vxqImmF"
      },
      "source": [
        "\u0412 \u043a\u0430\u043a\u0438\u0445 \u043c\u043e\u043d\u0435\u0442\u0430\u0445 \u0435\u0441\u0442\u044c \u043f\u0440\u043e\u043f\u0443\u0441\u043a\u0438:"
      ],
      "outputs": []
    },
    {
      "cell_type": "code",
      "execution_count": null,
      "metadata": {
        "colab": {
          "base_uri": "https://localhost:8080/",
          "height": 774,
          "referenced_widgets": []
        },
        "id": "o-U4W71BH5_n",
        "outputId": "03278ba3-5c3f-43d8-9bf7-cb5dbaa39c13"
      },
      "outputs": [],
      "source": [
        "coins[coins.isnull().any(axis=1)][\"name\"].value_counts( )"
      ]
    },
    {
      "cell_type": "markdown",
      "metadata": {
        "id": "_WhG1folIrbf"
      },
      "source": [
        "\u0417\u0430\u043c\u0435\u0442\u0438\u043c, \u0447\u0442\u043e \u0431\u043e\u043b\u044c\u0448\u0435 \u043f\u043e\u043b\u043e\u0432\u0438\u043d\u044b \u043f\u0440\u043e\u043f\u0443\u0441\u043a\u043e\u0432 \u043f\u0440\u0438\u0445\u043e\u0434\u0438\u0442\u0441\u044f \u043d\u0430 \u0442\u0440\u0438 \u043c\u043e\u043d\u0435\u0442\u044b. \u041f\u0440\u043e\u0432\u0435\u0440\u0438\u043c, \u0441\u043a\u043e\u043b\u044c\u043a\u043e \u0442\u0440\u0430\u043d\u0437\u0430\u043a\u0446\u0438\u0439 \u0432 \u043d\u0438\u0445 \u0431\u0435\u0437 \u043f\u0440\u043e\u043f\u0443\u0441\u043a\u043e\u0432:"
      ],
      "outputs": []
    },
    {
      "cell_type": "code",
      "execution_count": null,
      "metadata": {
        "colab": {
          "base_uri": "https://localhost:8080/",
          "referenced_widgets": []
        },
        "id": "3IKnHEpAFJKe",
        "outputId": "96a9aec5-a99f-425b-cb1b-0d038d016925"
      },
      "outputs": [],
      "source": [
        "print(\"Augur\",\"\\n\",\"\u0422\u0440\u0430\u043d\u0437\u0430\u043a\u0446\u0438\u0438 \u0441 \u043f\u0440\u043e\u043f\u0443\u0441\u043a\u0430\u043c\u0438: \",(coins[coins.isnull().any(axis=1)][\"name\"] == \"Augur\").sum(), '\\n', \"\u0422\u0440\u0430\u043d\u0437\u0430\u043a\u0446\u0438\u0439 \u0432\u0441\u0435\u0433\u043e: \", (coins[\"name\"] == \"Augur\").sum())"
      ]
    },
    {
      "cell_type": "code",
      "execution_count": null,
      "metadata": {
        "colab": {
          "base_uri": "https://localhost:8080/",
          "referenced_widgets": []
        },
        "id": "vWq7BW7rHv69",
        "outputId": "73611a4e-7f3c-47b1-eb8a-52d681e89695"
      },
      "outputs": [],
      "source": [
        "print(\"Stellar\",\"\\n\",\"\u0422\u0440\u0430\u043d\u0437\u0430\u043a\u0446\u0438\u0438 \u0441 \u043f\u0440\u043e\u043f\u0443\u0441\u043a\u0430\u043c\u0438: \",(coins[coins.isnull().any(axis=1)][\"name\"] == \"Stellar\").sum(), '\\n', \"\u0422\u0440\u0430\u043d\u0437\u0430\u043a\u0446\u0438\u0439 \u0432\u0441\u0435\u0433\u043e: \", (coins[\"name\"] == \"Stellar\").sum())"
      ]
    },
    {
      "cell_type": "code",
      "execution_count": null,
      "metadata": {
        "colab": {
          "base_uri": "https://localhost:8080/",
          "referenced_widgets": []
        },
        "id": "BOmabU9KJvBI",
        "outputId": "d13f35a9-b051-4dae-c547-59ec9e97a2f7"
      },
      "outputs": [],
      "source": [
        "print(\"VeChain\",\"\\n\",\"\u0422\u0440\u0430\u043d\u0437\u0430\u043a\u0446\u0438\u0438 \u0441 \u043f\u0440\u043e\u043f\u0443\u0441\u043a\u0430\u043c\u0438: \",(coins[coins.isnull().any(axis=1)][\"name\"] == \"VeChain\").sum(), '\\n', \"\u0422\u0440\u0430\u043d\u0437\u0430\u043a\u0446\u0438\u0439 \u0432\u0441\u0435\u0433\u043e: \", (coins[\"name\"] == \"VeChain\").sum())"
      ]
    },
    {
      "cell_type": "code",
      "execution_count": null,
      "metadata": {
        "id": "HLQCNASSKTxa"
      },
      "outputs": [],
      "source": [
        "\u0414\u043b\u044f \u0441\u0440\u0430\u0432\u043d\u0435\u043d\u0438\u044f \u0440\u0430\u0441\u0441\u043c\u043e\u0442\u0440\u0438\u043c \u043c\u043e\u043d\u0435\u0442\u0443 \u0438\u0437 \u043a\u043e\u043d\u0446\u0430 \u0441\u043f\u0438\u0441\u043a\u0430:"
      ]
    },
    {
      "cell_type": "code",
      "execution_count": null,
      "metadata": {
        "colab": {
          "base_uri": "https://localhost:8080/",
          "referenced_widgets": []
        },
        "id": "6PELmTkgKYy0",
        "outputId": "cf96671e-4be9-44cd-d54e-17ad80726a1e"
      },
      "outputs": [],
      "source": [
        "print(\"Gnosis\",\"\\n\",\"\u0422\u0440\u0430\u043d\u0437\u0430\u043a\u0446\u0438\u0438 \u0441 \u043f\u0440\u043e\u043f\u0443\u0441\u043a\u0430\u043c\u0438: \",(coins[coins.isnull().any(axis=1)][\"name\"] == \"Gnosis\").sum(), '\\n', \"\u0422\u0440\u0430\u043d\u0437\u0430\u043a\u0446\u0438\u0439 \u0432\u0441\u0435\u0433\u043e: \", (coins[\"name\"] == \"Gnosis\").sum())"
      ]
    },
    {
      "cell_type": "markdown",
      "metadata": {
        "id": "v__yJ9c5Kde3"
      },
      "source": [
        "\u0412\u043e\u0437\u043c\u043e\u0436\u043d\u043e, \u043f\u0440\u043e\u043f\u0443\u0441\u043a\u0438 \u0441\u0432\u044f\u0437\u0430\u043d\u044b \u0441 \u0430\u0440\u0445\u0438\u0442\u0435\u043a\u0442\u0443\u0440\u043e\u0439 \u0431\u043b\u043e\u043a\u0447\u0435\u0439\u043d\u0430 \u0438 \u0432\u043e\u0437\u043c\u043e\u0436\u043d\u043e\u0441\u0442\u044c\u044e \u0441\u043a\u0440\u044b\u0432\u0430\u0442\u044c \u0434\u0430\u043d\u043d\u044b\u0435 \u043e \u0442\u0440\u0430\u043d\u0437\u0430\u0446\u0438\u044f\u0445 / \u0430\u0434\u0440\u0435\u0441\u0430\u0445 \u043a\u043e\u0448\u0435\u043b\u044c\u043a\u043e\u0432 \u0434\u043b\u044f \u043c\u043e\u043d\u0435\u0442 \u0438\u0437 \u043d\u0430\u0447\u0430\u043b\u0430 \u0441\u043f\u0438\u0441\u043a\u0430 \u0438 \u043e\u0448\u0438\u0431\u043a\u0430\u043c\u0438 / \u043f\u043e\u0432\u0440\u0435\u0436\u0434\u0435\u043d\u0438\u044f\u043c\u0438 \u0411\u0414 \u0434\u043b\u044f \u043c\u043e\u043d\u0435\u0442 \u0432 \u043a\u043e\u043d\u0446\u0435 \u0441\u043f\u0438\u0441\u043a\u0430."
      ],
      "outputs": []
    },
    {
      "cell_type": "markdown",
      "metadata": {
        "id": "Da-aXu_hL07s"
      },
      "source": [
        "### 4. \u0423 \u043a\u0430\u043a\u043e\u0439 \u043c\u043e\u043d\u0435\u0442\u044b \u0438 \u043a\u043e\u0433\u0434\u0430 \u0431\u044b\u043b\u0430 \u0441\u0430\u043c\u0430\u044f \u0432\u044b\u0441\u043e\u043a\u0430\u044f \u0446\u0435\u043d\u0430? (0.2 \u0431\u0430\u043b\u043b\u0430)"
      ],
      "outputs": []
    },
    {
      "cell_type": "code",
      "execution_count": null,
      "metadata": {
        "colab": {
          "base_uri": "https://localhost:8080/",
          "height": 147,
          "referenced_widgets": []
        },
        "id": "-D50115vL07t",
        "outputId": "ddd764f5-7783-4bc2-e8f9-9b05c4e6055e"
      },
      "outputs": [],
      "source": [
        "coins[coins[\"price\"] == coins[\"price\"].max()][\"name\"]"
      ]
    },
    {
      "cell_type": "markdown",
      "metadata": {
        "id": "3F9UdmukL07u"
      },
      "source": [
        "### 5. \u0423 \u043a\u0430\u043a\u043e\u0439 \u043c\u043e\u043d\u0435\u0442\u044b \u0441\u0430\u043c\u0430\u044f \u0432\u044b\u0441\u043e\u043a\u0430\u044f \u0438 \u0441\u0430\u043c\u0430\u044f \u043d\u0438\u0437\u043a\u0430\u044f \u0441\u0440\u0435\u0434\u043d\u044f\u044f \u043a\u0430\u043f\u0438\u0442\u0430\u043b\u0438\u0437\u0430\u0446\u0438\u044f (\u0441\u0440\u0435\u0434\u043d\u0435\u0435 \u0430\u0440\u0438\u0444\u043c\u0435\u0442\u0438\u0447\u0435\u0441\u043a\u043e\u0435 \u043a\u0430\u043f\u0438\u0442\u0430\u043b\u0438\u0437\u0430\u0446\u0438\u0439 \u0437\u0430 \u0432\u0441\u0435 \u0434\u043e\u0441\u0442\u0443\u043f\u043d\u044b\u0435 \u0434\u043d\u0438)? \u041f\u043e\u0441\u0442\u0440\u043e\u0439\u0442\u0435 \u043a\u0440\u0443\u0433\u043e\u0432\u0443\u044e \u0434\u0438\u0430\u0433\u0440\u0430\u043c\u043c\u0443 \u0441 \u0434\u043e\u043b\u044f\u043c\u0438. (0.5 \u0431\u0430\u043b\u043b\u0430)"
      ],
      "outputs": []
    },
    {
      "cell_type": "markdown",
      "metadata": {
        "id": "Q2uOSfUsL07w"
      },
      "source": [
        "## 2. \u0412\u0438\u0437\u0443\u0430\u043b\u0438\u0437\u0430\u0446\u0438\u044f (1 \u0431\u0430\u043b\u043b)"
      ],
      "outputs": []
    },
    {
      "cell_type": "markdown",
      "metadata": {
        "id": "uwjJ-L7tL07w"
      },
      "source": [
        "\u0421\u0430\u043c\u0430\u044f \u0438\u043d\u0442\u0435\u0440\u0435\u0441\u043d\u0430\u044f \u0447\u0430\u0441\u0442\u044c \u0440\u0430\u0431\u043e\u0442\u044b \u0430\u043d\u0430\u043b\u0438\u0442\u0438\u043a\u0430 \u0441\u043e\u0441\u0442\u043e\u0438\u0442 \u0432\u043e \u0432\u043d\u0438\u043c\u0430\u0442\u0435\u043b\u044c\u043d\u043e\u043c \u0432\u0433\u043b\u044f\u0434\u044b\u0432\u0430\u043d\u0438\u0438 \u0432 \u043f\u0440\u0430\u0432\u0438\u043b\u044c\u043d\u043e \u0432\u044b\u0431\u0440\u0430\u043d\u043d\u044b\u0435 \u0438 \u043f\u043e\u0441\u0442\u0440\u043e\u0435\u043d\u043d\u044b\u0435 \u0433\u0440\u0430\u0444\u0438\u043a\u0438."
      ],
      "outputs": []
    },
    {
      "cell_type": "markdown",
      "metadata": {
        "id": "mtUf5gGiNa6z"
      },
      "source": [
        "**\u0420\u0435\u0430\u043b\u0438\u0437\u0443\u0439\u0442\u0435 \u0444\u0443\u043d\u043a\u0446\u0438\u044e \u0434\u043b\u044f \u0432\u0438\u0437\u0443\u0430\u043b\u0438\u0437\u0430\u0446\u0438\u0438 \u0446\u0435\u043d \u0432\u044b\u0431\u0440\u0430\u043d\u043d\u043e\u0439 \u0432\u0430\u043b\u044e\u0442\u044b \u0437\u0430 \u0432\u044b\u0431\u0440\u0430\u043d\u043d\u044b\u0439 \u0434\u0438\u0430\u043f\u0430\u0437\u043e\u043d \u0434\u0430\u0442.**"
      ],
      "outputs": []
    },
    {
      "cell_type": "markdown",
      "metadata": {
        "id": "9qevVDaEL07x"
      },
      "source": [
        "\u041d\u0430 \u0433\u0440\u0430\u0444\u0438\u043a\u0435 \u0434\u043e\u043b\u0436\u043d\u044b \u0431\u044b\u0442\u044c \u0432\u0438\u0434\u043d\u044b \u0446\u0435\u043d\u044b \u043d\u0430\u0447\u0430\u043b\u0430 \u0438 \u043a\u043e\u043d\u0446\u0430 \u043f\u0440\u043e\u0434\u0430\u0436. \u0410 \u0442\u0430\u043a \u0436\u0435 \u043c\u0438\u043d\u0438\u043c\u0430\u043b\u044c\u043d\u0430\u044f \u0438 \u043c\u0430\u043a\u0441\u0438\u043c\u0430\u043b\u044c\u043d\u0430\u044f \u0446\u0435\u043d\u0430 \u0437\u0430 \u044d\u0442\u043e\u0442 \u0434\u0435\u043d\u044c.\n",
        "\u041f\u043e\u0434\u043f\u0438\u0448\u0438\u0442\u0435 \u0433\u0440\u0430\u0444\u0438\u043a \u0438 \u043e\u0441\u0438 \u043a\u043e\u043e\u0440\u0434\u0438\u043d\u0430\u0442. \u0414\u043e\u0431\u0430\u0432\u044c\u0442\u0435 \u0441\u0435\u0442\u043a\u0443. \u0423\u0432\u0435\u043b\u0438\u0447\u044c\u0442\u0435 \u0440\u0430\u0437\u043c\u0435\u0440 \u0438\u0437\u043e\u0431\u0440\u0430\u0436\u0435\u043d\u0438\u044f.\n",
        "\u041c\u043e\u0436\u0435\u0442\u0435 \u043f\u043e\u043f\u0440\u043e\u0431\u043e\u0432\u0430\u0442\u044c \u0438\u0441\u043f\u043e\u043b\u044c\u0437\u043e\u0432\u0430\u0442\u044c `candlestick_ohlc` (`from mplfinance.original_flavor import candlestick_ohlc`), \u043d\u043e \u043c\u043e\u0436\u043d\u043e \u0438 \u0431\u0435\u0437 \u043d\u0435\u0433\u043e."
      ],
      "outputs": []
    },
    {
      "cell_type": "code",
      "execution_count": null,
      "metadata": {
        "colab": {
          "base_uri": "https://localhost:8080/",
          "referenced_widgets": []
        },
        "id": "kZYgPo69wAHp",
        "outputId": "6a7f2231-52c2-4232-ae56-13010fa22b08"
      },
      "outputs": [],
      "source": [
        "pip install --upgrade mplfinance\n"
      ]
    },
    {
      "cell_type": "code",
      "execution_count": null,
      "metadata": {
        "id": "JZOH3N7gvQ4I"
      },
      "outputs": [],
      "source": [
        "from mplfinance.original_flavor import candlestick_ohlc\n",
        "import matplotlib.dates as mdates"
      ]
    },
    {
      "cell_type": "code",
      "execution_count": null,
      "metadata": {
        "id": "mR_RvLetL07y"
      },
      "outputs": [],
      "source": [
        "def plot_fancy_price_action(coins, symbol, start_date, end_date):\n",
        "    fig = plt.figure(figsize=(15, 10))\n",
        "    ax1 = plt.subplot2grid((1,1), (0,0))\n",
        "    ohlc_raw  = pd.DataFrame()\n",
        "\n",
        "    filtered_by_date = coins.loc[start_date:end_date]\n",
        "\n",
        "    ohlc_raw = filtered_by_date[filtered_by_date[\"symbol\"] == symbol].reset_index()[['date','open', 'high', 'low', 'close', 'volume']]\n",
        "    ohlc_raw['date'] = pd.to_datetime(ohlc_raw['date'])\n",
        "    ohlc_raw['date'] = ohlc_raw['date'].map(mdates.date2num)\n",
        "\n",
        "    ohlc = np.array(ohlc_raw)\n",
        "    candlestick_ohlc(ax1, ohlc, width=0.4, colorup='#77d879', colordown='#db3f3f')\n",
        "    for label in ax1.xaxis.get_ticklabels():\n",
        "        label.set_rotation(45)\n",
        "    ax1.xaxis.set_major_formatter(mdates.DateFormatter('%d-%m-%Y'))\n",
        "    ax1.grid(True)\n",
        "\n",
        "    plt.xlabel('Date')\n",
        "    plt.ylabel('Price')\n",
        "    plt.title(f'{symbol} price by day')\n",
        "    plt.subplots_adjust(left=0.09, bottom=0.20, right=0.94, top=0.90, wspace=0.2, hspace=0)\n",
        "    plt.show()"
      ]
    },
    {
      "cell_type": "markdown",
      "metadata": {
        "id": "C1F_4oSmL07z"
      },
      "source": [
        "\u041f\u043e\u0441\u043c\u043e\u0442\u0440\u0438\u043c, \u0447\u0442\u043e \u043f\u043e\u043b\u0443\u0447\u0438\u043b\u043e\u0441\u044c:"
      ],
      "outputs": []
    },
    {
      "cell_type": "code",
      "execution_count": null,
      "metadata": {
        "colab": {
          "base_uri": "https://localhost:8080/",
          "height": 855,
          "referenced_widgets": []
        },
        "id": "VIF6IvysL070",
        "outputId": "bb1f09b7-57ea-4eef-a92d-6d5849a76a94"
      },
      "outputs": [],
      "source": [
        "plot_fancy_price_action(coins=coins, symbol='VERI', start_date='2013-06-01', end_date='2019-06-30')"
      ]
    },
    {
      "cell_type": "markdown",
      "metadata": {
        "id": "cPzieShSL070"
      },
      "source": [
        "\u041d\u0438\u043a\u0430\u043a\u043e\u0433\u043e \u0434\u0430\u0442\u0430\u0441\u0430\u0435\u043d\u0441\u0430 \u0432 \u044d\u0442\u043e\u043c \u0437\u0430\u0434\u0430\u043d\u0438\u0438 \u043d\u0435\u0442. \u041f\u0440\u043e\u0441\u0442\u043e \u0430\u043d\u0430\u043b\u0438\u0442\u0438\u043a \u0434\u043e\u043b\u0436\u0435\u043d \u0443\u043c\u0435\u0442\u044c \u0441\u0442\u0440\u043e\u0438\u0442\u044c \u0433\u0440\u0430\u0444\u0438\u043a\u0438, \u043b\u0438\u0431\u043e \u0437\u043d\u0430\u0442\u044c \u0433\u043e\u0442\u043e\u0432\u044b\u0435 \u0438\u043d\u0441\u0442\u0440\u0443\u043c\u0435\u043d\u0442\u044b."
      ],
      "outputs": []
    },
    {
      "cell_type": "markdown",
      "metadata": {
        "id": "8eizRenYL071"
      },
      "source": [
        "## 3. \u041d\u0430\u043a\u0430\u0447\u043a\u0430 \u0438 \u0441\u0431\u0440\u043e\u0441 (1 \u0431\u0430\u043b\u043b)"
      ],
      "outputs": []
    },
    {
      "cell_type": "markdown",
      "metadata": {
        "id": "WFgtlhMKNjtX"
      },
      "source": [
        "\u041a\u0440\u0438\u043f\u0442\u043e\u0432\u0430\u043b\u044e\u0442\u043d\u044b\u0435 \u0431\u0438\u0440\u0436\u0438 \u0434\u043e \u0441\u0438\u0445 \u043f\u043e\u0440 \u043e\u0441\u0442\u0430\u044e\u0442\u0441\u044f \u043c\u0430\u0440\u0433\u0438\u043d\u0430\u043b\u044c\u043d\u044b\u043c \u043c\u0435\u0441\u0442\u043e\u043c, \u044d\u0434\u0430\u043a\u0438\u043c \u0434\u0438\u043a\u0438\u043c \u0437\u0430\u043f\u0430\u0434\u043e\u043c \u0444\u0438\u043d\u0430\u043d\u0441\u043e\u0432\u043e\u0433\u043e \u043c\u0438\u0440\u0430. \u041a\u0430\u043a \u0441\u043b\u0435\u0434\u0441\u0442\u0432\u0438\u0435, \u0437\u0434\u0435\u0441\u044c \u043f\u0440\u043e\u0446\u0432\u0435\u0442\u0430\u044e\u0442 \u0441\u0445\u0435\u043c\u044b \u043e\u0442\u043d\u043e\u0441\u0438\u0442\u0435\u043b\u044c\u043d\u043e\n",
        "\u0447\u0435\u0441\u0442\u043d\u043e\u0433\u043e \u043e\u0442\u044a\u0435\u043c\u0430 \u0434\u0435\u043d\u0435\u0433. \u041e\u0434\u043d\u0430 \u0438\u0437 \u043d\u0438\u0445 - **pump'n'dump** (\u043d\u0430\u043a\u0430\u0447\u043a\u0430 \u0438 \u0441\u0431\u0440\u043e\u0441).\n",
        "\n",
        "\u041e\u043d\u0430 \u0432\u044b\u0433\u043b\u044f\u0434\u0438\u0442 \u0441\u043b\u0435\u0434\u0443\u044e\u0448\u0438\u043c \u043e\u0431\u0440\u0430\u0437\u043e\u043c. \u041d\u0435\u0441\u043a\u043e\u043b\u044c\u043a\u043e \u043a\u0440\u0443\u043f\u043d\u044b\u0445 \u0438\u0433\u0440\u043e\u043a\u043e\u0432 \u0438\u043b\u0438 \u043c\u043d\u043e\u0433\u043e \u043c\u0435\u043b\u043a\u0438\u0445 \u0434\u043e\u0433\u043e\u0432\u0430\u0440\u0438\u0432\u0430\u044e\u0442\u0441\u044f \u0432\u043c\u0435\u0441\u0442\u0435 \u043a\u0443\u043f\u0438\u0442\u044c \u043c\u0430\u043b\u043e\u0438\u0437\u0432\u0435\u0441\u0442\u043d\u0443\u044e \u043c\u043e\u043d\u0435\u0442\u0443 \u0441 \u043d\u0438\u0437\u043a\u043e\u0439 \u0446\u0435\u043d\u043e\u0439 \u0438 \u043e\u0431\u044a\u0435\u043c\u043e\u043c \u0442\u043e\u0440\u0433\u043e\u0432. \u042d\u0442\u043e \u043f\u0440\u0438\u0432\u043e\u0434\u0438\u0442 \u043a \u043c\u0433\u043d\u043e\u0432\u0435\u043d\u043d\u043e\u043c\u0443 \u0432\u0437\u043b\u0435\u0442\u0443 \u0446\u0435\u043d\u044b (pump), \u0434\u0430\u043b\u0435\u0435 \u043f\u0440\u0438\u0445\u043e\u0434\u044f\u0442 \u043d\u0435\u043e\u043f\u044b\u0442\u043d\u044b\u0435 \u0438\u0433\u0440\u043e\u043a\u0438 \u0432 \u043d\u0430\u0434\u0435\u0436\u0434\u0435 \u0443\u0441\u043f\u0435\u0442\u044c \u0437\u0430\u0440\u0430\u0431\u043e\u0442\u0430\u0442\u044c \u043d\u0430 \u0442\u0430\u043a\u043e\u043c \u0440\u043e\u0441\u0442\u0435. \u0412 \u044d\u0442\u043e\u0442 \u043c\u043e\u043c\u0435\u043d\u0442 \u043e\u0440\u0433\u0430\u043d\u0438\u0437\u0430\u0442\u043e\u0440\u044b \u0441\u0445\u0435\u043c\u044b \u043d\u0430\u0447\u043d\u0430\u044e\u0442 \u0432\u0441\u0435 \u043f\u0440\u043e\u0434\u0430\u0432\u0430\u0442\u044c (dump). \u0412\u0435\u0441\u044c \u043f\u0440\u043e\u0446\u0435\u0441\u0441 \u0437\u0430\u043d\u0438\u043c\u0430\u0435\u0442 \u043e\u0442 \u043d\u0435\u0441\u043a\u043e\u043b\u044c\u043a\u0438\u0445 \u043c\u0438\u043d\u0443\u0442 \u0434\u043e \u043d\u0435\u0441\u043a\u043e\u043b\u044c\u043a\u0438\u0445 \u0447\u0430\u0441\u043e\u0432."
      ],
      "outputs": []
    },
    {
      "cell_type": "markdown",
      "metadata": {
        "id": "EXsHpJmHNstO"
      },
      "source": [
        "\u0412\u0430\u0448\u0430 \u0437\u0430\u0434\u0430\u0447\u0430 -- **\u043d\u0430\u0439\u0442\u0438 \u0441\u0430\u043c\u044b\u0439 \u0441\u0438\u043b\u044c\u043d\u044b\u0439 pump'n'dump** \u043c\u043e\u043d\u0435\u0442\u044b \u043d\u0430 \u0437\u0430\u0434\u0430\u043d\u043d\u043e\u043c \u043f\u0440\u043e\u043c\u0435\u0436\u0443\u0442\u043a\u0435 \u0432\u0440\u0435\u043c\u0435\u043d\u0438. \u0414\u043b\u044f \u044d\u0442\u043e\u0433\u043e \u0434\u043b\u044f \u043a\u0430\u0436\u0434\u043e\u0433\u043e \u0434\u043d\u044f \u043e\u043f\u0440\u0435\u0434\u0435\u043b\u0438\u043c \u0447\u0438\u0441\u043b\u043e `pnd` \u0440\u0430\u0432\u043d\u043e\u0435 \u043e\u0442\u043d\u043e\u0448\u0435\u043d\u0438\u044e \u043c\u0430\u043a\u0441\u0438\u043c\u0430\u043b\u044c\u043d\u043e\u0439 \u0446\u0435\u043d\u044b \u043c\u043e\u043d\u0435\u0442\u044b \u0432 \u0434\u0430\u043d\u043d\u044b\u0439 \u0434\u0435\u043d\u044c \u043a \u043c\u0430\u043a\u0441\u0438\u043c\u0443\u043c\u0443 \u0438\u0437 \u0446\u0435\u043d \u043e\u0442\u043a\u0440\u044b\u0442\u0438\u044f \u0438 \u0437\u0430\u043a\u0440\u044b\u0442\u0438\u044f \u0432 \u0442\u043e\u0442 \u0436\u0435 \u0434\u0435\u043d\u044c. \u041d\u0443\u0436\u043d\u043e \u043d\u0430\u0439\u0442\u0438 \u0434\u0435\u043d\u044c, \u043a\u043e\u0433\u0434\u0430 `pnd` \u0431\u044b\u043b \u043c\u0430\u043a\u0441\u0438\u043c\u0430\u043b\u0435\u043d \u0438 \u0432\u0435\u043b\u0438\u0447\u0438\u043d\u0443 `pnd`."
      ],
      "outputs": []
    },
    {
      "cell_type": "code",
      "execution_count": null,
      "metadata": {
        "id": "rzA20Gm6L072"
      },
      "outputs": [],
      "source": [
        "def find_most_severe_pump_and_dump(coins, symbol, start_date, end_date):\n",
        "\n",
        "    filtered_by_date = coins.loc[start_date:end_date].copy()\n",
        "    filtered_by_date[\"pnd\"] = filtered_by_date[\"high\"] / filtered_by_date[[\"open\", \"close\"]].max(axis=1)\n",
        "    coin_data = filtered_by_date[filtered_by_date[\"symbol\"] == symbol]\n",
        "    result_row = coin_data[\"pnd\"].idxmax()\n",
        "\n",
        "    max_date = result_row\n",
        "    max_pnd = coin_data.loc[result_row, \"pnd\"]\n",
        "\n",
        "    print(\"\u0414\u043b\u044f \u043c\u043e\u043d\u0435\u0442\u044b\", symbol, \"\u0441\u0430\u043c\u044b\u0439 \u0441\u0438\u043b\u044c\u043d\u044b\u0439 pamp'n'dump \u0431\u044b\u043b\", max_date, \". \u041a\u043e\u044d\u0444\u0444\u0438\u0446\u0438\u0435\u043d\u0442 pnd \u0441\u043e\u0441\u0442\u0430\u0432\u0438\u043b\", max_pnd)"
      ]
    },
    {
      "cell_type": "code",
      "execution_count": null,
      "metadata": {
        "colab": {
          "base_uri": "https://localhost:8080/",
          "referenced_widgets": []
        },
        "id": "VZjM8FJ-L073",
        "outputId": "7195f8fa-d8d3-47ad-d2e8-ed69850c5d3f"
      },
      "outputs": [],
      "source": [
        "find_most_severe_pump_and_dump(coins, symbol='BTC', start_date='2017-06-01', end_date='2018-06-01')"
      ]
    },
    {
      "cell_type": "markdown",
      "metadata": {
        "id": "nos0kiTFL073"
      },
      "source": [
        "\u0421\u0440\u0430\u0432\u043d\u0438\u0442\u0435 \u044d\u0442\u0438 \u0437\u043d\u0430\u0447\u0435\u043d\u0438\u044f \u0434\u043b\u044f \u0440\u0430\u0437\u043d\u044b\u0445 \u043c\u043e\u043d\u0435\u0442:"
      ],
      "outputs": []
    },
    {
      "cell_type": "code",
      "execution_count": null,
      "metadata": {
        "colab": {
          "base_uri": "https://localhost:8080/",
          "referenced_widgets": []
        },
        "id": "PjOU26VWC7P0",
        "outputId": "b2287c5e-cc0d-4887-a13a-c37d0c121caa"
      },
      "outputs": [],
      "source": [
        "find_most_severe_pump_and_dump(coins, symbol='ETH', start_date='2013-06-01', end_date='2018-06-01')\n",
        "find_most_severe_pump_and_dump(coins, symbol='EOS', start_date='2013-06-01', end_date='2018-06-01')\n",
        "find_most_severe_pump_and_dump(coins, symbol='LTC', start_date='2013-06-01', end_date='2018-06-01')\n",
        "find_most_severe_pump_and_dump(coins, symbol='DOGE', start_date='2013-06-01', end_date='2018-06-01')"
      ]
    },
    {
      "cell_type": "markdown",
      "metadata": {
        "id": "4I9QAGfGL074"
      },
      "source": [
        "## 4. \u041e\u043a\u0443\u043f\u0430\u0435\u043c\u043e\u0441\u0442\u044c \u0438\u043d\u0432\u0435\u0441\u0442\u0438\u0446\u0438\u0439 (1 \u0431\u0430\u043b\u043b)"
      ],
      "outputs": []
    },
    {
      "cell_type": "markdown",
      "metadata": {
        "id": "Ts7GdSZJL075"
      },
      "source": [
        "\u0412\u0430\u043c \u043d\u0443\u0436\u043d\u043e \u043f\u043e\u0441\u0447\u0438\u0442\u0430\u0442\u044c **\u043e\u043a\u0443\u043f\u0430\u0435\u043c\u043e\u0441\u0442\u044c \u0438\u043d\u0432\u0435\u0441\u0442\u0438\u0446\u0438\u0439 (ROI)** \u0432 \u043a\u0440\u0438\u043f\u0442\u043e\u0432\u0430\u043b\u044e\u0442\u044b \u043d\u0430 \u0437\u0430\u0434\u0430\u043d\u043d\u043e\u043c \u043f\u0440\u043e\u043c\u0435\u0436\u0443\u0442\u043a\u0435 \u0432\u0440\u0435\u043c\u0435\u043d\u0438.\n",
        "\n",
        "\u041e\u043a\u0443\u043f\u0430\u0435\u043c\u043e\u0441\u0442\u044c \u043e\u043f\u0440\u0435\u0434\u0435\u043b\u044f\u0435\u0442\u0441\u044f \u043a\u0430\u043a \u043e\u0442\u043d\u043e\u0448\u0435\u043d\u0438\u0435 *\u0438\u0437\u043c\u0435\u043d\u0435\u043d\u0438\u044f \u0446\u0435\u043d\u044b \u043f\u043e\u0440\u0442\u0444\u0435\u043b\u044f* \u043a *\u0438\u0441\u0445\u043e\u0434\u043d\u043e\u0439 \u0446\u0435\u043d\u0435 \u043f\u043e\u0440\u0442\u0444\u0435\u043b\u044f*. \u0426\u0435\u043d\u0430 \u043f\u043e\u0440\u0442\u0444\u0435\u043b\u044f - \u044d\u0442\u043e \u0441\u0443\u043c\u043c\u0430\u0440\u043d\u0430\u044f \u0441\u0442\u043e\u0438\u043c\u043e\u0441\u0442\u044c (\u0432 USD) \u0432\u0441\u0435\u0445 \u043c\u043e\u043d\u0435\u0442 \u0432 \u043f\u043e\u0440\u0442\u0444\u0435\u043b\u0435.\n",
        "\n",
        "`investments` - \u0441\u043b\u043e\u0432\u0430\u0440\u044c, \u0432 \u043a\u043e\u0442\u043e\u0440\u043e\u043c \u043a\u043b\u044e\u0447\u0438 - \u044d\u0442\u043e \u043d\u0430\u0437\u0432\u0430\u043d\u0438\u044f \u043c\u043e\u043d\u0435\u0442, \u0437\u043d\u0430\u0447\u0435\u043d\u0438\u044f - \u044d\u0442\u043e \u0441\u0443\u043c\u043c\u0430 \u0432\u043b\u043e\u0436\u0435\u043d\u0438\u0439 \u0432 \u044d\u0442\u0443 \u043c\u043e\u043d\u0435\u0442\u0443 (\u0432 USD)."
      ],
      "outputs": []
    },
    {
      "cell_type": "code",
      "execution_count": null,
      "metadata": {
        "id": "RwDtgKjhL076"
      },
      "outputs": [],
      "source": [
        "def compute_roi(coins, investments, start_date, end_date):\n",
        "    filtered_by_date = coins.loc[start_date:end_date].copy()\n",
        "    initial_value = 0\n",
        "    for i in investments.values():\n",
        "        initial_value += i\n",
        "    amount_in_coins = {}\n",
        "    for i in investments.keys():\n",
        "        amount_in_coins[i] = investments[i]/filtered_by_date[filtered_by_date[\"symbol\"] == i][\"close\"].iloc[0]\n",
        "    result_value = 0\n",
        "    for i in amount_in_coins.keys():\n",
        "        result_value += amount_in_coins[i] * filtered_by_date[filtered_by_date[\"symbol\"] == i][\"close\"].iloc[-1]\n",
        "    ROI = (result_value - initial_value) / initial_value\n",
        "    return ROI"
      ]
    },
    {
      "cell_type": "code",
      "execution_count": null,
      "metadata": {
        "colab": {
          "base_uri": "https://localhost:8080/",
          "referenced_widgets": []
        },
        "id": "oWW8XBrIL076",
        "outputId": "eeba0c75-3b5e-4fda-8b0c-a9bbc2409149"
      },
      "outputs": [],
      "source": [
        "compute_roi(coins, investments={'BTC': 1000, 'LTC': 500}, start_date='2018-04-04', end_date='2018-06-01')"
      ]
    },
    {
      "cell_type": "code",
      "execution_count": null,
      "metadata": {
        "colab": {
          "base_uri": "https://localhost:8080/",
          "referenced_widgets": []
        },
        "id": "UQDAuP_QL077",
        "outputId": "15fd87fb-c1e7-49e0-dd21-48b686cae027"
      },
      "outputs": [],
      "source": [
        "compute_roi(coins, investments={'BTC': 1000, 'LTC': 500}, start_date='2013-05-28', end_date='2018-06-06')"
      ]
    },
    {
      "cell_type": "markdown",
      "metadata": {
        "id": "Xz7CvTFqL078"
      },
      "source": [
        "## 5. \u0422\u0435\u0445\u043d\u0438\u0447\u0435\u0441\u043a\u0438\u0439 \u0430\u043d\u0430\u043b\u0438\u0437 (1 \u0431\u0430\u043b\u043b)"
      ],
      "outputs": []
    },
    {
      "cell_type": "markdown",
      "metadata": {
        "id": "NFsh0yEqL078"
      },
      "source": [
        "**\u0422\u0435\u0445\u043d\u0438\u0447\u0435\u0441\u043a\u0438\u0439 \u0430\u043d\u0430\u043b\u0438\u0437** - \u044d\u0442\u043e \u0441\u043f\u043e\u0441\u043e\u0431 \u043f\u0440\u0435\u0434\u0441\u043a\u0430\u0437\u0430\u043d\u0438\u044f \u043f\u043e\u0432\u0435\u0434\u0435\u043d\u0438\u044f \u0433\u0440\u0430\u0444\u0438\u043a\u0430 \u043f\u043e \u043d\u0435\u043a\u043e\u0442\u043e\u0440\u044b\u043c \u0432\u0441\u043f\u043e\u043c\u043e\u0433\u0430\u0442\u0435\u043b\u044c\u043d\u044b\u043c \u0432\u0435\u043b\u0438\u0447\u0438\u043d\u0430\u043c \u043f\u043e\u0441\u0442\u0440\u043e\u0435\u043d\u043d\u044b\u043c \u043f\u043e \u0438\u0441\u0445\u043e\u0434\u043d\u043e\u043c\u0443 \u0433\u0440\u0430\u0444\u0438\u043a\u0443. \u041e\u0434\u0438\u043d \u0438\u0437 \u043f\u0440\u043e\u0441\u0442\u0435\u0439\u0448\u0438\u0445 \u043c\u0435\u0442\u043e\u0434\u043e\u0432 \u0442\u0435\u0445\u043d\u0438\u0447\u0435\u0441\u043a\u043e\u0433\u043e \u0430\u043d\u0430\u043b\u0438\u0437\u0430 - **[\u0433\u0440\u0430\u043d\u0438\u0446\u044b \u0411\u043e\u043b\u043b\u0438\u043d\u0434\u0436\u0435\u0440\u0430](https://en.wikipedia.org/wiki/Bollinger_Bands)**. \u041a\u0442\u043e-\u0442\u043e \u0432\u0435\u0440\u0438\u0442, \u0447\u0442\u043e \u0433\u0440\u0430\u0444\u0438\u043a \u043a\u0430\u0441\u0430\u044f\u0441\u044c \u0433\u0440\u0430\u043d\u0438\u0446\u044b \u043e\u0442 \u043d\u0435\u0433\u043e \u0434\u043e\u043b\u0436\u0435\u043d \u043e\u0442\u0440\u0430\u0436\u0430\u0442\u044c\u0441\u044f.\n",
        "\n",
        "\u0413\u0440\u0430\u043d\u0438\u0446\u044b \u0441\u0447\u0438\u0442\u0430\u044e\u0442\u0441\u044f \u043e\u0447\u0435\u043d\u044c \u043f\u0440\u043e\u0441\u0442\u043e:\n",
        "\n",
        "$$(MA \\pm K\\sigma),$$\n",
        "\n",
        "\u0433\u0434\u0435 `MA` - \u0441\u043a\u043e\u043b\u044c\u0437\u044f\u0449\u0435\u0435 \u0441\u0440\u0435\u0434\u043d\u0435\u0435 \u0437\u0430 `N` \u0434\u043d\u0435\u0439, \u0430 $\\sigma$ - \u0441\u043a\u043e\u043b\u044c\u0437\u044f\u0449\u0435\u0435 \u0441\u0442\u0430\u043d\u0434\u0430\u0440\u0442\u043d\u043e\u0435 \u043e\u0442\u043a\u043b\u043e\u043d\u0435\u043d\u0438\u0435 \u0437\u0430 `N` \u0434\u043d\u0435\u0439."
      ],
      "outputs": []
    },
    {
      "cell_type": "markdown",
      "metadata": {
        "id": "Mo4GLdibL079"
      },
      "source": [
        "\u041d\u0430\u0440\u0438\u0441\u0443\u0439\u0442\u0435 **\u0433\u0440\u0430\u0444\u0438\u043a \u0446\u0435\u043d\u044b**, **\u0441\u043a\u043e\u043b\u044c\u0437\u044f\u0449\u0435\u0435 \u0441\u0440\u0435\u0434\u043d\u0435\u0435** \u0438 **\u0433\u0440\u0430\u043d\u0438\u0446\u044b \u0411\u043e\u043b\u043b\u0438\u043d\u0434\u0436\u0435\u0440\u0430** c \u043f\u0430\u0440\u0430\u043c\u0435\u0442\u0440\u0430\u043c\u0438 `N (window) = 21`, `K (width) = 2`.\n",
        "\n",
        "\u0422\u0443\u0442 \u0432\u0430\u043c \u043f\u043e\u043c\u043e\u0436\u0435\u0442 \u0444\u0443\u043d\u043a\u0446\u0438\u044f `rolling` \u0434\u043b\u044f \u043f\u043e\u0434\u0441\u0447\u0451\u0442\u0430 \u0441\u0440\u0435\u0434\u043d\u0435\u0433\u043e \u0438 \u0441\u0442\u0430\u043d\u0434\u0430\u0440\u0442\u043d\u043e\u0433\u043e \u043e\u0442\u043a\u043b\u043e\u043d\u0435\u043d\u0438\u044f \u043f\u043e \u0441\u043a\u043e\u043b\u044c\u0437\u044f\u0449\u0435\u043c\u0443 \u043e\u043a\u043d\u0443.\n",
        "\n",
        "\u041d\u0435 \u0437\u0430\u0431\u0443\u0434\u044c\u0442\u0435 \u043f\u043e\u0434\u043f\u0438\u0441\u0430\u0442\u044c \u0433\u0440\u0430\u0444\u0438\u043a \u0438 \u043e\u0441\u0438, \u043e\u0442\u0440\u0438\u0441\u043e\u0432\u0430\u0442\u044c \u043b\u0435\u0433\u0435\u043d\u0434\u0443 \u0438 \u0432\u044b\u0431\u0440\u0430\u0442\u044c \u0434\u043b\u044f \u043d\u0435\u0435 \u043b\u0443\u0447\u0448\u0435\u0435 \u0440\u0430\u0441\u043f\u043e\u043b\u043e\u0436\u0435\u043d\u0438\u0435."
      ],
      "outputs": []
    },
    {
      "cell_type": "code",
      "execution_count": null,
      "metadata": {
        "id": "Vdlzc1H1NsRy"
      },
      "outputs": [],
      "source": [
        "import matplotlib.dates as mdates\n"
      ]
    },
    {
      "cell_type": "code",
      "execution_count": null,
      "metadata": {
        "id": "zf4zMAGkL079"
      },
      "outputs": [],
      "source": [
        "def plot_bollinger_bands(coins, symbol, window, width):\n",
        "    coins_filtered = coins[coins[\"symbol\"] == symbol].copy()\n",
        "    coins_filtered.index = pd.to_datetime(coins_filtered.index)\n",
        "    coins_filtered['MA'] = coins_filtered['close'].rolling(window).mean()\n",
        "    coins_filtered['STD'] = coins_filtered['close'].rolling(window).std()\n",
        "    coins_filtered['Upper'] = coins_filtered['MA'] + width * coins_filtered['STD']\n",
        "    coins_filtered['Lower'] = coins_filtered['MA'] - width * coins_filtered['STD']\n",
        "\n",
        "    plt.figure(figsize=(12, 6))\n",
        "    plt.plot(coins_filtered.index, coins_filtered['close'], label='\u0426\u0435\u043d\u0430 \u0437\u0430\u043a\u0440\u044b\u0442\u0438\u044f', color='blue', linewidth=0.8)\n",
        "    plt.plot(coins_filtered.index, coins_filtered['MA'], label='\u0421\u043a\u043e\u043b\u044c\u0437\u044f\u0449\u0435\u0435 \u0441\u0440\u0435\u0434\u043d\u0435\u0435', color='orange', linewidth=1.5)\n",
        "    plt.plot(coins_filtered.index, coins_filtered['Upper'], label='\u0412\u0435\u0440\u0445\u043d\u044f\u044f \u0433\u0440\u0430\u043d\u0438\u0446\u0430', color='green', linestyle='--')\n",
        "    plt.plot(coins_filtered.index, coins_filtered['Lower'], label='\u041d\u0438\u0436\u043d\u044f\u044f \u0433\u0440\u0430\u043d\u0438\u0446\u0430', color='red', linestyle='--')\n",
        "\n",
        "    plt.title('\u0413\u0440\u0430\u043d\u0438\u0446\u044b \u0411\u043e\u043b\u043b\u0438\u043d\u0434\u0436\u0435\u0440\u0430', fontsize=16)\n",
        "    plt.xlabel('\u0414\u0430\u0442\u0430', fontsize=12)\n",
        "    plt.ylabel('\u0426\u0435\u043d\u0430', fontsize=12)\n",
        "    plt.legend(loc='best')\n",
        "    plt.grid(alpha=0.3)\n",
        "    plt.tight_layout()\n",
        "\n",
        "    ax = plt.gca()\n",
        "    ax.xaxis.set_major_locator(mdates.WeekdayLocator(interval=2))\n",
        "    ax.xaxis.set_major_formatter(mdates.DateFormatter('%Y-%m-%d'))\n",
        "    ax.yaxis.set_major_locator(plt.MaxNLocator(nbins=6))\n",
        "\n",
        "    plt.xticks(rotation=45)\n",
        "    plt.tight_layout()\n",
        "\n",
        "    plt.show()"
      ]
    },
    {
      "cell_type": "code",
      "execution_count": null,
      "metadata": {
        "colab": {
          "base_uri": "https://localhost:8080/",
          "height": 607,
          "referenced_widgets": []
        },
        "id": "dWBsySLJL07-",
        "outputId": "933afe96-ab63-4989-aed3-a954c91c58af"
      },
      "outputs": [],
      "source": [
        "plot_bollinger_bands(coins=coins, symbol='EOS', window=21, width=2)  # \u0442\u0443\u0442 \u0434\u043e\u043b\u0436\u0435\u043d \u043f\u043e\u044f\u0432\u0438\u0442\u044c\u0441\u044f \u0433\u0440\u0430\u0444\u0438\u043a"
      ]
    },
    {
      "cell_type": "markdown",
      "metadata": {
        "id": "pJAYp_pUL07_"
      },
      "source": [
        "**\u0421\u0434\u0435\u043b\u0430\u0439\u0442\u0435 \u0432\u044b\u0432\u043e\u0434 \u043e \u0442\u043e\u043c, \u0432\u044b\u043f\u043e\u043b\u043d\u044f\u043b\u043e\u0441\u044c \u043b\u0438 \u043f\u0440\u0430\u0432\u0438\u043b\u043e \u0411\u043e\u043b\u043b\u0438\u043d\u0434\u0436\u0435\u0440\u0430:**"
      ],
      "outputs": []
    },
    {
      "cell_type": "markdown",
      "metadata": {
        "id": "k7NsxSsUL07_"
      },
      "source": [
        "\u041f\u0440\u0430\u0432\u0438\u043b\u043e \u0411\u043e\u043b\u043b\u0438\u043d\u0434\u0436\u0435\u0440\u0430 \u043f\u043b\u043e\u0445\u043e \u0432\u044b\u043f\u043e\u043b\u043d\u044f\u0435\u0442\u0441\u044f. \u0412 \u0441\u0438\u0442\u0443\u0430\u0446\u0438\u0438 \u0431\u044b\u0441\u0442\u0440\u043e\u0433\u043e \u0440\u043e\u0441\u0442\u0430 \u0438\u043b\u0438 \u043f\u0430\u0434\u0435\u043d\u0438\u044f \u0433\u0440\u0430\u0444\u0438\u043a \u0446\u0435\u043d\u044b \u0443\u043f\u0438\u0440\u0430\u0435\u0442\u0441\u044f \u0432 \u0432\u0435\u0440\u0445\u043d\u044e\u044e \u0438\u043b\u0438 \u043d\u0438\u0436\u043d\u044e\u044e \u0433\u0440\u0430\u043d\u0438\u0446\u0443, \u043d\u043e \u043d\u0435 \u0434\u0435\u043b\u0430\u0435\u0442 \u044f\u0432\u043d\u043e\u0433\u043e \u043e\u0442\u0441\u043a\u043e\u043a\u0430 \u043a\u0430\u0436\u0434\u044b\u0439 \u0440\u0430\u0437. \u0412 \u043d\u0435\u043a\u043e\u0442\u043e\u0440\u044b\u0445 \u0441\u043b\u0443\u0447\u0430\u044f\u0445 \u043e\u043d \u0434\u0435\u0439\u0441\u0442\u0432\u0438\u0442\u0435\u043b\u044c\u043d\u043e \u043a\u0430\u043d\u043e\u043d\u0438\u0447\u043d\u043e \u043e\u0442\u0441\u043a\u0430\u043a\u0438\u0432\u0430\u0435\u0442, \u043e\u0434\u043d\u0430\u043a\u043e \u0447\u0430\u0449\u0435 \u0432\u0441\u0435\u0433\u043e \u0440\u0430\u0437\u0432\u043e\u0440\u0430\u0447\u0438\u0432\u0430\u0435\u0442\u0441\u044f, \u043d\u0435 \u0434\u043e\u0445\u043e\u0434\u044f \u0434\u043e \u0441\u043a\u043e\u043b\u044c\u0437\u044f\u0449\u0435\u0439 \u0441\u0440\u0435\u0434\u043d\u0435\u0439. \u041d\u0435\u0432\u043e\u0437\u043c\u043e\u0436\u043d\u043e \u0441\u0434\u0435\u043b\u0430\u0442\u044c \u0432\u044b\u0432\u043e\u0434, \u043a\u043e\u0433\u0434\u0430 \u0446\u0435\u043d\u0430 \u0440\u0430\u0437\u0432\u0435\u0440\u043d\u0443\u043b\u0430\u0441\u044c \u043f\u043e \u043d\u0430\u0441\u0442\u043e\u044f\u0449\u0435\u043c\u0443, \u0430 \u043a\u043e\u0433\u0434\u0430 \u043e\u043d\u0430 \u043f\u0440\u043e\u0434\u043e\u043b\u0436\u0438\u0442 \u0440\u0430\u0441\u0442\u0438."
      ],
      "outputs": []
    },
    {
      "cell_type": "markdown",
      "metadata": {
        "id": "41k4GlWGL08A"
      },
      "source": [
        "## 6. \u041a\u0430\u043f\u0438\u0442\u0430\u043b\u0438\u0437\u0430\u0446\u0438\u044f \u043a\u0430\u043a \u0438\u043d\u0434\u0438\u043a\u0430\u0442\u043e\u0440 (1 \u0431\u0430\u043b\u043b)"
      ],
      "outputs": []
    },
    {
      "cell_type": "markdown",
      "metadata": {
        "id": "sONehy4zL08A"
      },
      "source": [
        "\u041c\u043d\u043e\u0433\u0438\u0435 \u043b\u044e\u0434\u0438, \u043a\u043e\u0442\u043e\u0440\u044b\u0435 \u0442\u043e\u0440\u0433\u0443\u044e\u0442 \u043a\u0440\u0438\u043f\u0442\u043e\u0432\u0430\u043b\u044e\u0442\u043e\u0439, \u043b\u044e\u0431\u044f\u0442 \u0441\u043c\u043e\u0442\u0440\u0435\u0442\u044c \u043d\u0430 [\u043a\u0430\u043f\u0438\u0442\u0430\u043b\u0438\u0437\u0430\u0446\u0438\u044e](https://academy.binance.com/ru/articles/crypto-market-capitalization-explained). \u0414\u0430\u0432\u0430\u0439\u0442\u0435 \u043f\u043e\u0439\u043c\u0451\u043c \u043f\u043e\u0447\u0435\u043c\u0443."
      ],
      "outputs": []
    },
    {
      "cell_type": "markdown",
      "metadata": {
        "id": "4spBUSr5L08B"
      },
      "source": [
        "**\u041d\u0430\u0440\u0438\u0441\u0443\u0439\u0442\u0435 \u0435\u0449\u0435 \u0434\u0432\u0430 \u0433\u0440\u0430\u0444\u0438\u043a\u0430:**\n",
        "1. \u043e\u0431\u0449\u0430\u044f \u043a\u0430\u043f\u0438\u0442\u0430\u043b\u0438\u0437\u0430\u0446\u0438\u044f \u0431\u0438\u0442\u043a\u043e\u0439\u043d\u0430 (BTC), \u044d\u0444\u0438\u0440\u0430 (ETH), \u0435\u043e\u0441 (EOS), \u0431\u0438\u0442\u043a\u043e\u0439\u043d \u043a\u044d\u0448\u0430 (BCH), \u0441\u0442\u0435\u043b\u043b\u0430\u0440\u0430 (XLM) \u0438 \u043b\u0430\u0439\u0442\u043a\u043e\u0439\u043d\u0430 (LTC)\n",
        "2. \u0434\u043e\u043b\u0438 \u043a\u0430\u043f\u0438\u0442\u0430\u043b\u0438\u0437\u0430\u0446\u0438\u0439 \u044d\u0442\u0438\u0445 \u043c\u043e\u043d\u0435\u0442 \u043e\u0442 \u043e\u0431\u0449\u0435\u0439 \u043a\u0430\u043f\u0438\u0442\u0430\u043b\u0438\u0437\u0430\u0446\u0438\u0438 \u0440\u044b\u043d\u043a\u0430.\n",
        "\n",
        "\u041f\u0440\u0438 \u044d\u0442\u043e\u043c \u0438\u0441\u043f\u043e\u043b\u044c\u0437\u0443\u0439\u0442\u0435 \u0434\u0430\u043d\u043d\u044b\u0435 \u043d\u0430\u0447\u0438\u043d\u0430\u044f \u0441 2017-07-01."
      ],
      "outputs": []
    },
    {
      "cell_type": "code",
      "execution_count": null,
      "metadata": {
        "id": "xHMMSJg6L08B"
      },
      "outputs": [],
      "source": [
        "def plot_coins_capitalizations(coins, symbols, start_date):\n",
        "    filtered_by_date = coins.loc[start_date:].copy()\n",
        "    filtered_by_date.index = pd.to_datetime(filtered_by_date.index)\n",
        "    total_market_by_date = filtered_by_date.groupby(filtered_by_date.index)['market'].sum()\n",
        "\n",
        "    plt.figure(figsize=(12, 12))\n",
        "    plt.subplot(2, 1, 1)\n",
        "    for i in symbols:\n",
        "      plt.plot(filtered_by_date[filtered_by_date[\"symbol\"] == i].index, filtered_by_date[filtered_by_date[\"symbol\"] == i]['market'] / 1e9, label=i, linewidth=0.8)\n",
        "\n",
        "    plt.title('\u041a\u0430\u043f\u0438\u0442\u0430\u043b\u0438\u0437\u0430\u0446\u0438\u044f \u043f\u043e \u043c\u043e\u043d\u0435\u0442\u0430\u043c', fontsize=16)\n",
        "    plt.ylabel('\u0421\u0443\u043c\u043c\u0430, \u043c\u043b\u0440\u0434 $', fontsize=12)\n",
        "    plt.legend(loc='best')\n",
        "    plt.grid(alpha=0.3)\n",
        "\n",
        "    plt.subplot(2, 1, 2)\n",
        "    for i in symbols:\n",
        "      plt.plot(filtered_by_date[filtered_by_date[\"symbol\"] == i].index, filtered_by_date[filtered_by_date[\"symbol\"] == i]['market'] / total_market_by_date.loc[filtered_by_date[filtered_by_date[\"symbol\"] == i].index] * 100, label=i, linewidth=0.8)\n",
        "\n",
        "    plt.ylabel('\u0414\u043e\u043b\u044f \u0432 \u043a\u0430\u043f\u0438\u0442\u0430\u043b\u0438\u0437\u0430\u0446\u0438\u0438, %', fontsize=12)\n",
        "    plt.legend(loc='best')\n",
        "    plt.grid(alpha=0.3)\n",
        "    plt.tight_layout()\n",
        "    plt.show()"
      ]
    },
    {
      "cell_type": "code",
      "execution_count": null,
      "metadata": {
        "colab": {
          "base_uri": "https://localhost:8080/",
          "height": 1000,
          "referenced_widgets": []
        },
        "id": "jOD_z5hYL08C",
        "outputId": "e1306964-fa65-4230-96b5-6ebac2495907"
      },
      "outputs": [],
      "source": [
        "plot_coins_capitalizations(\n",
        "    coins=coins,\n",
        "    symbols=('BTC', 'ETH', 'EOS', 'BCH', 'XLM', 'LTC'),\n",
        "    start_date='2017-07-01'\n",
        ")"
      ]
    },
    {
      "cell_type": "markdown",
      "metadata": {
        "id": "A_qkmlioL08C"
      },
      "source": [
        "\u041f\u0440\u043e\u0430\u043d\u0430\u043b\u0438\u0437\u0438\u0440\u0443\u0439\u0442\u0435 \u0437\u0430\u0432\u0438\u0441\u0438\u043c\u043e\u0441\u0442\u044c \u0434\u043e\u043b\u0438 \u043a\u0430\u043f\u0438\u0442\u0430\u043b\u0438\u0437\u0430\u0446\u0438\u0438 \u0430\u043b\u044c\u0442\u043a\u043e\u0439\u043d\u043e\u0432 (\u043e\u0441\u0442\u0430\u043b\u044c\u043d\u044b\u0445 \u043c\u043e\u043d\u0435\u0442, \u043a\u0440\u043e\u043c\u0435 \u0431\u0438\u0442\u043a\u043e\u0439\u043d\u0430) \u043e\u0442 \u0434\u043e\u043b\u0438 \u043a\u0430\u043f\u0438\u0442\u0430\u043b\u0438\u0437\u0430\u0446\u0438\u0438 \u0431\u0438\u0442\u043a\u043e\u0439\u043d\u0430. \u041a\u0430\u043a \u0432\u044b\u0434\u0443\u043c\u0430\u0435\u0442\u0435, \u0432 \u0447\u0451\u043c \u043f\u0440\u0438\u0447\u0438\u043d\u0430 \u0442\u0430\u043a\u043e\u0439 \u0437\u0430\u0432\u0438\u0441\u0438\u043c\u043e\u0441\u0442\u0438?"
      ],
      "outputs": []
    },
    {
      "cell_type": "markdown",
      "metadata": {
        "id": "RzJXy2cjL08D"
      },
      "source": [
        "\u0411\u0438\u0442\u043a\u043e\u0439\u043d \u0438 \u042d\u0444\u0438\u0440 \u0434\u0440\u0443\u0433 \u0434\u0440\u0443\u0433\u0430 \u0437\u0435\u0440\u043a\u0430\u043b\u044f\u0442, \u043e\u0441\u0442\u0430\u043b\u044c\u043d\u044b\u0435 \u043c\u043e\u043d\u0435\u0442\u044b \u0432\u043d\u043e\u0441\u044f\u0442 \u043d\u0435\u0437\u043d\u0430\u0447\u0438\u0442\u0435\u043b\u044c\u043d\u044b\u0439 \u0432\u043a\u043b\u0430\u0434. \u0418\u0437\u043c\u0435\u043d\u0435\u043d\u0438\u0435 \u043a\u0430\u043f\u0438\u0442\u0430\u043b\u0438\u0437\u0430\u0446\u0438\u0438 \u0431\u0438\u0442\u043a\u043e\u0439\u043d\u0430 \u0441\u0432\u044f\u0437\u0430\u043d\u043e \u0441 \u043a\u043e\u043b\u0435\u0431\u0430\u043d\u0438\u0435\u043c \u0435\u0433\u043e \u0446\u0435\u043d\u044b, \u043f\u0440\u0438 \u0440\u0435\u0437\u043a\u043e\u043c \u0443\u043c\u0435\u043d\u044c\u0448\u0435\u043d\u0438\u0438 \u0446\u0435\u043d\u044b \u043a\u0430\u043f\u0438\u0442\u0430\u043b\u0438\u0437\u0430\u0446\u0438\u044f \u0431\u0438\u0442\u043a\u043e\u0439\u043d\u0430 \u0441\u043d\u0438\u0436\u0430\u0435\u0442\u0441\u044f \u0441\u0438\u043b\u044c\u043d\u0435\u0435 \u0432 \u0430\u0431\u0441\u043e\u043b\u044e\u0442\u043d\u044b\u0445 \u0438 \u043e\u0442\u043d\u043e\u0441\u0438\u0442\u0435\u043b\u044c\u043d\u044b\u0445 \u0432\u0435\u043b\u0438\u0447\u0438\u043d\u0430\u0445. \u0421\u043d\u0438\u0436\u0435\u043d\u0438\u0435 \u0430\u043b\u044c\u0442\u043a\u043e\u0439\u043d\u043e\u0432 \u043d\u0435 \u0442\u0430\u043a \u0437\u043d\u0430\u0447\u0438\u0442\u0435\u043b\u044c\u043d\u043e \u0432 \u0430\u0431\u0441\u043e\u043b\u044e\u0442\u043d\u044b\u0445 \u0432\u0435\u043b\u0438\u0447\u0438\u043d\u0430\u0445, \u043f\u043b\u044e\u0441 \u0441\u043d\u0438\u0436\u0435\u043d\u0438\u0435 \u043d\u0435\u043c\u043d\u043e\u0433\u043e \u0437\u0430\u043f\u0430\u0437\u0434\u044b\u0432\u0430\u0435\u0442, \u043f\u043e\u044d\u0442\u043e\u043c\u0443 \u0432 \u043e\u0442\u043d\u043e\u0441\u0438\u0442\u0435\u043b\u044c\u043d\u044b\u0445 \u0432\u0435\u043b\u0438\u0447\u0438\u043d\u0430\u0445 \u043f\u043e\u0441\u043b\u0435 \u043e\u0431\u0449\u0435\u0433\u043e \u0441\u043d\u0438\u0436\u0435\u043d\u0438\u044f \u043a\u0430\u043f\u0438\u0442\u0430\u043b\u0438\u0437\u0430\u0446\u0438\u0438 \u043e\u0442\u043d\u043e\u0441\u0438\u0442\u0435\u043b\u044c\u043d\u0430\u044f \u043a\u0430\u043f\u0438\u0442\u0430\u043b\u0438\u0437\u0430\u0446\u0438\u044f \u0430\u043b\u044c\u0442\u043a\u043e\u0439\u043d\u043e\u0432 \u0440\u0430\u0441\u0442\u0435\u0442. \u0412 \u0430\u0431\u0441\u043e\u043b\u044e\u0442\u043d\u044b\u0445 \u0432\u0435\u043b\u0438\u0447\u0438\u043d\u0430\u0445 \u0432\u0441\u0435 \u0430\u043b\u044c\u0442\u043a\u043e\u0439\u043d\u044b \"\u0445\u043e\u0434\u044f\u0442\" \u0437\u0430 \u0431\u0438\u0442\u043a\u043e\u0439\u043d\u043e\u043c, \u043f\u043e\u0442\u043e\u043c\u0443 \u0447\u0442\u043e \u0438\u0445 \u043f\u043e\u043a\u0443\u043f\u0430\u044e\u0442 \u0438 \u043f\u0440\u043e\u0434\u0430\u044e\u0442 \u0442\u043e\u043b\u044c\u043a\u043e \u043f\u043e\u0441\u043b\u0435 \u0442\u043e\u0433\u043e, \u043a\u0430\u043a \u0431\u0438\u0442\u043a\u043e\u0439\u043d \u043f\u0440\u043e\u0440\u044b\u0432\u0430\u0435\u0442 \"\u0438\u043d\u0444\u043e\u0440\u043c\u0430\u0446\u0438\u043e\u043d\u043d\u044b\u0439 \u043f\u0443\u0437\u044b\u0440\u044c\", \u043f\u0440\u0438\u0432\u043b\u0435\u043a\u0430\u044f \u043e\u0447\u0435\u0440\u0435\u0434\u043d\u044b\u043c \u0432\u0438\u0442\u043a\u043e\u043c \u0440\u043e\u0441\u0442\u0430 \u0431\u043e\u043b\u044c\u0448\u043e\u0435 \u043a\u043e\u043b\u0438\u0447\u0435\u0441\u0442\u0432\u043e \u0432\u043d\u0435\u0448\u043d\u0435\u0433\u043e \u043a\u0430\u043f\u0438\u0442\u0430\u043b\u0430 \u043e\u0442 \u043b\u044e\u0434\u0435\u0439, \u043a\u043e\u0442\u043e\u0440\u044b\u0435 \u0434\u043e \u044d\u0442\u043e\u0433\u043e \u043d\u0435 \u043d\u0430\u0445\u043e\u0434\u0438\u043b\u0438\u0441\u044c \u043d\u0430 \u043a\u0440\u0438\u043f\u0442\u043e\u0440\u044b\u043d\u043a\u0435."
      ],
      "outputs": []
    },
    {
      "cell_type": "markdown",
      "metadata": {
        "id": "5TtUAu7PL08E"
      },
      "source": [
        "## 7. \u041a\u043e\u0440\u0440\u0435\u043b\u044f\u0446\u0438\u0438 \u043c\u043e\u043d\u0435\u0442 (1 \u0431\u0430\u043b\u043b)"
      ],
      "outputs": []
    },
    {
      "cell_type": "markdown",
      "metadata": {
        "id": "ii_8rp4YL08E"
      },
      "source": [
        "\u0422\u0435\u043f\u0435\u0440\u044c \u043d\u0443\u0436\u043d\u043e \u043f\u043e\u0434\u0440\u043e\u0431\u043d\u0435\u0435 \u043f\u043e\u0441\u043c\u043e\u0442\u0440\u0435\u0442\u044c \u043d\u0430 \u043a\u043e\u0440\u0440\u0435\u043b\u044f\u0446\u0438\u0438 \u0441\u0440\u0435\u0434\u043d\u0438\u0445 \u0434\u043e\u043b\u0435\u0439 \u043a\u0430\u043f\u0438\u0442\u0430\u043b\u0438\u0437\u0430\u0446\u0438\u0439 \u043c\u043e\u043d\u0435\u0442. \u041f\u0440\u0438 \u044d\u0442\u043e\u043c \u0431\u0443\u0434\u0435\u043c \u0441\u043c\u043e\u0442\u0440\u0435\u0442\u044c \u043d\u0430 \u0441\u0440\u0435\u0434\u043d\u0435\u0435 \u0441\u0433\u043b\u0430\u0436\u0435\u043d\u043d\u043e\u0435 \u0437\u0430 \u043f\u043e\u0441\u043b\u0435\u0434\u043d\u0438\u0435 `window` \u0434\u043d\u0435\u0439 \u0434\u043e \u0434\u043d\u044f `date` \u0441 \u043a\u043e\u044d\u0444\u0444\u0438\u0446\u0438\u0435\u043d\u0442\u043e\u043c \u0441\u0433\u043b\u0430\u0436\u0438\u0432\u0430\u043d\u0438\u044f `alpha` \u0434\u043b\u044f \u043d\u0430\u0431\u043e\u0440\u0430 \u043c\u043e\u043d\u0435\u0442 `symbols`.\n",
        "\n",
        "\u0420\u0435\u0430\u043b\u0438\u0437\u0443\u0439\u0442\u0435 \u0444\u0443\u043d\u043a\u0446\u0438\u044e, \u043a\u043e\u0442\u043e\u0440\u0430\u044f \u0431\u0443\u0434\u0435\u0442 \u0432\u043e\u0437\u0432\u0440\u0430\u0449\u0430\u0442\u044c \u043a\u0432\u0430\u0434\u0440\u0430\u0442\u043d\u044b\u0439 `DataFrame` \u0441 \u0447\u0438\u0441\u043b\u043e\u043c \u0441\u0442\u0440\u043e\u043a \u0438 \u0441\u0442\u043e\u043b\u0431\u0446\u043e\u0432, \u0440\u0430\u0432\u043d\u044b\u043c \u0447\u0438\u0441\u043b\u0443 \u0440\u0430\u0441\u0441\u043c\u0430\u0442\u0440\u0438\u0432\u0430\u0435\u043c\u044b\u0445 \u043c\u043e\u043d\u0435\u0442 \u0438 \u0441\u043e \u0437\u043d\u0430\u0447\u0435\u043d\u0438\u044f\u043c\u0438 \u043a\u043e\u0440\u0440\u0435\u043b\u044f\u0446\u0438\u0439:"
      ],
      "outputs": []
    },
    {
      "cell_type": "code",
      "execution_count": null,
      "metadata": {
        "id": "lxZQQuBxL08E"
      },
      "outputs": [],
      "source": [
        "def calc_coins_correlations(coins, date, symbols, window, alpha):\n",
        "    filtered_data = coins.loc[:date].copy()\n",
        "    filtered_data.index = pd.to_datetime(filtered_data.index)\n",
        "\n",
        "    total_market_by_date = filtered_data.groupby(filtered_data.index)['market'].sum()\n",
        "\n",
        "    filtered_data['market_share'] = filtered_data['market'] / total_market_by_date.loc[filtered_data.index] * 100\n",
        "\n",
        "    smoothed_shares = {}\n",
        "\n",
        "    for symbol in symbols:\n",
        "        coin_data = filtered_data[filtered_data['symbol'] == symbol]\n",
        "        smoothed_share = coin_data['market_share'].rolling(window=window).mean().ewm(alpha=alpha).mean()\n",
        "        smoothed_shares[symbol] = smoothed_share\n",
        "\n",
        "    smoothed_shares_df = pd.DataFrame(smoothed_shares)\n",
        "\n",
        "    correlation_matrix = smoothed_shares_df.corr()\n",
        "\n",
        "    return correlation_matrix"
      ]
    },
    {
      "cell_type": "code",
      "execution_count": null,
      "metadata": {
        "colab": {
          "base_uri": "https://localhost:8080/",
          "height": 269,
          "referenced_widgets": []
        },
        "id": "L8iBTKhuL08F",
        "outputId": "22e51ca5-4a5f-4284-85d2-99a4368c5c4a"
      },
      "outputs": [],
      "source": [
        "correlations = calc_coins_correlations(coins, date=\"2018-06-06\",\n",
        "                                       symbols=['BTC', 'ETH', 'EOS', 'BCH', 'XLM', 'LTC', 'ADA'],\n",
        "                                       window=21, alpha=0.1)\n",
        "# \u0422\u0435\u043f\u0435\u0440\u044c \u043f\u043e\u0441\u043c\u043e\u0442\u0440\u0438\u043c \u043d\u0430 \u044d\u0442\u0438 \u043a\u043e\u0440\u0440\u0435\u043b\u044f\u0446\u0438\u0438 \u0441\u043b\u0435\u0434\u0443\u044e\u0449\u0438\u043c \u043e\u0431\u0440\u0430\u0437\u043e\u043c:\n",
        "correlations.style.background_gradient(cmap='coolwarm').format(precision=2)"
      ]
    },
    {
      "cell_type": "markdown",
      "metadata": {
        "id": "QbBg3mgjL08F"
      },
      "source": [
        "\u0414\u043e\u0432\u043e\u043b\u044c\u043d\u043e \u0438\u043d\u0442\u0435\u0440\u0435\u0441\u043d\u043e \u0435\u0449\u0451 \u0432\u0437\u0433\u043b\u044f\u043d\u0443\u0442\u044c \u043d\u0430 2017-12-27:"
      ],
      "outputs": []
    },
    {
      "cell_type": "code",
      "execution_count": null,
      "metadata": {
        "colab": {
          "base_uri": "https://localhost:8080/",
          "height": 269,
          "referenced_widgets": []
        },
        "id": "IJrYVdA0L08G",
        "outputId": "9ec557cb-be12-44ea-f924-abd2f878a89d"
      },
      "outputs": [],
      "source": [
        "correlations = calc_coins_correlations(coins, date=\"2017-12-27\",\n",
        "                                       symbols=['BTC', 'ETH', 'EOS', 'BCH', 'XLM', 'LTC', 'ADA'],\n",
        "                                       window=21, alpha=0.1)\n",
        "# \u0422\u0435\u043f\u0435\u0440\u044c \u043f\u043e\u0441\u043c\u043e\u0442\u0440\u0438\u043c \u043d\u0430 \u044d\u0442\u0438 \u043a\u043e\u0440\u0440\u0435\u043b\u044f\u0446\u0438\u0438 \u0441\u043b\u0435\u0434\u0443\u044e\u0449\u0438\u043c \u043e\u0431\u0440\u0430\u0437\u043e\u043c:\n",
        "correlations.style.background_gradient(cmap='coolwarm').format(precision=2)"
      ]
    },
    {
      "cell_type": "markdown",
      "metadata": {
        "id": "D4kyPV0CL08G"
      },
      "source": [
        "## 8. \u0410\u043d\u0430\u043b\u0438\u0437 \u043e\u0434\u043d\u043e\u0439 \u0441\u0442\u0440\u0430\u0442\u0435\u0433\u0438\u0438 (2 \u0431\u0430\u043b\u043b\u0430)"
      ],
      "outputs": []
    },
    {
      "cell_type": "markdown",
      "metadata": {
        "id": "Y8rQ5WIML08H"
      },
      "source": [
        "\u0420\u0430\u0437\u0431\u0435\u0440\u0435\u043c \u043e\u0434\u0438\u043d \u043c\u0435\u0447\u0442\u0430\u0442\u0435\u043b\u044c\u043d\u044b\u0439 \u043f\u0440\u0438\u043c\u0435\u0440. \u041f\u043e\u0441\u043c\u043e\u0442\u0440\u0438\u043c \u043a\u0430\u043a\u0443\u044e \u043f\u0440\u0438\u0431\u044b\u043b\u044c \u043c\u043e\u0433\u043b\u0430 \u0431\u044b \u043d\u0430\u043c \u043f\u0440\u0438\u043d\u0435\u0441\u0442\u0438 \u0445\u0440\u0435\u0441\u0442\u043e\u043c\u0430\u0442\u0438\u0439\u043d\u0430\u044f \u0442\u043e\u0440\u0433\u043e\u0432\u0430\u044f \u0441\u0442\u0440\u0430\u0442\u0435\u0433\u0438\u044f, \u043e\u0441\u043d\u043e\u0432\u0430\u043d\u043d\u0430\u044f \u043d\u0430 \u0441\u043a\u043e\u043b\u044c\u0437\u044f\u0449\u0438\u0445 \u0441\u0440\u0435\u0434\u043d\u0438\u0445.\n",
        "\n",
        "\u0421\u0442\u0440\u0430\u0442\u0435\u0433\u0438\u044f \u0432\u044b\u0433\u043b\u044f\u0434\u0438\u0442 \u0441\u043b\u0435\u0434\u0443\u044e\u0449\u0438\u043c \u043e\u0431\u0440\u0430\u0437\u043e\u043c: \u043c\u044b \u0441\u0442\u0440\u043e\u0438\u043c \u0434\u0432\u0435 \u0441\u043a\u043e\u043b\u044c\u0437\u044f\u0449\u0438\u0435 \u0441\u0440\u0435\u0434\u043d\u0438\u0438 \u0434\u043b\u044f \u0433\u0440\u0430\u0444\u0438\u043a\u0430 \u0446\u0435\u043d\u044b. \u0421 \u043c\u0430\u043b\u0435\u043d\u044c\u043a\u0438\u043c \u043e\u043a\u043d\u043e\u043c (\u0432\u0435\u0434\u0443\u0449\u0435\u0435 \u0441\u043a\u043e\u043b\u044c\u0437\u044f\u0449\u0435\u0435 \u0441\u0440\u0435\u0434\u043d\u0435\u0435) \u0438 \u0441 \u0431\u041e\u043b\u044c\u0448\u0438\u043c \u043e\u043a\u043d\u043e\u043c (\u0437\u0430\u043f\u0430\u0437\u0434\u044b\u0432\u0430\u044e\u0449\u0435\u0435 \u0441\u043a\u043e\u043b\u044c\u0437\u044f\u0449\u0435\u0435 \u0441\u0440\u0435\u0434\u043d\u0435\u0435). **\u041c\u044b \u043f\u043e\u043a\u0443\u043f\u0430\u0435\u043c, \u043a\u043e\u0433\u0434\u0430 \u0432\u0435\u0434\u0443\u0449\u0435\u0435 \u0441\u0440\u0435\u0434\u043d\u0435\u0435 \u0441\u0442\u0430\u043d\u043e\u0432\u0438\u0442\u0441\u044f \u0431\u043e\u043b\u044c\u0448\u0435 \u0437\u0430\u043f\u0430\u0437\u0434\u044b\u0432\u0430\u044e\u0449\u0435\u0433\u043e, \u0438 \u043f\u0440\u043e\u0434\u0430\u0435\u043c \u0432 \u043f\u0440\u043e\u0442\u0438\u0432\u043d\u043e\u043c \u0441\u043b\u0443\u0447\u0430\u0435.**\n",
        "\n",
        "\u041f\u043e\u0441\u043c\u043e\u0442\u0440\u0438\u043c \u043d\u0430 \u043f\u0440\u0438\u043c\u0435\u0440:"
      ],
      "outputs": []
    },
    {
      "cell_type": "code",
      "execution_count": null,
      "metadata": {
        "id": "gEPEQGSTL08H",
        "outputId": "d4bbd2f4-ba46-45d9-c930-35daf6ae0a48"
      },
      "outputs": [],
      "source": [
        "def plot_moving_averages(coins, symbol, leading_window, lagging_window, start_date, end_date):\n",
        "    coin = coins[coins['symbol'] == symbol][start_date:end_date]\n",
        "    price = coin['price']\n",
        "    leading_mean = price.rolling(window=leading_window).mean()\n",
        "    lagging_mean = price.rolling(window=lagging_window).mean()\n",
        "\n",
        "    fig = plt.figure(figsize=(16, 9))\n",
        "    ax = fig.add_subplot(111)\n",
        "\n",
        "    ax.set_title('Price action for {}'.format(symbol))\n",
        "    ax.plot(leading_mean, color='green', label='MA{}'.format(leading_window))\n",
        "    ax.plot(lagging_mean, color='red', label='MA{}'.format(lagging_window))\n",
        "    ax.plot(price, color='blue', label='price')\n",
        "    ax.set_xlabel('Date')\n",
        "    ax.set_ylabel('Price')\n",
        "    ax.legend(loc='best')\n",
        "    ax.grid(True)\n",
        "    plt.show()\n",
        "\n",
        "plot_moving_averages(\n",
        "    coins=coins,\n",
        "    symbol='BTC',\n",
        "    leading_window=21,\n",
        "    lagging_window=50,\n",
        "    start_date='2017-05-01',\n",
        "    end_date='2018-08-01')"
      ]
    },
    {
      "cell_type": "markdown",
      "metadata": {
        "id": "pK6shsqJL08I"
      },
      "source": [
        "\u0412\u0438\u0434\u043d\u043e, \u0447\u0442\u043e \u0441\u043a\u043e\u043b\u044c\u0437\u044f\u0449\u0435\u0435 \u0441\u0440\u0435\u0434\u043d\u0435\u0435 \u0441 \u0431\u041e\u043b\u044c\u0448\u0438\u043c \u043e\u043a\u043d\u043e\u043c \u043c\u0435\u0434\u043b\u0435\u043d\u043d\u0435\u0435 \u0440\u0435\u0430\u0433\u0438\u0440\u0443\u0435\u0442 \u043d\u0430 \u0438\u0437\u043c\u0435\u043d\u0435\u043d\u0438\u0435 \u0446\u0435\u043d\u044b. \u0418\u043c\u0435\u043d\u043d\u043e \u043d\u0430 \u044d\u0442\u043e\u0439 \u0438\u0434\u0435\u0435 \u0438 \u043e\u0441\u043d\u043e\u0432\u0430\u043d\u0430 \u0442\u043e\u0440\u0433\u043e\u0432\u0430\u044f \u0441\u0442\u0440\u0430\u0442\u0435\u0433\u0438\u044f/\n",
        "\n",
        "\n",
        "**\u0420\u0435\u0430\u043b\u0438\u0437\u0443\u0439\u0442\u0435 \u0444\u0443\u043d\u043a\u0446\u0438\u044e**, \u043a\u043e\u0442\u043e\u0440\u0430\u044f \u0441\u0442\u0440\u043e\u0438\u0442 \u0434\u0432\u0430 \u0433\u0440\u0430\u0444\u0438\u043a\u0430. \u041d\u0430 \u043f\u0440\u0430\u0432\u043e\u043c \u0431\u0443\u0434\u0443\u0442 \u0438\u0437\u043e\u0431\u0440\u0430\u0436\u0435\u043d\u044b \u0446\u0435\u043d\u0430 \u0438 \u0441\u043a\u043e\u043b\u044c\u0437\u044f\u0449\u0438\u0435 \u0441\u0440\u0435\u0434\u043d\u0438\u0435. \u041d\u0430 \u043b\u0435\u0432\u043e\u043c - \u0432\u043e \u0441\u043a\u043e\u043b\u044c\u043a\u043e \u0440\u0430\u0437 \u0438\u0437\u043c\u0435\u043d\u0438\u0442\u0441\u044f \u0440\u0430\u0437\u043c\u0435\u0440 \u0432\u043b\u043e\u0436\u0435\u043d\u0438\u0439 \u043f\u0440\u0438 \u0438\u0441\u043f\u043e\u043b\u044c\u0437\u043e\u0432\u0430\u043d\u0438\u0438 \u043d\u0430\u0448\u0435\u0439 \u0441\u0442\u0440\u0430\u0442\u0435\u0433\u0438\u0438 \u0438 \u043f\u0440\u0438 \u043e\u0431\u044b\u0447\u043d\u043e\u043c \u0438\u043d\u0432\u0435\u0441\u0442\u0438\u0440\u043e\u0432\u0430\u043d\u0438\u0438 (\u043a\u0443\u043f\u0438\u043b\u0438 \u0438 \u0434\u0435\u0440\u0436\u0438\u043c, \u0441\u043c\u043e\u0442\u0440\u0438\u043c \u043a\u0430\u043a \u0440\u0430\u0441\u0442\u0435\u0442 \u0446\u0435\u043d\u0430 \u043d\u0430\u0448\u0438\u0445 \u043a\u0443\u043f\u043b\u0435\u043d\u043d\u044b\u0445 \u0432\u0430\u043b\u044e\u0442).\n",
        "\n",
        "\u0418\u043d\u044b\u043c\u0438 \u0441\u043b\u043e\u0432\u0430\u043c\u0438 \u0441\u0440\u0430\u0432\u043d\u0438\u0432\u0430\u0435\u043c 2 \u043f\u043e\u0434\u0445\u043e\u0434\u0430:\n",
        "- \u0441\u0440\u0430\u0437\u0443 \u0432 \u043d\u0430\u0447\u0430\u043b\u044c\u043d\u044b\u0439 \u043c\u043e\u043c\u0435\u043d\u0442 \u0432\u0440\u0435\u043c\u0435\u043d\u0438 \u043a\u0443\u043f\u0438\u0442\u044c \u043a\u0440\u0438\u043f\u0442\u044b \u043d\u0430 \u0432\u0441\u0435 \u0434\u0435\u043d\u044c\u0433\u0438 - \u043e\u0431\u044b\u0447\u043d\u043e\u0435 \u0438\u043d\u0432\u0435\u0441\u0442\u0438\u0440\u043e\u0432\u0430\u043d\u0438\u0435\n",
        "- \u0436\u0434\u0430\u0442\u044c \u043f\u043e\u0434\u0445\u043e\u0434\u044f\u0449\u0438\u0445 \u043c\u043e\u043c\u0435\u043d\u0442\u043e\u0432 \u0438 \u043f\u043e\u043a\u0443\u043f\u0430\u0442\u044c \u0442\u043e\u043b\u044c\u043a\u043e \u0432 \u043d\u0438\u0445 \u0440\u0430\u0432\u043d\u044b\u043c\u0438 \u043f\u043e\u0440\u0446\u0438\u044f\u043c\u0438 - \u0441\u0442\u0440\u0430\u0442\u0435\u0433\u0438\u044f\n",
        "\n",
        "\u0421\u0447\u0438\u0442\u0430\u0439\u0442\u0435, \u0447\u0442\u043e \u0441\u0443\u043c\u043c\u0430\u0440\u043d\u043e\u0435 \u043a\u043e\u043b\u0438\u0447\u0435\u0441\u0442\u0432\u043e \u0432\u043b\u043e\u0436\u0435\u043d\u043d\u044b\u0445 \u0434\u0435\u043d\u0435\u0433 \u0432 \u043e\u0431\u043e\u0438\u0445 \u043f\u043e\u0434\u0445\u043e\u0434\u0430\u0445 \u043e\u0434\u0438\u043d\u0430\u043a\u043e\u0432\u043e\u0435."
      ],
      "outputs": []
    },
    {
      "cell_type": "markdown",
      "metadata": {
        "id": "AcdF_qkJQ2Xy"
      },
      "source": [
        ">**\u041f\u0440\u0438\u043c\u0435\u0447\u0430\u043d\u0438\u044f:**\n",
        ">- \u0414\u0430\u0432\u0430\u0439\u0442\u0435 \u0438\u0441\u043f\u043e\u043b\u044c\u0437\u043e\u0432\u0430\u0442\u044c \u0442\u043e\u043b\u044c\u043a\u043e \u0446\u0435\u043d\u044b \u0437\u0430\u043a\u0440\u044b\u0442\u0438\u044f. \u041f\u0440\u0438 \u044d\u0442\u043e\u043c, \u0447\u0442\u043e\u0431\u044b \u0443\u0437\u043d\u0430\u0442\u044c \u0446\u0435\u043d\u044b \u0437\u0430 \u0432\u0447\u0435\u0440\u0430\u0448\u043d\u0438\u0439 \u0434\u0435\u043d\u044c, \u0441\u0442\u043e\u0438\u0442 \u0438\u0441\u043f\u043e\u043b\u044c\u0437\u043e\u0432\u0430\u0442\u044c \u043c\u0435\u0442\u043e\u0434 `shift(1)` \u0443 `Series`.\n",
        ">- \u041e\u0442\u043d\u043e\u0448\u0435\u043d\u0438\u0435 \u0446\u0435\u043d \u0437\u0430\u043a\u0440\u044b\u0442\u0438\u044f \u0437\u0430 \u0441\u0435\u0433\u043e\u0434\u043d\u044f \u0438 \u0437\u0430 \u0432\u0447\u0435\u0440\u0430 - \u044d\u0442\u043e **multiplier** \u0437\u0430 \u0441\u0435\u0433\u043e\u0434\u043d\u044f\u0448\u043d\u0438\u0439 \u0434\u0435\u043d\u044c. \u041f\u0440\u0438 \u044d\u0442\u043e\u043c \u0434\u0430\u0432\u0430\u0439\u0442\u0435 \u0441\u0442\u0440\u043e\u0438\u0442\u044c \u0433\u0440\u0430\u0444\u0438\u043a\u0438 \u043d\u0430\u043a\u043e\u043f\u043b\u0435\u043d\u0438\u044f \u0434\u043b\u044f multiplier-\u043e\u0432. \u0422.\u0435. \u0435\u0441\u043b\u0438 \u043c\u044b \u0441\u043c\u043e\u0442\u0440\u0438\u043c \u043d\u0430 3 \u0434\u043d\u044f \u0438 \u0432 \u043f\u0435\u0440\u0432\u044b\u0439 \u0434\u0435\u043d\u044c multiplier = 1.5, \u0432\u043e \u0432\u0442\u043e\u0440\u043e\u0439 - 0.5 \u0438 \u0432 \u0442\u0440\u0435\u0442\u0438\u0439 - 2, \u0442\u043e \u0433\u0440\u0430\u0444\u0438\u043a \u0431\u0443\u0434\u0435\u0442 \u0432\u044b\u0433\u043b\u044f\u0434\u0435\u0442\u044c \u0442\u0430\u043a: (1.5, 1.5 * 0.5, 1.5 * 0.5 * 2).\n",
        ">- \u041f\u0440\u0438 \u0438\u0441\u043f\u043e\u043b\u044c\u0437\u043e\u0432\u0430\u043d\u0438\u0438 \u043d\u0430\u0448\u0435\u0439 \u043d\u043e\u0432\u043e\u0439 \u0441\u0442\u0440\u0430\u0442\u0435\u0433\u0438\u0438 \u043c\u044b \u0431\u0443\u0434\u0435\u043c \u043b\u0438\u0431\u043e \u043f\u043e\u043a\u0443\u043f\u0430\u0442\u044c, \u0435\u0441\u043b\u0438 \u0432\u0435\u0434\u0443\u0449\u0435\u0435 \u0441\u0440\u0435\u0434\u043d\u0435\u0435 \u0441\u0442\u0430\u043d\u043e\u0432\u0438\u0442\u0441\u044f \u0431\u043e\u043b\u044c\u0448\u0435 \u0437\u0430\u043f\u0430\u0437\u0434\u0443\u044e\u0449\u0435\u0433\u043e \u043d\u0430 \u043d\u0435\u043a\u043e\u0442\u043e\u0440\u044b\u0439 `threshold` (\u043f\u0440\u0438 \u044d\u0442\u043e\u043c \u043b\u0443\u0447\u0448\u0435 \u0440\u0430\u0437\u043d\u0438\u0446\u0443 \u0441\u043f\u0435\u0440\u0432\u0430 \u043f\u043e\u0434\u0435\u043b\u0438\u0442\u044c \u043d\u0430 \u0446\u0435\u043d\u0443), \u043b\u0438\u0431\u043e \u043e\u0441\u0442\u0430\u0432\u043b\u044f\u0442\u044c \u0432\u0441\u0451 \u043a\u0430\u043a \u0435\u0441\u0442\u044c. \u041f\u0440\u0438 \u044d\u0442\u043e\u043c, \u043a\u043e\u043d\u0435\u0447\u043d\u043e, \u043d\u0443\u0436\u043d\u043e, \u043f\u0440\u0438\u043d\u0438\u043c\u0430\u044f \u0440\u0435\u0448\u0435\u043d\u0438\u044f \u0437\u0430 \u0441\u0435\u0433\u043e\u0434\u043d\u044f\u0448\u043d\u0438\u0439 \u0434\u0435\u043d\u044c, \u0441\u043c\u043e\u0442\u0440\u0435\u0442\u044c \u0442\u043e\u043b\u044c\u043a\u043e \u043d\u0430 \u0441\u0442\u0430\u0442\u0438\u0441\u0442\u0438\u043a\u0443 \u0438\u0437 \u043f\u0440\u043e\u0448\u043b\u043e\u0433\u043e."
      ],
      "outputs": []
    },
    {
      "cell_type": "code",
      "execution_count": null,
      "metadata": {
        "id": "gp86AGWyL08I"
      },
      "outputs": [],
      "source": [
        "def plot_moving_averages_strategy(\n",
        "    coins, symbol, lead_window, lag_window, threshold, start_date, end_date\n",
        "):\n",
        "    coins.index = pd.to_datetime(coins.index)\n",
        "\n",
        "    coin = coins[coins['symbol'] == symbol].loc[start_date:end_date].copy()\n",
        "    price = coin['close']\n",
        "\n",
        "    if price.empty:\n",
        "        raise ValueError(\"\u0424\u0438\u043b\u044c\u0442\u0440\u0430\u0446\u0438\u044f \u043f\u043e \u0434\u0430\u0442\u0430\u043c \u0438\u043b\u0438 \u0441\u0438\u043c\u0432\u043e\u043b\u0443 \u0432\u0435\u0440\u043d\u0443\u043b\u0430 \u043f\u0443\u0441\u0442\u043e\u0439 \u043d\u0430\u0431\u043e\u0440 \u0434\u0430\u043d\u043d\u044b\u0445.\")\n",
        "\n",
        "    leading_mean = price.rolling(window=lead_window).mean()\n",
        "    lagging_mean = price.rolling(window=lag_window).mean()\n",
        "\n",
        "\n",
        "    shifted_price = price.shift(1)\n",
        "    multiplier = price / shifted_price\n",
        "\n",
        "    buy_and_hold = multiplier.cumprod()\n",
        "\n",
        "    strategy = pd.Series(1.0, index=price.index)\n",
        "    position = 0\n",
        "    for i in range(1, len(price)):\n",
        "\n",
        "        if leading_mean.iloc[i - 1] > lagging_mean.iloc[i - 1] * (1 + threshold) and position == 0:\n",
        "            position = 1\n",
        "        elif leading_mean.iloc[i - 1] < lagging_mean.iloc[i - 1] * (1 - threshold) and position == 1:\n",
        "            position = 0\n",
        "\n",
        "        strategy.iloc[i] = strategy.iloc[i - 1] * (multiplier.iloc[i] if position == 1 else 1)\n",
        "\n",
        "\n",
        "    fig, axs = plt.subplots(1, 2, figsize=(18, 6))\n",
        "\n",
        "    axs[0].plot(buy_and_hold.index, buy_and_hold, label='\u041a\u0443\u043f\u0438 \u0438 \u0434\u0435\u0440\u0436\u0438', color='blue')\n",
        "    axs[0].plot(strategy.index, strategy, label='\u0421\u0442\u0440\u0430\u0442\u0435\u0433\u0438\u044f', color='orange')\n",
        "    axs[0].set_title('\u0421\u0440\u0430\u0432\u043d\u0435\u043d\u0438\u0435 \u0441\u0442\u0440\u0430\u0442\u0435\u0433\u0438\u0439', fontsize=14)\n",
        "    axs[0].set_ylabel('\u041d\u0430\u043a\u043e\u043f\u043b\u0435\u043d\u043d\u0430\u044f \u043f\u0440\u0438\u0431\u044b\u043b\u044c', fontsize=12)\n",
        "    axs[0].set_xlabel('\u0414\u0430\u0442\u0430', fontsize=12)\n",
        "    axs[0].legend(loc='best')\n",
        "    axs[0].grid(alpha=0.3)\n",
        "\n",
        "    axs[1].plot(price.index, price, label='\u0426\u0435\u043d\u0430', color='blue', linewidth=0.8)\n",
        "    axs[1].plot(leading_mean.index, leading_mean, label=f'\u0412\u0435\u0434\u0443\u0449\u0435\u0435 MA ({lead_window})', color='green')\n",
        "    axs[1].plot(lagging_mean.index, lagging_mean, label=f'\u0417\u0430\u043f\u0430\u0437\u0434\u044b\u0432\u0430\u044e\u0449\u0435\u0435 MA ({lag_window})', color='red')\n",
        "    axs[1].set_title('\u0426\u0435\u043d\u0430 \u0438 \u0441\u043a\u043e\u043b\u044c\u0437\u044f\u0449\u0438\u0435 \u0441\u0440\u0435\u0434\u043d\u0438\u0435', fontsize=14)\n",
        "    axs[1].set_ylabel('\u0426\u0435\u043d\u0430', fontsize=12)\n",
        "    axs[1].set_xlabel('\u0414\u0430\u0442\u0430', fontsize=12)\n",
        "    axs[1].legend(loc='best')\n",
        "    axs[1].grid(alpha=0.3)\n",
        "\n",
        "    plt.tight_layout()\n",
        "    plt.show()"
      ]
    },
    {
      "cell_type": "markdown",
      "metadata": {
        "id": "M0nDeThDL08K"
      },
      "source": [
        "\u041f\u043e\u043f\u0440\u043e\u0431\u0443\u0439\u0442\u0435 \u0440\u0430\u0437\u043d\u044b\u0435 \u0437\u043d\u0430\u0447\u0435\u043d\u0438\u044f \u043f\u0430\u0440\u0430\u043c\u0435\u0442\u0440\u043e\u0432 \u0434\u043b\u044f \u0440\u0430\u0437\u043d\u044b\u0445 \u043c\u043e\u043d\u0435\u0442 \u0438 \u0441\u0434\u0435\u043b\u0430\u0439\u0442\u0435 \u0432\u044b\u0432\u043e\u0434\u044b \u043e \u043f\u0440\u0438\u043c\u0435\u043d\u0438\u043c\u043e\u0441\u0442\u0438 \u0442\u0430\u043a\u043e\u0439 \u043c\u043e\u0434\u0435\u043b\u0438:"
      ],
      "outputs": []
    },
    {
      "cell_type": "markdown",
      "metadata": {
        "id": "rXZMZPbxT26w"
      },
      "source": [
        "![image.png](data:image/png;base64,iVBORw0KGgoAAAANSUhEUgAABvoAAAMPCAIAAACbjJUeAAAAA3NCSVQICAjb4U/gAAAgAElEQVR4XuzdCbiVU//4/2/KmJIihTKFQiqKBgolQyFjMmRIhgyP5DGUIfMUhQxPhihDMhOlUkKFTHlUIlJRKWMKUfq//9bve3/3taezz2mfc/be530u17n2Wfe6173Wa+/sdX/uNVRas2bN//ijgAIKKKCAAgoooIACCiiggAIKKKCAAgrkv8A6+d8EW6CAAgoooIACCiiggAIKKKCAAgoooIACCvz/AoY7/RwooIACCiiggAIKKKCAAgoooIACCiigQIEIGO4skDfSZiiggAIKKKCAAgoooIACCiiggAIKKKCA4U4/AwoooIACCiiggAIKKKCAAgoooIACCihQIAKGOwvkjbQZCiiggAIKKKCAAgoooIACCiiggAIKKGC408+AAgoooIACCiiggAIKKKCAAgoooIACChSIgOHOAnkjbYYCCiiggAIKKKCAAgoooIACCiiggAIKVJEgCEyZMkUKBRRQQAEFFEgj0Lp16zRHPaSAAgoooIACCiiggAIK5IKA4c7/exdatGiRC2+JdVBAAQUUUCAHBaZNm5aDtbJKCiiggAIKKKCAAgoooECcgJPZ/UgooIACCiiggAIKKKCAAgoooIACCiigQIEIGO4skDfSZiiggAIKKKCAAgoooIACCiiggAIKKKCA4U4/AwoooIACCiiggAIKKKCAAgoooIACCihQIAKGOwvkjbQZCiiggAIKKKCAAgoooIACCiiggAIKKGC408+AAgoooIACCiiggAIKKKCAAgoooIACChSIgOHOAnkjbYYCCiiggAIKKKCAAgoooIACCiiggAIKGO70M6CAAgoooIACCiiggAIKKKCAAgoooIACBSKQx+HORYsWbbvttsuWLcvkrXj77bebNWuWSU7zKKCAAgoooIACCiiggAIKKKCAAgoooECeClTJ03qXcbVvvPHGv/76q1KlSuuss061atX23HPPffbZhzqQ/ueff/JizZo1HA21Ovzww/fYY48VK1ZMmDBh9uzZv/3220YbbbTzzju3b9+eF2Vccy+ngAIKKKBAKoFvv/22du3a6667blwGvvIWL15cr169VCearoACCiiggAIKKKCAAgrkrIDhzkzfmhNPPLFBgwaENRcsWDB8+PA6derwZ9++fcP5AwYMOPTQQ3fZZZfw5x9//PHggw/WrFnz5JNP3myzzX7++edx48aR0qtXrypVNM/U3HwKKKCAAqUnwGO5wYMH161b95xzzomNeBLrvO++++bPn//vf/97iy22KL0KWLICCiiggAIKKKCAAgooUBoC5TOZfdCgQS1atGjcuDG3WIQCZ86cuf3223///fe0kHhi8+bNX3311WeeeebAAw8kQ7t/fp599tnrrruOF3vttRdxw8hiyJAhe++9N4n3339/lPjQQw+1bdu2SZMmZ5111tKlS7MIxxDO+vXrE8H88ccf0xT77rvv0pATTjiBG8XKlSvXqlXr2GOPbdWq1apVq9Kc5SEFFFBAAQXKTIDHbzVq1Pj8888JbhLiDNcNsU4SOcqEhjKrjBdSQAEFFFBAAQUUUEABBbIlUA53MpMmTXr88cdffvnld9555/fff2dcJIMit9tuu7Fjx9Kq6dOnM/t7//335/XChQsvuOAC8p9xxhl9+vTZZpttwrk33XQTC3cGAuaST5w48Z577rn77runTJlCInFSwp2ERPmTOCMRTyKP2fKiqLlz5xKi3XHHHdOU+eWXX+66664EOqM8vCbCu8EGG6Q5y0MKKKCAAgqUmcD666/Plywz1qOIZxTr3HjjjXv37r355puXWWW8kAIKKKCAAgoooIACCiiQLYFymFjNjDluqAgaEv5jGh3zvmkM612OHj2a4ZCvv/76AQccsOGGG5LIOMpGjRrxIiyUecwxx/CaOOMmm2zCJDuO8ud5553HgpgU1blz5zFjxrRu3fqJJ57o2bPnTjvtxNF+/fqxQ9Fnn3229l5PPfUUQztXr179999/77fffoyISVMmjWKJzzQZPKSAAgoooEC5C/BtS8TzrrvuIuLJY0K+43gRYp1OYy/3d8cKKKCAAgoooIACCiigQMkEymF0JxHJ66+/fuDAgcxAv+aaa8IOP4Q7p06dyjbrhDs7deoU15iQJxosyfS6aNpdlHOrrbZasmQJfzImlB3bQ3rVqlW5YSM2WjKd2LO6du3KSp1XXnnlRRddxCVeeOGFNGVy3V9++SVNBg8poIACCiiQCwIh4rnlllvOmDGDp4PGOnPhTbEOCiiggAIKKKCAAgoosDYC5RDuJPjIiMuRI0e++eabjIJkACYNYDJ7w4YNmeQ+b968MJO9uK0K28tyFrsuUEg4ncnyrN1JJLS4paXJz7BNVhedNWtWmjw77LDDf//737Bpe8jGmNCXXnrpp59+SnOWhxRQQAEFFCh7ASKeF154IRFPZkswh91xnWX/FnhFBRRQQAEFFFBAAQUUyKJAOYQ7x48f36NHj++++46FLKtXr87UudAeBngyn46Z7MVa4PLOO+9kb9lp06aNGjWKvdEpqlu3bg888MAXX3xBrJNVPpnVzjKaWSRjadEPP/wwfQiVgausifboo48ShGUgKiHXESNGsN4o0/CzWBOLUkABBRRQICsCBDr/9a9/EfQ01pkVTwtRQAEFFFBAAQUUUECBchQoh7U7u3fvThCQpTaJG+6xxx4333xzaP9hhx1GdJL0zDmY5M5GCkRI2UGI1cdatmzJueyBzkTy008/nd9s2s7W7WEufObFJs3JyNNQDnHMBg0aHH300UmzhcT11luP9UMnTJjAip/Lly9nbiAhV9YedZfbNGgeUkABBRQoRwGWYeGnHCvgpRVQQAEFFFBAAQUUUECBrAhUyuKu5WtZIbY7Zwugd999l3jiWhZVgtPZxp39jkpwoqcooIACCihQEQSYSMHq2xWhpbZRAQUUUEABBRRQQAEF8lqgHCazJ/Vik6I77rjj4IMPLpdYZ9IqmaiAAgoooIACCiiggAIKKKCAAgoooIAC+SVQDpPZkwK1a9eufv36Dz/8cNKjJiqggAIKKKCAAgoooIACCiiggAIKKKCAAkUK5Eq486OPPiqyrmZQQAEFFFBAAQUUUEABBRRQQAEFFFBAAQXSCOTKZPY0VfSQAgoooIACCiiggAIKKKCAAgoooIACCiiQiYDhzkyUzKOAAgoooIACCiiggAIKKKCAAgoooIACeSBguDMP3iSrqIACCiiggAIKKKCAAgoooIACCiiggAKZCBjuzETJPAoooIACCiiggAIKKKCAAgoooIACCiiQBwK5slVRLlBNmzYtF6phHRRQQAEFFFBAAQUUUEABBRRQQAEFFFCgZAKV1qxZU7IzPUsBBRRQQAEFFFBAAQUUUEABBRRQQAEFFMgpASez59TbYWUUUEABBRRQQAEFFFBAAQUUUEABBRRQoOQChjtLbueZCiiggAIKKKCAAgoooIACCiiggAIKKJBTAoY7c+rtsDIKKKCAAgoooIACCiiggAIKKKCAAgooUHIBw50lt/NMBRRQQAEFFFBAAQUUUEABBRRQQAEFFMgpAcOdOfV2WBkFFFBAAQUUUEABBRRQQAEFFFBAAQUUKLmA4c6S23mmAgoooIACCiiggAIKKKCAAgoooIACCuSUgOHOnHo7rIwCCiiggAIKKKCAAgoooIACCiiggAIKlFzAcGfJ7TxTAQUUUEABBRRQQAEFFFBAAQUUUEABBXJKwHBnTr0dVkYBBRRQQAEFFFBAAQUUUEABBRRQQAEFSi5QpeSnemZ5CCxZsmTOnDmLFy9etmwZ169evXqdOnUaNGhQu3bt8qiO11RAAQUUUEABBRRQQAEFFFBAAQUUUCCHBCqtWbMmh6pjVdIKTJ06dcGCBY0aNapXrx6BTvIS9CRl1qxZpLRq1Srt2R5UQAEFFFBAAQUUUEABBRRQQAEFFFCgwAXiJ7OvWrVq2223nT17donbfcstt5x33nklPj2TEydNmtS8efNMchZSnrFjx/7999/HHHNM48aNa9Sosc4/P7zgTxI5RIZCaq9tUUABBRRQQAEFFFBAAQUUUEABBRRQoLgC8eHO4p6fxfw9e/Z88skns1hgIRXFuM6qVau2adOGEGdiu0jkEBnIlnjUFAUUUECBghEYOnRo27Ztd9lllyOOOOKDDz4I7Vq9evUbb7xx/vnnX3HFFQXTUhuigAIKKKCAAgoooIACCpRMIEnsrGQFrf1Zffr0Oeigg9a+nMIrgfU6mbFe5Fx1MpCNzIUnYIsUUEABBRBgFP+99947ZMiQTz75pH379meccQZzMkjv2LEj6d9+++3vv/8ulAIKKKCAAgoooIACCihQwQXShTt/++23yy67bLfddttnn32GDRsWpKZPn86Ikl133bVDhw4TJ04MiT/88MPpp59OYpcuXdhIJ6npyy+/zP1YODRo0KBu3bqF11dddVX//v15zZgU8vCiXbt2N91005FHHsmM9TPPPHPlypUkckd37bXXNmvWjFEtr732WnSJt99++9BDDw2Xpm6kF3mh6Nx8eQEp63UmHdcZ2wQykC2Vf7401noqoIACCqQS+Oabb3r16tWwYcMqVap07979p59++v7778k88p+fPffcM9WJpiuggAIKKKCAAgoooIACFUcg3c7sV1555Y8//sj86O++++7YY48l7snPaaedRjphzeHDh7NGJxFGbrouv/xyyN566y2GFp511lmsJpkoSJiyd+/e3Jhtttlm48aNmzt3LtvssN/OO++807dv37j87L0zYsQIZud16tTp+eefP/7444m3MqqF2zlOiSbrUQhT4O+66y4ipC+99NJJJ53EbL5iXSixnlHKhAkT0hwty0OoHnzwwZlckQ2LxowZ88cff2SS2TwKKKCAAiUWOOCAA0p8bolP5MlidC7fnttvv/0WW2xBSq1atUpcpicqoIACCiiggAIKKKCAAgUmkHJ0J0M7X3zxxYsvvrhatWoNGjQg7Dh69OhKlSqxvCaxTl507tx5xYoVROL++uuv8ePHX3LJJTVr1mTICWMtkxptsskmTZo0IXi6aNEiZttxo8jgUMKp8+fPb9myZdwpBC7XX3/9jTbaiMjpvHnzOMrVe/ToseOOO3Jrx9GQ/+mnnya4eeCBB6633nps17PzzjtT52JdKGlVcy0RrrAPe5EVI5szGYtUMoMCCiiQ7wJ8dV5zzTW33347X8f53hbrr4ACCiiggAIKKKCAAgpkVyDl6M6lS5cyf5xhleF6DLRkYc11112X1SGvvvpqjrIVOIf4HV4zrrDImu23336EOwlxEqAkjsk4RMKUe++99wYbbJDqXCZoh4XJFi9enHiJhQsXso98dO52221H9fizBBdKVQHTFVBAAQUUyCkBHjQyk50Fr1ngJacqZmUUUEABBRRQQAEFFFBAgVwQSBnurF27NmNGGFO59dZbRxVl8vgFF1zw7LPPskYkU9F33313DjE5naAkC4oxuDJ9k4hCsm8sEUkKYVdZwqaMRiQx/VnhKPVhE4a4nHXr1qVKUSLjQMPyoGtzoUwqU8Z5NtxwQ7Rr1KhR5HXJRuYis5lBAQUUUCBPBVivkykOLCzDnIY8bYLVVkABBRRQQAEFFFBAAQVKVSBluJOoGRPY2R3otttuq1y58oMPPsiUcwZjMsyT2evcboXNixh6SSLbFjGl7uabb2bIySuvvBLCoIn1ZunP5cuXz549m+0UiJCSjcgpYzwTcyamUJmhQ4fuu+++VatWZdnQkIEVRUlnKj1rd44aNWrGjBmDBw/m0NpcKLp0uazLlthwUqZMmUKMOJNwJ9nq16/funXrpOWYqIACCiiQ1wJ8h55yyil89/E7rxti5RVQQAEFFFBAAQUUUECB0hNIuXYnl2R79E033bR9+/atWrVi4CS7n++xxx4soMkcukMOOYQYKCtpMpM95CTuSSzy0ksvbdGiRarqMlyUuCSrbYZNxpkdX6dOHWagp8ofm85FiT8eddRR3ObtsMMO4RC7NAwZMoRIa9OmTR955BEisAwC5dDaXCiTypRxHtZOZe+msHpAmkuTgWxkTpPHQwoooIAC+Svw+OOPf/LJJzyG3Ol/f3gqmb/NseYKKKCAAgoooIACCiigQGkIVFqzZk1plEsUcsCAAbElDxw4kJGYpXGtilAma54SzWzTpk2axk6ePJk4MrHpNHk8pIACCiiggAIKKKCAAgoooIACCiigQAELlFa4s4DJyqtpY8eOZSI/0cwwNja2GkRCiYeuWLEiLF1aXjX0ugoooIACCiiggAIKKKCAAgoooIACCpSvgOHO8vUv3tWJabI6J/tEsUk9uzxxMnsTkcIcdlIc11k8TXMroIACCiiggAIKKKCAAgoooIACChScgOHOPHtL2Qxqzpw5ixcvJtBJ1Ql6sv4p63WGRUvzrDFWVwEFFFBAAQUUUEABBRRQQAEFFFBAgawKGO7MKqeFKaCAAgoooIACCiiggAIKKKCAAgoooED5CaTbmb38auWVFVBAAQUUUEABBRRQQAEFFFBAAQUUUECBYgsY7iw2mScooIACCiiggAIKKKCAAgoooIACCiigQG4KGO7MzffFWimggAIKKKCAAgoooIACCiiggAIKKKBAsQUMdxabzBMUUEABBRRQQAEFFFBAAQUUUEABBRRQIDcFDHfm5vtirRRQQAEFFFBAAQUUUEABBRRQQAEFFFCg2AKGO4tN5gkKKKCAAgoooIACCiiggAIKKKCAAgookJsChjtz832xVgoooIACCiiggAIKKKCAAgoooIACCihQbAHDncUm8wQFFFBAAQUUUEABBRRQQAEFFFBAAQUUyE0Bw525+b5YKwUUUEABBRRQQAEFFFBAAQUUUEABBRQotoDhzmKTeYICCiiggAIKKKCAAgoooIACCiiggAIK5KaA4c7cfF+slQIKKKCAAgoooIACCiiggAIKKKCAAgoUW8BwZ7HJPEEBBRRQQAEFFFBAAQUUUEABBRRQQAEFclPAcGduvi/WSgEFFFBAAQUUUEABBRRQQAEFFFBAAQWKLWC4s9hknqCAAgoooIACCiiggAIKKKCAAgoooIACuSlguDM33xdrpYACCiiggAIKKKCAAgoooIACCiiggALFFqhS7DM8QYHSF1iyZMmcOXMWL168bNkyrla9evU6deo0aNCgdu3apX9xr6CAAgoooIACCiiggAIKKKCAAgookK8CldasWZOvdbfeBSowderUBQsWNGrUqF69egQ6aSVBT1JmzZpFSqtWrQq03TZLAQUUUEABBRRQQAEFFFBAAQUUUGBtBTKazL5q1aptt9129uzZa3u1LJ0/adKk5s2bZ6kwi8ktgbFjx/7999/HHHNM48aNa9Sosc4/P7zgTxI5RIbcqrG1UUABBRRQQAEFFFBAAQUUUEABBRTIGYGMwp1lU9uePXs++eSTZXMtr5KbAozrrFq1aps2bQhxJtaQRA6RgWyJR01RQAEFKoLArbfeygPI6Oftt9+m1Z9//nnXrl133XXXAw44YNSoURXBwTYqoIACCiiggAIKKKCAAqkEcmjtzj59+rgyY6r3qSKks14nM9YZwpm+sUxmf+aZZ3bYYQc/LemhPKqAAgUp8N133/Xq1eu0004LrWPwO8Pee/To0aVLl+HDh0+bNu3UU0/dcccdd95554Jsvo1SQAEFFFBAAQUUUEABBYoUSDKGLv05S5cuPeuss5o0abLXXnvdd999IfP333/P/RXjSo444ohLLrnkvPPOSyzk5Zdf7tixY0gfNGhQt27dwuurrrqqf//+vL7iiivIw4t27drddNNNRx55JDPWzzzzzJUrV5LIhPprr722WbNmbdu2fe2116LyGdhy6KGHcmnu9KZPn056kReKzvVFTgmwNxHrdSYd1xlbTzKQjcw5VXkro4ACCpSNAOFO9m3b/H9/1l133a+++uqbb74599xz11tvPYbAt2jRgiVfyqYyXkUBBRRQQAEFFFBAAQUUyEGBYo/uvPzyy7fYYosPPvjgs88+IyLJULumTZuSWKlSpbfeeostZRhyQvAxsamEKXv37k1gdLPNNhs3btzcuXPJzEY077zzTt++fePysynNiBEjVq9e3alTp+eff/74448fNmwYizaOHDmSUwiMhvwUwhT4u+66iwjpSy+9dNJJJ73xxhvFulBiPaOUCRMmpDnqoawLMLrz4IMPzqRYNiwaM2bMH3/8kUlm8yiggAKlIcC08dIotsgyFy9ezChOprTXqlWLh4uHHHIIX6ybbrrpBhtsEM6tW7cuDyaLLMcMCiiggAIKKKCAAgoooEChChR7dCehSX6qVKmy2267bbfddl9++eWff/75+uuvX3zxxTVr1mQ1MQKUSbE22WQTxoSy6uKiRYt+//13bhQnTpz4448/zp8/v2XLlnGnELhcf/31N9poIzaomTdvHkdHjx7NZD0m6BFs5WjI//TTTxPcPPDAAxnSwiRo5u69+OKLxbpQ0qqaWC4CfCrCPuxFXp1sZC4ymxkUUECBwhNgnsQJJ5zw+OOP88Tx/PPPZxdBZj/EjovnC5qHhYXXcFukgAIKKKCAAgoooIACCmQoUOzRndxWEdlkKjF3U8yeW7NmzQ8//MDCYVtvvXWRl9xvv/0IdxLiJEBJHJMBeoQp995772hMSmIJ3MJxRdIZz8KYvrgMCxcuJMAaJRJ+ZfFH/izBhRIvbYoCCiiggAK5JsCKMaFKLGHMVAkeHDLHInxRhnReM8M916ptfRRQQAEFFFBAAQUUUECBMhMo9ujOU045hQGVzCtnrjf3WlSUyekEJb/99tsiK00UcsqUKePHj+/QocP+++9P6JP57yQWeSIZ2Jcm8RJM2QtjP0MJvN5qq614vTYXyqQy5ikNgQ033JD1DTIpmWxkziSneRRQQIFCEmCW+iOPPBK1qGrVqjxuZBnPX375ZcWKFSGdKRSkFFKrbYsCCiiggAIKKKCAAgooUCyB4o3uZETnzz//zM3V8uXLCVx+/fXXYRTJQQcddMcdd7CUGMsvslMQIzeTVoL575zIzLs999yTCOnuu+/+7LPPMsYzaea4RObIDx06dN999+XujmXLwtFjjz2WdOKnrN05atSoGTNmDB48mENrc6HouuW1LlsmGgWZh08Ug3PZZbjI1pGtfv36rVu3LjKnGRRQQIFCEqhWrRp7/bF0DN99LKLN/zaZb7H99tsz0YGvPxbIfv/999mc/ZprrimkVtsWBRRQQAEFFFBAAQUUUKBYAsUb3Vm5cuUBAwawITt7vzLAkxGaYTjeDTfcQAyUWOSll1660047paoB2xkRl2RwaFhljCBpnTp1mIGeKn9sevfu3Yk/HnXUUYQ4w6hSjnKPN2TIkNtvv52pfAx4YTsjBoGSvjYXyqQy5ikNAfYaZosqPkjpCycD2cicPptHFVBAgcITYO0Xnvzxw2NFvnBvvPHGXXbZha+8Bx988OOPP27WrFm/fv0GDhzIOteF13ZbpIACCiiggAIKKKCAAgpkKFCJxTczzJomGxGoaJ+Eyy67jBU5WcqTwGjsKdyApdrFKE3JHqpQAqxvwGeJYHqaVk+ePJkPW6tWrdLk8ZACCiiggAIKKKCAAgoooIACCiigQMUUyE6489prr2UmHRumz5w5s1u3bky1a9++fcUEtdVrKcCoYdYrIJoZu9FwKJNIKPFQ1qdjY+K1vIqnK6CAAgoooIACCiiggAIKKKCAAgoUpEB2wp2ff/75dddd9+GHH7LwYo8ePU4//fSCxLJRZSNATJPVORs1alSvXr3q1atzUdZMIIU57KQ4rrNs3gWvooACCiiggAIKKKCAAgoooIACCuSjQHbCnfnYcuucywLseTVnzpzFixeHxWEJerLMK+t1hrVZc7nm1k0BBRRQQAEFFFBAAQUUUEABBRRQoBwFDHeWI76XVkABBRRQQAEFFFBAAQUUUEABBRRQQIFsChRvZ/ZsXtmyFFBAAQUUUEABBRRQQAEFFFBAAQUUUECBrAoY7swqp4UpoIACCiiggAIKKKCAAgoooIACCiigQPkJGO4sP3uvrIACCiiggAIKKKCAAgoooIACCiiggAJZFTDcmVVOC1NAAQUUUEABBRRQQAEFFFBAAQUUUECB8hMw3Fl+9l5ZAQUUUEABBRRQQAEFFFBAAQUUUEABBbIqYLgzq5wWpoACCiiggAIKKKCAAgoooIACCiiggALlJ2C4s/zsvbICCiiggAIKKKCAAgoooIACCiiggAIKZFXAcGdWOS1MAQUUUEABBRRQQAEFFFBAAQUUUEABBcpPwHBn+dl7ZQUUUEABBRRQQAEFFFBAAQUUUEABBRTIqoDhzqxyWpgCCiiggAIKKKCAAgoooIACCiiggAIKlJ+A4c7ys/fKCiiggAIKKKCAAgoooIACCiiggAIKKJBVAcOdWeW0MAUUUEABBRRQQAEFFFBAAQUUUEABBRQoPwHDneVn75UVUEABBRRQQAEFFFBAAQUUUEABBRRQIKsChjuzymlhCiiggAIKKKCAAgoooIACCiiggAIKKFB+AoY7y8/eKyuggAIKKKCAAgoooIACCiiggAIKKKBAVgWqZLU0C8sVgSVLlsyZM2fx4sXLli2jTtWrV69Tp06DBg1q166dK1W0HgoooIACCiiggAIKKKCAAgoooIACCmRboNKaNWuyXabllbPA1KlTFyxY0KhRo3r16hHopDYEPUmZNWsWKa1atSrn+nl5BRRQQAEFFFBAAQUUUEABBRRQQAEFSkegFCezL1q0aNtttw2jC9ey8sUqasCAAeecc07cFVeuXEllvvzyy7WsSe6fPnbs2L///vuYY45p3LhxjRo11vnnhxf8SSKHyJD7rbCGCiiggAIKKKCAAgoooIACCiiggAIKlEAg++HO++67b+HChSWoiqesvQDjOqtWrSpo2nEAACAASURBVNqmTRtCnImlkcghMpAt8agpCiiggAK5JvDLL7/07t27WbNmLVu25GHe6tWr42r4+eefd+3adddddz3ggANGjRoVjs6bN++UU07Zbbfd9t5770GDBuVao6yPAgoooIACCiiggAIKKFCqAkmCYmt5vXvvvffbb7/NpBDn0WeilHke1utkxnqRc9XJQDYyZ16yORVQQAEFykXg2muv/f777998882RI0e++OKLTzzxRGw1GLDfo0ePvfba66OPPrruuusIjM6ePZsMTHFo2LAhic8+++xTTz0VhUHLpQleVAEFFFBAAQUUUEABBRQoY4FshjsZY9K8efPly5f37NmTMZ6hJSNGjNhnn32aNGkSBpiEael9+/ZlKMonn3zy22+/XXbZZYxAIc+wYcPCKZRz7LHH7rLLLvvtt1/sTVpcUWSeP39+9+7dmaa9//77P/PMM4l2Tz/9NOMZ99hjj9tvvz3xaIGlsDcR63UmHdcZ21IykI3MBdZ8m6OAAgoUnsAbb7zBV2q1atXq16/PN+PEiRNj2/jVV199880355577nrrrceXXYsWLSZNmsQI0MMOO4yI57rrrrv11luTOGPGjMKTsUUKKKCAAgoooIACCiigQCqBbO7MvtNOO73//vsEHx944AHur4hsctW5c+eOGTPm008/PeGEE4444ogNNtiAxLp167733nsbbrjhv//97x9//JG51d999x03csQ9CU1ecsklBDoZkEI60/EIoYbaxxXFrjsc7dSp05AhQz777LNTTz2Vbcfbtm0bNZWdefr160fglRKiWGoqiMT0CRMmJCbmcgoDNg8++OBMaggdb8off/yRSWbzKKCAAgokCjB5PDExuynMgeArsk6dOqHYLbfccty4cbGXYODnpptuGr5YSee7denSpZUrVw4LWHM634N8k95zzz3ZrZilKaCAAgoooIACCiiggAK5LJDN0Z1J23n55ZdvvPHGLDpWs2ZNBmOGPIQpWUGScBtT8y6++GLGrTRo0IDA5ejRo8nAKBWin9zFMVaFGXycGM6KK4pbOBY1u/DCC7nTa9q06UknnfTYY4/F1uHVV19l1Gf79u032WSTM888M2n1Cinx999/D/uwF9kospG5yGxmUEABBRQoRwHGaRKyJHwZ6sCLVatWxdaHP2NH9FepUiVa3JOvyB133PHQQw898MADme1ejq3w0goooIACCiiggAIKKKBAGQuUergzag+3YXH3aQxCIeX4449nQCg/zz33HCFO8g8ePJjMhx9+OAHQDz/8kOhnHEooihVCGaXI63B0u+22i8KpIWXx4sVkKGNQL6eAAgoooEBWBIhvVqpU6a+//gqlEcqM+0KM+2LlK5UJ7CEzyzR/8cUXr7/++rRp0x599NGs1MdCFFBAAQUUUEABBRRQQIG8ECi7cGciB3PPuZFjROd///mZOXPmwIEDua8jjtm/f/933nnn6quv7tOnDxPVE88lhWl9rFkWjWQh1skiZbE5KT/DTZOSlp93iSwOsGzZskyqTTYyZ5LTPAoooIAC5SXAV2StWrUWLlwYKsCLzTffPLYy/MkshxUrVoRE1pAhhcH7jz/++J9//snpO+yww0EHHcT3aXk1wesqoIACCiiggAIKKKCAAmUvkM21O0PtmaXOLVncQM6kDSPixvhNtp297bbbGMPy4IMPMueddTbZZ5YoJ6M+uc0jnZ1nk57O0BVmwd955529evVid6Phw4ffeuutsTkp/KijjmLfBqa6Dx06NGkhaRLLYF22NFcvwaEpU6aw5XqNGjWKPJds7HrRunXrInOaQQEFFFCgHAU6dOjActh77rknj6nYke/ss8+mMnzJEtkkcfvtt992222ZEsGe7KydzUDOa665hgVe7r77bvKzxxFzJliHukuXLuXYBC+tgAIKKKCAAgoooIACCpSxQPZHd7JVOputc/eVSUtuuukmtllgeU1il/PmzWO7dqbmPfTQQyNHjmR6O8txspcRW7QnLYope0zQ++ijj9gW6YILLmANUG4LY3Ny4nXXXceKn6zguXLlyoIfz8j6p+xKkSo6HMmQgWxkTqpqogIKKKBA7giw4d5WW23F9n3HHHMMa7x07dqVurHXHAFNXjB+kyeFH3/8cbNmzcjJDAnW6ySRJ3ysfN2kSRN2CGzXrh0PEXOnRdZEAQUUUEABBRRQQAEFFChtgUpsg1Da17D8MhNgbwqimWzxlOaKkydPZmsL4stp8nhIAQUUUEABBRRQQAEFFFBAAQUUUECBfBTI/ujOfFQomDoTxGQRNwKaScd4ksghMhjrLJh33IYooIACCiiggAIKKKCAAgoooIACCsQKOLqzAD8PjPFkdc5GjRqxMX316tVpIYu4kcIcdlKMdRbgW26TFFBAAQUUUEABBRRQQAEFFFBAAQX+ETDcWZgfhCVLlsyZM2fx4sVhr3aCnnXq1GG9TnarL8wG2yoFFFBAAQUUUEABBRRQQAEFFFBAAQUMd/oZUEABBRRQQAEFFFBAAQUUUEABBRRQQIGCEXDtzoJ5K22IAgoooIACCiiggAIKKKCAAgoooIACFV3AcGdF/wTYfgUUUEABBRRQQAEFFFBAAQUUUEABBQpGwHBnwbyVNkQBBRRQQAEFFFBAAQUUUEABBRRQQIGKLmC4s6J/Amy/AgoooIACCiiggAIKKKCAAgoooIACBSNguLNg3kobooACCiiggAIKKKCAAgoooIACCiigQEUXMNxZ0T8Btl8BBRRQQAEFFFBAAQUUUEABBRRQQIGCETDcWTBvpQ1RQAEFFFBAAQUUUEABBRRQQAEFFFCgogsY7qzonwDbr4ACCiiggAIKKKCAAgoooIACCiigQMEIGO4smLfShiiggAIKKKCAAgoooIACCiiggAIKKFDRBQx3VvRPgO1XQAEFFFBAAQUUUEABBRRQQAEFFFCgYAQMdxbMW2lDFFBAAQUUUEABBRRQQAEFFFBAAQUUqOgChjsr+ifA9iuggAIKKKCAAgoooIACCiiggAIKKFAwAoY7C+attCEKKKCAAgoooIACCiiggAIKKKCAAgpUdAHDnRX9E2D7FVBAAQUUUEABBRRQQAEFFFBAAQUUKBgBw50F81baEAUUUEABBRRQQAEFFFBAAQUUUEABBSq6QJWKDmD7FaiQAkuWLJkzZ87ixYuXLVsGQPXq1evUqdOgQYPatWtXSA8brYACCiiggAIKKKCAAgoooIACBSJQac2aNQXSFJuhgAKZCUydOnXBggWNGjWqV68egU5OIuhJyqxZs0hp1apVZsWYSwEFFFBAAQUUUEABBRRQQAEFFMg5gfwLd06aNKlPnz7vv/9+zllaIQXyQWDs2LFVq1YlprnOOvFrWfz9999EQlesWNGxY8d8aIp1VEABBRRQQAEFFFBAAQUUUEABBeIF4uMd8cdL+vdHH3307LPPZn52cfOnKfm+++5buHBhmgweUqDCChDNJNbZpk2bxFgnJiRyiAxkq7BENjyvBaZMmdK5c+ddd921Xbt2Tz31VGjLL7/80rt372bNmrVs2XLAgAGrV68O6YsWLeL7okOHDt98803U6rfeemvbmB/yx4HwPODpp58+/vjjY7/jkl439sT0GS699NKddtopUZ6HEwceeCDNOeaYY2bOnJm+OeEoDy3uvPNOnmc0bdr0vPPO+/HHH0P6559/3rVrV4o64IADRo0aFXetVGclrUBiPU1RQAEFFFBAAQUUUEABBXJKoBTDnc8991wmTeUui2yEOzPMX2SZ995777fffltkNjMoUNEEWK+TGetFzlUnA9nIXNF8bG++C7AWbc+ePXv16jV9+vTrr7++X79+n376KY269tprv//++zfffHPkyJEvvvjiE088QSIvDj/88Hnz5rGIbWzDv/vuu7333nva//6cc845sUfJv88++0ycOJEX0VIwqa4bnZg+w9tvv/3KK68k4n/99de0pW/fvnw/7rfffqeddtqqVatSNSc6nW/SESNG0MbJkyf/8ccfV155JYf4nu3Ro8dee+1FUddddx3B39mzZ8deMelZqSqQWFVTFFBAAQUUUEABBRRQQIGcEshCuHP58uUMIdl9992bN29+yy23cAd48cUX33777e+99x4pjKPh54YbbmjRokWTJk0uvPBCbsAgYDBL9+7dGbdyxhlnxOVPBOIej/tVxua0bdv2tddeizIwuIYhPLvtthuDVubOncvoFa5IfbjjZcwO2bgjPfHEExnPcvDBB1OfxJJNUaDiCBDWYb3OpOM6YxHIQLa4GFDFUbKl+StAeO7Qf36qVKmy7777svVW+Bi/8cYbfClUq1atfv36xx57LMFK2si3yTvvvBOigbFNJjS5zTbbbP6/Pwx2jj26xRZbEJ3kodpmm20Wpae6biYZGCtKQJMVWhLZuVDjxo3333//9dZb76yzzvr555/DAM+kzRk0aND5559PIRzt0qXLdtttR83PPPNM/iTxq6++YgTrueeeS1GM4ObrmGVhSO/Wrdtjjz2W6qxUFUisqikKKKCAAgoooIACCiigQE4JZGFn9nvuuYd9Tt59910mzTHhjtgis/922WWX119//fHHH6e1Dz74IKHGcePGMcCEW82hQ4eG8TLEIh9++GHuP9ddd93Y/IlAw4YNY0odA3PYVuWKK64IGT755JNrrrnmmWee2X777S+66KL+/fs/+uijrOnJ/eEDDzzA7RxB0lNOOYUbP65IZbjxY7RL3L1r4rWilAkTJqQ56iEF8k6AAZvE/TOpNhsWjRkzJjyZyCS/eRQoGwEmYqe5EHPV+QkZiFoySJnxjDyB47upTp06IX3LLbfky4jXm266adKiOPHjjz/mQRpx/yOOOOKCCy6IfUKwwQYbJJ6V9Lqx2dJkuPXWW5lNv+eeeyYWy4jUunXrhnS+JQmwLl26NFVz+Kbji5jM5KHVUWMJp/JDUbQ3qjzFko08DPPkH3uasxIrkFhPUxRQQAEFFFBAAQUUUECBXBPIQriT0SK//vorN5YsPcaKYPwZ18hOnTpxJ1ajRg3SGVfCMJOQoX379jvssEMmIqNHj2Yi3o477kjmk046iel4vGAADpcjWsprgjg33XRTXFGslfbTTz+Fm9VDDjmEAaeM5eGimVzRPAoUnsDvv/8e9mEvsmlkI3OR2cygQG4K/Pnnn8w54DEYwU2eexEirFy5cqgqL8KU8FQ1J/JIYPGwww778ssvL7nkEl7zpZMqc1x67HWTnhKXgRnzjL7kCy7pYGrqGRtpZchqmC2RtDksNxquSJ7YxpJIStKiOBQFRot1VtKmmaiAAgoooIACCiiggAIK5I5AFsKd3FUy8ITfzCI/7rjjeBHXvI033vi2225jgCd3ej/88AMjWYrbfobbhBEosScSkWEnCiKeYfRKdIMX5WEbCqrEDPqQ8tdff7kcYXHlza+AAgrklwChPWZtE/7jIRk156uhUqVK/P8/tIK4XuIzudgGHnnkkeFPnsYxeXz8+PEMDr3//vtJZHuiq666KpVG3HV5unb66aeTmfkHYWuguAwrV65kURce1G200UZJyyS+GRuZ5TVftUU2hwyxjaVkzkpaVOxFS3ZW0mqbqIACCiiggAIKKKCAAgqUu0AWwp1ffPHFySefTJSTpcHYS4FRnKeeempsw66++mpupdgXYv3112cJTjbJLW6za9eunbj7EHvjsrsCGzLUrFmTqe5MbI8rltmLTMRj9bHiXs78ChSkwIYbbsh01zDOOn0DyUbm9Hk8qkAOCrBkCutg8l3DQtKhesQ6a9WqtXDhwoYNG5LCC5blTFNzVl85+uijw1R3ApGER5kiwE+aUziUeF0msEd7qSfNQAx0/vz54euSAZvEKJkhwZIs0WZi1DNaU4VYJxPSSSmyOeShjaG2vGD9Fv4tk8g3L48Gw3IuPAtkfd7YFqU6K7EC6R08qoACCiiggAIKKKCAAgrkgkAWwp3skMAWEGz2ym9uq8JO69wlMpAz3FyxRhjxStYBZCshJu6xqVFiy2PzJx5lOjzrb7L1BLdqw4cPDxm49+MFA2SIhLKCJzelIZ083ONxcxim6bG0KKt2kvnuu+9moyRqklh+0pT0i8QlPcVEBXJZgOUdWHQik3An2VgmonXr1rncHOumQKIAizuzDgNbCcWO92dKAQs6M0udOD5fFmeffXbiiVEKT8j4/LN9EN9cbHHOw7w0maNDSa8be2JiBoKq/IQ8LEXNytd8RcaewmZKrEnNSqNsyz5kyBAe7IWIbdLmsF0Sq8qwdDVHb7zxRrbv44EfrQ5fZIwwZbjr4MGDWayTFa6ZRB8eEDLrgmVh2H8p6VmpKpAJiHkUUEABBRRQQAEFFFBAgXIUyMLO7Ndffz13WYxk4ZaMHYfCzSGbyTJWhYAjd579+vVjBCgjVtifnaUzCVAmNjg2f+JR9nDnnu2oo45ip6NouU8SichQIKNjmjZtyiYMoWTSL7vsMu7riL2yxxEzCrnLPfzww7n3Sz+oJ/G6pihQSAJsVD1r1qzwQCJNu8hANjKnyeMhBXJQYPr06Yz3Z+N1vokYKclP586dqSffQVtttRXfUIQU+S4gFJim8iy9wvIpzZs3JxZ54IEHZhLuTHXd6CpFZkhaH5ZwYRI99eELjlGWDz30EHPSUzXnhRdeYOs/jrK9Et+JrDfK4wpGuYawJmNCGbXKFkzNmjVDY+DAgWEtbF6E8ZtJz0pVgaS1NVEBBRRQQAEFFFBAAQUUyB2BSsyhy53aUBPGsLCxe2yVuB9jdGdOVdLKKJCnAlOnTiWayY5haeo/efJkNkiJZtSmyekhBRRQQAEFFFBAAQUUUEABBRRQINcEci7cmWtA1keBAhNgoVsWfCCaGbvpc2gjkVDioaxB0bFjxwJrtc1RQAEFFFBAAQUUUEABBRRQQIEKImC4s4K80TZTgf8TIKbJ6oTsVcJk1erVq3OANQ1JYQ47KY7r9LOigAIKKKCAAgoooIACCiiggAL5K2C4M3/fO2uuQMkFlixZMmfOHNYoJNBJKQQ9WdyW9Toz38ur5Nf2TAUUUEABBRRQQAEFFFBAAQUUUKDUBAx3lhqtBSuggAIKKKCAAgoooIACCiiggAIKKKBA2QpkYWf2sq2wV1NAAQUUUEABBRRQQAEFFFBAAQUUUEABBZILGO5M7mKqAgoooIACCiiggAIKKKCAAgoooIACCuSdgOHOvHvLrLACCiiggAIKKKCAAgoooIACCiiggAIKJBcw3JncxVQFFFBAAQUUUEABBRRQQAEFFFBAAQUUyDsBw51595ZZYQUUUEABBRRQQAEFFFBAAQUUUEABBRRILmC4M7mLqQoooIACCiiggAIKKKCAAgoooIACCiiQdwKGO/PuLbPCCiiggAIKKKCAAgoooIACCiiggAIKKJBcwHBnchdTFVBAAQUUUEABBRRQQAEFFFBAAQUUUCDvBAx35t1bZoUVUEABBRRQQAEFFFBAAQUUUEABBRRQILmA4c7kLqYqoIACCiiggAIKKKCAAgoooIACCiigQN4JGO7Mu7fMCiuggAIKKKCAAgoooIACCiiggAIKKKBAcgHDncldTFVAAQUUUEABBRRQQAEFFFBAAQUUUECBvBMw3Jl3b5kVVkABBRRQQAEFFFBAAQUUUEABBRRQQIHkAoY7k7uYqoACCiiggAIKKKCAAgoooIACCiiggAJ5J2C4M+/eMiusgAIKKKCAAgoooIACCiiggAIKKKCAAskFqiRPNlUBBRRQQIEYgSVLlsyZM2fx4sXLli0juXr16nXq1GnQoEHt2rV1UkABBRRQQAEFFFBAAQUUUCB3BCqtWbMmd2pjTRRQQAEFclBg6tSpCxYsaNSoUb169Qh0UkOCnqTMmjWLlFatWuVgna2SAgoooIACCiiggAIKKKBAxRTIoXDnLbfcws3z4MGD078TkyZN6tOnz/vvv58+m0cVUEABBbIiMHbs2KpVqxLTXGed+PVP/v77byKhK1as6NixY1auZSEKKKCAAgoooIACCiiggAIKrKVA/L3rWhaXC6ffd999CxcuzIWaWAcFFFAg3wWIZhLrbNOmTWKsk6aRyCEykC0XWjplypTOnTvvuuuu7dq1e+qpp0KVfvnll969ezdr1qxly5YDBgxYvXp1SF+0aBHfFx06dPjmm2+iyn/22WfHHXccJey///4vv/xyYqMI/h544IFkOOaYY2bOnBkyUOYbb7xx/vnnX3HFFYmnkPL555937dqVsw444IBRo0ZFeT799NNrr732iCOOSHpW0mulak4ogQD0nXfeSWy6adOm55133o8//hjSU1Ug/VlJK5C0qiYqoIACCiiggAIKKKCAArkjUIDhznvvvffbb7/NHWJrooACCuSpAOt1Mui+yLnqZCAbmcu3mawr2rNnz169ek2fPv3666/v168fwUSqRDzx+++/f/PNN0eOHPniiy8+8cQTJPLi8MMPnzdvHguSxlb7nHPO2XvvvSmBsy6++OKvvvoq9ujXX39N+X379v3oo4/222+/0047bdWqVWRgcGv46vn9998TEQhB9ujRY6+99uKs6667jtjr7NmzyUY5//rXv/jConqJZ6W6VtLmRKc/99xzI0aMoI2TJ0/+448/rrzySg6lqkD6s1JVILGqpiiggAIKKKCAAgoooIACOSVQKuHO33777bLLLtttt9322WefYcOG0WAG0Wy77bbcDR566KF77rnnoEGDgsIPP/xw+umnM+ClS5cucfecsUzcT3KDx9ictm3bvvbaa9GhZ599liE8XIhRM3PnzmX0SvPmzZcvX84dL2N2yMat7Iknnkj5Bx988HvvvZdT9FZGAQUUyHEB/rfMep1Jx3XG1pwMZEvz//CyaSbhOb5i+KlSpcq+++7LNkqhSoy75EuhWrVq9evXP/bYYydOnEh9+DZ55513QjQwqh7xQb5KyBNK2HrrrVmcNLbyb7/9duPGjRn4ud5665111lk///xzGOBJIJUfvt2StpSYKQNIzz33XM5iMGyLFi1YlYWcF1100euvv85g0qRnpbpW0ubwrcrYUsrhKN+n2223HUNuzzzzTP4kMVUFunXr9thjj6U6K1UFktbWRAUUUEABBRRQQAEFFFAgdwRKZWd2biCZQMfcxu+++477RsKRdevWpc1//vnnK6+8ws0kMwGZu8f92OWXX076W2+9xbAgbh25jUxKQ8yUKXXcTLJFRjRV8JNPPrnmmmueeeaZ7bffnpvG/v37P/roo6zpSSEPPPAA95MESU855RRu/IYOHcotJTd+jHbhDjDpJRITJ0yYkJhoigIKKFBxBPg/M8+KMmkvGxaNGTOGcGEmmUuch5ngac5lrjo/IQMjPRlwyoBKtuPj+4hN5EP6lltuOW7cOF5vuummiUVtsMEGnMKDNEKHfJsw6DIugklK+Drj3HXXXXezzTZbunQpr2vVqpVYWpTCWVyOwkMKJYSzOD39WYnXStUcvunYPIrSKJkmhGJpLMuq8pOqAowz5Y1Lc1ZiBdJU2EMKKKCAAgoooIACCiigQI4IZH90J0M7mSTIHECG0jC4plOnTqNHjw6tZSBnpUqViE5yZzh//vy//vpr/Pjxl1xySc2aNRs2bMiQnFQolMBMwB133HGLLbY46aSTQrZtttmGFdB22mknhuFwQx435ZA8LOL2008/XXDBBQyoOeSQQ7ixZCxPqkuYroACCigQJ8DU7LAPe5EyZEs6j7vIE0sjA4/WWLaSx2DE+1hVkxBh5cqVw4V4Eaafp7ruDTfcwAOznXfe+fjjj7/wwgujOGnIz7mxY1359olWAk1VIOlZPCtVc5g/sfvuu3MtMsQ2NqSkqgCB0RDQLNZZaVrqIQUUUEABBRRQQAEFFFAgFwSyP7qToSXcWXGjGJrHTdRBBx0U11RuF8lDThYUC0NL0lswTicxG3fX7ERBxDOMXolu8KKimEHPxPYmTZqEFKKr5b60XPpmelQBBRRQYC0F+HJh2jjhPx6SURRfDTxm4///oVi+kngAluoSfJvwRI21UxgsyZ5FLM3JWig8J7v//vs5he81vndio6W8Zoxn0tI4iyd8HOIJH5MSMjwrtihiqYlnFdkcMsQ2lgKpYdKiYq9VsrOSNtxEBRRQQAEFFFBAAQUUUKDcBbIf7qxduzb3lozHZNWzqHlEHhObynBL4p6saMY4msSjsSmUmbj70NNPP82eDGzIwOBQprozsT2uEEblMG6F1cfSF+5RBRRQQIGkAhtuuCFTpGvUqJH0aGwi2chcZLbSzsAjtD59+qy//vq33HJLuBbfR8wnWLhwIXMISOHF5ptvnqoaM2bMYIwqW66TgWVYWGeTKQhsKMQsgXDK448/Hq1zQiySSeKpSmNafbRv+5dffsl26sRSw2oqfCGy1GmqOkTplJx4rSKbw1m0MRTCC67I+0Ji+gqkOiuxAkVW2wwKKKCAAgoooIACCiigQLkLZD/cyZ0VE9gZHXPbbbcxYOTBBx/kro+J54lNZYhNhw4dbr/99ptvvplxlyzrGebiJeakQNbfZOsJ7tyGDx8eMoStbFeuXEkklBU8oxmF5OEejxvRsH7ZPffcw6qdZL777ruZmUjkNLH8pCnpF4lLeoqJCiigQCEJsCQIK2BmEu4kGxsBtW7dunybzzhK4pVsixc73p8vGuanswonMVm+LM4+++xUlWQBFibCM2mA9U/Y+IgRmmGB6Sg/GxyxTjSrf7It+5AhQ8JKLKlKi9IZ4Mlo08GDB7NWJkuCTps2LfH5XGIhqa6VtDnU9tdff2Xpao7eeOONbN/HAz9aHb7IUlWAHfz4dmaVmKRnpapAYlVNUUABBRRQQAEFFFBAAQVySiD7a3fSvJtuuoltGdq3b9+qVSv2RmcyYKo2k5O4JHHMSy+9lM2FUmXr3r0792xHHXUUGx/tsMMOkMfb5AAAIABJREFUIRuJ3F1zlVNPPbVp06bsAkHok0Oksy88N5YEXtnjiPtV7nIPP/xw7v1SDcNJdV3TFVBAgYosQPiPrckZMpkegQxkI3P6bKV9dPr06Yz3Z+P1XXbZhWWd+encuTMX7dev31ZbbUWAkmGbfBcQCkxVE8KXhAj/85//EDfkq4TN7thVLzYzy6owsZ2HeXzpMPLxoYceYp54qtKidIZk8uTv448/btasGZUZOHAgS1EXeVaqayVtzgsvvPDwww9TJhXmO5Ep+YSeGeUa4qqpKkBNwvjNpGelqkCRNTeDAgoooIACCiiggAIKKFC+ApXYw6F8axB3dcbLDBgwIDaR+zFGd+ZUJa2MAgooUEEEpk6dSjSTad1p2jt58mRWJuH5Vpo8HlJAAQUUUEABBRRQQAEFFFCgbARyLtxZNs32KgoooIACGQqwODKLhBDNjN2UPJxLJJR4KKtSduzYMcPSzKaAAgoooIACCiiggAIKKKBAqQoY7ixVXgtXQAEFCkGAmCarc7LBDhOc2Z2cJrEOJinMYSfFcZ2F8B7bBgUUUEABBRRQQAEFFFCgUAQMdxbKO2k7FFBAgdIUYEO5OXPmLF68mEAn1yHoyYLIrNeZ+f5vpVk7y1ZAAQUUUEABBRRQQAEFFFDg/wkY7vSjoIACCiiggAIKKKCAAgoooIACCiiggAIFIlAqO7MXiI3NUEABBRRQQAEFFFBAAQUUUEABBRRQQIG8EjDcmVdvl5VVQAEFFFBAAQUUUEABBRRQQAEFFFBAgdQChjtT23hEAQUUUEABBRRQQAEFFFBAAQUUUEABBfJKwHBnXr1dVlYBBRRQQAEFFFBAAQUUUEABBRRQQAEFUgsY7kxt4xEFFFBAAQUUUEABBRRQQAEFFFBAAQUUyCsBw5159XZZWQUUUEABBRRQQAEFFFBAAQUUUEABBRRILWC4M7WNRxRQQAEFFFBAAQUUUEABBRRQQAEFFFAgrwQMd+bV22VlFVBAAQUUUEABBRRQQAEFFFBAAQUUUCC1gOHO1DYeUUABBRRQQAEFFFBAAQUUUEABBRRQQIG8EjDcmVdvl5VVQAEFFFBAAQUUUEABBRRQQAEFFFBAgdQChjtT23hEAQUUUEABBRRQQAEFFFBAAQUUUEABBfJKwHBnXr1dVlYBBRRQQAEFFFBAAQUUUEABBRRQQAEFUgsY7kxt4xEFFFBAAQUUUEABBRRQQAEFFFBAAQUUyCsBw5159XZZWQUUUEABBRRQQAEFFFBAAQUUUEABBRRILWC4M7WNRxRQQAEFFFBAAQUUUEABBRRQQAEFFFAgrwQMd+bV22VlFVBAAQUUUEABBRRQQAEFFFBAAQUUUCC1gOHO1DYeUUABBRRQQAEFFFBAAQUUUEABBRRQQIG8EjDcmVdvl5VVQAEFKp5ArVq1xo0bF9r98MMP77nnnhXPwBYroIACCiiggAIKKKCAAgpkKmC4M1Mp8ymgAAIffPBBjx49dtxxx6pVq2644YY77LDDySefHIWiJFKgNAT233//E0444cILL+zVq9e//vWvAw44oDSuYpkKKKCAAgoosPYCX3/9daVKlQ4++ODEot544w0OnX322YmHTFFAAQUUUCC7AlWyW5ylKaBAoQr8/fffF1988cCBA6tUqUK86fDDD1933XW/+uqrV1555bHHHrv22muvvPLKQm277SpfgcGDB5933nmPPvoon73jjjvu6quvLt/6eHUFFFBAAQUUUEABBRRQQIFcFjDcmcvvjnVTIIcErrjiCmKdTZs2feaZZxjUGdXs999/Jxr1ww8/5FBdrUphCdSpU4dPXWG1ydYooIACCiiggAIKKKCAAgqUloCT2UtL1nIVKCSBOXPm3HrrrSyhOGbMmNhYJ21kSvu///3va665JrT31FNPZZoSoz7Jz5z3DTbYYLvttmPs519//RWB/Pnnn3ffffdBBx1Ur1699ddfv3bt2kcdddRHH30UK/bII49QTvSz+eab77fffowkjc2z7T8/cc7hRH7Hpn/yySfHH3983bp111tvvW222eb888+Pjc+GWVfUPK6o0BaOhvTEkhnx2rx5cypJ3WLP/fXXXxmBuOuuu4JTo0YNWvr222/HFZ7455o1a4YOHbrvvvtyykYbbYTeWWedNX/+fHLSzFiNuNehsWGCWP/+/bkW9alWrRrlHH300bx3sdeaOHHi6aefvvPOO2/8zw/1HzJkSJQhUKS5VqRBbVlGs02bNtWrV6e2lMOfsReiJknLWbVqFdmi2saewseAU2Lf07i3gMwLFy6kaWSj/Nhzfa2AAgoooIACeSqQlX7aL7/8csstt7Rr127LLbekv8fv7t27f/nll+lNMuyQpCrkxRdf7NixIz1kerx0YFji6dNPPw2ZE/sw9957Lx2YQw89lJ5wVCD5mblCZ5guMX1mlu5JOoYgaZ+KyodyEvuoiRU+88wzGbVQs2bN0Dnnz7lz58Zm41048sgjqUnlypWjy8V2cRM73oltTKxJ6BBGVeWKv/32G7cAXCKu771kyZLevXs3aNAAis0224xObISZ2JwoBUwGZLRo0YL+IT3bXXbZ5aKLLvrpp59ChlDnn3/+mU41j89pe7NmzZ588sm4Aovs1sY6x70XsUQ5ck+RhstDClQoAUd3Vqi328YqUEIB+i6rV6+mo7DFFlskLYJ+SWw6fbXJkyfTe6Pb8fLLLxP7owsVDdD78ccfyUBcjw7fpptuSmz0pZdeGj169JtvvklnJbacI444gp4ZXZB58+ZxOjPox48fz0qOSeuQKpHCqck666xDafSuZs6cyXDU11577d133+Xqqc7KJJ3oJIuZxuWkdW3btp0xYwahQFanWrZsGV1h6vz000936dIlVbFETrt27Uobt9pqq27duhFDpMM0cuTIQw45pH79+nDRUQvnvvDCC9OnT2cJS6KZIQWiqNh33nnnpptuYsEsQrrU4fnnn3/rrbdI3H777UMe7gQIgLZs2ZIeLWUSv+ZtnT179u23304GyoydKj5o0CASuXpUfrgo78iJJ55IZ5GYLKtqclPB+q0s6ortgAEDYtt4yimnxIWkeSNiM0SvJ0yYQG2THopNvPTSS5cvX15kNjMooIACCiigQF4IZKufNmvWrKuuuooeFz0clpj/7LPPnnjiCZ6Uf/jhhzzqzpwiww4JBfbp0+eOO+4ggEgHjyjhggUL6KayoeJuu+2WeDn60qzMQ/Wee+45Ok4hA4+oeShOwO6YY46hvzR16tQ777xz1KhR9NyI98UVQiui+CDRw0mTJiVeJU3K+++/37Bhw/bt27MaFV3Ehx56iA4qaNSfs3icTM+cB/b0IelYhhpGoxnSFFuCQ/RUv/nmm7gTCUwTNySd8DGehD6fffZZuuuvv/763nvvneoqTDI78MADuemgR3raaadxP/LFF1/85z//IdIddfLh7dChA71HgtErVqygd03f9fvvv6erHIrNvFsb8ofbk/A6W0RZvKdIZWW6AhVRgH/e/iiggALpBcJzS/pw6bNxlPAW/ydlMCZ9vpB55cqVhP9IJJYXUv744w96M7FF8fCWwCh9kSiRb31O4XeUEoZ2EnqLUuj28RNbDq/jTqQ3Q+iQGCLRwyhneKhLpzOkhIfb1DyuqNAWjob0uJIZREDwN+wSzlCC6Fy6UNT8gQceiFK+++47wqyY0CeLu0T0J8NdOYs+KE+8o0Re84Q/7pS4WkVHGbYZvsPuv//+KJHXJHbu3DlKIbgcWyCjbukm8hifgHJi3ZIKky0MCKVbSQ8ynMW7fNhhh3EtOtMhJYRNqVVisaSE2pInHGXIJ/cGW2+9NaSx72lcY7kN4Il6MI/OTVq+iQoooIACCihQLgKhW0UUL/Hq4duf56zRoSz203iIG9drInDJQ9YzzjgjsSZRSoYdksQSeJxPt6dx48Y0ITpKt2rx4sXhz9g+zFNPPUVfq3Xr1gTdosyMJAhTpnj2HCUyZYpimYgTe8UwR4reeJQY18tK7DYnVjguJay5z8P4kH7PPfdw3QsuuCA2GymxXdzEbmFipzSxJnFV5ePBEMvQl4vte4MDUSwFD+MZsIlwmrYQcaaSxDHpSUbZ+CQQtw1/UmcycCdCTzWkcIdCKJnAaHQzkkm3Npz74IMPUhqR6+hacUS5cE+RhstDClQ0geSjbPh3648CCigQCdB14zXRqAxNGHsYZeb58A033MCJYc41L+hhEH+MLYp53zzuZnRn7Jz3uGuFSdDFHY85bNgwxlfyGDl0d0KZTGzfY489RowYkWFzkmZjhj5xTB7Cxx6ly0uPlq2c6FtH6Tzwp/O6dOlS4sVJiyKR+U108u677z7mv0d5eB0euac6KzF9p5126tmzZ5TOax53Eynm6iGReVKxZ7H5D0NQ6XBH0dLEMhNTGB7LuAl6xgwQCEejdzlxflDi6YkpNJyQNyNP6QEnHg0pfD3TC6eH6qZYqYhMV0ABBRRQIL8EsthP22STTeJ6TfQt6WGm6X0lWmXSIQln0XPjBf1AZrJH5dCtSpwIxWjNk046iSGTr776Kt2nKDNjEhnSyDweQsNRIgNUaQXjUmMnvIfucdxUqsTKZ5hCySwhRWCR/FH3mEfs/MlM8AwLKXE2Nj6lR3fbbbfFlkB9pkyZQvQzliL0af/73/+mmtLOrQGRSt533gV60VGBpDCKIrb8G2+8MRpRyx0K9ylEP6Mbgcy7tQxcoNioqBIjxJ2Y3XuKbNXKchQoAAEnsxfAm2gTFMg5AabDxNapVatW9P9iV+f8+OOPWdyTKTwEUmNDnIQLWWEzOpeJ22FUJmMPef681157nXPOObEl8/w2bg1HSo7NwGwg/mTeetziTYww5Vr8RHOFODF9UbHFfv7553fddRcDOZmxHps+bdo0Qod0oeKKYmYN2ZhXxUDL2PzhNY/6mUzEWkWEJhOPFiuF+sTOFuc1KVyd+e8MnqUoHncz3xxYQJjRExXOJKYML0SHmK4nS2IRnYw9JbyPtDHDcqJsTP/nyT/1xLNv376pTmdndnhDvzZVHtMVUEABBRRQII8EsttPY4o36/DQ66ODFx6TQ5F5cCrDDkngfe+994g/MvgxvTZzsc8991z6SMxPIgwXmzl0jOPWfw/rqo8dO5axjQxsDPl5cs+LNI+EQ7bQbWYeDBdiKSRCh7HRVfLQ8Y666Ex+uvnmm6NVpFiEnQwsgsnSltFk9vRNK8FR3iCmqNPZi3v6Hj4GDCOI6z+HXiW/k64PQDrdWvq36QdDcA/CnUhsbQNC8C9WtzYsCcqa9enbXo73FOkr5lEFKpqA4c6K9o7bXgVKIsDa3nQpvv32W7a4yeT8uCfbPHHl0Tezv8O5PL9l/COvWZ2HAB8dO3pmYUlKAoWx5bOoED8hhWyEO+P6rJSZftEceq6cHmboJNaceF8U7iQgyE9inqQprKTOwMa4eB85w+V4XM9P4omx4cXYo0EmbsRr4umZpCSOKQgp4RI8z6dXzSJW9GWZ+MObQheQgDKRxDj5NNeiq8djeT4MSeVTtTFNgYzWJGwdN042Lj/d2csvv5xqs0Ioo4DTlOYhBRRQQAEFFMgXgSz203guzjLodBcJ87EOJjEpupdMLeKReYYamXRIoqLoWdFzS7UieZSNmfuE9ugdMe2aZTFjV+QMQczEnlt48B+OhnLC5kUsi5S+IbHdZnISBOQhMauCRmcRA+UBMwE+nh8z74c/o0P0D/v168d0qDQLZaa/epFHGRDAsEqelxPujGYdhbPCx4DZSHG7koajqfqWGfafMY97m2L7xsXq1oYlR2lC+saW4z1F+op5VIGKJuBk9or2jtteBUoiEMYw8oA6w5N5PBubk/4NHbXomTZz2wmuMbeIxenZIYeoGc9yiagmFh6t3UlfhNUt6bQx5YdYW5Qz1dqdUQaeXfOa0YhJVyqJneEeu35QyBwWJEqsFdN/mI5E9C1xdn+4HD3apJeL3QUottggQwAx8VrFTYmT5/SQEi5BP5hYJxFDfjNd6/rrr0eeznexrhLayKJLSdtYrEnxXJcJSqwozzKgYRWnVDWhqgwEJiRa5H1FqhJMV0ABBRRQQIFcE8hiP40uDeMf2UOSuCdzpUP3ssgRkRFIhh2SKD+bN9IzYavJ9KSEROk/s+Yje++wfFBs5tD2xJ5bWEIqHA35wxSluL0fE68bdZuJHnJFJg+xBmiYpR4yE99EiflV9NZY2YlZNewUGpVDX4sRCXS0mNJOlzVVrzXxuhmm0I1n51LGCsSNOeX00Fi6+kn7lqk65GH/zCL7zwz1jXubYvvGxerWMmyTGHqRk7HK8Z4iw/fCbApUEAHDnRXkjbaZCqyVABtBMkKTbkrcw9io0LixgewGHns9dphhShFD80IinTaWJdpnn32iPHTFCMClqSIdGupAYI6i4qalpzmLQ+EZNWelz5b5UaYjMbSTHidrDyWexZwgukHFvRwjEehZsrp5mPOeWGzmKYwqje3S8ZqeK1Vq0qQJhQQ6NpSMLTDuzSryWiwb36hRI2bfR5vFF3lKmgw856f5rKmUJg9byTM3jX553CIJaU7xkAIKKKCAAgrkvkAW+2l0cuifxIaiFi1axA6NGSJk0iGJLYopR/R+i9wenY06CTIeeuihrOrOPO7HH388KiR0jJnfHVssIxnZ9ZHV22MnVIW53mG+eSbNYVwnz7YZIsDkGNZfSnpK2GGS5/fRUUKNV1xxBbOXWNSSqGjcvPKkhWSeyMAFliVlUvmJJ56YeFbJPgYQEaxkpGqYY55YbEjhHiSuZx66vsE/824tQWTmv7PCQAizprpc5umlcU+R+dXNqUBFEDDcWRHeZduowNoKsKzkJZdcwtNRek5hz8GoRBbBvOOOO+K6RIzCC9M9yMYEambH8IJ4ZTiLMZX0S2bMmBH+ZOwnocNUgdToQvQpU/XY0jSPYYP0Y6hAdLmQmQBr6DumOTfpIVamZ14/y18mHS/AGNXjjjuOCCPDCmJHoVIUK0nFPmCPK5x1nXDo1atXWAQ9HMU2zO5JWpOkiRCxKXx0iNekdOrUKUyACqNZWbkpykA3PTZ/0jITE9kyiLawD1Lc9CI+G0yNT8yfKoXRpuyaytwxdnNKlYd0Nnpi0j2DEdLk8ZACCiiggAIK5J1AFvtpdHJ4PhoNlqQTxYLvafbAjLXKsEMSewo9N/4kSBrbVSOyFjdaM5qBTm+Zh+XnnXdeNBqRuVPszM74ytjNlBhiyYyobt26Rcs30aN++OGHGSgQt8pn+veamoQee1jXknnfcRTDhw+nhNh9lui9UxMqEK0Zmv4SxTrKbjy0i4XveQafeCKxYyKebHfJhp+xR3lsnyagTOeQtQJoGu8CvejoRFIY2RpbDtPno62f8KSlrLvKc/SQJ8NuLYNPMUwark1sUSYppXRPkcmlzaNABRFw7c4K8kbbTAXWVoDeDx1HljDnUSorb7JkOI9/6UjRMaL7wtHYC7Rs2ZLhhKygxHSVl19+mdXWjzrqqKOPPjrkOf/881mCndGdRAYJGvJYm54ffbi459tkDmuu84KBhEwhpxwuTew188bQy6TzdOyxx1IfBoc2bNiQsCkhOTpPrVu3DrtSZl4aOZnGwkafUVsSz6XvQj2JDtOP5CE2T4AXLFjAg3pGbjLKINXq5vTIqdLIkSMZlXD44YfzsHr+/PmvvfbaQw891KVLl8SrpEphvSo6bTyrZytSIrzgs2JRtCwmT/LpahM3ZMYW7yD1ZLfQI488kqEHqQpMmk7nkmAxK34ymJQV4lnDiM49UWBCuuwlWuRkq6hMMPk4UeGkV4nNxpS0evXqpc/mUQUUUEABBRTIEQHWEYqec0dVCtO0mUnNIUY70hXMYj+N7iU/DNljtUqCfePGjePBM92/TFZmz7BDEmvLgE2e1vP8m54bXSke3NKbZd46iexKlPgu8PSdyeb0Yxl3GfqfTBtnaVF6bhRFT5VwLYMQ6QwTA2UToVACLaI/ySBNfhe5Mzuw9NU5kW4zAVzeAlbJD4+6OXTmmWe2b9+e3hR5GN5Ik8HnXQgXotPIMk3svHTRRRclVj5KoSb3339/9Cc9SV4zZDUKm4ZxlFyO24TYyCCXI7SdZoAq3XU62IQgmdCzxx57ML6VnjClMR4iNCpprYii0iMFh9+MyYCI8bzw8mifDZfCKayFyuP53XffnW4wL+hsh8BrtGh+kd1abhy4EP1eCqQzHzfIg6Ok8KYXd9RnKd1TJIUyUYEKKpB0gQwTFVBAgaQCTBhhGSACjvRC6FIQ2GLdn9ChDPnD8jrMJ6KjRjYeTdPNohNAkDG2QOJrdGWI/RGMI+hJ/nAi8dOQjR5h7P+UCf/xqJlFP+lmReVQMj9x9QwnRqsXhaNE4uhckpn68JSbogixsaVmOBqefqdaZyeuSkzqZ+Gh2ItST3qHsSmMfCSkyGKURHuBYol6QpbDhg3jmXBcbWP/5Ak2Cy0RKeYsZOg9s8YTXb24U+KgoqNh0UwWWqILS30oBDT634RZY0ugF0islg4ul2DqPfOVohMT65ZUOMrGE/iwGyY9WrqMBKxZiZVeacgQlnyi8MRiSQkXhY416WMzxF0xNJZESKNsaSqc9FomKqCAAgoooECZCcRNA0p1jx3bVctKP41+FJE4HvfyKJ3ZNnT8WC4z7Jyepu0ZdkhSlcD8dIJ0rJAeesXsA8kT5ZA5aYctREJZPz0qkF4l8Vn6w/Sm6PAwUDHqSpGHvjRPwXkiHleBuF5Wqm4zgxzDiQjT36Z8cKgqxfKgPepk0ksnOEi/kchd7IXiuricnurdTEyPuuihqkR7CXZHhSftezNOltn0PI+n88xKR/SEuct47rnnUuGHdIKhBJ2pfziL5aFYQz9sQESG0LGkZKK97FBE24mA82w+scw03droQ5LYzCgl3C8kbRfXSnqbU3r3FImtM0WBiilQiWan+XfrIQUUUKBYAjyu5+EnX/aZD/ErVvlmTiXAcAA63PQps7vWUqrLma6AAgoooIACCpRAIPRYiNAlDv8sQWmekoMC9EUZuFqsBY5KqRXhfmQtaxI+sanubtIfLaV2WawCCmQi4NqdmSiZRwEFFFBAAQUUUEABBRRQQAEFFFBAAQXyQMC1O/PgTbKKCiiggAIKKKCAAgoooIACCuS+AGt0ZrhJVO63hRoyRJTpU6mW5kx/NC8aaCUVKFQBw52F+s7aLgUUUEABBRRQQAEFFFAgtwTYN5KZ7OxTlFvVsjbZE+j8z0/2yivnkghoplkqKv3Rcq66l1egYgu4dmfFfv9tvQIKKKCAAgoooIACCiiggAIKKKCAAgUk4NqdBfRm2hQFFFBAAQUUUEABBRRQQAEFFFBAAQUqtoDhzor9/tt6BRRQQAEFFFBAAQUUUEABBRRQQAEFCkggz9bu/PvvvxcuXFitWrVKlSoV0LtgUxRQQAEFFFBAgVwXWLNmza+//rrllluus47Py//vzbJ3musfXOungAIKKKCAAgUqkKZ3mmfhTmKd9erVK9C3yWYpoIACCiiggAK5LrBgwYKtt94612tZhvWzd1qG2F5KAQUUUEABBRSIF0jaO82zcCfjOmkWLalevXp8+8rwbx7jL126dPPNN3d0Q1AXJO7TJ0jiP0dNNEkUiE3xE+L/RtJ/QjjqhySRqIxNli1bxlPn0BlLrEyFTbF3mptvfRn/68hNhNhaCZL4HmmiSaKA/2rSmPhPJhFHk3I3SdM7zbNwZ5jDTqyz3MOdf/zxB3Uw3Bk+3PwjFyTuq1GQuP/x+SFJ+k3g5yRi8RPiP5nEfyOa5KaJCwrFvS/2Tov8oJZLBr9W/F9okR88PySJRJrEmqjh/0YS/41okpsmSXunLr1U5JtlBgUUUEABBRRQQAEFFFBAAQUUUEABBRTIDwHDnfnxPllLBRRQQAEFFFBAAQUUUEABBRRQQAEFFChSwHBnkURmUEABBRRQQAEFFFBAAQUUUEABBRRQQIH8EMiztTvTo65evfqvv/5KnycrR1nFgwux6J5rdwbPrICsu+66lStXzsobZCEKKKCAAgoooEC5C9BB+vPPP8umGlnpjJVNVcvmKoLEOacBsRNeNp9Jr6KAAgooUJYCBRLuXLNmzeLFi3/++eeyseNy9Bh+/fXXpOuhlk0dcuoq2QKpUaNGnTp1VM2pN9fKKKCAAgooUO4CN91003PPPffZZ59tuOGGrVu3vuWWW3beeedQKx4/9+nTZ8SIEStXrjzooIPuvffeLbbYIhyaP3/+OeecM3HixI033viUU06hkCpV/l/X94033rjoootmzJjBXvNXXHHFqaeeGrXxnnvuue222+hYNmnS5O67795rr71K1nwCnXPnzqXHWLLTi3tWtjpjxb1uzuYXJO6tSQ9iJzxnP8lWTAEFFFCgZAIFEu4Msc7atWtvtNFGZRAso7uwatUqesxlcK2Sva9lfNbag1DCb7/9tmTJEmpet27dMq6/l1NAAQUUUECBXBaYNGnSueee26JFCzpgffv27dix48yZM6tWrUqde/fu/corrzz99NObbLLJeeedd9RRR02ePJl0Jv106tSJx6hTpkxZtGhR9+7dGcJ24403cogoJIfOPvvsxx9//PXXXz/jjDPoexAq5dBTTz1FGPT+++/fe++9Bw0aROLs2bPpYRYXh44NF2XaCuHUspkMtPadseK2McfzCxL3BqUCsROe459kq6eAAgooUDKBQgh30p1lXCc90Vq1apVMobhnpeouFLecgsmfFRDGawBCxJO30lntBfPZsCEKKKCAAgqsvcCYMWOiQh555BG6Ch988EHbtm1/+eWXhx566IknnjjggAPIMHTo0EaNGr3zzjstW7YcO3YsIdHx48cz2LNp06bXXXfdpZde2r9///XWW49o5nbbbXf77bdzCvnffvvtgQMHhnDnHXfc0bNnz9NOO41DZCMcApDDAAAgAElEQVSQ+vDDD1922WXFbQJhWZ7jbrnlljyJL+65Jcuflc5YyS6dm2cJEve+pAGxE56bn2FrpYACCiiwNgKFEO4M63WWWW9ybbg9N71AeBN5Qw13pofyqAIKKKCAAhVWgBAnba9Zsya/CXrSbejQoUPQaNiwYf369adOnUq4k9+NGzeOJrYTzWRiO7PXmzVrxqHoFE7k0IUXXsgLpp9T4OWXXx5KY1Qm2cicSM3EeX5C+rJly3jBpPXYeevUiugS40n5nXh6KaWEa5XlFUupIdkqVpA4yTQgRDw5yqd6gw02yJZ/7pfDv1laXWYrTuQ+CDXUJPZtUiPuQytI4r9iTcrdJM3/wwsh3Bl8nVee+DnLuxTfxLx7y6ywAgoooIACZSlAp5bQZJs2bXbbbTeuy3JGjNZk2cGoDsQ3SQyHolgnf4bXqQ4Rsvz9999/+ukn5gzFncWCoYkNZBnQa665JjZ96dKlrCIapRDupKqUxjDPxNNLI4WoDZejZHtTgVeQuI9ZehA+PHxif/jhB2L0pfH5zM0yaTKPT5ApmxUnchMhrlaaxIKo4cejyH+2fkgSicrYhD11EusQUgon3JmqhaYroIACCiiggAIKFIYAK3h++umnTD8v3+YwApQlPkMdCJWyQOfmm29evXr1qFaEPul/s857tDlS2VS4QsWqMiEVJE4pFQgfVEJ+rAxW0UZ38niAf7yGO6PPCXEKTdRI9X9XPx6JMpqUu0mary3DnYnvjikKKKCAAgoooIACOSfATkSjRo168803t95661A5diJiBjpruEcDPL/77jsSOcrv9957L2oD6SEx/A5/hqO8JlLJZF7W0uEn7lAoLc5i/X9+YhMJl8RGTHhNyCD8xJ1bSn8yQi2M63R0ZxAWJO6Tlh4kfFbjPsal9FnNqWJpeAVsdfq3QJNYHzXiPi2CJP7z0aR8TdI8r1onsWamrI3Aqaee2qVLl6gEZjYx2YrNPcM6U2tTsucqoIACCiiggAIVU4BIDbHO559/fsKECewyFCHsueeejFZjd/WQwi7q8+fPb9WqFX/y+7///S9bIIZD48aNI6a5yy67hEPRKfzJoXAK8+IpMDrEkA1eh0MVk91WK6CAAgoooIACeSpguLMU3zhinewTymAB9gbdZJNNSvFKFq2AAgoooIACChSuAHPYH3vsMXZgr1atGutv8sNSmzSX/lWPHj2YVz5x4kR2GWJHdaKT7FPEoY4dOxLcPPnkk6dPn/7aa69dccUVFBKGZJ599tlfffXVJZdcwrqc995778iRI3v37h3wKOqBBx549NFHZ82axdZGK1asCLu05y9t3JN4GvLGG28wFIUhsfnbKGuugAIKKKCAAgqkFzDcmd6n5Ee///779u3b06tmyECIdZ5++umdO3eOSmQN+9q1az/00EOk7LfffmEKSfS7adOmIWdsJ5XlwzfddNPY9fij0r7++mvO/fjjj0PKlVdeyZ+DBg1K2oCQOfaKUZeXF2eccUZYf4pYLXcIoYT+/ftTpf/85z+sTsX+6ccdd1w0XvX888/nUNiWNLYD/cUXX1BOaCCFcLkXXnghlEYif4ZdUJPW0EQFFFBAAQUUUCASuO++++h40F+q+78/Tz31VDg6cOBA+ldHH31027ZtmXj+3HPPhXSmpTPznd8EQE866aTu3btfe+214RDjQ1955RV6aE2aNLn99tsffPBBNmcPh7p27TpgwICrrrqKvg3dqjFjxsTuXOQ7ooACCiiggAIKKJAXAgUY7lyz5n9WrCiV/yg5wx/ikh06dGDNb3rSUXSSMCKd5kWLFoVC6IL/9ttv9KrDnz179uRQ+OnTp0/SC7EHaCb7e37zzTcEOhlVmrSQKHH8+PFc7tlnn43NduyxxzLta/To0QyR2GOPPYjY/vjjjyHDnDlzGP7w8ssv04qPPvqoV69eIf3OO+/cYYcdCIASwI2KopCDDz6YYRSMuYirBgMliMZuvPHG6avnUQUUUEABBRRQIAgwmT3uh+fB4RBL1N9zzz10V+hgEOuMXWpzm222efXVV+luMeGGIGbsrkFETunMrFy58ssvv4yKCgUya37evHkcevfdd1mPqLDfgvTPuaO2xz7PppfbrVu3rbbaiuffjRs3fvLJJwubyNYpoIACCiigQD4KFGC487ff/odIWmn8R8mZ/Pz000/EOmfOnMnQztg9Olu3br3zzjsPHz48FDJ06FBii1HUjy4jHfTwkzQU+Pnnnz/88MPRZKs0NenXrx9RVIaOpspDD55D4Vo1a9aMsrHPKYv6P/30082bN99xxx25MSBW+8wzz4QM7DE6bNgwBjsweuLuu+8eMWIEU8k4xNKwzC/jXoLIJrcipHC/wTgLbiQYE5pYh1tvvZXJZayNlXjIFAUUUEABBRRQoPAE6B8tW1Yq/2X+MD6paprn3Enzk0iHkF4cw2M//fTTM888k+UCYreESnWW6QoooIACCiigQFkKuDN79rXZMHT33XdnAlS7du0I7V1++eXRNRjgOWTIENaKYtNPRlCy3H7ml+ess846a/vtt09/yocffshC/izVz+DNVDl5LM+h2FBsyMnU9eXLl9eqVSs6kYWxGPUQ/qxfvz5P8sNr5oWxfj9XCWMoGElKhHTw4MELFiwgw4knnjht2jRWvEqswMKFC++44w7iqv/6178Sj5qigAIKKKCAAgoUnsCvv7LMaKk065df6NGVsOTwnJsZOWFJU55zs+4Qz7kJYqYpkd7gxRdfHDKwohHrojL7Z6+99kpziocUUEABBRRQQIEyFijAcOdGG/3P8uWlwkjJmfwQkWQfz80224zF71krqlOnTkQ/w4msG3XZZZdNnTp1ypQprBu17777ZlIgeSZNmvTWW28xIPTFF19MfwoT4emDsrBVmmwsz///sXcf8FVUaR/HJwklkIQmEECKICIgioqrwio2EFEBV11d0RWVtayu2LuyYFlxFVy7gnV3RV30tRdQxA4IKiJFFKUoLRQDCTUhef83J47DzK3Jzc3ce3/z8cMmU86c853BPT7znHO09mibNm1c5yjWqQs1Xsm5P+hUoa4LFdzUdJwanm+Grqucp59+WjUZNGiQHJwnK/NUeQSaKitM9TiEAAIIIIAAAgikkkBenqW4ZE1sKrnKW/jv3FrX3h5vtHPnTvsu+vkf//iHQpwrVqzYsWOHxgxpiFKV68CFCCCAAAIIIIBATQikYLgzI8PKyakJq2jL1DRGJsanuJ7mkFKIU2N8FF7U9UqcPOmkkxS1VMQz+oU+NUJcoUPNd6l1isJX4rXXXtOYdw0vCn+agqcaWa/J+12nabJOjU/XzFZ77LGHt4Tly5crN9MESWfMmKEx7Bqbr9M0najSTrWS6fHHH6+VBE4++WQNh1cwV7OCaui9PXhfZyrjVSkDygn1Fs4eBBBAAAEEEJCAxiarJ8OWYgJ6plXOwaw5ivDfudXNU8fS3F3TmOoTvvn57rvv1rztmiZePd6cnBytPKmgZ81VkpIRQAABBBBAAIEqCKTg3J1VUKi5SzR3voYIaYkh+xYaz/7MM88sXLhw2LBhUd5XuaJajVTL/kQ8X2Pnb7/99jDf2PVBXmPtJ06cqKCkIpvazEpEqqQK15SjGqWugOyUKVO0ertSUJWMOXv2bHNfLQWgOisRQHmmI0aM0NpEZiS7BqdrFidlreo0E5A1f6rtykXVYk12tTVISlFRb1ZpxHZxAgIIIIAAAukgoEXF8/OtqVPToa20sfYF7O/cnR2bPS5Hn+rt3fZ0Rqr0p59+OmTIEEU/NVhHQ5r0ob32W0INEEAAAQQQQKBmBBQQ+uabmim6hktNwezOGhaLrXgtBDRhwgR1CgcPHmwW91RIUQPG99lnn+ijflr5Z8yYMXXr1o14b/VKw0dRNbemZhRVOYpXarML1Ad85ZBmZGRoAVOFOJV5qjVMFc3UqkT5+g+vik2FK0iqFE5FSLUSkYbqa+eSJUtuvfVW5ZOaWZ+cNWzXrt0dd9xx0UUXaSZ7s0x8Xl6eZiB1nsPPCCCAAAIIIGALnHJK4Md+/QI5nmwIxEtAX801wsYubfHixfpZY9UPPfRQ851b38u7dOmiQTzq0f3hD3/QhOxhbq3VLDVYRx/F9Xlb37w1H72WoAxzPocQQAABBBBAIHkFJkywNDC4IvyTZBvhzjg/MM1Z6SpRc3dquLe9U7FLLd1u5ri0d7qmy9SC5vaa5irQWeY5FZu30hp+blZFtw8pPdN7mvZ06NDBe8ieoFMRyfsrtqDXavUh1wJEGrSukVC6tWmjVmN3VkMT2GszRbmq52py0NuxEwEEEEAAAQQQQKCaAup0HXDAAa5C9El72rRpYb5zh7rpzTffrFngBwwYoOFEWtRIo4IUTg11MvsRQAABBBBAIKkFNGPN2rVJ2QLCnYl7bFrKfN26dWPHjlVsUcmeibux406ar7NFixbeW9spnN5D7EEAAQQQQACBxAho8W4CR4mhTp+7uD6c2w03E7WH+s7t/PSuS5zfszV0SQu4pw8gLUUAAQQQQCCdBRTuXL48KQEIdybusWmpH+VCtm3bVv1OLQeUuBs77qQB5lpF3Xtrlg/ymrAHAQQQQACBBAu0bk24M8Hk6Xs7jUC3F15PXwVajgACCCCAAAJhBQh3huXhYIWAd7x5EsG4PvInUc2pKgIIIIAAAski0KqV9e23gcpu3mzl5CRLralnUgpoGHtS1ptKI4AAAggggEACBbZvD3yM1z8ahJRcGyuzJ9fzorYIIIAAAgggkLICDRpUNu2nn1K2jTQMAQQQQAABBBBAIFkElN2pLRnHsxPuTJZ3jHoigAACCCCAQIoLmA6lGrlsWYq3lOYhgAACCCCAAAII+F+AcKf/nxE1RAABBBBAAAEEfC1ghzt//NHX9aRyCCCAAAIIIIAAAukgYHqnyfglnuzOdHg/aSMCCCCAAAIIJIGAHe686irr44+ToMJUEQEEEEAAAQQQQCCFBdQ77dTJevBBa9GiJGsl4c4ke2BUFwEEEEAAAQRSVcAOd27dak2enKqtpF0IIIAAAggggAACySGg3uk//2ntuaf1xBPJUWG7loQ7k+yBUV0EEEAAAQQQSFUBE+486KBA+7ZtS9VW0i4EEEAAAQQQQACB5BBQ7zQ31+raNfm6poQ7k+MNo5YIIIAAAgggkPICJtzZqFGgoYQ7U/5x00D/CPTt23fixIlVrs8777yz//77l5WVVbkELkQAAQQQQMCfAuqd1qtnZWcnX9eUcGf836jVq1dfeumlnTp1ql+/frt27QYNGjR16tT434YSEUAAAQQQQCC1BAh3ptbz9EVrzjnnnIxft9122+24446bO3euL2pW1Up88MEHalDTpk23Ob4JzJo1y7TSVWq3bt3UIVfnPMzdXnvttTVr1vzpT3/SORs2bFA3fu+9927QoEH79u1HjBixceNG+1r92qtXLxWo4KazQKnWrVv32WefDXMXDiGAAAIIIJCMAoQ7k/Gp1Uidly5dqm7Q+++/f/fdd3/zzTf62HvUUUddcsklNXIzCkUAAQQQQACBFBIg3JlCD9NHTVEwblXFpg/wderUOfHEE31UuapWJS8v7+WXX7avfuKJJxSddBX26aefbt269dRTT33mmWfC3Of+++8/99xzMzMDWSArK7Z77rln3rx5Tz/9tHryw4cPd1573nnnnX766d7SFFZWOd797EEAAQQQQCCpBQh3JvXji2flL774Yn1b/vzzz0855ZQuXbrss88+V1555YwZM/bYYw/707r9g3pRurd+feSRRwYOHKjPyMoJffHFF+0KXXfddSqkYcOG2n/LLbeUlJTokK7yFqXyzVWvvvrqgQcemJ2drUtGjx5dWlpq9rsueVALa1mWemYnnXSSOWH9+vX6Tt6kSRP77mPGjFGx6haba//1r3/Zh/gBAQQQQAABBOIuQLgz7qQUKAFlI7aq2JSTeP311//0009r1641Mvr5tNNOU/evWbNmQ4YM0Wd7W0w/u3qPhYWFOqp4nzNgqt5py5YtFW3UoSOPPPLyyy83Jbzyyiu63C5NXUq7J6lB33feeWfHjh3V9e3Zs6ez66sgo7rEubm5+fn5f/7zn9etW2eX4Pph2LBhTz75pNmpmObzzz+vPa5znnrqqTPOOEPl2Gd6SxOF0hQ0GMsc6tGjx0svvaRf99xzz6OPPvqOO+54/fXX7e60AppKYlAf21uOLpk9e/YPP/zgPcQeBBBAAAEEkleAcKefnl15uVW6uUb+UclhN41/0UdgdYNycnKcJ6oTqSE25rt627Zt1dszP9sfhxXKVHj066+/PvPMMzWUZuHCheZyfbhWcHPBggX33XffhAkT7r33Xu3XVeZylaPSzM8qX4c+/vjjs88++7LLLtMljz32mK5VL82uifp85mT9qa6qqynO2KgOTZky5aabbtLOZcuW6XzdKGzTOYgAAggggAAC1RUw4c7GjQPlMHdndTV9c315efnmHZtr6B8VHn1Di4uL//vf/3bu3Fmj2nWVIpUDBgxQb1MdSCVCKsioPNAd5i38tdD33ntP/UBFAO27/OUvf1F3VzvNnjfeeGPLli1BEx5DVUyxzn//+9+PPvro/Pnzr7jiirPOOuvDDz/UyQqnKsJ4wAEHKG6oW2iAuUKxoQpREFPVXr58uU5Q9RRO1fd+58lFRUXar8L79++vAek6OWhRn3zyiRILNOY96FFd2KhRI337D3rUuVO5pQrRhrpLxMs5AQEEEEAAAX8KJG+4M/L/eftTPFytdm6x/pcb7oQqHzut2KqzSxzTVdLixYvV6eyqNas8W4sWLcy+rKysxo0b6wO785Q//vGP6jtqz2233fbuu+8+8MADDz/8sH69+eabzWnqw1199dX6cH3ttdfqS7g27Vc5Ks1ZlKKT+mhvPm7ry7NK0/l///vfTSGKurrua9fhu+++03dvJaLaw3DmzJmjz9r2d3LdyFlhfkYAAQQQQACBuAuQ3Rl3Uj8UuKVkS+6dNdM1taziG4pz6oXrnUpAEUmFMvXD5s2bW7durV/NwO0XXnhBiZaPP/64ScPUd3H1FTUz5rHHHquTt2/frj9NWqhyP23JPn36aGrL//znP+pkaqeuUj/WlB+Ntor9xz/+oShq7969db76qwo46iP9EUccobFHinXqqClHXVNNgq8+qoY6eUtWSqnyQPVpf+TIkTrT+yFf3WYFdjXQSq1TMoHyTw8//HBvOfqurzClAXEdVW6p+tIXXHCB96qge9q0aaPSgh5iJwIIIIAAAkkqYMKdCkEl3Zd4liqK5ysX0wd2541Nh8/s0c92dqe6ob///e/V0VQnUqFP8wU7TI2VH3rrrbfqZLOdf/75+vauT+5hLjGH1GG98MILnWNzNMJIg5j0qT/itZyAAAIIIIAAAtUXUJYe4c7qM1KCV0DzyOsztjbNtqR0TkUJTVRO/UZ9qld2p+k3KqapxX/s4dia5khFKbfRW6A+0ivKqf1KwHz77be9oUbvJfYe3VFdU2Vc2v1VZXqam6o+06ZNs/ebBIIww8N1X4U7f/zxx+nTp2uAlOumquHQoUPNTuV4Tpo0Sfme3oppILzmgPLu37Rp0wknnNC9e/dRo0Z5jwbdo3SEaHrdQa9lJwIIIIAAAj4UUO9UUyom6crsqZjdmdXQUhpmTWwqOey211576QPyt99+G/asaA+arpsSNtUxVSKnvlGPHTs2/MUao6TzTz75ZOdpQftwzhM0gEhDb9Qp1Lyf9n4NrtfnfQ0p0udupXbSewsvz1EEEEAAAQSqKbBzp2XGJZv4UtJ9Qq9m81P48oZ1GyoHs4YaqMIjlqxJlpTnaE5TLqd6lZoi6fbbb1e/UQtsutYTtwckKYxYr149ZSx6y9fUSRpOpJ7qZ599pg/kQbMmvVeZPbqpfnjzzTd33313+xzNLqqfdUgzYN51113Oa5WOGqooxW2VeqmlhHSVGZ5vn6lpnTR1vsK7N954o9m5c+dO9aWVCuAqrXnz5r/88otrpwKjGtdvVkPSkuuhKuDar1mtbL0oL+E0BBBAAAEE/CxQsXwM4U7/PCJNix52yHnN1VRfxRWafOihh0aMGOGcvlNTETmXAPJWQB0ydRzNfv2sgTz6WT3IDh06aAJNsz+a0TGatGjRokV2j9Z7I+8eZaReddVVmjxU6xQ5jyrKqYWS/ve//ynGqlFLmnveey17EEAAAQQQQCBeAvaUiYQ740Xqk3L0LTziePOEVVWVUR9PKY26o/qNGkikUeFBUzj1OVw9wKDTGSm2qLUu9aVcEU+taR5T5ZUvqeCmRixp9LrrQtXHzMIZzVyZulanqf/8z3/+UxmmrqI0dL1v376a5t4suamjqq12esOd6nWvXr1aEU+7J6y8TvXnVcnXXnstYtKAfV+TGGv68DGBcDICCCCAAAK+FTC90yTN7mQwe5zfK8U69fX44IMPVnft+++/17B0zYbpHKse9H4aX6NZhzQ5kebZ1Ifov/3tbzpNuaLqC+pDtEbxqJCXX3456LXOnZq9SAOClOCpqd91a11rz/4Z6tqpU6dqFnYtr+Q6QTMrKcFTo4TUj1T8NMp+Z6i7sB8BBBBAAAEEwgu4wp0V8Sg2BOIgoE6dInra1Dm89NJLTRKlytUAcOU2akF2jfJZsmSJhvXog/3PP/+sruxHH300ceJEDRgyFypvUecXFBTYtdF49meeeUYFutZD17UK/GnTOkg62fysP/V9Xeub66hSJjUfvVYo0uXq4n755Zeas14/62R1R3UjraWuFTh1aPLkyYql6pIwBJpbU0urKzrpPEe31tSimq9Ty6zbmyo8c+ZM9ZBdpSlAKQR7+ibFOjV1qSY5VWxUP5vm23XQSHzNCaCdiheb+QHslZ2Ur6AIacQ+f5i2cAgBBBBAAAG/CSR1uDMVB7PX6gui6S/Vb9N66EqZ1LyZGtKiUUKPPPJI+EopQKnQ5MUXX6wBO88995y+e+v8wYMHqy+o0Kc6qZo8SAmYEScPUm9P089r+k6NA9LQG815ZFZACnN39efGjBnjHaej/q7mTrJniw9TAocQQAABBBBAoPoCdrizYlGZ5JsPvvoClFBDAlrl3AwJV6hRnUN9ZTejdrQiucKaGs2jsKaGb2t0+THHHKNMz59++smkXqo3qM2ulVYosuep79evn8rUQkCu0e5abkibfYlZXdP8es011yiweM455yhGqR6y1mfXeHmNf1JSpxlyrqIUdlR9FHBU71eDnDSiPOgiQnb5Gm6vMl1uysrUxKN/+MMfnPu19ro2BTHHjRvn3K/0VQVVNaL/xBNP1H514xUV1Q/OwVKKBWvVUO1Uv9osIq+fTSKnfUgdeIWPReqqDL8igAACCCCQvAJJHe7MqPLqOrXywPSVVfMNKRvROehGX4zV1dDMQdGPN6lm5c0Hant0TDVL06giZW5qTFA1y6nFy+MFkvhHWUNoWudUGRAaHRa+j15Dd/dnsZh4nwsmThM0XG8IIGn4V+bnn6127QKzI82ZY+m7p5bCrlgqJtyW4PckaDcsXP3S41hQlsR3aeLVGdND02KViofqT9cDVGhSEzSZnUoRVXhUI8RdU8aHeeaXX375/vvvr3BnmHPieCh6EGVrKm6rQKcCrFWrgNZwVyx49uzZ+u+RqpWQgKvCgyT+jU1AkyPeIsH/Co1YHz+cgInzKaDheicB8f4lTXmT5cst/X9jWZm1cKF1yCFWsDX/3CoJNgnaDTN1YjC7+9nwOwIIIIAAAgggkHgB5/dz3Z2lihL/CLijEVDCY9Ald/Lz83WC+c8YZWgq+qmhSNGjaSxR0JlAoy+hhs5s1aqVsj41hVSVy1do+OGHH/ZzrLPKTeNCBBBAAIF0FlDvVF/itT5OdnbydU0ZzJ7Ory5tRwABBBBAAAG/CHjDnVqoXf1LNgQSLNCuXTvNnum9qdbD1E6FBRXXa9u27dNPPx3T3O533323t0yf7KnmKKuDKjaftIVqIIAAAgggEC8BE+5UaQp3lpYG/qmTPEHE5KlpvB6X/8pJrvkE/OdHjRBAAAEEEEgFATvc2aBBoDkaN6Q+Zd26qdA02pBKAprFkr5rKj1Q2oIAAggggEAoAWe4U+ds355M4c5ED2bXqjiaqlJz9xhNTROjRRh32203rYqjdcDXrFkTSpn9CCCAAAIIIIBACgu4sjvVUsazp/DjpmkIIIAAAggggIDPBVzhzuTqmiY03KlxMY899th+++1nP1GtPP76669rgUitcrhy5croJzv3+TtB9RBAAAEEEEAAgZgE7HBn/fqV1yVXnzKmxnIyAggggAACCCCAgM8F7HCn6Z0mV9c0ceFOLeB45plnTpgwoWnTpuaJaoF1zQs+bty4o48+ulevXlrb8bPPPpsxY0bVnrfmTa/ahVzlHwEeon+eBTVBAAEEEEiwgB3u1HydydinTDAXt0MAAQQQQAABBBCoUQE73JmVFZhhKbnCnYmbu1OD1k844YR+/frdfvvt5nl88cUXJSUl2mN+7dq1a/v27adPn37ooYfG9MDq1auXmZmp5FAtIqmfNVg+psurcLJmLCotLdXs7Am4VxWql/hLqg+iEnbs2LF27Vo9Sj3ExDeBOyKAAAIIIFC7Ana4U9XQfPCaHSm5+pS1q8fdEUAAAQQQQAABBOIrYIc7Vawml0+urmmCwp3PP//8l19+6VrkcfXq1QpsNWnSxH4e+fn52ul6PNsrNrNz06ZN+kE5gK40wA4dOujCFStWxPfRhilNFVBgLswJ6XYoLiANGzbUQp/mESc1oDQUwCVZ1fkQMfG+0pjwhnjfCnsPr4cXJ+VNKnqQ+uan//soz87O2LgxY8uWCP9PkmCTCLXxPjP2IIAAAggggAACCCStgDPcqY/xhDvdT/Knn3667LLL3n333WzxxL7deeedo0ePdl6nHECtceQqqaBitzgAACAASURBVH79+nXr1k1MR1yRrKKiIi2vRHaneQpxAVH4WFthYWHs74jvrtB7qLkaxEJM3H42mHhfU0ycJmi43hBA0vCvzNq1mrNTE/6UFBRsqFu3hWVlrVq1IT+/1EtRW/9qVecnTGU4hAACCCCAAAIIIJBKAoQ7IzxNDVovKCg48MADzXk7d+786KOPHnzwwcmTJ2v8ssJbdoKnVmZv1aqVq7gbbrjhyiuvNDuV3dmuXTsNWm/UqFGEu9bkYf1XqEKuqgbBLMMMiOt1E4hC4bwhThZMvP9OwoQ3xPtW2Ht4Pbw4KW+iIULacnPrtmzZMicnMDNPgwbNWrb0Svy2J8EmVftuHa4BHEMAAQQQQAABBBDwqwDhzghP5phjjvnmm2/sk84991xN03ndddcpcKl8zKlTp55yyik6umjRouXLl/fu3dtVnNI2tTl3mjTACHet4cMKZvmhGjXcyhiKB8SFBYj37cEEE6+Acw9vCP8aCf+G6GhqvySlFXmcmoQ8MzPDjIfZsSPyd9VEmkSuTcRHyAkIIFBVAf230hFHHPH999/n5eVVrYzDDjvsmmuuOfXUU6t2OVchgAACCKSbQFKHOxMx+6T+L7mHY8vJydltt920o3HjxsOHD1fm5rRp05QBqjCoYp2xrlOUbm8b7UUAAQQQQACBlBRwLVWkNnpm7knJdtOomhX4y1/+stdee2l69KZNm6qn/d///rdm70fpvwqcc845+hpx0UUXOUm0dqt26pBzp1ZqzcrK0pqu4fE04u3SSy81sc6lS5eqHOc2Y8YM+/JJkyYpuUTp2Pvuu+9bb71l71cJ2pQVHv5GHEUAAQQQQMAIEO6s+ptw7733nnjiicru7Nu3r4ax/9///V/Vy+JKBBBAAAEEEEAgaQW84c6tW5O2MVTcNwJKMnj88ceVEvj555//9a9/VfTt0Ucf9U3tUrwiGsqm9Vq3/vo3WWsPTJw4sX379q5mP/HEE4pjarKvlStXhhLRGLg33njDFSd97733Vv269erVy1z72WefnXHGGcop+eqrr06q2ObNm2cOHXfccZqB9+233w51F/YjgAACCCDgFCDcGdv78MEHH/zrX/8y1+ir40MPPbRhw4bNmzcr1umduDO2ojkbAQQQQAABBBDwvcD27UGq6A13kt0ZhCkZd5WXW5s319Q/Kjzsdtddd2kE9O67764cz7PPPvvYY49VWM1c8Z///Oeggw5StqB64EOHDtVU+2a/+uquzEH9+sorr5ijmpCqS5cuShft1KnTLbfcUlJSYvbfd999CuRpBqr8/HyllG7ZssWul8lztMu8/PLLzaFRo0btv//+rurrRjrTPsFcVadOnT322GPs2LFm//r16xXRU6NUDSUwPvfcc3YhRx55pClfOYz33HPP3nvvbZIcX331VXOOyYucM2eO+VXRQDuGaBpuL5up1VZPO+00rTHQrFmzIUOG6EL7Loogd+vWTSUrifLhhx92NcH+VUsXKOJp53PoBxEdcMABzvOLi4tfeOEFRaKV3fn000+HKup///tfz5491WTnCYpl69mZTVOEmUN6EApratC6anjbbbepDloywRxSDunAgQMVgQ11F/YjgAACCCDgFCDcyfuAAAIIIIAAAgggEJXAM89YWnDxjTfcJxPudIukzO8K/OXm1tQ/jqhieLDy8nJNHqXUP8XCzJmKVCoc9vXXXyvCqFieK3NQM0XamYPOkhUeVVRuwYIFCqtNmDBBQ7XM0YMPPlhjqJVG+uKLL2pqfoUanVfppqY07zT94au9zz776EJV77LLLrv66qsXLlyo85UmqWTGN998U3mLF1xwwZ///GflrrrK+ec//6nWaez23LlzFbU8+eST7RBn+Duao8IZMGCAGvvxxx9/+umnubm5aoIWWdXRZ599duTIkXfccYcq849//EMx32f0tzrEdt555z311FPm4JNPPqnJu1wnKo6pmKnCsmeddZZO0GMKWpKqodi069DgwYO1splm5HzttdfsQxoa369fP/tXtUJ77F/1mFRU0FuwEwEEEEAgbQWmTbMcc6L8xuAKdybXwKM6afs4aTgCCCCAAAIIIJB4AUUe1HdUn/LEE3e5OeHOxD+LNLmjopkKpW3fvn3nzp2KzSnH0zRckTjzg/I077///t/97nfKNFRcz+xUHE2JjV6im2++2exUuqXij0oVvPbaa7XHjmMq57FRo0a6l32tbq1izSiuevXqecsMs0d5neZC5UUqOVFrAOhkJTnq1uYqDQOfPHmygoYK5NnlKGioaKxSJk1iqVqtGJ8isNFPXaqMS+WHKovTpJoqZCkNpX8qPfbvf/+78kwVP9XtOnbsqMjvY489NmzYsKCtkLxCrsuWLdNRhU3FpUKcZ2oku87RHoVTN27c+OGHHypB1VuUSnCGO+WpOvz+97/XAmIvvfSSclT1lBX91IWrV69Wgq1dgn7WHvvXNm3aKGtVTWPlMS8yexBAAIG0FdAwCf1//qGHugGSOruTcKf7cfI7AggggAACCCBQcwImCuQdqG5GuJtYkFmZ3XtOzdWKkmtQoGFDq7i4pspX4ZG2/v37K7FRocyZM2dqKHrr1q3N+jlK9tRwcmV3/vLLL2b5Gk0Q2b179/DlKQ6o2OgPP/ygAktLSxXZtM9X2qNyLTWMXfPy60b2fo0915juoMV+8803itwpjqkwnCKG119/ves0c4JupPip7msmvtTPSqtUiHPFihXKuFQ4VaPa7Qs1ulxhSs2U1adPH3unIoP2ePagNXHtFMvixYuda6ArpVStVrH6UzNjnn/++eYS1U3rr4Yqs0WLFmaUuiKw+qF58+bOM5VCq7zUl19+WTsV2D399NMV/Qwa7tQEoIoj29eqHC33an5VnFqTft59990m3BmqJmZ/gwYN9Kwlph/Cn8lRBBBAAIH0EVDvNGi3k3Bn+rwDtBQBBBBAAAEEEKiWQKhwpze7M7lGDFULJbUv1kyUFTmJtbUpI7Jz5866uybKXLt2rZIcFe5U2E7DnLUpRqmQnAKd+tkM1g5TTw2LPvPMM0ePHq2TFeNTrqI9n6auUrhNobdvv/1W648rhKczTVE//vijViUNWqwGcWsgtsKXWlhcAUTVU1E/55nOE1SsZqI89NBDFdpT8qYWA9DEnWqdJut01lz3VdhUo+Bdd7SnBA1aE9dOBXM1Xl44zv2C0n7t0Sj+Qw45xD6kcG2YMpVF+7e//U0naMUC12kKbipaqlCv2a+QqCY/1VSb3vip4puKSoe6iyrz7rvvmqNKhl2zZo19pn426bFmj5ZMkBixzlCS7EcAAQTSUyDKcGdydU3J7kzPl5lWI4AAAggggEDtCEQT7jR5V0E/s9dOpblrqggooGYSORWUVNLlmDFjTN7l7Nmzo2mipv7s0KHDTTfdZE42Y7TtC5ULqU0LGU2bNk3LB5lw588//6xw5+GHHx60fI1tN6FYhTUV5lMWqmuGSucJDzzwgFYnV7hTo8K1dpAZA67mfPfdd86kVMUKVZpG6Ku2Zsi5bq1LIiauOmuouKryWDWi35m+qhNUuKKTapEdzA3aLudOM+mngq2KETv3K9D573//W/FiDZC392tYuuhM+q3zZC1wpFHzoe4lNyXtmqOaVUBzp9rrQSkM6pwvVbOdutZKClUm+xFAAAEE0kcgmnCneqfJ1TUl3Jk+LzAtRQABBBBAAIHaF4g+3Bn1IjS13yhq4E+BTZs2aZF0DTBX+E+joTV/pfIizeSbGhWuSKICiIqsKQSmVX2iaYKWd1ceqJI6lcWplYLMKGxzoWa3VIhQE1xqGLgCdmastxISNapdEVLFQM0MkkrD1Gh3e5JQhV81SFzZnRpor3DeVVdd5aqGYoK6UDFNDfqeP3++ieKpGloQSdHMpk2bjhs3TgmM3lDmFVdcodKU/qkh7QpcKgL45Zdf2oWrGrqvflXJurv52aSIaqC39iuaKSsFVW+99da2bdsqsKt11TVLqX5WcuuIESMU91QcUycrUqxm2kPLvYzK/TQrLLmSQBW61YUaF+/M5dQ8AEr59IY7FSrVo1RVTSFaHEmPzwQuVTGtcaTx++bWWtPpiCOOUBRVY+f1pFS98ePH27X65JNPnNFVb23ZgwACCCCQhgLqnZaWBmm3/i/Rnsdb4c6NG4Oc49tdmb6tGRVDAAEEEEAAAQRSTyBUuNOMDzJ5nWYewuQaMVTTT+qjjz4aNGiQEuuUJadVWezb6VfXpiiVOaq1dJyHlMloX6XVupVvqMkQlduoJbydldfy4lopW4cUKXvrrbdqul01Wr5asdtuuynq16NHDyVFKpdQoTSzspDGZWuBdTVWgULJuBZSD1UrDVdXGFFDszUuXtFGLQFkn6lx7gr/KayptYMUKzSHdPLEiRO1rroenNIPtek0jQS3b6cHoYHVyqDUmkKq55/+9CfXrRXi1FV6TIowXnPNNSanUhFbhVYVAdQ0lxqprYxIb4UvvPBCDWlXNdR2zfKpmGDPnj3t0zT6W/fV9vrrr2v9IvOzyb40Q781GaheOQWFlR/arVs3BSUVEjWZngo7Krao8K7eEAUWxagFi7wVcO7Rha4sUR3Vs9AS6q5x6wp3KkApFleBAwcO1DD/9957z96vCLWG26shmpNU8Vx7zXeFd2WuEKfaq6Cw/rJIwFylqU711Lyrw4evPEcRQAABBFJeIFR2p/qi9lTP6p0m15f4DH1TTaInp2/U6hNo1UJvjyGRrdB34IKCAg1vYU1Dww6I6/UDxPv3ERNMvALOPbwh/Gsk/Buioynzkpx2mjVpknXCCdYbb+zSaMV5XnjBuu8+a8QIa+xYS+tOa7nm//wnHEyCTWq3G/b2229rPLLiOwo/KanQjnA5V53WOQpLaYUZDWQWnMKdziVlNM7arOuthigqp0iTlszWSjiaWlGzQCoFUpcoGKRZJu+8884TTzxRMaO77rpLKYF2tCjowwjKotDYkiVLFAVzLi8T9PJ47VSXXomQiojFNENlvO4eqhwFMRWR1J/OE6RdWFioVZJCXRWX/VUGUYKqqheXOsS3EE39qXlOtQx91YoViOLF+s8ohZu9JST+jfXWIfF7Evyv0MQ3sAp3xMSJhobrFQLE+3cqZUxOPdXatMmaMsXdRPVaDz440CnVds891qxZgc5q+C3BJkG7YaaGDGYP/6Q4igACCCCAAAIIxFMgmuxO8yE9uT6hx9MoWFnKbtPmPeJchkVpbkcddZSJdZozFeJ0nmB2av0ZDVvW+F8NB9aCNpr3UAOiTbhTC+AoRVFRIZ2p7DnNe6gJJR999FHvfdkTjYDSFLyr4ijorMhsNJfXyjkJi1DH2jrlqyoOW1RU5FwvPqZClKtxtflv1pgu42QEEEAAgVQXiCa7U73T5Bp4RLgz1V9b2ocAAggggAACfhIIFe40wU0Gs1f5WWkCR80mqTkNnSVomLailhqSPHToUA2sNqt+azy1UjgV6zRnagizsjg1i6ImgtQh5ySMOuQcOG+XrBkbzQyP2qO0Av2pXAZt9gn6Wcl0Zqtyi2K90IzZMn/Gem0Nna9ETpXsqpIGg3t31kQFqgayatUqXxnaMpq188Ybb6wOnWY+rVu3btDWmXfV9RrXxEPxVZnm76nzb66vqlcrlcHEyY6G6yUExPu3MmVMSkszNKO1Oi+uNm7dmpGdrUUOA7uzszWYPcN7Tu2+J2H+HU640/vGsgcBBBBAAAEEEKgpgVDhTvPB3MzaSXZnFfQV6FTWm70St0rQbI+a4bFZs2Yaoq5x6wpjKYtT+zX+3TnZYn5+vtmpcKcOmV9NBfSzc7C8XSuNdtd6Nc5Krl271ix3Y3aWlJSo/60cxoSlMSpcpXVsdHdfDWZ3EiX4Z0Bc4OFB9KLqjV2/fr3ioQl+UrV4OzVZo/slwwRl9lPAxPlCouH66wmI999XKWOydWuTzZuzCgrWu9q4cWOzkpItBQWBxf1KSrI3bWpYULDB61CLf3E06CFUfQh3hpJhPwIIIIAAAgggEH8BE+6sWPw5sC1bphVLrEsuqZz9nezOKotrcLrWsXGORLbzNPfbbz/lcmossMKU9evXr/It7AsVPLULV3anFtLRyj/OmeUV+lT/W8mkJp+0+neMsoS0ilVFYwKISykUiF5Uhfy0sJVvx/JH87hjPUdxCn0e0F9ewp02HSbOtwgN198pQLz/kkkZk6ysDE0zozlPTBtLSvT11KpTR8u1Z7Rq1ahly0ba36qVIp4Z9jleDbMnwSZh/m+LcGeoZ8R+BBBAAAEEEEAg/gKu7M6jj7Z+/NH64ovK6ZCc2Z3JNUFS/KViKfHjjz9etGiR1qcOdZEWsFb+mpYI33vvvTWbp0a+22ean80Un95D3qk/daFipq6wqcIlzoiJfjZZlgnLtVSGWoLvGIraJ/sBcT2I8CDmqOs19smjrNFq6G9NGrY6PCkmTh80XG8LIN6/PqlhouHqGsyuzotp4A03WLvtZt10U+BjfE6O/j0Z2J2TE+is2ud4Kew9iTQJ872KcGeYZ8QhBBBAAAEEEEAgzgKucKdindqmTdMX9cAPJruTweyxoj/xxBNatL1nz56hLtR6ROoQm5SE3r1733TTTRpvbjLdtB6RYqAaya5rdWjq1Kma4tCUo0PaE6rMMPtVsvr6GuGuxDEThQxzclwOKVzlw5XZ49K0qhUCiMstFIj2a+Uuvav6C2JPaFs1c65CAAEEEEhSAddSReqdmjUFFd80X+LVLpYqStKHS7URQAABBBBAAIFECASduzM3t3Iwu+lTmj/J7nQ+j+Li4sWLF5s9S5YsUfhSk3JqDSLt0XDySZMmjR071nm+Fh2aOXOmFmrXhJ76WesUnXXWWSamqWWLNPPm8OHDr7vuunnz5mk19nvvvddce9lllx1xxBEq6oQTTnj++ednz549fvz4KrwWWlWmbdu2P//8s/JJq3B5FS5R0ErDx+ys0iqUkGKXAOJ6oOFBGjZsqL9NYXJkUuz1oDkIIIAAAk4BV7izoMBq3jxwXNmd5hu8flbv1KyrmSx0ZHcmy5OinggggAACCCCQCgKhwp1r1wZaR3ZnqGesyKNil+aomTdz2LBhTz/9tPYoLqlQzhlnnOG8VoPNtX/UqFFaQl0LEyncac+22bhx4ylTplxyySVKCG3evPnIkSMvuOACc22fPn0mTpx48803awnsvfbaS8uy9+jRI1SVwu/Pzc1VCcohDX9avI4q1ql1ZjT3IhErQwqI69UKA6LovObuTEwacrxeeMpBAAEEEIijgCvcqSl/OnQIFE92ZxyRKQoBBBBAAAEEEEhlgaDhTk2HpDWLtJHdGerZH3nkkYppBj2qYKUdr7RP0JrsM2bMCHq+dmrxIk33GfToHyu2oIdi3akokrZYr6ra+QpmaQS9Juwn3GkAAXG9SIBU7W8WVyGAAALpIKDe6Y4dlmbwNNN0Krtz82ZL3S6FO+3sTjOYXTu1ilFSbBUzjrIhgAACCCCAAAIIJETAhDs1I5L+sYer16sX6GJqc2Z3avV2szMh9eImCCCAAAIIIIAAAukoYHqn6nlq04j14uJAuFO/Krhpz92pH9QvVVQ0WTbCncnypKgnAggggAACCKSCgOlQqiXqROrjudnsEc/OcKcOMX1nKjxy2oAAAggggAACCPhYwDn2yPROFfQ0vVBndqdakERdU8KdPn7jqBoCCCCAAAIIpJyAHe7cts3S1EhmW7cu8L8aQKQ0T212zzKJ+pQp96BoEAIIIIAAAgggkBYCznCn6Z0qu9MsTES4My3eABqJAAIIIIAAAghUU8AZ7rSzO024Ux1KMx2S5ns0cc/kWgGzmjJcjgACCCCAAAIIIJB4ATN7kr7EazO9U4U79dFd3VF7EvI6day6dZNpcXayOxP/InFHBBBAAAEEEEhfgaDZnWYwuz07knTMz2R3pu+LQssRQAABBBBAAIGECLiyOxs3DoQ19Y+za6qKmNWKElKjONyEcGccECkCAQQQQAABBBCIUsBefUif0O3sTnOtPVxIv5qfCXdGqcppCCCAAAIIIIAAAlUTcM3d2alTYKki9UKdXVOVrOhnEg08ItxZtZeBqxBAAAEEEEAAgaoIBB3MbgpyfkI3/csk6lNWxYJrEEAAAQQQQAABBGpbwBXu7NgxEO5UL9QV7iS7s7YfFPdHAAEEEEAAAQT8KuAMd6or6dycfUoGs/v1AVIvBBBAAAEEEEAgpQSc4c7iYis/39JopMJCBrOn1FOmMQgggAACCCCAQA0K2OHO7dstMyW8fTPvYHayO2vwSVA0AggggAACCCCAgGWZ3qm6ptrUO23WLPCDFtJkMDtvBwIIIIAAAggggEBUAs7sTtOttC9jqaKoBDkJAQQQQAABBBBAIH4CzuxO9U6bNAkUrXAnSxXFz5iSEEAAAQQQQACBlBYIE+70ZneyVFFKvws0DgEEEEAAAQQQqH0B9U7r1q0cdaRwp3qkCnSuXevO7mTuztp/VNQAAQQQQAABBBDwp4Az3OkazM5SRf58ZNQKAQQQQAABBBBIYQH1TnNyfgt31q8fCHd6sztZmT2F3wGahgACCCCAAAIIVEsgyuxOliqqljIXI4AAAggggAACCEQnoN6pep7mM7z+zM4ORD+9c3eS3RkdJ2chgAACCCCAAALpJxAm3El2Z/q9DrQYAQQQQAABBBCoZQFnuFOD2ZXdacKdzN1Zyw+G2yOAAAIIIIAAAskiECbc6Zy7U71MbZs3J0uzqCcCCCCAAAIIIIBAUgqEGszuWpldvdMk6ppmJuWjoNIIIIAAAggggEByCoSZu9OEOE2z8vIC/1tUlJyNpNYIIIAAAggggAACSSLgDHdqMLvJ7lyzJpDj6dzUO02irinhziR5+6gmAggggAACCKSEgDe7s1mzyoYdeOBvLSTcmRJPm0YggAACCCCAAAJ+F3Bld5q5O7dssQ4+eJeae8OdJTtLTpt02nmvnldeXu63RhLu9NsToT4IIIAAAgggkMoC3nDnpk2V7T3yyN8aTrgzlV8C2oYAAggggAACCPhGIOhg9qws66ijdqmieqd2r9UceHjWw5MWTHpqzlPfrf/ON62prAjhTr89EeqDAAIIIIAAAqks4B3MXlpa2d7GjX9rOOHOVH4JaBsCCCCAAAIIIOAbAW+4U8PYldrp7Jqqsq7szm2l20Z/ONo04t0f3/VNayorQrjTb0+E+iCAAAIIIIBAygpooE9ZWWXrNDWS1r7UNnhw4M+LLtql1YQ7U/YloGEIIIAAAggggIBvBEzXVPFNdU216U8NZj/oIGvYMHcVXeHOOavn/LLtF3OSD8OdddzV53cEEEAAAQQQQACBmhGwY50q3g533n13INZ5zDG73JJwZ808AUpFAAEEEEAAAQQQ+E3ADDxSuHPjxsBOfYzXUkV/+1sQokaNdlmq6PMVn+ukVrmtVhevnrZk2paSLQ3rNgxyWS3tIruzluC5LQIIIIAAAgikn4A9kl1N37rV2rEjQNC0qTVwoFWv3i4chDvT7+2gxQgggAACCCCAQKIF7HCnvsTrZ02ypHBn0M2V3WnCnRf1uqhjk45FO4qe+uqpoFfV1k7CnbUlz30RQAABBBBAIO0EnOFOe673oH1KE+50zQefdl40GAEEEEAAAQQQQKAmBZzhTjPPUtCuqargCnfOXDFTOw9te+hVva/SD2Onj91ZtrMmaxpb2YQ7Y/PibAQQQAABBBBAoMoCznCnGTGkooL2KTVcSFtRkaXpPtkQQAABBBBAAAEEEKgJATvcqVinCXdq7s6gm8KdmzdXTkO/smjl4g2Lddrvdv/duQec2zS76ZLCJVN+mBL0wlrZSbizVti5KQIIIIAAAgiko0DQcKdrGLtxMdmdmutTY97ZEEAAAQQQQAABBBCoCYGYsjtVgeLiQC2e++Y5/fn7dr9v1qCZpuwc1jOwsNH4L8fXRA2rVibhzqq5cRUCCCCAAAIIIBCzgDPcWVgYuFypnRkZQcrRhPFmU4Kn2fQ5/Y03KhfNDHIBuxBAAAEEEEAAAQQQiFHAFe5Uv7ROiEXNc3MDRZuplp795ln9fOa+Z5q7nd/rfP3w2qLXPvvpsxjvX1OnE+6sKVnKRQABBBBAAAEEXALe7M6gI9l1VWamZfqUdrjzssusQYOsSy8FFQEEEEAAAQQQQACB+Ag4w51arUgj2YN+idfNsrKshg0DUy0tWLvgq9Vf1cmss3H6H8dXJHR2b9H97J5nl5WX/eX1v+jP+NSseqUQ7qyeH1cjgAACCCCAAAJRCzjDnWaUeqjZkVSka3H2J54I3Obxx6O+GScigAACCCCAAAIIIBBWwJXdGepLvCnDrFb07NxAaufAzgOXzG8+eXJl6fcdd19uvdxF6xfNXz8/7A0TdJBwZ4KguQ0CCCCAAAIIIOAMdxqNMH1KV7gzPx8/BBBAAAEEEEAAAQTiKWB6p0rbVGqnlioK0zXVXbWW5qZN5RPnTdTPGsm+Y4e1cGFlZZpkNzlyjyP1y0c/fxTP+lW1LMKdVZXjOgQQQAABBBBAIEaB6oQ799qr8malpTHeldMRQAABBBBAAAEEEAgmoN6pRq83aBAId+qf8OFOfYxfsG7B0sKlDeo0GLT3oJIS6/vvLf1ptv6d+usHwp3BmNmHAAIIIIAAAgikroA33BlmMLu+n2sz88Hrh9atK12WLEldIFqGAAIIIIAAAgggkEAB9U41Kad6pCa7M0zXVJVSuPPL9YHkzT7t+mhBdgU69Rn+hx8qq2vCnTNXz9xasjWBLQh+K7I7g7uwFwEEEEAAAQQQiLuAN9wZ5hO6azC7fa09aCju1aNABBBAAAEEEEAAgbQScIY7o8nunFf0oXz6duirP01e54IFlWBdm3c9sNWBx3c8vnBbYa0bhlhevtbrRQUQQAABBBBAAIGUE6hOuNMeKKRw5+DBKUdDgxBAAAEE42BHiwAAIABJREFUEEAAAQQSLmCHO3Vnrboe5ku8TsjNK/9ueyC784gOR+hP0zu1v8RnZGTMOn9WQUFBy7yWCW+H+4Zkd7pF+B0BBBBAAAEEEKghARPurFfvt+LD9Cld2Z2aDN5sGzbUUO0oFgEEEEAAAQQQQCC9BJzhzsLCwKj2MFtp0/lF1qr6WfUPaXuITlPvNDfXWr8+zBW1dohwZ63Rc2MEEEAAAQQQSDcBE+7Myfmt3WH6lCYSakc57ezOrbU/G1K6PTfaiwACCCCAAAIIpKaAM9y5cWOE7M6fc1+RQv89+2fXCYRF1TvVXPP+7JoS7kzN95VWIYAAAggggIAPBUy4UyHOzF+7YGGyO00SqDfcqWmV2BBAAAEEEEAAAQQQqL6ACXfWrRtYnz1iuHNJ/Vd1xyF7DzH3NeFOf3ZNCXdW/92gBAQQQAABBBBAICoBE+40y1+aC8KEO9Xv1GYndZLdGRUxJyGAAAIIIIAAAghELWDCnYp16nu8BrOH6Zpu2LphTdZsFTyoyyBTvHqnmnyJ7M6osTkRAQQQQAABBBBIRQFvuDPMYPZQ2Z3+7FOm4uOiTQgggAACCCCAQIoLmHCnGqlO6aZN4ebuXLA2sAR7Tmn7/Nx8g6JBSAxmT/H3g+YhgAACCCCAAAIRBbzhzjCf0F3ZnfaodsKdEZ05AQEEEEAAAQQQQCAaAWe4M/xg9oVrF6rAxju62cUqu7NxY7I7o2HmHAQQQAABBBBAIHUFYgp3hsru9OcESan70GgZAggggAACCCCQsgLRhzu/XfetFHK3dbUt/Dx3Z52UfWI0DAEEEEAAAQQQ8JmAHe40mZuqXfTZnczd6bOHSXUQQAABBBBAAIGkF3CGOzV3Z5h5lhauC2R35mzdJbuTuTuT/g2gAQgggAACCCCAQDUF4pLdyWD2aj4FLkcAAQQQQAABBBAwAtFnd5pwZ4PiXcKdzN3Ji4QAAggggAACCKS7gDfcmV851XsQGVZmD4LCLgQQQAABBBBAAIH4CTjDnStWWK1aBS96a8nWZYXLdCy76LdwJ0sVBcdiLwIIIIAAAgggkFYCdrjTHsO+994hAVxzd9pLFTF3Z0gyDiCAAAIIIIAAAgjEImCHO9U7LSuzQnVNf/zlx3KrvEFG4/Itze3iWaooFmnORQABBBBAAAEEUlTAO3dnqD6lAMjuTNG3gGYhgAACCCCAAAJ+EXBmd6pOXboEr9iSwiU60LJep9KSDPsMPy9VlBm8HexFAAEEEEAAAQQQiLeAHe5cvbqy6HbtQt4j1MrszN0ZkowDCCCAAAIIIIAAArEIOMOd+ta+xx7BL1Z2pw7k1+tojzfSrwp3slRRcC/2IoAAAggggAAC6SNghzuXBeY+CmyZoT89k92ZPi8GLUUAAQQQQAABBGpFwBnu7NzZqlMneC1MuLN1dieFOO3Nzu4sLw9+VS3uDd3FrsVKcWsEEEAAAQQQQCAVBexw58aNkZvnzO5UJ7K0tPIS/WD/HLkUzkAAAQQQQAABBBBAIISAM9wZZpIlM5h994ad7OxOTfSpa7UyuzYfzixPuDPEA2c3AggggAACCCAQbwE73Nm3b6Do/v3D3cCZ3en8kK5rfNinDNeSeBz76KOPBg0a1KZNm4yMjFdeecUu8pxzztEeezvuuOPsQxs2bDjzzDMbNWrUpEmT4cOHFxcX24fmzp17+OGHZ2dnt2vX7p///KezgpMmTeratasO7bvvvm+99VY86k4ZCCCAAAIIIICATwXscGd+vtWrV8hKmuzO3Rt2tDul5ofGjQOX+LBrSrgz5LPkAAIIIIAAAgggEF8BO9w5caI1Zoz1/PPhijfZnaYr6Qp3puH0nZs3b+7Zs+dDDz3kJVOIc9Wv23PPPWefoFjn/Pnz33333TfeeEPR0gsuuMAc2rRp07HHHtuhQ4cvvvji7rvvHjVq1Pjx482hzz777IwzzlBs9KuvvjqpYps3b573juxBAAEEEEAAAQRSQ8AOd955p3XTTcHbVF5ebsKd7fN+y+40vVPN3anNh13TEIPygzeQvQgggAACCCCAAAJVF7DDnbvvbl13XYRyTHanGTFkhzszMiwNbPdhnzJCY6p9eGDFFrSY+vXrt2rVynVo4cKF77zzzqxZsw466CAdeuCBB44//vh77rlH+aHPPvvsjh07nnzyyXr16u2zzz5z5swZN26cCYbed999Cp5ec801uuS2225TqPTBBx989NFHg96XnQgggAACCCCAQLIL2OFOdTJDbeu2rNtSskVH2+Z1cGV3ZmcHpvv0YdeU7M5QT5P9CCCAAAIIIIBAnAXscGc05QbN7vTtJ/RoWlRD53zwwQctW7bce++9//rXv65fv97cZfr06RrDbmKd2tOvX7/MzMyZM2fqZx3q27evYp3mzAEDBixatOiXX34xh3SmXU8d0sk1VG2KRQABBBBAAAEEal3ADneGqcnyjct1tFVuq9zs+vbcneYHfZ5v0MCP4U6yO8M8UA4hgAACCCCAAALxFIgp3OnM7jQdSn08b9jQ2rTJjxMkxZMplrKUjHnyySd37Njxhx9+uPHGG5UBqgBlVlbW6tWrFQO1S6pTp06zZs20U3v0p863D+VrqqqKnU2bNtWf5ldzVD+bS1w12l6xmZ0aGq8fyio212mJ/FV310Cz2q1DItsb8V6AuIgA8b4zmGDiFXDu4Q3hXyPh3xAdTY2XRNmamZkZ6keEae+ywmU62r5R+6ysspKSypMrukKZ2tOgQcbmzeqEBApIsEmYng/hzjAPlEMIIIAAAggggEA8BaoQ7nTO3akAqEYMafPhiKF4MsVS1p/+9CdzulYW2m+//fbcc08lex5zzDGxlBHzuXfeeefo0aOdl61du3Zbrc7Sr+7+xo0bFfFUEmvM7UnFCwBxPVVAvK85Jph4BZx7eEP410j4N0RHU+MlKSxssHNndkFBYJhLqG3BigU61KJ+i6Ki9du371ZQUKBfV6/W9+Xm69YV1KvXYtWqwoKCksSbFBUVhaoz4c5QMuxHAAEEEEAAAQTiLBBTuNMMtnbO3WmGC6lOhDuDPphOnTo1b9588eLFCndqNk/TFzdnlpaWaqF2M8Wn/lyzZo1dgvk51CHvrKC68IYbbrjyyitNCcru1PLuLVq00BLwQWuVmJ36Ly4tT69qEO404IC4XjxAvH8TMcHEK+DcwxvCv0bCvyE6mhovSU6ORqNnOMfEeBteWF6onZ1bdm7VarfS0sqTCwstdU11YU5ORnZ2UzOoJsEm2SYRwFtjyyLcGUyFfQgggAACCCCAQA0IxBTuNIPZXdmdmh1JG+HOoA/n559/1tydrVu31tHevXsXFhZq7fVevXrp1/fff1/970MOOcQcuummm0pKSupWEGs9Is37qZHs5tDUqVMvv/xyU74OqRzvvbQ4kjbnfgUZaz3OqHCnH6rh5aqtPYC45AHxvoqYYOIVcO7hDeFfI+HfEB1NgZdEg9A1XZLGs4dp7M+bftbRDo07ZGdn6ku8Wq11jdStVU9KF6p3un27OiGVBSTSJEzvi9EuYR4ohxBAAAEEEEAAgXgKxBTutLM7tRS7CXra2Z21Omw6niDRl1VcXKwl1LXpkiVLluiH5cuXa6dWUZ8xY8bSpUsVphwyZEjnzp21vpDO6datm6b1PP/88z///PNPP/30b3/7m4a9a1l2HRo6dKjWKRo+fPj8+fNfeOEFrcZup2pedtllWs997Nix33777ahRo2bPnq0Lo68kZyKAAAIIIIAAAsklEP1SRe0atzMf402HVnFP86s/lyoi3Jlc7yG1RQABBBBAAIEkFogp3Gl6kGqtrjJD2hUATdvsTkUeD6jYBKLopH4YOXKkpoyaO3fu4MGDu3TpovClEjk//vhjO+/y2Wef7dq1qwa2H3/88Ycddtj48ePNq9O4ceMpU6YoZqrzr7rqKpVzwQUXmEN9+vSZOHGizuzZs+eLL774yiuv9OjRI4lfOKqOAAIIIIAAAgiEFYgm3PnTpp9URvvG7U3v1J5qyXybV+/Uh1/iGcwe9rFzEAEEEEAAAQQQiJ9ATOFO04PUzTUdvJ3dmbZLFR155JFah8f7KCZPnuzdafZoKXbFLoMe1aJGCowGPfTHii3oIXYigAACCCCAAAIpJhAx3FlaVrqyaKVa3a5Ru3oVfTF7qiU/Z3cS7kyxF5XmIIAAAggggIB/BWIKd9rZnbvvbp17bqBR9mD2dev820ZqhgACCCCAAAIIIJAsAhHDnWuK15SVl9XJrJOfm799W6BZr75qtW2rWTsrB7PrY7wPp5VnMHuyvIHUEwEEEEAAAQSSXqBq4U41+6mnAm23w5033GC99FLSa9AABBBAAAEEEEAAgdoViBjuXFW8SjXMz8nPzMg0Y480eEYRT+V42tmdr79uffJJ7bbDfXfCnW4RfkcAAQQQQAABBGpIIKZwp76ZZ2XtUhH1KYuLK/e8/34N1ZFiEUAAAQQQQAABBNJFIGK4c3Xxalm0ym2lP9U11ZrsGzZYRUWBmeXtcOcHH1j/+pe/xAh3+ut5UBsEEEAAAQQQSGGBmMKdcrCn7zQm+nXQoEoeM4lnClvRNAQQQAABBBBAAIGaFogY7lxVFMjubJ3X2tRE3dFffrE2bQpkd5qe6hlnWPvsY7VpU9M1ja18wp2xeXE2AggggAACCCBQZYFYw5329J3mjvr1nHOsq64K/GbWxKxyTbgQAQQQQAABBBBAAIGI4c7K7M6cQHanNnVHld1pwp2mp3rUUdZJJ/mua0q4k3cbAQQQQAABBBBIkECs4U5XdqfpUzZpEqjt9u0JqjO3QQABBBBAAAEEEEhVgWjDnRWD2bWpd1pYuEu40+z0W9eUcGeqvrG0CwEEEEAAAQR8JxBruNOb3akmmRgo2Z2+e7pUCAEEEEAAAQQQSDaBiOFOs1SRPZhdvdOyskC40567Uy1W79RvXVPCncn2JlJfBBBAAAEEEEhagVjDnUGzO+vXD7Tfb33KpH0mVBwBBBBAAAEEEEhfgYjhTudSRWIyvVPnYHbtVO/Ub11Twp3p+07TcgQQQAABBBBIsECs4U5XdqfpX5o//TZiKMGS3A4BBBBAAAEEEECg+gIRw52V2Z25lUsVmd6pc6ki1UG9U791TQl3Vv/doAQEEEAAAQQQQCAqgVjDnXXq7FKs6V8ymD0qa05CAAEEEEAAAQQQiCQQPtxZXl4eNLuzqCgQ37Q/zDOYPRIzxxFAAAEEEEAAgdQViDXcWVKyi4XpUzKYPXVfEFqGAAIIIIAAAggkVCB8uHPT9k3bSrepQq1+XarIDnH+8stv4U4Gsyf0mXEzBBBAAAEEEEDAVwKlpYHquHI2w9TQNQuSM7vTbyOGwrSCQwgggAACCCCAAAL+FFDvNEzXdM3mNap2Xr28BnUbmPrbM8uvW7dLdqffuqYMZvfn+0atEEAAAQQQQCAFBUy2pmtGzjDtdHUcneHOrVutuXMDK2OyIYAAAggggAACCCBQNQH1TsN0TQs2F6jY/Nx8u3CdnJ1t5eZa69czmL1q5FyFAAIIIIAAAgikloDJ7gzTp3Q1d1tg8NBvm/mcbgazf/65dcABmePG5aaWEK1BAAEEEEAAAQQQSJyAeqdhuqYm3Nkyp6VdIXVHFets1CgQ7rQzPdU71Uf6Z5+1XnopcTUPfyeyO8P7cBQBBBBAAAEEEIibgMnuDDNiyHWnMNmd5syxYwl3xu3pUBACCCCAAAIIIJBuAuqdhumaesOdio3m5VWGO+04qVmqaNo06913M3wCuOt6nz6pFNVAAAEEEEAAAQRSUSDW7M6I4c5URKJNCCCAAAIIIIAAAgkSiCq7s6E7u7NBA2vVKvdgdk21tGVLgqod8TZkd0Yk4gQEEEAAAQQQQCA+ArFmd7ruaj6hm8Hs8akQpSCAAAIIIIAAAgiksUCVszvXrt1lZXZ9pNcsTNrpky3m7M7PP/98ypQpWVlZJ5xwwn777eeTZlANBBBAAAEEEEDA/wKxZne6WtSrV2CHPU2S/9tLDRFAAAEEEEAAAQT8LBBVdqdj7k59fdfcnfpHwc3DDqtsmRnMruzOZA13Pvfcc2efffbOnTvVoNGjR7/++uv9+/f382OjbggggAACCCCAgH8EqpndOWhQoCmEO/3zQKkJAggggAACCCCQ1AKxZneqI6q5O/VPhw7WCSdUNt0OdxYEFnL3xRbbYHaFOA899NAVK1YsX758//33v+2223zRCCqBAAIIIIAAAggkg4AJd4ZZ/jJMI265pXIieddg9orP0GwIIIAAAggggAACCMQsULXszqOPtm6/3crKqrydWZld2Z2FhRk7dsRch5q4IIbB7CUlJYsXL1aIs3Xr1qrKiBEjLr300pqoE2UigAACCCCAAAIpKWAGs4dZ/jJUq+fPt7p1qzzoyu7csMHKzw91HfsRQAABBBBAAAEEEAgpoI/xYb7Ee1dmV0c0O9v68593KdDO7tTeDRsy27YNebuEHYghu3PTpk1lZWW77babqZx+KCwsjKaijzzyiGb5bFSx9e7d++233zZXbdu27ZJLLlE5ubm5p5xyypo1a6IpjXMQQAABBBBAAIEkFYg1u/PwwwMNPekkq3t3KyOjstGucKd/Bg0l6UOh2ggggAACCCCAQNoKhBnMXrKzZP3W9ZJp6Zi7s107q1Mnt5Z6p+XlVlFRYP+6dTFEGt0Fxe/3mCuRYfe1o65E27Ztx4wZ88UXX8yePfvoo48eMmTIfKUoWNYVV1yh2T8nTZr04Ycfrly58uSTT466SE5EAAEEEEAAAQSSTyDW7M6XXrIeecR6+uldWuoazE64M/neA2qMAAIIIIAAAgj4QyDMYPZ1W9apjpkZmc0aNLMrO3Kkonnuqpve6caNgf0+CXdGHsxuL79uVij6y1/+kpOTowYUFxe72xfi90FmXv2Ko3fccYeSPWfMmKEY6BNPPDFx4kQFQLX/qaee6tatm/ZrbtAQxbAbAQQQQAABBBBIboFYsztbtLAuusjdZFd2p39WwHRXlN8RQAABBBBAAAEE/C0QJrvTjGRv3rB5Vuavk3SGaIvpnSrcmZNTvn59zImVIUqt1u7I4c5mzZrZGZ0tW7a076ZB6B20DlMsmwKmyuXcvHmzhrQr2VOTgfbr188U0LVr1/bt20+fPp1wZyyinIsAAggggAACySQQa3Zn0LYR7gzKwk4EEEAAAQQQQACBWAXCZHeacGd+TuRJ4k3vVOtnKkyYNNmdH3zwQaxY3vO/+eYbhTg1Waem6Xz55Ze7d+8+Z86cevXqNWnSxD45Pz9/9erV3mu3V2xmv+YP1Q+aQlSb98yE7dHdy8vLa7cOCWtsNDcCxKUEiPe1wQQTr4BzD28I/xoJ/4boaGq8JCUlmoAzIyurWp2IzEwrMzOjrKxyLk9Nfl6t4iLS/3pCYu4SdXU4EQEEEEAAAQQQQKC6AhGzO50Td4a6mb3YUfv2VtJkd4ZqTEz79957b8U3N27c+OKLLw4bNkyTdUZ/+Z133jl69Gjn+WvXrlXkNPoS4n6muvtqiyKemfoPDraK/wQFxPkiAOL9a4EJJl4B/taEMeGvjBcnNUy2b29uWXWKi38pKCjxtjH6PRkZlZ/ZDzusuG3bHQUFO6K/tspnFpn556t8PRcigAACCCCAAAII+EwgYnZnNOFOrfJjFme/447yevU2W1bDWm9l5MHs//73v8PU8uyzzw5z1D6kRM7OnTvr1169es2aNeu+++47/fTTd+zYobXd7QRPrczeqlUrb2k33HDDlVdeafYru7Ndu3YtWrTQIu/eMxO2R//FpQH+qgbhTmMOiOvdA8T7lxETTLwCzj28IfxrJPwboqOp8ZKYlMwWLZo65geK2PQgJ9ijXP797yL1jBLTIcnOzg5SFXYhgAACCCCAAAIIJK1AXLI71XoT7tSi7du2lfsBI3K485xzzlFoT5mM3upqf5ThTue1+s8VDU5X3LNu3bpTp0495ZRTdHTRokXLly/XgHfvXepXbM796tMnplvvrYy9R233QzXC1DDBhwBxgQPifQMxwcQr4NzDG8K/RsK/ITqaAi+Jmbuzfv3qdmTsfll2duI6JNWtdMQHzAkIIIAAAggggAACiRWIS3anqqy4nVY0b9BA4c7ENiDE3SKHO3XhvffeO2TIkBAlRN6t9MyBAwdqJSKNgdJS7JoMdPLkyY0bNx4+fLjSNrUUklI1L730UsU6WacosiZnIIAAAggggEDSCpiV2etE1f+KqpEaOsSGAAIIIIAAAggggEDVBNQ7tWfedJVQsKVAe6IZzK7TlN2ZlRWyqKrVrTpXRdXdbt68eayLsDvrVFBQoCTQVatWKcS53377KdbZv39/naAoqtIElN2pZM8BAwY8/PDD1WkJ1yKAAAIIIIAAAj4XMOHOUH1Kn1ee6iGAAAIIIIAAAgikmICyO0N9iTcrs0cf7lRqp3+2qMKdGjtWnRo/8cQTQS/XDFAPVWxBj7ITAQQQQAABBBBIMQEzmD1UnzLFGktzEEAAAQQQQAABBHwuEC67c3MM2Z0azJ584c7bb79dIUtNoJmbm6vVhLp163b00Ud36dLF58+M6iGAAAIIIIAAAr4SILvTV4+DyiCAAAIIIIAAAmkuEGqpIi3hs6Z4jXBSNruzb9++yu7UeHPNvLl48eLVq1frB+0544wznn766TrkJ6T53wyajwACCCCAAAJRC5DdGTUVJyKAAAIIIIAAAgjUrIBWv9y5M/iEm5tLNm8t3arbt2jYIppKaO7OJMvu1MpCroatWLHiueee0wJEXbt2vfnmm6NpNucggAACCCCAAAJpLqDepFlRnbk70/xNoPkIIIAAAggggIAfBMJ8iV9dvFo1zKmbk1c/L5qqajB7WVk0JybonMwq3Gf33Xe/+uqrta76f/7znypcziUIIIAAAggggEAaCpgOpRrO2Jg0fPo0GQEEEEAAAQQQ8JuA6Z0G/RK/smilatsmr02UdU6+7M5QDbv11lt/+OGHUEfZjwACCCCAAAIIIOAUMBN3ak/QPiVWCCCAAAIIIIAAAggkUsD0ToN+iTfhztZ5raOsj8KdWVlRnpuI06JamT1oRVpWbEEPsRMBBBBAAAEEEEDAJWBndxLu5N1AAAEEEEAAAQQQqHWBMNmdq4pWqXrRZ3dqMLuZtanWG2UqEDnced5554WqqxYs0ortoY6yHwEEEEAAAQQQQMAWsLM7g35CBwoBBBBAAAEEEEAAgUQKmN5p0C/xlYPZc2MYzJ5Zlfkya6q5kcOd77//vsKaQe8fan/Qk9mJAAIIIIAAAgiks4DpUGqYT4iOVTrb0HYEEEAAAQQQQACBRAuEWapoZXFg7s6YBrMHDZsmukm/3i9yuHPp0qW1VTnuiwACCCCAAAIIpIxAmA5lyrSRhiCAAAIIIIAAAggki4A+xislM2hWZhUGs2v6Tv9ssWWalpeX33PPPf369RswYMCjjz7qn2ZQEwQQQAABBBBAwOcCYYYL+bzmVA8BBBBAAAEEEEAg9QT0MT7UJEvJvjJ7bOHOkSNHXnvttT/99NOSJUsuueSSBx54IPUeNi1CAAEEEEAAAQRqQiCO2Z2nnx6o4EUXlddEPSkTAQQQQAABBBBAIB0E9DE+1Aj0VcWBpYpa50a7Mvv++1v6xz9bbOHOCRMmnHvuuYsWLfruu++GDh06fvx4/7SEmiCAAAIIIIAAAn4WiGN255NPWu+8Y40bR7jTzw+cuiGAAAIIIIAAAr4WUO80aHZn8Y7iTds3qerRr8x+8cXWuef6qLExhDu3bNlSUFDwhz/8wVT/5JNPVo6nj5pCVRBAAAEEEEAAAR8LxDG7s2FDa8AAq359H7eWqiGAAAIIIIAAAgj4W0C906DZnWbizpy6OXn18/zdgpC1iyHcuXXrVhXTUP3rik0/mD0hy+YAAggggAACCCCAwK8CcczuBBUBBBBAAAEEEEAAgWoKhBrMbkayR5/aaVcjY9So7FdftTZvrmbFqn955JXZN2zYYG5jfigqKjI/bNoUyGtlQwABBBBAAAEEEIhGII7ZndHcjnMQQAABBBBAAAEEEAgjEGqpoljXKaq8xZo1Gbfd1sSyyk480cqr5bTQyOHO5s2bZ2Rk2Doawx5GikMIIIAAAggggAACQQXI7gzKwk4EEEAAAQQQQACBWhEIld1pwp2t86Jdp6iy8ppa3rJK9t03q3WMF9ZA4yOHO7UauzPcWQN1oEgEEEAAAQQQQCD1BUx2Z9AJklK/8bQQAQQQQAABBBBAwGcCobI7zdydbXLbxFbft97S+duPOaZyEszYLo7z2ZHDnaNGjYrzPSkOAQQQQAABBBBIPwGT3Rl0+cv0w4i5xR999NHdd9/9xRdfrFq16uWXXz7ppJNURElJyc033/zWW2/9+OOPjRs37tev35gxY9q0qeya77HHHsuWLbPvdOedd15//fXm17lz515yySWzZs1q0aLFpZdeeu2119qnTZo06ZZbblm6dOlee+111113HX/88THXlQsQQAABBBBAAIFkEAiZ3Vm8UtWPbe5OhU4nT9ZVPgl3xrBUUXl5+dqKTT8kw1OjjggggAACCCCAgI8EGMxenYexefPmnj17PvTQQ85CtmzZ8uWXXyo6qT//7//+b9GiRYMHD3aecOuttyo8ajaFNc0hTUB/7LHHdujQQcFThVD1aX/8+PHm0GeffXbGGWcMHz78q6++UkRV27x586pTba5FAAEEEEAAAQR8KxA+uzO2wezTp1sbN5Y3a1ZywAF+aG+Q7M6dO3e+//77vXv3zs3NNVVcvHjxjTfe+M4776ijqT05OTn60H377bd37tzZD22gDggggAACCCCAgP8FWKqoOs9oYMXmKkEZne+++66988EHHzz44IOXL1/evn17szMvL69Vq1auq5599tkdO3Y8+eST9erV22effebMmTNu3Lh/m3VlAAAgAElEQVQLLrhAp913333HHXfcNddco59vu+02Fa4yH3300erUnGsRQAABBBBAAAF/CoTM7iyKPbvz7bcDbRwwwMrK8kNjg4Q7NXhH/TxFPI844ghVcf78+b///e+3bt2qr+XdunXTnoULF77yyitTpkz55JNPunfv7odmUAcEEEAAAQQQQMDnAmR31vQD2rhxo2acb9JEK4JWbhrbrqilop9Dhw694oor6lRMJTB9+vS+ffsq1mlOGjBggAat//LLL02bNtWhK6+80r5ch9Tp9VZ7e8Vm9itXVD+UVWzeMxO2R3fXAKzarUPCGhvNjQBxKQHifW0wwcQr4NzDG8K/RsK/ITqaAi/Jjh1WnToZ6kS4GmuWKmqV0yr6rkXGW29plfOy445LZIckTPWChDu1FLsqpxxP01pNctSwYcPZs2c7czl/+OGHww8//IYbbnj11VcjvgGcgAACCCCAAAIIIEB2Z42+A9u2bbvuuus0FL1Ro0bmRiNGjDjwwAObNWumIerqtWpIu7I4dWj16tUdO3a0K5Ofn292KtypQ+ZXc1Q/a4+32poGdPTo0c79mu5JFfCembA96u4r2qs+fGZmDHNVJax6ib8RIC5zQLwvISaYeAWce3hD+NdI+DdER1PgJVm/Pru8vGFBwQZnYzeXbC7aUaQ9dbbWKSgoiOigEzJXrWr59dflGRlrDzywsLAwYR2SoqJAPYNuQcKdGhakz92aC8lc8PHHH2tEj2vc+p577nnxxRePHTs2aKHsRAABBBBAAAEEEHAJkN1Zc6+E1iw67bTT1Ld+5JFH7LvYeZr77befOrcXXnihwpT169evfjUUPLULV3Znu3bttOSRHWatfvlVKEH/xaXMVlWDcKfRA8T1FgHi/WuFCSZeAece3hD+NRL+DdHRFHhJGjTQfJUZLVu2dDb2+/Xf69fcermd2naKiFB5wmuvBX445JDmXbtq2Z+EdUiys7ND1TBIuFOndu3aVYPZTzzxRP2s7mPQ6xs0aKBDocplPwIIIIAAAggggIBTgOzOGnofTKxTi7Cr+xoq5njIIYeUlpZqyqa9995bs3muWbPGroz52Uzx6T3knfpTFypm6gqbKshY63FGhTv9UI0aespVKBYQFxog3rcIE0y8As49vCH8ayT8G6Kjyf6SaCYezfSTmalh6L9tqzcHhra0zm0dQ9/mnXcCGgMH6pJEmoSpYfDRLpreSN/Gldep6h500EETJkxQMqqz8Ros8/jjj2t8kHMnPyOAAAIIIIAAAgiEEiC7M5RMdfabWOf333//3nvv7bbbbqGK0npE6hCb5AUtyPnRRx/Zn+21HpFioBrJrmt1aOrUqXYhOqQ9ocpkPwIIIIAAAgggkNQCQZcqWlW8So1qk9cm2qZpBlCzdOTxx0d7Sc2fFzy7U8Nz3nzzTc3OfvXVV2sRdg3YUS/wvPPO05+q0qJFi5555pn169c7hwvVfFW5AwIIIIAAAgggkMQCZHdW5+EVFxcvXrzYlLBkyRKFLzUpZ+vWrU899dQvv/zyjTfe0LzzZp5N7dfQdS06NHPmzKOOOkqLs+tnrVN01llnmZimvutr5s3hw4drrs958+ZpNfZ7773XlHzZZZdprU7N13TCCSc8//zzmrx+/Pjx1ak21yKAAAIIIIAAAr4VUO+0Yh3HXTazTlEM4c5PPrGKiy2NiPdTTqSnWRVt1LKV+pqttSzV/9M6ldqj+de1ZqUNoJTPiRMnHnnkkbua8BsCCCCAAAIIIIBAcAGyO4O7RLdXkUfFLs25Zt7MYcOGjRo16rWKuaL2339/u5hp06apj6rB5opX6gQtoa6FiRTutGfb1Dz1U6ZMueSSS3r16qUlOkeOHHnBBReYy/v06aMu7s0333zjjTfutddeWpa9R48e0VWQsxBAAAEEEEAAgSQTCJrdacKdGswebWPeeitw5sCBGhWvCU2jvaqGzwse7tRN9VVcnb+bbrpJuZxK5NQMrNqpEfiaslNdRnUNa7hiFI8AAggggAACCKSUANmd1XmcimBqJSJvCUF36jTNuTRjxgzv+WaPFi8yszZ5T/hjxebdzx4EEEAAAQQQQCDFBIJmd8Y8mN2EO/00kl2PKWS40zzCrKys7t27p9jjpDkIIIAAAggggEDiBcjuTLw5d0QAAQQQQAABBBAIJRAmuzPawexLl1oLF1pZWVb//qHuUiv7I4Q7VSdN5R6mZn379g1zlEMIIIAAAggggAACRoBwJ28CAggggAACCCCAgH8ElN1Zt667OquKAksVtc6LbjD7228Hru/Tx6pY9dE/W+Rwp4YOaQy7amzGCpmfza/6WbPC+6cx1AQBBBBAAAEEEPCtAIPZfftoqBgCCCCAAAIIIJCGAvoYX92linw5kl2PMnK4s2XLlgUFBVqffcSIEZr0PQ0fP01GAAEEEEAAAQSqL0B2Z/UNKQEBBBBAAAEEEEAgXgLewezFO4qLdhSp/KiWKtq2zZo6NVAZn03cqRpFDnf+8MMP99xzz7hx47755ptbb7317LPPthM84+VLOQgggAACCCCAQMoLkN2Z8o+YBiKAAAIIIIAAAkkk4F2qyIxkz62Xm1c/L3JDZs+2tm61Wra09t038smJPSMz4u1ycnL+/ve/K+g5ZMiQCy+8sGfPnm+++WbEqzgBAQQQQAABBBBAwClAdifvAwIIIIAAAggggIB/BLzZnSuLVqp60a5T9PHHgbYcfrhVMQemr7bI4U5T3ebNm99///0LFy7s0aPH4MGDjzjiiJkzZ/qqJVQGAQQQQAABBBDws4AJd3onSPJznakbAggggAACCCCAQKoKeOfuNOHOqEayC8UOd/oPKNpwp6l5x44dJ06c+MUXXzRo0KBPnz6nnHKK/1pEjRBAAAEEEEAAAT8K/PRToFb5+X6sG3VCAAEEEEAAAQQQSDeBFSusVq12afSq4sCy7FFld2rp8k8/DVys7E7/bZHn7szMzPRO1mlWaX/llVf81yJqhAACCCCAAAII+FFgwYJArbp392PdqBMCCCCAAAIIIIBAugmod3rppbs0OobB7PPmWZs2Wbm51n77+dAtcrhz5MiR3nCnD1tClRBAAAEEEEAAAd8KaBr3JUsCtSPc6dtnRMUQQAABBBBAAIH0EVDv9Mcf3V1Tk90Z1WB2M5K9Tx/Ll1M1RQ53jho1Kn0eNi1FAAEEEEAAAQRqQuC776yyMqtZs8DalWwIIIAAAggggAACCNSugHqnSs1s02aXWsSQ3enjiTvVpMjhTrvdGsC+du1a/dqiRQvyPWv3peTuCCCAAAIIIJBcAmYke7duPly4MrkgqS0CCCCAAAIIIIBAHATUO9WoI9ea6tGGO8vL/bxOkXSiWqpowYIFp556aqNGjVpXbPpBv87TKH02BBBAAAEEEEAAgSgEFi4MnMRI9iioOAUBBBBAAAEEEECgxgUU7tSXeNe2qiiwVFHrvNbuA67f1bVdtcqqV886+OAIZ9bS4cjZnR9//PHAgQPLysqGDBnSpUsX1XPRokWvvfba22+//c477xzuywWYagmT2yKAAAIIIIAAAsEFFi8O7K/oSbEhgAACCCCAAAIIIFDLAuqduhYZKtpeVLSjSNWKPHfnq68Gan/MMVaDBrXcjBC3jxzuvOKKK1q2bPnhhx+2a9fOLuSnn37q27fvlVdeOWvWrBAlsxsBBBBAAAEEEECgUsCsU9SxIyAIIIAAAggggAACCNS+gHqnQ4bsUg2zTlFuvdy8+nkR6mfCna7rI1yT0MORB7PPnz//4osvdsY6VUH9+te//lWHElpZboYAAggggAACCCSnwNKlgXrvsUdy1p5aI4AAAggggAACCKSWgHqnrq6pGcneJm/X1Yu8rV692po5M7B70CDvQZ/siRzu7NChw/bt273V3bFjhysG6j2HPQgggAACCCCAAAJbt1rqFmoj3MnLgAACCCCAAAIIIFDrAuqdrlljuQYeRbtO0euvB+r/u9+5l3Wv9VY5KhA53Dly5Mj7779/zpw5zmp/9dVXDzzwwKhRo/zUFuqCAAIIIIAAAgj4UWDZskCt8vKsZs38WD3qhAACCCCAAAIIIJBWAkrtzM62WrbcpdFmMHu0E3f6eCS7WhV57s4ZM2bk5+f36tWrT58+nTt31jXff//99OnTe/TooT+1GZuMjIz77rsvrV4OGosAAggggAACCEQjYI9kz8iI5nTOQQABBBBAAAEEEECgBgXMSHZX1zSq7M7iYuu99wI1S/Zw54MPPmiAP63YbOxvKjb7V8KdNfgaUjQCCCCAAAIIJLMAE3cm89Oj7ggggAACCCCAQKoJqHfqXUIzqnDnu+9amvGyUydrn338jBI5u7OsrMzPDaBuCCCAAAIIIICAzwVYlt3nD4jqIYAAAggggAACaSXgXadIzY9qMLtZk33wYMvfo5Yiz92ZVs+bxiKAAAIIIIAAAnEXWLQoUOSee8a9YApEAAEEEEAAAQQQQCBmAfVOK6ar3GWLnN1ZWmq98UbgGn+PZFcFCXe6ny6/I4AAAggggAAC8RWYNy9QXo8e8S2V0hBAAAEEEEAAAQQQqIqAeqferqkJd7bOax2yxM8+s9avDyy+edhhIc/xx4HIg9mzsrJCVVXzdZYqssuGAAIIIIAAAgggEEJgyxbrxx8Dx7x9yhBXsBsBBBBAAAEEEEAAgZoSML1TV9e0eEex/tEtw63M/tprgTqdcIJVJ3I4saZqH125ketXXl7ev3//Ll26RFcgZyGAAAIIIIAAAgj8JrBwoVVebjVvbrVsCQsCCCCAAAIIIIAAArUsoN5p48ZW612TOJdvXK5qNa7fOK9+XvD6qUdrT9wZ/Awf7Y0c7lRlhw0bNnToUB/VmqoggAACCCCAAAJJIjB/fqCi/l67MkkoqSYCCCCAAAIIIIBAtQXUO1Vqp2upoWWFy1RwhyYdQhav5Y0WL7bq1rUGDAh5jm8OMHenbx4FFUEAAQQQQACBVBT46qtAqxjJnorPljYhgAACCCCAAALJJzB3bpAv8Sa7s0Pj0OHOGTMCTT3gACsvRPqnnyQId/rpaVAXBBBAAAEEEEgtgW3brGefDTTpqKNSq2G0BgEEEEAAAQQQQCAJBUpKrOeftwYOdFd92cZAdmf7xu3dB+zfTbjz0ENDnuCnA1GFO7UkkZ/qTF0QQAABBBBAAIHkEJg0yVq71mrb1hoyJDkqTC0RQAABBBBAAAEEUlhA029qPPqJJ7qbGG12Z5KEO6Oau/Oee+557rnn3BKWxvlnvGqmKfUeYw8CCCCAAAIIIJD2Ah99FCA46yz/L1+Z9o8KAAQQQAABBBBAIA0EJk+2Tj/dyspyNzVCdqeGLJkZmlIm3Nm+ffsNFZtboiLc6d3JHgQQQAABBBBAAAEjsHFj4H/btMEDAQQQQAABBBBAAIHaFygstLp1C1KNCEsVffmlpWHwLVtae+wR5GL/7Yqc3blUSy+xIYAAAggggAACCMQusGlT4JrGjWO/kisQQAABBBBAAAEEEIi3gHqnjRq5Cy0tK11RtEJ7Qy5VZE/cmSSJj1HN3elm4HcEEEAAAQQQQACBKARMdqe3TxnFpZyCAAIIIIAAAggggECcBdQ79X6JX7FpRVl5Wb2sevm5+cHvl1TrFKkJhDuDP0f2IoAAAggggAAC1Rcgu7P6hpSAAAIIIIAAAgggEC+BoNmdZp2ido3aZWaEiBNOnx6oQO/e8apGTZcTohk1fVvKRwABBBBAAAEE0kCA7M40eMg0EQEEEEAAAQQQSBqBoNmdEdYpWrXK+vlnLeBjHXRQsrSTcGeyPCnqiQACCCCAAALJJ0B2Z/I9M2qMAAIIIIAAAgikrkDQ7M4I6xTNnRvw6NLFys1NFpjISxUlS0uoJwIIIIAAAggg4CuBnTutoqJAjZi7034u27Zte+mll7788suNGzeWlZXZ+zMyMp544glfPT4qgwACCCCAAAIIpJiAeqfFxUHm7jSD2UOuU2TCnfvtl0QahDuT6GFRVQQQQAABBBBIJgET61SNvfPBJ1Mz4lfXZcuWHXXUUUuXLm3SpInCnc2aNSssLNy5c2fz5s1zkydZIH4elIQAAggggAACCCRUwPROvV3TCIPZTbizZ8+E1rV6N2Mwe/X8uBoBBBBAAAEEEAghYEay16tn1a8f4ow0233NNdcoyjljxozvvvuuvLz8hRdeKC4uvuuuuxo0aDB58uQ0w6C5CCCAAAIIIIBAogU0cWdmppWT475vhOzOr78OXJBi2Z2NQo+/0rAj9VndSPyOAAIIIIAAAgggYFmml+T9fp62Nu+///7FF1988MEHb9iwQQiKeNavX18x0IULF15++eVvvvlm2srQcAQQQAABBBBAIAEC6p0qyKc1h5ybumThsjt37LAWLgycn2LhTn11P/zwwzt16qSmbd++/fnnnz/22GNbt26dgMfALRBAAAEEEEAAgeQVYJ0i17PbsmXLHnvsoZ36mu78at67d++rr746eR80NUcAAQQQQAABBJJCIOg6RRu2bthSskX1b9e4XZBWLF5slZZaeXlW+/ZBjvp1V1Rzd1544YVDhw5VE9atW6dw57XXXnv00Uf7tUXUCwEEEEAAAQQQ8IWAye4MPU7GF5VMZCXat2//888/64516tTZfffdNar95JNP1q8LFizIzs5OZE24FwIIIIAAAgggkIYC6p16Bx6tLFopiuYNm2fXCdYfM6mdXbu6k0L9zRd57s7MzExNIW9aoQRX/TBz5kx/N4raIYAAAggggAACtS9AdqfrGeh7+auvvmp2nnPOOffee+/5558/fPjwhx56aNCgQbX/wKgBAggggAACCCCQ0gJBsztXFa9So1vnhhjG/e23AZJu3ZILJnJ2p769zzVrMFnWnDlz1Lxbbrll9uzZEyZM0HqaydVaaosAAggggAACCCRMgOxOF/X1118/a9YsTY6kKTtvvPHGlStXvvjii1lZWRpFNG7cuIQ9F26EAAIIIIAAAgikp0CY7M42eW2Cm9jZncEP+3Rv5HBnv3797r//fs21pODm448/3r179/Hjx5911ln77rvvM888o6M+bRnVQgABBBBAAAEEalWA7E4XvwazazM7NXpdHUtttfqIuDkCCCCAAAIIIJBGAkGzO81g9tZ5aZbdOWbMGH17f+yxx8rKyvbaa6///ve/+++//9dff62FNY877v/Zuw/wKIo+DOCTXkghpNEChN67FCkiXcRPBQsggoqgCEIABZEiYEFEQQQBUQRRFEWaFKlSpIlSAoQOgdBCQklIQnryvXMbLperCSSXK+88Pnx3s7O7M7/bD8f/TumagfVKmShAAQpQgAIUoAAFdAQ4ulOHhBkUoAAFKEABClCAAsUmoHd05/UEOZm9rJe+0Z1Y01KZzI61O60qmR7dGRgY+Oeff2LaUVJSknr2ure3948//ti9e3eraiwrSwEKUIACFKAABcwnwHCnlvWUKVMM6WOjdiyXZOgo8ylAAQpQgAIUoAAFHl4AvVPdXTSvJcqtivRPZscmk0lJ2GVSVKny8Hc35xVMhzuV2mCJJSStmr344ovmrCvvRQEKUIACFKAABaxI4JrsOooyBiYGWVFDCquqkyZNUl8K8U1lD0wlh+HOwkLmdShAAQpQgAIUoIAhAfRO27TRPmhsMrsytLNqVeHion2aZX83vTO7ZdeftaMABShAAQpQgAIWKnDxoqxYxYoWWj3zVyv2fjp16hRinStXrlTnxMTEGK/Prl27sHt72bJlERhdvXq1ujCuM3HixDJlynh4eGBN+bNnz6oP3b59+6WXXvLx8SlZsiT2f09MTFQfwj6cbdq0wfqhISEhn332meatly9fXrNmTRzCOvUbNmwwXisepQAFKEABClCAAlYkcOmSnq5pzmR2vVsVWec+RfhF8hXuRI9w4MCBTZo0qVq1auW8yYp+VFaVAhSgAAUoQAEKmFMAHUokhjvV5v4aCZkIRGrlGPl1sKpSgwYNvv76a60yCFZiU8358+f/888/JUqU6NKlS0pKilIGsc6IiIgtW7asW7cO0dJBgwYp+Xfv3u3cuXPFihUPHjw4ffp0jDnFPpzKob179/bu3Rux0cOHDz+jSsePHzdSKx6iAAUoQAEKUIACViSAl/FaXVO8Ob6eKNfuLOOlb0aSMrqzVi0raqNSVdPhzh07djRr1gzdRLxOv3DhAqKd+HDp0iUvL6/HHnvM6hrMClOAAhSgAAUoQIGiFvjtN7nG0a1b8j4MdxaK9hNPPPHRRx89++yzmldDB/3LL78cP378008/Xb9+/SVLlmCDTWXs58mTJzdu3Iid35s3b966devZs2cvW7YMR3H60qVL09LSvv/++zp16vTq1WvYsGEzZsxQLjtr1ixsxfnuu+/WqlXrww8/bNy48Zw5cwql/rwIBShAAQpQgAIUKEaBXbvEjh3i9m1RqVKeWtxOvp2WmYas0l6l9VTPakd3ml67E/ODEOLcv38/+oVBQUHvv/9++/bt8f4cnc5p06bpsWAWBShAAQpQgAIUsG8B9fLmJUsKX1/7tijK1kdGRkZHR2MOu3ITX19fBDf37duHICb+xBz2pk2bKodQxtHRET1YBExxqG3btq6ursohDAhFn/bOnTt+fn44NHLkSHWVcUhz4rw6H3t4IilfMVYUH7JUqSjbauLauDuCv8VbBxNVNO9hgmh5E0T3AaQJTXQFNHP4hPCvEeNPCI5a10MyfbpDZKQoUUKULIkOQ27jlJnsfu5+Lo4uuh0Jh1OnHNDSGjXQWpMg5jfRrbC6kqbDnYcOHZo8eTJmG6EXiNMyMzPxJ7qSb7zxBjbQRNAzPw1mGQpQgAIUoAAFKGCHAhzaqfmjo1epfI1XbVqPdTYRkVQXwFDKgj4hiHXilODgYPWJ+Kxk4k+8p1fnOzs7lypVSn0oNDRU8xR8xiGEO/Gn3qtpVWzq1KnoHmtmYhFS9ST6graiUMqjuw9VRDwR1S2UC1r7RQii9QsSRPeRpglNdAU0c/iE8K8R408IjlrXQxIeHnD5snP16umxsar5R/fT6aun8dHf3V93IXWH+Hj0q3A0tlSpbFPLrCvXM7NJQkKCZls0P5sOd6J36O3tjXPQH3VxcVG3H0M+T5w4Yei6zKcABShAAQpQgAL2KaDZ70qTc4OYcgQw1hIbDak53nrrLeUzgnTIV96pWwXW2LFj1YNAMboT+x0FBgZicEAxVh7/dQFDVIPhTuVXIIjW00gQ3f970oQmugKaOXxC+NeI8ScER63oIUHv9PJlR2fn7MqVnTXfB6MVabGyt1rWp6xWvmz+hQv4I7tcucAqVUxqKAXMbIK9JQ1VzHS4E9sTKXtcoguFfSpXrVqFdd9xufXr15curW9iv6FbMZ8CFKAABShAAQrYgUBERG4j7894toNm56OJixYtykepAhRR+qI3btzAzuzKafjcsGFDfMYhzUEKGRkZ2KhdKY8/UUx9G+WzoUN6u7tuqqRZUQQZiz3OiL66JVSjAL9fERcliBYwQXSfOJrQRFdAM4dPCP8aMf6E4Ki1PCQYrIhJL7VrO2DhTkfH3HfPaELsvVj8GewVrKcnc+aMbGPNmuhhmKRQFzCniZ4636+H6XBnt27dsJQ75uxgmCfeY7/66qvVqlXD6efPn0dm/hvMkhSgAAUoQAEKUMAeBI4dy2mlh4f49lt7aHF+29i/f//8Fs1fOcxJRzhy27ZtSogTAy2xOufgwYNxdsuWLePi4rD3epMmTfD1r7/+wnADLMekHBo3blx6ejrmLeErtm6vUaMGZrIrh3C1sLAw5f44hOvkry4sRQEKUIACFKAABSxUAL3TevXEuHFy7U6tdCNRvgMOKpG7BFBuAavdpwhNMB2gxQKd4eHhTk5OKI1OKra8rFu3boMGDRADHTNmjLYTv1OAAhSgAAUoQAH7FlBGd44aJe7dE+3b27eFgdZfv34d3cukpCQDx/VkJyYmHlElHMMORfgQFRWF4QMITWLH9j/++OPYsWP9+vUrW7bsM888gzLYWh17rA8cOPDAgQN79uwZOnQo9i/CURzq06cP9ikaMGBARETEr7/+it3Y1TPThw8fjv3cv/jii1OnTk2aNOm///7DiXpqwywKUIACFKAABShgPQLondatKx5/XDRrpl3pmKQYZAWXyF0JPbfEqVPyc61a2udYw3fT4U689/b390dvUmlO3759MZ/9999/f+WVV6yhgawjBShAAQpQgAIUMKvA9evydiEhZr2ptdxszZo1WBypfPny2JgIIzFR7Zs3bzZq1AjdS+NNQOQRxZBQDNFJfJg4cSI+jx49+u233x40aNAjjzyCkCiClepVnJYuXYp7dejQAXOVWrduvWDBAuUW2MB98+bNiJli4OeoUaNwHZyuHHr00Ud//vlnlMSrfXR3sS07XvMbrxiPUoACFKAABShAAQsXQO+0fHn9dbyRZJujO01PZtfvwVwKUIACFKAABShAAX0CsXIFJBEYqO+YfeetXbu2R48emB6O8ZUYO6lgBAQElCtXbvHixc8++6wRnnbt2mFHI90CeCU/RZV0D2ErdsQudfORU79+/b///lvvoedVSe8hZlKAAhSgAAUoQAFrFEDv1FDXNGd0p5fO6E6sQK/aqshKR3eaDne2NzwLC/1LLG9kjb8060wBClCAAhSgAAWKSEAJdwYEFNHlrfiyCEq2bdt2+/btt27dUoc70R4EQL/55hsrbhirTgEKUIACFKAABSxYwEi4UxndqWcy++nTIjNT+PqK+xtCWnD79FTNdLgTm1oqM9kzMzNPnz5dsWLFErpLm+q5MrMoQAEKUIACFKCAPQrcvClbbegVuj2K3G/z8ePHZ8yYoSsQHBysuYu6bgHmUIACFKAABShAAQo8sAB6p3rfxGPqjMGtio4elbfDDkf3F7d84LsXy4mmw53omCo1w8pKQZAGp4oAACAASURBVEFB3333nZHxnsXSBt6UAhSgAAUoQAEKWIgA5lsz3Gnot/D09NS7PdGFCxewUryhs5hPAQpQgAIUoAAFKPDAAllZsneq9018YlpickYyrhysO5kdu7kj1a//wPct3hNNb1Wkrp96t6LirTHvTgEKUIACFKAABSxWIC5OZGTI2ul9hW6x1TZPxR5//PEffvghQwG6f8vo6Ohvv/22c+fO5qkD70IBClCAAhSgAAXsSgC9U8xK1xvuvHz3Mih83HxKuJTQNlFGd9pDuFO75fxOAQpQgAIUoAAFKJBXQBna6eUl3N1Joy3w8ccfX7lyBVuoY6VOvEfftGnT+PHj69Wrh4lUH3zwgXZpfqcABShAAQpQgAIUeGgB9E7d3ITeZSkj70Ti8qElQ/UMcFRPZn/oChTLBQowurNY6sebUoACFKAABShAASsS4LbsRn6sGjVq7N69G/PWJ0yYgBDn9OnTP/nkE4Q7sUl6pUqVjJzIQxSgAAUoQAEKUIACDyag7FOkdwXOi3EXcc1KJStpX/nWLXHtmsysW1f7kJV8N712p3pF+Xv37iHcu3z58iNHjiitw9cRI0ZYSUtZTQpQgAIUoAAFKFDkAgx3GieuU6fO1q1b79y5c+7cuaysrMqVKwcGBl6+fHnXrl3KidgVE8n4RXiUAhSgAAUoQAEKUCCfAka2ZY+MyxndqX2pw4dlTuXKwsdH+5CVfDcd7nznnXc024LJR+qvDHdaya/MalKAAhSgAAUoYCYBZTI7F+40zu3n54cp7eoyS5YsmThxIsZ7om85bty4KVOmGD+dRylAAQpQgAIUoAAF8ilgaFt2nK6M7gz1C9W+lBLubNRIO996vpsOd0ZGylgvEwUoQAEKUIACFKCASQGO7tQlqm9qkfuYmBicpfQ5S5YsqXsF5lCAAhSgAAUoQAEKPJiAydGdeiaz20O4k/OJHux54lkUoAAFKEABCtihAMOduj96qVKl9Kx/r1EuMTER39jn1KVjDgUoQAEKUIACFHhIASPhzpzRnSXtcnTnQ7Li9KlTp65cufLUqVMeHh6PPvrotGnTsFC9ctmUlJRRo0YtW7YsNTW1S5cuc+fODQ4Ofvg78goUoAAFKEABClCgWASUcCcns2vi79ixw/hv8dFHH3FnduNEPEoBClCAAhSgAAUeTACT2atX13NqfEr87eTbOFCxZN5l05OSxOnT8gTbnsyOJeT1qKiy8KL+/Pnzho6q83fu3DlkyBCs0JSRkfH+++937tz5xIkTJUqUQAHsdLR+/Xpsf+Tr6zt06NAePXrs2bPH5AVZgAIUoAAFKEABClimgLJ2Z2CgZdbOQmtlfOynhVaa1aIABShAAQpQgALWIICX8a1a6anoyZsnkVvGq4yPW979iI4eFdnZAoMRy5TRc5qVZJleu7N27dpKHzQ9PX3z5s3NmzcPKOCIhY0bN6o1Fi9eHBQUdPDgwbZt28bHxy9cuPDnn39u3749CixatKhWrVr79+9v0aKFleixmhSgAAUoQAEKUCCPACez84GgAAUoQAEKUIACFLAcAUOT2SNiIlDJOkF1tKtq/Qt3okWmw53r1q1TWn7z5k1EKj/++GMlOqnNkb/vCHGiIJZwwp8IeiKE2rFjR+XUmjVrVqhQYd++fQx35s+SpShAAQpQgAIUsDgBTma3uJ+EFaIABShAAQpQgAJ2LIDeqd5RixGxqnBnoE6488gRqWXNM9lRfdPhTvUj8fDzjLKyssLCwlq1alW3bl1cNjo62tXVVXP/TSzciUythxDLeiIpmXfv3sUHXAdJq5g5v+Lu2dnZxVsHc7bX5L0IokVEEN1nhiY00RXQzOETwr9GjD8hOGotD8nNmw5Y78ff3xzdBDObmKNJJp8DFqAABShAAQpQgAIUKIgAllrSu86SwXCnnYzuLIihibJYwfP48eO7d+82US7vYex0NHnyZM282NhY7HFUoIsUbmF09zFMFRFPR0fHwr2ylV6NIFo/HEF0n2Sa0ERXQDOHTwj/GjH+hOCoVTwkyckiKam0qi2xMTHZJhv1kAXMbJKQkPBgFT506JDxE69du2a8AI9SgAIUoAAFKEABCjyAwL17Av/oD3fqncyeni6OHZM3sp/RnQ/AqnkKdiLCvPhdu3aVL19eyS9dunRaWlpcXJx6gOeNGzeQqXWjsWPHjhw5UsnE6M6QkJDAwEAfn7wLqT5k5Qp4Ov7rAmNdUQ2GOxU5gmg9QQTR/b8UTWiiK6CZwyeEf40Yf0Jw1Coekqgo2Q4Xl+wqVQIdMMqziJOZTdzd3R+sQU2bNjU+SQivkI0XeLD78iwKUIACFKAABShg5wKYyY5OqZ+fNkNcStzVhKvI1Z7MfuqUwARrb29heN9y7WtZ5HfTk9mHDRum1BwDKtETnTNnzurVq5UcfJ01a5bJdqEL+/bbb69atWrHjh2hoaHq8k2aNHFxcdm2bVvPnj2Refr06aioqJYtW2pd0E2VNDMRZCz2OCPabgnVMIlvtgIE0aImiO6zRxOa6Apo5vAJ4V8jxp8QHLX8h+T2bdmIgAAHJ6eiD3aqvMxp8sC9L2xHafLHZQEKUIACFKAABShAgUIXwEx2f3/h5KR9YWWfovI+5X3dffMcU2ayN2worHw2s+lwJ+Kbmi1XxzqRmc9wJ+awY/v1NWvWeHt7K0tz+vr6enh44M8BAwZg5CZ2LsJoTYREEevkPkXazyC/U4ACFKAABShgJQLcll3vD9W/f3+9+cykAAUoQAEKUIACFChSAYPbshvap8gmFu4EqelwJ+ZJPST9vHnzcIV27dqpr4OX/K+88gq+zpw5EyMFMLoTmxF16dJl7ty5D3kvnk4BClCAAhSgAAWKS4DbsheXPO9LAQpQgAIUoAAFKKArYHBbdmXhTt1t2e0n3KmLVdAcTGY3dAoWgfpalQwVYD4FKEABClCAAhSwFgFMF0LSuxi8tTSB9aQABShAAQpQgAIUsBkBE9uyB9XJ01KE744ckTlWvk8RWmB6dKfS8v3792/fvj0mJuatt96qVq3avXv3Tp06Vb16dS8vL5t5CNgQClCAAhSgAAUo8DACnMz+MHo8lwIUoAAFKEABClCgcAWMT2avG1Q3z+0iI0V8vHB1FbVrF241zH81R5O3xObpPXr0aNWq1bhx47766qvLly/jFMxA79y5c372KTJ5fRagAAUoQAEKUIACtiHAcKdt/I5sBQUoQAEKUIACFLANAb2T2W/duxWdGI0G1g7MG9ZUZrLXrStcXKy9+abDnRMmTFi3bh3W38TO6epp6ZiE/vzzz2P3IWtvP+tPAQpQgAIUoAAFCkuAa3cWliSvQwEKUIACFKAABSjw8AJ6J7NHqPYpquhb0cs174xtW1m4E60zHe785ZdfBg8ePGjQIOyfrgldq1atCxcuPDw9r0ABClCAAhSgAAVsQ4Brd9rG78hWUIACFKAABShAAdsQ0DuZPULZp0hr4U402K7CnVivs169ero/s5OTE1bw1M1nDgUoQAEKUIACFLBPAU5mt8/fna2mAAUoQAEKUIAClimgdzK7Mrqzju1uy47fwvTozpCQEOxKpPuz7dmzp2rVqrr5zKEABShAAQpQgAL2KcDJ7Pb5u7PVFKAABShAAQpQwDIFjExm1w53Xr8u8I+Dg6hf3zLbUqBamQ539unT55tvvtm3b59yXQe0XIhvv/32t99+69evX4FuxsIUoAAFKEABClDAVgUyMsSdO7JxgYG22kS2iwIUoAAFKEABClDAagTQO719W0/XVJnMrr0tuxL3w/Rur7wLelpNc/NU1NlktbEh+/79+9u2bYvFOhHrHDFixO3bt69cudKtWzd8Nnk6C1CAAhSgAAUoQAF7EEBvMjtbNtTf3x6ayzZSgAIUoAAFKEABCli0wK1bsnoBAXkqeSPxRuy9WAfhUCuwVp4De/fKr48+atFNynflTI/udHV13bhx46JFiypXrlyzZs3U1NT69esvXrx47dq1WL4z3zdiQQpQgAIUoAAFKGDLAspMdj8/4Wz6bbItO7BtFKAABShAAQpQgAKWIICZ7Bip6e6epy6How/je3X/6p4unnkO2Fa4M1/9cQzq7KtKlvBrsQ4UoAAFKEABClDAAgW4LbsF/iisEgUoQAEKUIACFLBbAb3bsh+6fgggjcs0zsOSkiIOHpQ59jO6024fCzacAhSgAAUoQAEK5F+A27Ln34olKUABClCAAhSgAAWKWqAA4c5Dh0RamggKEpUrF3WtzHN906M7MYfdUFUw6vP8+fOGjjKfAhSgAAUoQAEK2I8At2W3n9+aLaUABShAAQpQgAKWL4C5R1oLd6LO+kd3qmeyq/Ynt4FkOtx58eLFNm3aGAl62oACm0ABClCAAhSgAAUeWCArS1y/LjiZ/YEBeSIFKEABClCAAhSgQKEL6I7uvJN8JzIuEjdqVLpRntvZ1sKdaJrpcCcKvfHGG3369Cl0d16QAhSgAAUoQAEK2IDArFli5EgRGCibovxpA41iEyhAAQpQgAIUoAAFrFTgl1+Er6+IidHumh6JPoIWhZYM9fPwy21adrawz3Cnlf66rDYFKEABClCAAhQoUoF160RYmFCW9lEms1erVqQ35MUpQAEKUIACFKAABShgUODwYbkV+5w5IiREoHfau3eekvpnskdFiRs3hIuLaNLE4HWt7UC+RneeOnVq9+7dbm5uXl5epUuX9vPTiAFbW4NZXwpQgAIUoAAFKFBYAk89pX0lG+olajeN3ylAAQpQgAIUoAAFLFzgvfeEs7P47z8ZwLx1S0yfnqe+h6L1bcuOfYqQ6tSRgVJbSfkKd3700Ucff/yxusmBgYEdOnQYM2ZM/fr1bcWB7aAABShAAQpQgAIFE0hJ0VO+Vi09mcyiAAUoQAEKUIACFKBAUQtgc/W//xbJycLbW04/wnhNxDA1k/7RnUq4s3Hjoq6eOa9vOty5fft2VCgjIyMtLS0uLi46OvrEiRMbNmxYvXr1rl27mnAMgzl/Lt6LAhSgAAUoQAGLEdi/X09V0K1kogAFKEABClCAAhSggPkF/vlH+PiIChVE7driwAERHCzc3HJrEZ8Sf/rmaXzX3qfIPsOdjz32mO4vlJCQ0LJlyw8++GAd1qxiogAFKEABClCAAvYnoHojnCeVL6+dw+8UoAAFKEABClCAAhQwj8Bff4nHHxdPPy1KlhSZmSIoKM9t/zz3Z7bIruFfI9grOM8BrPeJZG+jO/X+JN7e3hMnTvz111/1HmUmBShAAQpQgAIUsHkB5UX47NniuecEeonDh4ulS22+0WwgBShAAQpQgAIUoICFChw8KDp0EL16yephaKeHR556rjq1Ct+frflsnlys8Xn9unBwELa1XqXjA/9EL7zwwooVKx74dJ5IAQpQgAIUoAAFrFrg+HFZ/Xr1ROnS4oknxJkz4pFHrLpBrDwFKEABClCAAhSggBULoHeKrqmSGjUSNWvmtiU1I3XD2Q34/mytvOFOpUdbpYooUcKKW65TddNrd0ZhQ3rDqQKWBGCiAAUoQAEKUIAC9iRw547c8vLiRdlmrQXg7YmBbaUABShAAQpQgAIUsBSBxEQRGSnq1tVfn22R2xLTEst6l21atmmeEkq409Bp+i9mBbmmw52VKlVywKBWAykTiwEwUYACFKAABShAAbsRwOz1YcNEWJhsMMZ1BgTYTcvZUApQgAIUoAAFKEAByxNYu1YOzfTyEoGB2ut1qiu76qScyf5MjWccHfLO87bbcCc4evXq1di2liy1vIeTNaIABShAAQpQwDoEEOtE+vJL+afNvQi3jp+AtaQABShAAQpQgAIUUAv88ou4d0/8738GZx1lZmWuOb0G5bVnsiMrIkJex+Y6taZHd6LVTz75ZJ8+ffgkUYACFKAABShAAQpgp8u4uBwGzmTn80ABClCAAhSgAAUoULwCN2+KAwdE2bIGw537ruyLvRdb0r3kYxUfy1PV7Gxho6M7H3yrouL9LXl3ClCAAhSgAAUoUCwClSrl3rZ792KpAm9KAQpQgAIUoAAFKECBHIFbt0R8vFiwQPTurd9EmcnevXp3FyeXPCXOnRMJCcLVVVSrpv9Mq83N1+hOq20dK04BClCAAhSgAAUKWUA9tBPDPDt0KOSL83IUoAAFKEABClCAAhQokABGdwYHCyxC2aqVnvOys7NXnZILdz5bM++e7MjatUue0Ly5jHjaVsrX6E4jWxXZlgZbQwEKUIACFKAABUwIoEOJVLu22LtXGN7N0cRFeLiwBJRNNdFZVachQ4bg4u3atdPMfPPNN9V3jIqKwkpNnp6eQUFB7777bkZGhvrQjh07sGC9m5tb1apVFy9eXFiV5HUoQAEKUIACFKBA0QlgdOevvwqs4Kk3Hb1xNDIu0t3ZvUuVLtoFlHBn27ba+db/PV+jO997772pU6fqNhadyPDwcN185lCAAhSgAAUoQAGbFEhNFYmJsmW7dws/P5tsopU16t9//83MzFQqffz48U6dOj3//PPK14EDB06ZMkX5jOCm8gGFEessXbr03r17r1+/3q9fPxcXl08++QRHIyMjcQiB0aVLl27btu31118vU6ZMly46/2FgZUKsLgUoQAEKUIACtiyQkiKSkkTNmsLXV38zV59ajQOIdZZwLaFdwp7DnW3btuXoTu0Hgt8pQAEKUIACFLBLAbw8R3J0NNihtEuV4mx0YGCg+vaffvpplSpVHnssZw1+hDgR1tSq3ObNm0+cOLF169bg4OCGDRt++OGHY8aMmTRpkqur6/z580NDQ7/44gucUqtWrd27d8+cOZPhzuL8dXlvClCAAhSgAAVMCSi901KlDJYzOJP97Flx8aJwchItWxo82WoPmB7diUk9Vts6VpwCFKAABShAAQoUpoC6Q4mIJ5NFCaSlpf30008jR45Uv6fHIE3kIOL51FNPTZgwQRnguW/fvnr16iHWqVQe0czBgwdHREQ0atQIhzp27KhuFA6FhYVZVBtZGQpQgAIUoAAFKKAlgN4pxnW65N2CSF0mPDo8/Ea4k4MT9inSpsMEeCR0fry9tQ9Z/3fT4U7rbyNbQAEKUIACFKAABQosgEnrf/8tNyPSXLpdCXcGBBT4ajyhqAVWr14dFxf3yiuvKDfq06dPxYoVy5Yte/ToUYzfPH369MqVK3EoOjpaHevEV+UzMvUeunv3bnJysoeHh1blU1VJyUQZfMhSJa1i5vyKu2MjguKtgznba/JeBNEiIojuM0MTmugKaObwCeFfI8afEBy1kIckJkYEBDigI6C3wp/t+Qz5z9V+zs/dT6uf4LBsmQNa8cILaInecx8g08wmRno++Qp3YpEjvBtfv379pUuX0Fr0Hbt37/7SSy85YcgrEwUoQAEKUIACFLAtgfh4+ZJ80CC54vv48eLDD3Obp+xT5O9vWw22idYsXLjwiSeeQHxTac0g/H6qhLGcWIKzQ4cO58+fx1T3QmkrFrWfPHmy5qViY2NTsHRW8SV09+Pj4xHxdOTAY9WvQBCth5Eguv/vpAlNdAU0c/iE8K8R409Isfy7Zv58z1KlEJ/M0+WIjHTz8SkRE3Nbt8Inb538NUIO4XytxmsxCItqJOcTJwIiIrJdXWNbtcrOe0j3OvnPMfP/cRISEgzVzXS4Ez0nzOXBMvDe3t6VK1fGhbZs2bJixYp58+Zt2rTJx8fH0KWZTwEKUIACFKAABaxLIDZW9O0rNm8WGAio7G6JPWw0w50c3WmZPyheyWM5TmX8pm4Nmzdvjsxz584h3Im57QcOHFCXuXHjBj4rS3ziT+WrchSf0dHVHdqJo2PHjsWseaUYRneGhIRgCdHi7RXjvy4wix/VYLhT+V0IovV/BIJogeArTWiiK6CZwyeEf40Yf0LM9tdIRoaYO1c0bixatxZ79zqUKSOGDs0TiEtPx2wVh6CgIK0Kp2emj1s/LjM785kaz3Ssk7tcj1LMYdo0+eGppwKrVTPZ0vwXMPP/cdzd3Q3VzXS4c9y4cQcPHpw9ezZ2t8TOlbhQenr6d999N2zYMBxCvqFLM58CFKAABShAAQpYlwDGciLWiYRp7EpywCQfjaSEOzm609J+1kWLFqGXj33V9VbsyJEjyMcYT/zZsmXLjz/+GAMclP8qwFt8hClr166tHNqwYYP6CjiEwnov6KZKmocQZCz2OCPCnZZQDb1ixZJJEC12gug+hzShia6AZg6fEP41YvwJwVEzPCTvvisQeBsyRLRtKyIjBSaTODrm6Z7evi2wcaNWJiZ8DN4weN+Vfd6u3rO7zdbupSBEunSprP8rr6D3YLKZBSpgBhN1fbTbpVFR061atWrVW6qkxDpxLj5gTXckjPEsUJtZmAIUoAAFKEABCliywNatObVTrd+jJ3Eyux6U4s7COAKEO/v37+/snPMiH/PWseU6XthfvHjxjz/+6NevX9u2bevXr4+adu7cGcHNl19+OTw8HBOVxo8fP2TIECV2+eabb164cGH06NGnTp2aO3fub7/9NmLEiOJuHO9PAQpQgAIUoIBdC+BVLDYTunJFZGbKfdQvXNDWwMt43Tfxk3dOXnRkEXYoWvbcsvI+5bXP+fNPgTlN2LmxSxftQ7by3XS489atWzVq1NBtb82aNW8jhsxEAQpQgAIUoAAFbEIA/Uh1D3L//pwmoWeJ99/qdOeO/FiqlE002FYagWnsUVFRr732mrpBrq6uyERkE/3VUaNG9ezZc+3atcpRLD2/bt06/ImRm3379kUkdMqUKcqh0NBQLFWPQZ0NGjT44osvMJkJCzrZChLbQQEKUIACFKCA9QlcuyZ7py++KMOd+AcT269elQM8NRMic1pd032X9yHciTLznpzXrVo3Pc3+4QeZiSWcDG3oruccK8syPZm9atWqeCuO0Z1aLUNmYS33bmVmrC4FKEABClCAArYosGtXbqvQuVSnqCih3uEmLk5m+/nZYvuttk0Ia2LGlmb1sZjmzp07DTUIu25qTlrXLNauXbvDhw8bOpH5FKAABShAAQpQwJwC6M40bCjq1JGxzvPnRaVKIjpajvGsWTO3FuidliyZ+zUrOytsUxi+v9rw1YFNBuqpLSYrKa+B+/fXc9RWskyP7kSgc/Pmzd26dcOfmBCEhIk/WBoJr76HDh1qKw5sBwUoQAEKUIAC9i6wbZsUwPtzraQ5aUgJd2r2KbVL8zsFKEABClCAAhSgAAUKQ2D7dvHYYyIkRGBvxVOnRNWqAjuIa81nj4/PE+5cenTpgasHvFy9Punwif4qYDtOzF3C5kf16ukvYBO5pkd3ItyJ1dw//fRTRDnVTcbynRMnTsTynTaBwEZQgAIUoAAFKGDvApgctGaNRBgwQPz+u1wdSZ3wLr1Tp5xvDHfa+4PC9lOAAhSgAAUoQAGzCKA7it7psmWidGnsRCT27JGxTmxFrhXu1BzdmZKR8t6291C7cW3GlfYqrb+aixfL/Fde0X/UVnJNhzvR0kmTJmEgJ5ZAuqRatx8zgDp27BgQEGArCGwHBShAAQpQgAL2LoC5QljoHb2bxx/HFt5yxhCSk5OMeyqfFSAl3Onra+9cbD8FKEABClCAAhSgQJEK7N4tsFpPmzayR4re6bp14tNPBfZlvHw5z201w50/Hf3pWsK1EJ+QsBZyPrueFB4uDh2SS3b27q3nqA1l5SvcifYiuNmrVy+thmOZJGwwb0MabAoFKEABClCAAnYqoCxh9MwzshOZlpaDMGiQmDdPKLuxK1kc3WmnzwebTQEKUIACFKAABcwrgKGdTz8tu6ZI5cuLf/8VPXvKWe2Gwp1YtXPGvhkojFinu7O7/souWCDzn31WvuS36WR67c5dmuv2a1gcP34cO1raNA4bRwEKUIACFKCAvQicPClbqnRtlO3X8bVuXZkZG5uDkJUlsDoSEtfuzBHh/1CAAhSgAAUoQAEKFI1ARIR45JGcSyPc2aGDCAqSUUp11xTH0Du9ezena7rx3MaTN096u3q/3vh1/TVKShI//SQPDdS3hZH+c6w113S4s2vXrqtWrdJsX1pa2vjx4xs3bpyQkGCt7Wa9KUABClCAAhSggIYAFuhEUnZgX7hQeHoKLFquvPZW9ynR8VE2AGe4k88OBShAAQpQgAIUoECRCpw7l9M1xV2wdc6UKfJugYF5wp2IdaJ3qnRNlaGdAxsP9HHz0V+x5ctlcBQrgLZvr7+ADeWaDnf27dv3hRdemIepXKqEwZ7169efPn36e++9d/jwYRuiYFMoQAEKUIACFLBTAexOefGibDv2u0R6+WWRmCg6d5YdSiT1ZHZlJrubm1wknokCFKAABShAAQpQgAJFJIDeKXbPUd7E4xaITzZvLm+Fl/Fa6yxhFyMvL3Ek+si2yG1ODk7DWww3WCVlJjuGduIcW0+m1+5csGBBmTJlsFVRVFTUrVu3Fi5c2KxZsxUrVtSpU8fWcdg+ClCAAhSgAAXsQiAqSm5JhCAmloFXkrI4udboziKfyX5juzgYJpp9KwKa2YU7G0kBClCAAhSgAAUooE8AsU7EJENCtI9pje5U9ilCx1UZ2vl8necr+FbQPkf5fvy42LdPLgVq63uyK801He5EucmTJ5crV27IkCFZWVmff/55WFgYdyjS//QwlwIUoAAFKEABKxTAXCEkzOzRetWtjO68fVsGQ7EnZpHvU7R/gEiKFJubiz7ZVqjIKlOAAhSgAAUoQAEKFI4A1lkKDZX9T62E3ilewGPsJzZXR8JnzGS/evfqL8d/wdeRLUZqn6D+/u238uP//idKlzZYxoYO5Hf86qBBgzCi093d/a+//kpNTbUhATaFAhSgAAUoQAF7F1AW7lRmsmta+PvLb1gDXtm8qMjDnY6qfitS+l3NavAzBShAAQpQgAIUoIBdCaB3qts1hYDSO9VcagnhzjkH5mRkZbSp0OaRcvf3NtLCSk4WS5bImYHZ4QAAIABJREFUvEGD7ITR9OjO1157TW1RvXr1DRs2tGjRAvsUIRNjPDG33U6k2EwKUIACFKAABWxVQHOfIs024rU5epCIcqJPiYntSrjT17fIGDzLiYQz8uob6ov224R3lSK7Ey9MAQpQgAIUoAAFKGC5Apr7FGnW0tVVoC+KrqmyBBN6p16lEucfnI8yo1qOMtie33+XHdmKFUWnTgbL2NYB0+FODOfUnLpeoUKF+Pj47du3w4FT2m3rYWBrKEABClCAAnYqoExm1/sKXYlyYnP2mjWLfjJ72p2cHyDpkriwSDT4yE5/DzabAhSgAAUoQAEK2LcAXsYb2j4dvVN0TZWEGGZ86KK4lLiqpap2r97doJkyk/3117VXbjJ4gtUfMB3uvKjsVGr1LWUDKEABClCAAhSggH4BQ6M7URoLJCEYqvQpi3wyuxLu9KoiEs+L5Ov668pcClCAAhSgAAUoQAFbF0Dv1NC8c/RO1ZPZb8VlXAj6EhgjWoxwctRZ6VNROnlS/P23XAf01VdtnS23ffldu9N+RNhSClCAAhSgAAXsSgBLcxpauxMOyubsSp9SWcET09uLKinhzpCe8vopN4rqLrwuBShAAQpQgAIUoIAFCyi90yoGljXSHN25+963CS4X/D38+zfob7BBytDOJ58U5coZLGNzB0yP7lQ3OSEhAdPYsTm7JgLmttucCRtEAQpQgAIUoIAdCVy/LlJS5AtvvZ2aoCBJER0ty6xcKT9jl8wiSVmZOTsU+dSU10+JKZK78KIUoAAFKEABClCAApYtgN4p9gg31OdE7/SG6rV41J1ru5wm4sOkdpNKuJbQ3yZ0Ye1skyLFIV/hznnz5s2YMePChQu6dpmZmbqZzKEABShAAQpQgALWIqAM7cTS7diYSDcp79XPnBF4Lx4VJV+K9+unW6owctLjcq7iU11+4OjOwkDlNShAAQpQgAIUoIDVCaB3GhIi3Nz0VxzLzf97/Pb+K2d6LxmW6XazbmC9N5q8ob8ocn/8Udy6Jd/qd+1qsIwtHjA9mX3+/PlDhgypWrXqRx99lJ2dHRYW9t5775UuXbpBgwbclt0WHwm2iQIUoAAFKGBfAkb2KQJE7dpSA0se/fuv/PDmm8LTs2h8lJnszl7CQzXPCOHO7OyiuROvSgEKUIACFKAABShguQKGtmVHja8lXFvn+cKqqkEtF7a8mP6vuyi5qtdKFyd9L+1RGvOzv/hCtnPECDmVyZ6S6XDn7Nmzu3Tp8ueffw5SrZL65JNPfvzxxydOnMDc9luIEDNRgAIUoAAFKEABaxYwsk8RmlWrlmwbwp3K8p1lyhRZU5Vwp6ufcA+W98hKzZnbXmQ35IUpQAEKUIACFKAABSxQAL1TvQt3xibFNlnQZG/ccuGY6e7s7pfw6Gj/vdiT3WAT1q8Xp08LX18xYIDBMjZ6wHS48/z580899RSa76Ka4pWWloY/fX19X3/99blz59ooC5tFAQpQgAIUoIC9CCir9VSurL+9yHd1FcnJ4sgRWaBUKf3FCiFXHe509hDO3vKCnM9eCKy8BAUoQAEKUIACFLAyAfRO9XZN393ybnRidPVS1Z2/O3LsxeSae/fUDlS9mTeUPv9cHsHsJG9V39KekulwJyKbGRkZMPHx8fH09Lx8+bLi4+3tHY11+5koQAEKUIACFKCANQtcvChrb2gxeGdnUV21libWjEcyR7gTt1EGeDLcKcmZKEABClCAAhSggH0JoHeq2zUNjw7/IfwHB+Gw5NklNUs2wNyj27eNdk137BC7dsnF6d9+2774VK01He6sW7dueHi4QtOiRQtsW3T16lUEPb/55pvqSvffDtnYZApQgAIUoAAFbEVACXdWqmSwPcp8duWwn5/BYvk9kBwtTs0Safc3JlKflnZbfnRVDR/1UM1n5+bs+TVlOQpQgAIUoAAFKGA7Auid6nZNP93zKVr4Qp0Xmpdvjt7piRNGw51YAn7MGCmCdSmx1ab9JdM7s/ft2xe7FaWmprq5uU2ePLljx44VsKOTam77ihUr7E+MLaYABShAAQpQwHYEMEtdmayi26dUN1JzMlEhjO48NUOcnC6yUkRtVR9UndST2ZHD0Z2284ixJRSgAAUoQAEKUKAAAkrvVKtreuzGsd8ifsNVxrYeiz8x9vPSJaPhzmXLxIEDokQJMWFCAe5tQ0VNhztfVSWlya1atYqIiFi7dq2Tk1Pnzp05utOGngQ2hQIUoAAFKGCPAlFRstVeXsamApUtmytTCOHO1JvycokXtbn1hDu5apA2Er9TgAIUoAAFKEAB2xZA79TdXQSrpvooKTs7e8SmEVnZWT1r9WxQugEy0Tv94w+RmSn0TzxCxFQZ2vnee3kuZNtweVtnOtyppVG5cuXhw4fbExHbSgEKUIACFKCAzQrgxTgS3p87OBhso3oCEPYs8vAwWCy/BzKTZcnUGO3yKbEyx81f/umhirAmX9Muw+8UoAAFKEABClCAAjYtgN5pxYp5uqaLjyzeFrnNzclteqfpStPROz1+XDg6YpcdfRYzZgjsuxMSIkaN0nfYLvJMr91pFwxsJAUoQAEKUIAC9ieQkCBmzpTNNjKTHUfVozsxtNNIVDS/fpkpsqR6G6L0RBG5VCAz+arM91AtrqSEO+8x3JlfVJajAAUoQAEKUIACtiGgtXDnjcQbYZvC0LTJ7SaH+oUqbUTvNCZGDu1ExFM7YXvNqVNl5qefFsaLeu3LW8t3g6M769evb7INDg4O6l2MTBZmAQpQgAIUoAAFKGBRAlOmiI0bZY2MhzvVoztLliyM6iujO9XbEP3dU0RvFvHHxD1VuNNTCXeq/lQCoIVxT16DAhSgAAUoQAEKUMDyBaZPF7Nmie7dc2s6eefku6l3m5Zt+s6j76hzld6p/pns48eLpCTRvLno3dvy21t0NTQY7ixVqhSimcqN09PT9+7diwCon37Loqser0wBClCAAhSgAAWKSgA7WiqpaVNjtyhdOucotrgshKQ1uhOxTqTz34msDPlBGd3pycnshSDNS1CAAhSgAAUoQAHrEtixQ84r+t//cmp9+ubpBQcX4MvnnT53cnRSt6VMGflRz5ryhw6JRYvkMcxgKoRJSdaFl6e2BsOdO2B8P928eTMoKGjGjBnt27e34ray6hSgAAUoQAEK2KVARITYulU8/3zutHSF4Zpqsvjnn4t+/Yy5YMlOJWHZ90JIyujO9LtyAruyPREu6hYg7p6WF1cCnUrQE5saZaYKJ7dCuCkvQQEKUIACFKAABShg8QJXr4pJk0S3bjkVHbttbGZ25lPVn3qs0mOadUfvNDBQJ9yJN/MjRwr8iXGdLVtafFuLtoK6s/z13E89zFPPMWZRgAIUoAAFKEABCxbAG+66dUVYmKhWTezcmaei6FAideiQ35ffhRTuVK3diYS9iW7cr5AS63T2Ei6qBeddsRSTKsrJ3YoUK/5JAQpQgAIUoAAFbEUAPdLatUWrVkI900jdMryMVy+jtCdqz6pTqxwdHD/t+Klu0zEIVHt05+rVsrOLbd2xaqfdp3yFO+1eiQAUoAAFKEABClirwJo1OTW/d08MHSoyM3O+pqaKWNVe6Oo+pckWptwPVJosaayAMroTJbBb0c19eUoqC3ciC5OPuDm7MUQeowAFKEABClCAAtYq8OWXAnOn8T7+lVfkWEx1UnqnStc0Ozv73S3v4tCARgNqB9bWbSqK5VlvEie/K8vL3dgrVNAtb285DHfa2y/O9lKAAhSgAAXsS+D8ednen3+WPcLjx8Xvv4vbt8X334tLl2Q+pgIFBJgGadRIlunRw3RJ0yWUtTtRDrsVpUTnKa+EOJUsJfSp7F9k+qIsQQEKUIACFKAABShgHQLnzomuXeXqmleuiFWrcuuMPdWdnERwsMxZeXLlviv7PF08sSG73lYhWlqlisaROXMEer1Ycv699/SWt7dMg2t32hsE20sBClCAAhSggO0J4IW5Eu585BHRt6+YPVscPCgjnvinSRPZXMwDys8y7hs2iN9+E/37F4aQ5ujOVNX4UnVSluxUvnJ0Z2Fg8xoUoAAFKEABClDAogSysmTvFJFKT0/xwgvi77/lC3UsuYkoZ+vWMlyJiGdGVgZW7US132n5Thlv1bZEOmnaNI0sTFmaMkV+//hj4eWlU9YeMwyGOw9hO6f7KT4+Hh/Pnj1bsmRJLaTGjRvbIxvbTAEKUIACFKCARQqEh4vp0wX6f8o8ILwkx4Kb6DVWrJgzrQdv0RHrRELcEymfM9nR9Rw2rJAarB7dmRojsBmRZlJPZkemZ4g8knSxkO7Ky1CAAhSgAAUoQAEKFIMAQpGYTuTrm3Nr9E6xPlJoqPyKjui//8r57HitjugnMpWu6fKI5Wdvnw3wDHjn0XfyVeMPPhB374qGDQvp5Xy+7mnhhQyGO5s2baq1Q9Fbb72l2RisI4ACmeoVsCy8oaweBShAAQpQgAJ2INC5s4iJkRPV8aocCXOFkBDrdHHJ6T5u2pRHAaM7zZ3U4c7kG3K3IiRnb5GRoKpo79zKeFeVnxPOmrt6vB8FKEABClCAAhSgQOEJIJZWpoz46qucK2JoZ0iI3E8ICcFNbC908qRcagnjDNevlzmItn2+73McHdZsmLebt+mKRESIb76RxTA9Hi/5mVQCBsOdi7CPKRMFKEABClCAAhSwHgG8G0esE2n3bnHmjNyKXQl3VlVFDpW35ehNaqZ8ju4sNIOsDJGdkXM1bFWkjO6sO04cmyKazhZ+DXJv5F1dfma4s9DoeSEKUIACFKAABShgbgH0TvfsEd4aQUv0TtVrbuK9O7Zi37xZPPaYDIkuWSIGDxa/n/j90PVDHs4ebz2SZ9Ch/qrjBtibCDPkn31WtGunv4xd5hoMd/YvnOWp7BKVjaYABShAAQpQoDgEoqJy71qjhtyPSFm4Uwl3ag7kHD5c7N8v/vlHNG9u3oqqh3bitghlKqHPGsNFzXeEY9638d7VZM0SIwUipI6qDlt6gojeKsp1F44u5q0070YBClCAAhSgAAUo8CACWEYJL+Mxnx27piMa+eST8mW80jXF5fDeHeHOXbvkIfROK1USTVskD94iJ7CPbjXa39Pf9C0RIsXcJcxj+uwz04XtqQR3ZrenX5ttpQAFKEABCti0ACKYmgmThv76S2bUqSP/1BzI+fTTYu9ecfmy6NXLvCLqfYpw2/gIeW9nL+Hkrh3rRD7W8UQ+4qHq5TtPfiH+7iH+fs68NebdKEABClCAAhSgAAUeUGDfPlG/vmjZUnzxhfjkE3kRDPZscH8+D3qnaWli+3aBbXEwvX3iRHHQ7fOo+KgQnxCEO03fMjJSvP22LDZpUm4M1fRpdlHC4OhOu2g9G0kBClCAAhSggA0JKOHOwEARFyfS08WRI7Jtjo5yv0skDw/5GXN9kNDLxOfy5c3eeM3RnZn35O3dAvRXwsFReFUV8cflIFBlHc/zC2TJq3+ItDvC1U//WcylAAUoQAEKUIACFLAYAfROW7QQAwaIxETRqZMcyIkAKDYmUhK2J8KO4Oi4YpMhpMvxl6funooP0ztN93TxNNEIbKXz8ssiIUG0aiXGjDFR2P4Oc3Sn/f3mbDEFKEABClDARgWUcCdWacd78o4dcxqJD9hXXUlKrBOfS5UqJgLN0Z1KFdwCDVbFR7V8590zOQVKPZLz4cISg6fwAAUoQAEKUIACFKCAxQgo4c4mTeTqnF27ip49RYcOIjg4t35YbQljPPG2HmnM1jHJGcltKrR5oc4LplswbVrOsqA//sgdinS5OLpT14Q5FKAABShAAQpYn0Bqqjh0SFYbr9CRZs8WWIf86FHxjlz+yGKSMrrTzV+k3sqpk7vhcKdnBVkm+VpOSWX3dnxJuB8AtZhmsSIUoAAFKEABClCAAloCSu9U6ZriEHYE/+knORZTMyHWGRoqMzad2/TL8V8chMOsrrMcHBxMYK5YIae+I6HLq5xv4gS7O8xwp9395GwwBShAAQpQwCYFMHUdgzoDAkTlyrJ9NWvKnYi0UrNm4sAB+V692JIyutPZW2AbzTTVJvGGJrPjkGtJWSA9Pqe2afc/JF8vtvrzxhSgAAUoQAEKUIAC+RMIDxeYrl5Ntf0kkr+/3I9IK2F3TezJnpiWOHDtQBwa2mxoozKNtAtpff/vP9G7t8Bk9tdeE/36mShsr4cZ7rTXX57tpgAFKEABCtiWgDKTHe/PjbwOX75cYLrP4MHF13JldCf2IHLyuB/uNDy600UV7kyLy6muOu6ZEl18DeCdKUABClCAAhSgAAXyJaDMZDfSNcVVZs2Sl3r/r48u370cWjJ0age5dqexdPeu3GoTq9Rj580FC4x1fI1dxfaPMdxp+78xW0gBClCAAhSwBwG8P0dq2tRYWytUEOPGGStQ5MeU0Z0Id2JDdiWVrGfwpq6+8pA6yqn+wNGdBsl4gAIUoAAFKEABCliKAOYeYdVO4wmbZ569dXbGvhko9mXXL0u4ljBWHtOD3nhDnD8vKlaUc+OdnIwVtu9j3KrIvn9/tp4CFKAABShgKwK3VIthqnclstBm5Yzu9BC3D+bUsILhpei1R3fezTkF4U50dpkoQAEKUIACFKAABSxY4ObNPLsSGapp2Kaw9Kz0rlW7PlX9KUNlcvJXrxbLlsko5y+/CD8/E4Xt+zDDnfb9+7P1FKAABShAAVsRuHNHtqTYtlzPJ6N6MnvtMfKMKgOEs4fBUzVHd+LErLScklmpIv3+DHeDJ/MABShAAQpQgAIUoEBxCqB3ajImue7Mug1nN7g4upjeoSghQbz9tmzPmDGiZcvibJg13JuT2a3hV2IdKUABClCAAhQwJaCEO032KU1dpoiP50xm9xC13hEBLUVwB2P3c1Ems6simzn7FDkIF2+RfldggKcrX+kbw+MxClCAAhSgAAUoULwCt2+beBOflJYUtjEMlRzRYkR1/+omajthgrh6VW7KOX68iZI8LARHd/IpoAAFKEABClDAFgTQoUSy9NGdWSmylnLtzhKiTGfhaHTFJWVndiXQqSzciVinRzl5BS7faQvPLNtAAQpQgAIUoIAtC5gc3YlY5/k758t6lx3f1lQEc98+MXu2xJo3T3gYnhtky5wFaxvDnQXzYmkKUIACFKAABSxTwDpGd2YkSz1sy56fpIzuzLwn/nldxB+XZyDHo4z8cOlXkZWZn2uwDAUoQAEKUIACFKBAsQjgZbyRiUc7Lu747vB3DsLhp2d/8nbzNlbD5GTRr5/IyhIvvyw6dzZWksfuCzDcyWeBAhSgAAUoQAGrF0hJEegHIhnpU1pEI9WjO/NTGyXciZLnF4q/e8ozXHxywp3nvxVn5+bnGixDAQpQgAIUoAAFKGB+AXRNU1MNTjzKzMocsWkEajW46eDHQx83Ub0vvhDnzomyZcVXX5koycP3BRju5LNAAQpQgAIUoIDVCyhDOx0dhY+PZbelQKM7HZ3lnHfNhACof/OcjIRzlt1UM9Vu0qRJDhqpZs2ayo1TUlKGDBni7+/v5eXVs2fPGzduqCsUFRX15JNPenp6BgUFvfvuuxkZGepDO3bsaNy4sZubW9WqVRcvXmymNvA2FKAABShAAQrYnIDSOy1ZUn/Dfgj/4Uj0EV8338mPT9ZfQp17+bKYOlV++/xzYehyJi5hj4cZ7rTHX51tpgAFKEABCtiYgLpDiYinRacCje5ES1zy9pER7qw+VFQfJtuYplqslEmIOnXqXL+fdu/erZCMGDFi7dq1y5cv37lz57Vr13r06KHkZ2ZmItaZlpa2d+/eH374ATHNiRMnKociIyNx6PHHHz9y5EhYWNjrr7++adMmAlOAAhSgAAUoQIEHEMBMdm9v4eKi51TsUDTur3E4MKHthADPAD0lNLNGjxb37onWrUWvXiZK8rCGAHdm5+NAAQpQgAIUoIDVC1jHPkVgVkZ3OrrnVxybGmkmTGZ3cBB+DWQewp3pifm9jk2Xc3Z2Ll26tGYT4+PjFy5c+PPPP7dv3x75ixYtqlWr1v79+1u0aLF58+YTJ05s3bo1ODi4YcOGH3744ZgxYzBE1NXVdf78+aGhoV9gvpgQKI/I6cyZM7t06WLTeGwcBShAAQpQgAJFImBkn6L5/82PTowOLRk6tNlQE/fev18sWya7f5jGjj+Z8i3AcGe+qViQAhSgAAUoQAFLFbCOfYqgl6EKULp45RdSawinq6880bWU/PPaBscVvu6154qgN/J7NRstd/bs2bJly7q7u7ds2XLq1KkVKlQ4ePBgenp6x44dlRZjhjsy9+3bh3An/qxXrx5incohRDMHDx4cERHRqFEjHFKfgqM4hDGees1SVUk5dPfuXXzIUiW9hc2TibtnZ2cXbx3M09J83oUgWlAE0X1yaEITXQHNHD4h/GvE+BOCo8Yfklu3sHCnA/79rHUdDO38bO9nyBzXZpyLo4uxf3dnZzuMHo0YZ3b//tkNGsitiiw+GTcp9Oob0WO4s9C1eUEKUIACFKAABcwtoIQ7S6nCgBadMhJk9ZyNbr6p2YC0O3mao2xe5JbbzpIn3sqqb9fhzubNm2NCeo0aNTCdffLkyW3atDl+/Hh0dDRGa5bUWN8K8U1kAhN/qmOd+Kp8NnQIoczk5GQPDw+thwpBVdxLMzM2NharhWoVM+dXdPcxphURT0dLX9DBTCoE0YImiO6TRxOa6Apo5vAJ4V8jxp8QHDX+kFy65FGihHtMTN6+nBDzw+fHJMVU9KnYObhzTEyMkbu4bdni9/ff2e7usUOHZhktaeQiZj5k3KTQK5OQoOpa60sMd+pTYR4FKEABClCAAg8kEBcnNm8WWCbR2bxdDGUyu6Vvyw7SdCXcme/RnVq/QrCcmp0zulN9KFt71MAD/XTWetITTzyhVL1+/foIfVasWPG3337TDVAWbvPGjh07cuRI5ZoIiYaEhAQGBvoU6z5Z+K8L7NiEajDcqfwuBNF65gmi+5cATWiiK6CZwyeEf40Yf0Jw1PhDkpkpgoIcsC+i5nUSUhPmHZuHnAmPTShXppyxW6SnO0ybJgu8/XZAo0bGSlrSMeMmhV5TTO4xdE3z/reIoVownwIUoAAFKEABmxB4+mmxa5f45BMxdqxZ22Ntk9nzPbrTp6a4e0pS+jUWtUeLsl3lZ2UyuxoYBfzqmJXbUm+G4ZzVq1c/d+5cp06dsBlRXFyceoAndmZX1vfEnwcOHFC3QNmxXX1IcwN3fEYEU2/kFFu3I2kyIMhY7HFGhDstoRqW83QQROu3IIjuw0kTmugKaObwCbGNv0befVfUri1efdX4r/2AR408JBgE4O8vHB3zLLg5ZdcUDO2sWqpqvwb9TPQcsJh4RITw83MYOxb/gn/A+hXHaUZMCr06RgytiazQXXhBClCAAhSgAAUKVwCxTqTvvy/cq5q+2tWrsowVTGZXRne65Dvc2XaNqDZYPH1JPHFQVHwxB8LVL49I7N+mgeyjRGJi4vnz58uUKdOkSRMXF5dt27Yp7T59+nRUVBRW9sRX/Hns2DH13LEtW7Ygplkb/xmkOqQ+BV9xSDnFPvDYSgpQgAIUoIBtCqxaJfbtK4amYe1OrYlHx24cm/XPLFRl9hOzXZz0bdmurubu3UJZNufLL7WvUgxNscpbMtxplT8bK00BClCAAhSwQAH1mkIBAear3dmz4rnnxMKF8o5Yw93SU0HX7vSpLh6ZK0pUyNMu5zxLSTrcPmjprS7K+r3zzjs7d+68ePHi3r17n332WScnp969e/v6+g4YMADzzbdv345ti1599VUELrFPESrSuXNnBDdffvnl8PDwTZs2jR8/fsiQIcpQzTfffPPChQujR48+derU3LlzMSl+xIgRRVl3XpsCFKAABShAgaIVQO/0/Hlx4ULR3kXr6ljNe+VK8eOPom3b3CNYX/utDW9lZmf2rNWza1XVfB1DCTV+5hmRliZ69hQvv2yoFPONC3Ayu3EfHqUABShAAQpQIL8C6jfneJtttjR+vFixQt5tyBAZ97T0VNDRnabac7PZjlKhrfLMkjJ1io0dv3LlCuKbt27dwrKVrVu33r9/Pz6gjTNnzsT8pp49e2ILdeyxjvCl0nDEQ9etW4fd2BEALVGiRP/+/adMmaIcCg0NXb9+PUKcs2bNKl++/HfffYcTbYyLzaEABShAAQrYlcD+/cLBQUY8zZnefFOuZY/J6N2759527Zm1u6N2e7p4zuwy01hlMGWpWzeBznTTpmLJEll7pgcSMEe4c9euXdOnT8erdeyYuWrVqmcQpVYlxLY/+OCDb7/9FisrtWrVat68edWqVXugVvAkClCAAhSgAAWKX2Dv3pw6XLwosDq7k1ORVykrSyjzlT/7TLzzjjV0CAs6utMUYYZXDeFg15N1li1bphcJS9d/rUq6R7Gd0YYNG3TzkdOuXbvDhw/rPcRMClCAAhSgAAWsTgC90w4dxF9/ifR04WJ0+nhhNQ29U/QyMLqzdevcSyL8NWnHJHwf1mxYiG+IwXshLtuxo0BPukIF8ccfwtPTYEkeMCVgjv5xUlJSgwYNdLubn3322VdffTV//vx//vkHb9fx/jwFQ36ZKEABClCAAhSwToFNm3LqjQ7llSvmaMPRo/Llt5eXCAuzhlhnZqrISpcu+V+70xyKvAcFKEABClCAAhSwTYEtW8RLL8l38JcumamBx4+Le/dEs2Z5brfm9JrD0Ye9XL3eefQd/fXIzha//CKw8A5inVWryq0/y5TRX5K5+RMwx+jOJ1RJqz6IbX/55ZdYL+lp7OEqMER3SXBw8OrVq3v16pW/mrMUBShAAQpQgAIWJIBOZHg4dp+Uy6kjBHnkiKhYUcTGynWL0H974w0ZlCz0pAztxLpI5nld/7D1V2ay4yrORWDxsJXj+RSgAAUoQAEKUMCmBPD2Hb3Tp54SlSrJ5TsRRVRSkU5CwkhSdE1dXXMV2ObcAAAgAElEQVQls7Kz1EM7/T399RAjxDl4sNi4UR5q1Ej8+acIDtZTjFkFETDH6E699YmMjIyOju6IYbqqhBXlmzdvvq9YtsvSWz9mUoACFKAABSiQb4HFi2U/EgnTdpS32Vi6Bq/T339fjBolp5kvWpTvaxWk4M6dsnT79gU5pxjLKjPZndyFozneNxdjQ3lrClCAAhSgAAUoULwC27eLsWNFq1bC319UqSI+/lhgHU8kbEPo7CzmzCmq2u3YIR5/PM/FN5/fHH4jHEM7Rz06SvuuiLzOnCnq1JGxToRIP/xQ1pKxTm2mB/lebL1txDpRX4zoVNcan5VMrXZggXkkJfPu3bv4kKVKD9LcQjoHd8fo1OKtQyE1pXAuQxAtR4LoPlg0oYmugGYOnxBr/2vku++wjLpcSf3557MwXejPP+X71K1bs1XdSpl/+jT+vZlt/DEwflT3IcGg0b175X0ffdRK/p2cFg+XbGdvWBhvrOmjLZc6/Dsoq8XP5uyQWImyaTyWoAAFKEABClDA5gU++EBERYnJk2VDhw8XEyaI5cvlZPGtW0WNGiIiokgAVL1TMWZMnot/uf9LfH+90eulPErlOYB576+/Lv75R2ZiROiCBbJmTIUkUGzhzvzXf+rUqZOVJ/T+ObGxscW7yie6+/Hx8fgPDOz4mf+G2HBJgmj9uATRfdppQhNdAc0cPiFW/dcIVuo8eFC+v/zgg7s9etzDvxsvXy4xdar30aOpJ0+6KU07dy41JibO+GNg/KjuQ3LunBO243Z3zy5XLiYmxvjZFnHUJf4y5i9lOnjefPjqerQXbU5nZTvEx8WZrUOSkJBgEY6sBAUoQAEKUIACFDAqkJGB3qk4cECOm0Tq2lUgtIjX8MnJ4uRJOfeoiMKdZ88KDNJr3Di3cidiT2w6v8nRwXFY82G5uYmJAvtsfvqp3EHJx0d+HjhQrgnFVHgCxRbuLF26NFpx48aNMveXX8Xnhg0b6jZt7NixI0eOVPIxujMkJCQwMNAHD0TxJfwXl4ODA6rBcKfyIxBE62EkiO7/O2lCE10BzRw+IVb91wg2sk5JcfD1zR4/3svRUa5Kqfz7fNs2t8xMObQTKTbWLSgoyPhjYPyo7kOybp0845FHRPnyD3Vl4/ctzKOZst/l5F7yISnUVdI1Kcza6lwLe53r5DGDAhSgAAUoQAEKWJwAgpuYb1SzZm7FsKb8r7/KoCeCSVh8CctjFkXas0c0bSrccl73yzvM2j8Lfz5d4+lQv1D5XdmSCCs9Xb8uv/7vf2LuXFGuXFFUxs6vWWzhztDQUEQ8t23bpoQ4EcfE/uyDsTirTnJTJc1sBBmLPc6IcKclVENHq9gyCKJFTxDdZ5EmNNEV0MzhE2KZf41gQaHLl3PW5dT9BZOS5DtpvCFHatbMwdk5J7hZubLMSU+XXxHkxFjGy5fx782co7rXyU/O+vVi6NDA+HinlSsdsFgn7vv99/K8Vq0e9sr5uXvhlMlMwnUcXLxR48K5IK5mxg5Jsfe+CguN16EABShAAQpQwLYFMEEcb8QR8VQnhDuxr+bBQ5nVWp34L+vA6Wr/Pr3selJa0sW4i7H3Yiv4VhjefPjrjV8vEAsGii5bVqJnz5w3/Yhkrlgh2rTJvcbNezeXHF2C72EtwmQuxpQOGSKUtefRXZ42TeBkh4fqIReownZV2BzhzsTExHPnzims2KHoyJEjpUqVqlChQlhY2EcffVStWjWEPidMmFC2bNlnsK8BEwUoQAEKUIACFiMwcaL45BO5AhFm22gmrKqNtYZ++ik3r3nz3M/oUKoTXlp/953coj0lRTzw6EC8/+7XzyEuTvZb3ntPzkV6+22BDQ7xfn7QIIvBMlkRZWd2bstuEooFKEABClCAAhSggAEB7JCJLmWvXtqHEW388UeBaeLYLXPbNjFMY+749sjtow+Ni+1z/e1rsRlNkw4cEaK++ON07hWOxxwfuHZggGfAMzXzG5XCpPWuXR1KlHDfudNh1y55qVmzxJEjefbnnHNgTkpGSuMyjdv4NZR7d6IEptl7eIjx4+V4gbwD+7Tbw+8PJ2COcOd///33+P2NqZRp6f3791+8ePHo0aOTkpIGDRoUFxfXunXrjRs3cpLUw/2aPJsCFKAABShQaAJLl8rtLDG0EwnvnhHNfPbZ3Itj9Xd1rBP7DrZrJ958M/doQIDsyGF1JKSnnxa4FD5fuSKqVn3A6k2dKuLiHPz8su7ccfz3X3lNzGTHu3Bs+B6qmhhkHUnZmd3F2zpqy1pSgAIUoAAFKEABSxLYvVugk4mY4dGjcr/1Tp3yVO7zzwX+wUv36tXlXPUGDeRRLHE+eedk/CO/+IkMITwcvVpUeOTvZc3GD6lcOcSjnE+5st5lp+2ZtvjI4j4r+vzc8+d8Rjyx1Ts2Fvr669vNmgVhDntkpMAogc2bRWBgTq0wdBThTpEt5sS3dqhVS1y7Jg9gkB+2Yq9UKacQ/6fIBMwR7mzXrh2eMN0mYPrVFFXSPcQcClCAAhSgAAWKV6Bv3zz3X7MmT7gTU8uR3n9fLoqEMKiXXLEzNyEQqcQ6kdWhgwgJEWfOyMjpA4c7sYcm0hdfxB88WPLrrx2UVTu/+kr06JHnvpb+JWd0J8Odlv5DsX4UoAAFKEABCligwKRJolQpceyY6NNHDuTUCnfiTfycOeL55/NUfOmxpUqsc2DjgX9+/kJsZJmYkzW9SjjV+ES0dBWdVSFRpAXdF8QkxWw4u6HHrz0+6/TZqJajELAyLoDO8OTJ2Vi8HosyIvSJVUExnwk7v6vToiOLgi7dWrvFveXZr2RmlSoCnddu3YxflkcLS6DQlo4qrArxOhSgAAUoQAEKWKCAssqQUrG4uJztLDFL6OWXtWOdWpXHMM8KFWQeZrVHRxe4ZVlZciI8lkZCat48beTIbGUZJizp/sYbBb5aMZ/A0Z3F/APw9hSgAAUoQAEKWLEAlr78/Xe5Lny/fnIBTM1hdfHxMgyKPYg00+X4y0M3DEXOB499sOCpBbXdO3ZuWAexTuTgZTzW98TMciW5OLms6bXmraZvZYvsd7e8+9zy5w5cPWBE6tYtceJEzu2GDcv+6y+5rTrW4cxJ2dmJ//xd4t33w+eLlmdVyzlhnB8Coox1GjEt7EMMdxa2KK9HAQpQgAIUsH6B27dz2+DnJztwFy/KaTenTsl8LJqJ/iVeUWMau6H02WfyyOrV8s+6deWfWErpww9zR30aOlEzHy/JMW5U2ee9Tp3sUqWyUQcEWJEQaXVxyc81LKnMvSuyNi4+llQn1oUCFKAABShAAQpYgQB6p3hxXqKEHEH56KNyajj6mcoEcdQeC7ujl1imTG5DsrKzXlnzSnxqfIvyLca3HY8D/fuLMNWOQUhYiAmd1dGjc8s7OzrP6Tbnyy5fOgiHlSdXtlzYcsrOKZlZmbklVJ8QZsU0I0yrxwynQO8U5+PHS5/a8W2f7d/2/stpxzaxZAkumlmzhleLtq/uSnDJEpndn5SR0QkTHnwNe60a8Gv+BMwxmT1/NWEpClCAAhSgAAUsRQAvz9Vp5EixfLlcIwnbWWJNot9+E3iDjdSqlbHaYvn1V1+V6ysh4X025rZ/842YO1f+M3SomDEjX8HKlSvlicq8ePU2l/PmiZdeEtic3cpS8g0R9busc+m8C01ZWTNYXQpQgAIUoAAFKFAMAogZli0rF3DHopwIemLjdSxqhFntWCMeCatnanVNEaz8K/IvTxfPJc8sQSgTZVBYnbBXEDqTGG2JpZaw2qYyBR4T2Ie3GN66Quvpe6f/GvHrBzs+2H9lP0Z9Yuyn+kQsD7pz3d3nPdb/VPp3h4A/A1T9VNW7eCHub+yJ4aMpTmJzLZfa78+s2ntI7l35yYwCDHeaEZu3ogAFKEABCliJgBLubNZMvPWW7BqWLy9jl0h4i75ihfjyS/m5a1djjcGAUCXWiULe3jLKuXGjDJgiYVml+vXFwIHGTleOYdF3JIzixEjSgQNz1gHHfKCOHU2fa3Elzs4VWanCv4UIzDvPyuIqygpRgAIUoAAFKEABixNA77ROHdmlVNIXX8i5R+igYj1MLHyEPzGwUp3Wn1mvLNk578l51fyr6W1My5ZyXyNsv4mlkzAJSenromSTsk2WPbese/Xub6x7489zfw7fOHzuk6q7YjmnP/4I27Fitcsmp+RUoeqmZvn5OQQHO6Dji7U+HRxS/LyXZx3bHJS4s4Hv6kF/VS3TWO+tmWkGAU5mNwMyb0EBClCAAhSwMgEl3IkBlZj1g2jjK6/I2euIfqani+eek+sc9e4tevUqQKPQCUSQtGnTnF0yMeFInTAbCK/WL1zQvhq6nkq4EzPosXanMqVdu5C1fAdfpKoPXmOY7A0zUYACFKAABShAAQoUREAJd6rPQLAS3dHmzcX33wtsFvTaa3KZeCWdv32+7yq55ybW4uzXoJ+hm6BH9uuv4r//xNtvi+3b85RCF7Rz6b6/PvcrQph/bJsXMbyP3HwTi4b2798h8Q+n9FRRrRq27Mz677+YiIhs1Az/HD9+Y9/W5n2S+nVK3P941c1D9jdmrNMQvVnyObrTLMy8CQUoQAEKUMCqBNDzQ8JcIc00fLicRa4kxC4LGrV75hmBf7DAPKYLYa12dcLG7jdvyhWUoqLy3O7qVZGaKpydc3Y6ynPM6r7c3CuSLgpnL1H+aaurOytMAQpQgAIUoAAFil0AvdM339SuBVZPwrZF6DGih6mke+n3ev7WMy4lDkt2zuw6U/uEvN+x/iYSVplfuzbPgfffFz4+4pvB5cO3Va+1+7Rz9i/K4fTqdT4589z7B3u6NKoru8J4OR8Toxw6GXuy28/dLsZdDC4RvOXlLZVKVjJ+ax4tagGGO4tamNenAAUoQAEKWJlASoo4dEjWGcvAa6YXX8wJd3bvLl9vP1jCLCQkvAJH/xBDPpEQ60S6fFkOINUMoZ4/L/MxyQgRT6tP5xfKJoT0FM6eVt8WNoACFKAABShAAQqYVwABzYMHBUZ0aqWnnhKhoaJJE+HvL49kZ2djBnr4jfCgEkG/P/+7q5Or9gn6vqN3ioVBMzOFk9yzXSbnC2eePvqeWLCqnurrjopiZQOX7gM/dy4xdNGrjh/ozFCPvBPZelHr28m3q5aquqHPBsY6cxyL9X84mb1Y+XlzClCAAhSggOUJINaZliZXba9cOU/l0AXEMvAYm/n11w9eaawHj9nxSUm5YzmxLqeSsM2lOl25Inc0QlIfffBbFvuZSVEi8kdZi2o6YxKKvW6sAAUoQAEKUIACFLB4gcOH5XBLdCO1Et6Ub9kiF+5U0tx/5/509CcnByfMQy/nU067tIHvuKx6DSW5gtJbb31/oE63lFXZuHrv3smHDnz6UZfZjdO7HBzeZ29Nz0d/yMjKUF/pSsIV3LHLT10Q62xSpsm+AfsMLRVq4ObMLioBGxgvUVQ0vC4FKEABClDAPgX27ZPtxtBO3enqyNQa8llQIsQ6MW/o2DE5n71SJXn23bs518CKS5s3i06qfcuxBbyyfqhWyLWgtyv+8qm3xJ5eIjtDBLcXAS2Kvz6sAQUoQAEKUIACFLA2AfROW7TQ0zVFO9R7Y2I6+YhNI5AzreO0dpXa5b+J6J02qppw+5s/xaFvxF9/4URsxL7Dq/uM4GlTRtfG8vFr6q0ZvWX0/P2Lb2ScvVHjlRpzpjxf+/nk9GTs/H48NmeFJn8P/5UvrgzwDMj/fVmySAU4urNIeXlxClCAAhSggPUJHDgg64w+ZRGl2rXlhU+fln9i1yNlMrtyL+zerqS9e3M+YHaSdaeIT8TNfcKlpGg03bobwtpTgAIUoAAFKECBYhL45x8TXVNMYx/659D0rPQnqz05suXIAlQTqyn98MPWsxWaff6ijHU6Omb97+l2Ynv5w2vdG9detEheyc3ZbdYTs2qsv1r+5DRvp4ALdy5M2zPtqwNfIdbp6OD4SNlH3m/9/uE3DlfwrVCA+7JoEQtwdGcRA/PyFKAABShAAWsTOHpU1rixzrJEhdUOTJNHunNH/nnrVs6SnbNny9nriIHeuyenzCsbtX/7rdwU3rrT7YOy/o1niFJFBmrdQKw9BShAAQpQgAIUMCEQHi63JDKSMKMcYy3dnd1nPzHbQXeCkqEzsTPmoEFiwwYvdEp9Q/0Hv4jtkGLcKu78Q26V2b69WLUq50y8oT9z3Ovoz6PLVRqyJHzJidgTuFeD4AZNfJvUqFDDUVmQ3tBdmF8cAgx3Foc670kBClCAAhSwVIHkZHHmjKxc/fpFVUUsvYQUHy//VHazxCwkZQujU6cEtsKcNUse8vQUr72Ws51RUVXFDNe9e1LepKSy0r0Z7sdbUIACFKAABShAAZsSUHqnRrqmMUkxYZvC0OaJbSeG+oXmq/EY1Ll4sRgxQnZJXV03Pjrlj2qj5k6VIbIb4aJkSeTJ9ZeU2UiffCIXX0IQFWvKOzmVGPzIYOUWWVlZMfd3Zs/XTVnIjAIMd5oRm7eiAAUoQAEKWLwANqbEYu0YgBkcXFR19fWVV1bCnTduyM/Y571GDfkhMjIn1onPmPNu9W/KU2+LlBjZMJ+a8k8mClCAAhSgAAUoQIECCqB3it5jOcM7Dw3fOBw7BTUs3fCdR9/J17UvX5aDOpVFlJo1E4sWha+tfedIzqkIYCrdYPROo6LkxKOFC2UftVGj3K3b83UXFipWAa7dWaz8vDkFKEABClDAwgSUmex4f57/aUAFbYFmuFN5I44+ZenSwttbRlrVKTW1oBe2vPLK0E7PEOGCOVJMFKAABShAAQpQgAIFFsBMdiNd03Vn1i07vgxraH731HcuTthkyFRCZ7dBAxnrdHMTn30mF1GqXRu9U+VNPE7Gy3i8iUdC79TLS2zdKoOemJxUt66pK/O4JQlwdKcl/RqsCwUoQAEKUKC4BdThzqKriBLu3L9fDB4sduyQ90GfEtFVvEL/77/c276Tv9fzRVfPQrhyvGomu0+tQrgUL0EBClCAAhSgAAXsUgC9U0Mz2e+m3h28Xk4tH9VyVJOy+djg8tw50bmzXEIeq9T/9JOoldNJU8KdmLGemSmXWlLCnUrv9OuvBQaA/u9/ciY7kxUJcHSnFf1YrCoFKEABClCgyAUiIuQtivT1tRLuRFdy/nyBxTqRSpWSf9a7v77l+PECO7O//HKRN7bIbxB3TN7Cl+HOIpfmDShAAQpQgAIUsFUBTGZXFnnXbeB7W9+7cvdKFb8qk9pN0j2qnYONiTp1kqM3Mbpz2zZ1rBPFlHDnsGECC8rPnJm7phMmsG/eLJ54QowZI557Tvt6/G7JAhzdacm/DutGAQpQgAIUMLeAEn+8/6q7SO6uhDs1L429L5EmTZKThrAwPFaN1y1TJFUpuove+lec+FRcXinvENim6O7DK1OAAhSgAAUoQAHbFkDvVG/X9O9Lf8/7bx7a/u1T33q6eJpAuHVLjuu8eFFUrSo2bZK7EWkkzFXHZPYrV8To0WLpUhESknNs3jzx6afCz8/EtXnYAgUY7rTAH4VVogAFKEABChSPQGKiwNLtSMrGQUVUCc1Q5gcfiOho0a+fvBWCntj40hZSdpbY00skXpBtcXAWZbvZQqPYBgpQgAIUoAAFKGB2AaV3ik3StVJKRsrAtQOROaDRgMdDH9c+rPU9KUkO0cQwUWx4tGWL7o6cyuhOzD1q3VqMGyec74fKnJxyJiGZuD4PW54Aw52W95uwRhSgAAUoQIFiEjhzRt4YyxUps8uLqBaa4c5nnhENGxbRfYrvslf+yIl1ogrlnxHOHsVXFd6ZAhSgAAUoQAEKWLEAeqcYXBkYqN2Ej3Z9dPrW6dJepad3mq59TOs7tsLs21f8+6/w95dT0ytV0i2P3mlCgnwHj24wtidisgEBhjtt4EdkEyhAAQpQgAIPK3Dpkuz+4Q02ku7784e9et7zMV1InZSV4Av3+sV/tUs/yzoEPSbcAkTDqcVfH9aAAhSgAAUoQAEKWJtAdrasMWayo2uKXYM009EbR6ftmYacr7t97edhaqr5+++L1avleklr1mATdr0Mysv42FjdcZ96izPTCgQY7rSCH4lVpAAFKEABChSpAPqRjz0mt6FUUlGHOzXfmeu+qy/Slprj4uibx+6RN6o3WQQ/Zo478h4UoAAFKEABClDAtgSw0ma3bnICOoZmanVNM7MyB/wxICMro0etHvjHRLsXLRLTZGBUfP+9aNXKUGFvbxlRRSfOBrumhtps6/kMd9r6L8z2UYACFKAABUwJYCd0dawTZbFZZZEmR8fcy7u4FOmtiuPi96JE8jW5ZKf/I8Vxe96TAhSgAAUoQAEKWL3A22/LBTQ/+0wOt8T2QZrp14hf/7v2n6+b75wn5pho54YNYtAgWWbCBPHSS0YKo3eKiCfCnR5cgsgIk1UdYrjTqn6u/7N3HvBRFHsc/1+/y+XSeyEJCb33JsijCQ8QUEBF7AVFsYMPlSfYFRULz4aAvSsWkI5SBEGQXgMEEkhI78nlyu77ze2lkkDAAAn5/z/zlt3Z2dmZ756P4T//woNlAkyACTABJlDXBLBnvmaN6DQggDIyaOBAuvXWun5Ho+ovfaOYrm8n0p4tQ2ijwsKTZQJMgAkwASbABJhA7QhgdYrc6YsX0xdfkNFIkyaVPwajzllrZ+F6au+poZbQM/W3bh1dey05HELROUs8cmaBPzv83VkuGwKs7rxsPiVPhAkwASbABJjAORNISCCEM8rOFhvaR4/SH3/QgAG81DtnjJUeUDzZA3v/s174aSbABJgAE2ACTIAJNEYC0HXu3k02G3XtSr16VSXw5e4vD2Ue8jP5Tekxpeq9itdbt9KIEWS10siRBH/2KrE/q3sSweUrptOsrgnXNSQCFdzJGtKweaxMgAkwASbABJhAHRCYOZO++kr0c8UVQuM5dOhF1XVW9Gqvg8nUky4yXNadgTUGh6onw+RhMAEmwASYABNgAkygHhK4916xIu3bl04PeQTTzmfXPYsxP9brMS9DhdyXVaaBDfyrrhKp1v/1L/rmm2o6qm7a0HVenik0q5tsY6hjdWdj+Mo8RybABJgAE2AC1RP46y93PSLBX3yBd9LlJvZ8ytkpJhXA1p2X27fl+TABJsAEmAATYAIXgQBMO+FUPnZsNa+at21efFa8v8n//u73V3Nbqfr6axGbKSuLevQQqdhrvdxkdWeNSBvmDVZ3NszvxqNmAkyACTABJlAXBPLyRC8PPlgpKFJddFyrPpo3r1WzhtQoczPJEpmjyCO8IQ2bx8oEmAATYAJMgAkwgfpB4Phx4Xt0++1VR5NXkvf070+j9ukrn7YYLFVv4xqZhl54ga6/nkpKaNQoWr1a+C7VWnx9RVoklsuGAMfuvGw+JU+ECTABJsAEmMC5EbDbKTlZPDJ9+kX1YccbV62iZ5+l9947twE3gNZKniI27WwAn4qHyASYABNgAkyACdQ7AgjZmZJCTZpUM7CXNryUXpTe3L/5PV3vqeY2VJyTJ9OCBeLWww/T7Nmk0VTTrOaq554js7nm23ynoRFgdWdD+2I8XibABJgAE2ACdUTgxAmxC24wXIJARfAxQrkMxZ2niAN3XobflqfEBJgAE2ACTIAJXGgCJ08KLWVISNX3HM46POfPOah9ZdArOo2u6m0k3xw3jrZtIwSGf+stuu++qg1qcR0TU4tG3KThEGB1Z8P5VjxSJsAEmAATYAJ1SiAxUXSH/fNaJKus0xdfrp1JTsr8U0yOrTsv10/M82ICTIAJMAEmwAQuJAF4skdEVLXLdErOO36+w+qwDowZeHWLq6u+/+ef6ZZbKCeH/P3p889FkiIWJkDEsTv5V8AEmAATYAJMoO4JFBQIZ5qXXyarte47r6sey9SdddVhY+8ndy/Z80jrST7tGjsKnj8TYAJMgAkwASZQ/wggkBE8e+qzYHV6uif7I8sfWXd8nVlnnjdynqriLr3TSTNmiDCd0HX27Enbt7Ousz5/3Is8NlZ3XmTg/DomwASYABNoFATuvZfuuIP+8x/6+OP6O19F3RkVVX9H2DBGZsulgqO04z90YpEYsH8PUrP3TMP4dDxKJsAEmAATYAKNh8DTT5OnJ73/fr2eMVanVZamb21+660tb2HQC0ctjPGt4HAOFefVVxMibkIeeIDWrqXIyHo9Nx7cxSXAy/GLy5vfxgSYABNgApcvgaIiOniQOnWiwkL64Qf3PPftq18TRmijTz6hxx4TsdiPHBFjO30LvX6NuJ6PBlrOfS9XGmNQ33o+ZB4eE2ACTIAJMAEm0NgIwN9ozhzq1Yt27653U0eSIa3W7cB+7Fj50tQhOSb9MmnBDpF96OVBL49rM6586Hv20JgxdPgwGY00bx5NnFjvZsUDutQE2LrzUn8Bfj8TYAJMgAlcLgSgQ+zcmb78UkQNgupTESzDLqY4HIQERJCaPJX69qWZM4XfT24uffedaNmjx8Uc4OX1rpO/VtV1Yn5xd19ek+TZMAEmwASYABNgAg2VwPPP0+LFYvBLl4rUlDfcIDSE9U3Gjxd51CFYP//4I/Xv7x7gYyseg65TRarpV0yf2ntq+bCxhIXrOmYCQ9A//mBdZ337oPVkPKzurCcfgofBBJgAE2ACDZsA1IvvviumMGECTZokTrp3F8eLvKZ84QXhxwOdppcXrVpVjvS99yggQKhike8SglUiNsLz86l1axoypLwZn9WKgD2fTvxEzhLaMc3d3iOSzC7vqg7Pkym0Vp1wIybABJgAE2ACTIAJXGACcF3HAnXNGpo+Xeg6mzWj+PgL/MrTup8/n1avFmXv3kr31q0TflFpabRkiSiQjz4S69iBA8X5wu0L39z8Jk6+HfftCwNfcIfsRLBOzARJ2OFLNWAAbd0qbA1YmEB1BNiZvToqXMcEmAATYAJM4BwJwPWmokDh+Pbb1LEjwXkcFpfw0GqiGmcAACAASURBVKlWcPfXX+nOO8lgqPb+OVciKhNkwwZxHDxYpKl87TWRphKxRCFQxSqSlOSOdPToo6TmrU83lVr/sXsmHXjd3VrnRaOOk96HkJY9Zyf5dqp1L9yQCTABJsAEmAATYAIXkACynGOfOzWVNm0SgYwefpjS0wmVNhvp9RfwvVW6xi47YoZC1+nhQT/9RN7e4hIyebLYnr/+emralP78Uzgevf46zZpFyEW0PWX7PUvuQZuZV868tvW17g4zM+nGG2n5cnGJJexLL9W4wr54k+M31V8C/E+c+vtteGRMgAkwASbQgAhgg7pMQkNFtPR27YQSExkw4+LEyrKiYJc7JoZuvpnatKH776f//e9CTRSJkt58kw4dqqZ/rClDQsSikeWcCRz9qPyRFg8KXSdErSG/zmKFzsIEmAATYAJMgAkwgXpAAKvTbt2oRQvh+f3EE2QyUUQE6XS0cqXQLVYRKByhkYStZbeetuf+l7ApadPhrMNyTdGRqj59puuMDOFQD4cn6F4RMv5lV8xzbPljgYoybRq9+CJFRwvvKOhh4dheaCu84fsbbE7b1S2unnHlDHfXUNkiQD50nZjGF1/Qq6+yrvNM0PkeUQ3WJoyGCTABJsAEmAATOBcC69eL1rGxIi7Shx8KrRcKIq9DoOuELzlWckggiaXkVVeJjWvYV5YZhH7/PT3yyLm8rOa2CGFURbWKgWEXXZHgYLEXjoUslogQbPLXlVVp+YgkO+XsIt/LV/HnKCJ76T8RWj1GbZ6q+WvwHSbABJgAE2ACTIAJXDICWAT260e33SYiGikCnx6YUo4YQfAHQjD3inLb7fJR6Tep29vOwcu2ZlhniPxAFOMTMyxuWL+ofiOajzBpTec3E6g7kShp0CCxGP76a1JMBH75ha68kv7zH6G97N1bqF/hkPTf/wpt7OSfHzqYeTDMErbg6gVqSaY1K2nhQvrqKxGZHt74MBZt3/78RsJPNSoCbN3ZqD43T5YJMAEmwAQuFAFl6QZTyo0bRUBMIQVHH71tG5IG4RTZIyEw5Bw2TOxdQ9cJwQY7gihB8MipU+KkWoF28sAB2ratxuxDFZ/KznZfwRtISQq/ebM7TTzGhrdMnSpcf2B8itzxUH3WvWx7iJZ1pWOf1X3PF6dH+KQnLaIDb5KjkJJ+pJ/jKH1TpTdn/U2yUwTovEGiTrNJcxGdwS4OgYb2lhdffLFbt24WiyUoKGj06NEHEQasVPr3749QX2Vyzz3CLU6RxMTE4cOHe3h44KmpU6c6EHKiVH7//ffOnTsbDIa4uLiPEEWMhQkwASbABJhAwySA1SnCK7VqRYGB5ROAiWR4uAh6qQhWgx99antp6ScH+3ey3TDQEfejrLWSwxDuGanX6BNyEt7Z+s71318f9GrQ3YvvTi5IPg8SUHdiAQyvpq5dRQSnLVuEQcDPP9PIkSJMJ3SdkNtvF7aluPvdvu8+3P6hSqafmj7l/8SzYqwIM4/w89B1Iv06xs26zvP4Bo3yEbbubJSfnSfNBJgAE2ACdUoAakTEfYc5Z58+pf3unkW7Z746iDzVP82af/Xff4ttbWRshyBHEAQrPKzzIPDigSoTUT5h+Ik2SC+JGEbY6Ibg8o47xGa2IggGigUrslVqNO6aKn/AAygvT9TBhx0LQowHUTsR5gjqVAjeqAgex1b/BZGSLIp/R/S85zmKuemCvOJCd/rnrW5dbUkG7X1OvO2P62h0YvlrMzeLc/8e7Ld+oT9FLftfu3btfffdB40nVJZPPPHEkCFD9u3bZzablcfvuuuuZ555RjmHclM5cTqd0HWGhIRs3LgxJSXl5ptv1ul0LyDPl/CtS8AtKEY///zz1atX33nnnaGhoVfBJJuFCTABJsAEmECDIoD9ciwyr7ii6qCxkQeF47XXCv1hkdX+vx1vOHVzHKYUCiYPncdtHW+7q/Ndd49u3yxO9cKrhVuylm5M2vjTwZ+OZh+dv33+57s+H9liZO6xpidOStn21NDYtKhwU7RPNEqviF5dw7q6EwpVeCc0mwUFwjozOMBJJ1KaZyReZbBte8+cttZz9EwzZZoJf2XD20ilguP8L7u/f2P+bU/vpPsP+wacnOzuxs9PuLhDFdqlS9XJ8DUTqJkAqztrZsN3mAATYAJMgAnUjgByTUK6dy7ykQ4QdSanlQ6KVJKQJ+9a9+zCq5OT3brOsv4Uu05cwtZy+HARRR7RPOFhJEkilCfyF2ENevPNKvi5l8mUKeIUxqFwja9WoNmEoBPoOpUERFBrLlokKps3F/1fcDm60P0KW5aYQIMLZJnwabldqqLrxHyKkqgomTzC3FPLgsUu1J3dLzhMfkHtCCxbtqysIYwxYa25bdu2fqUafag4odas0tOKFSugEl21alVwcHDHjh2fffbZxx9/fObMmXq9/r333ouJiXkNDnWE3YVWGzZsmDNnDqs7a/cpuBUTYAJMgAnUIwLwZG/blnx9qw4J3uKWqMNp/jufXHr4q72fl/TbLVrkh93cYsqciXf7mfxw9fFHYsf9pWfM48aN/e0/Y/t1eu396Rue2fDk+sT13+77VrR3dZuST0lbyZpMujT6A+cqn+a+cbGhrU1mb6HBRNHrbZm2xbQ9qPcB4dxktyPG+Y948iHahWNf0QlEVqvtJn2uxjGswHG1pNRli8RGo0aJMPNIvnkxMyu5B8V/NHgCrO5s8J+QJ8AEmAATYAKXkADsOu++mxB+CPLqjY/Qsvep9+dUkEA2t1e5rnh/y5bCrxx70mWCSJ0w4VQEkYxg5jl0qLiCrhOyfbtQdA4aZPr+exWWpFDmIMB8qbEavf++UI+WmWqWd0oEXyEILDrLkq0jMJOi7rzmmooNL8C5s4TS1tKOae6uYRp5aC41m0zWU3RkPqk01OIB0lkuwIvrrsvU32nzHaK7Fg/RwTcq9Xv8K2pVGl01x/WvAh8OGlV35Ouup1xX5gU/mIGUCow0P/vsM2g8R44cOWPGDMXAc9OmTe3atYOuU2kFbea99967d+/eTp064dYg/DdZKrj10EMPnT7AEpco9Xkum2rJJae3vGg1eDvsYi7tGC7aZGvzIgZShRIDOf1nw0yYyekEKtY03F+I0yniyH/6qQqmnfjLoeKkdqfufmbdMz8c+IHG04t/iTsGyXeM+ZUhMRNvmSji8yh/j2CbHAmFRo5UffMNPfSQ/NNPqo+fuWL1gtUzFix54+vD4+9MDDPYe29Ot3y4v1/2fo0rcJNLcojgJF/qJ++qwuJvOP44Ks5leBhFRjq0xrSEQl99oUkqVLn+MlVJkr7QqjjcF3vo9f3+pZpwo9B1Khnc0eKS/g3rmkf10nB/JNXPpy5qLzIT5Rdb7cBZ3VktFq5kAkyACTABJlBOID9fqCAR/KiKtSLsF2Gk+fvvoqVWK10R/L4421ia7DyoH6Wto9z9CEukhNHE4xs2iGjxWERWFGxaK4KU7itWUPfuyJipWrlSJBiCf+2AAeLmggUivjuc3HftElHez6DuLItGj6c6dBDe8fBaqqtUSJXGXfFi+1Q69Lao8GpFxiCh+tz2AGnNlLyEkn4Q9WottX68xsfrw41d/yXkWWoynjq/RtnbxRQgMbdQwseUvt6t7nQiXgAMeKHubFcfhsxjqEgA612oJvv06dMW1iwumTBhQlRUVFhY2K5du2C/ibCePyBmLSGI7akyXSculXNUVnsL2szi4mKTEmCi9H0IGDoLGccqSHp6uhXhJy6dYPrQ9kLjqS7b7rh0g6kPb2YgVb4CAzn9Z8lMmMnpBCrWNNxfyKRJ3nv36vr0sY0ZU5SWVh6c+teEXyetmuSQHEioGezokpMQJyV1/2bG0O5tYauZA+f3ioL0m/7+AeHhzjvuyB4xQj1gQMBLLxV9OXfgt8PzB3/xu2HVKkVTiUdO+bY4bG7feoTPbnvS1rRtOQXpBgfFmsIHhPS1yLrkNP1Xf7W8d17Toz7y0pKdf2VszyvJkyUNdJy7M3fmF5WY7WS2UZw+ZELkqEEdx3vGtHIvuIuKCKV+S8P9kVw4rheZST7+nVaDsLqzBjBczQSYABNgAkyglAASnHzxBX32mfCnqSgrVwpdJzx1EAm+bdgOWlfhZtNbqd1M+imaChNeenzH7t0dfv9dhfRBSjh2chQTfKIDetKRD+n4V+oe87/6Knb2bKHThKIGzuyI1w5p21Z++GE4/QhBVk0UvAhZLJcvJ4TpRP6idu0qaWAVZ/aK6k48iDe6X1phdHV8as+no678nZBu75As0ZqB4jzxG0r9zV2fUTnhj7u23vyRd0joNFVq6vy6OHZ4nva+QG3/K7ISQd2ZsdHtm59/kGQH6bzJI7LeDJ0H4iaACJ579uyB+3kZkbtheu0S2HIiBOfAgQOPHDkSi3/A/WOZPn36I6V7CNCHRkZGBgYGenl5/eOOz78D/OsCEdMwDFZ3KhAZSJUfEwM5/b8uZsJMTidQsaae/0KmT1d17y6PGVN1EogFv3q1Kj5eDg42EqG4ZdGBRYquE5nWXx74cquANjNnqrqOlUe4ttWrFWwR4m+V4OCgYEvRb1N+2Ddz0V7VYs+FrjjxMNVs1UqeMAH+SodPNR09WpXyltxXQ70kx9wtc2f8PqPIflJFX/cI7xFZ8u8NIcmfnPwgfnf86W+xmCzd4rqPaTnmzk536jS60xvU85p6/iO5JPQuMhOjsfxHXmW+rO68JD8AfikTYAJMgAk0GALFxULXCXn88arqTigoIffeK+wxad/K8inBJLDnQqEg03mRPc9jbafVn/x8kkZGlqnI/rqHEj4pb3/g9euu+99117kroNbMypLmzpU+/FCt0bjVncq9Xr3I21s4rQcFEdx2b71VOCuVZS5SnNmrqDvL33J+Z7n7KP49ip5IAZWjVWJ2yUspzaXNPPgWSTbyakHD97v1rwNWC41nyvLyd2a6PKbqrUCnCQkdSh7h4iSwD/VfIk4QhlWtJ2saFRwlSyy5PdnbVjX0rbfzajQDu//++xcvXrxu3bqIiIhqJ92jRw/UHz58GOpO+LZvQZqGUklF6FwiJcQnjsqlchPnUGJWMe3ELeRth1R8EZSMl1zPCHVnfRhGtfwvSSUDqYKdgZz+O2QmzOR0AhVr6u0vBC7g774L5yEVMg5VETgGPfAAhYZWWkAu2r8I2dVh1zmh3YRPRn+iUYusl889h0OlZlW6at9OFn5JTy6kb77pUFjYwXVbjohQwblpwgRVhw5KYqJeMWLNu22bavFivFf/yH2PjGgx4o6f79iQuOHPk9C+/kkxRFmkU+uujL5ycNPBYZYwp+R0ys44v7g+kX2UwVSdRsO5rrc/kkuI8GIyOcPqi9Wdl/A3wK9mAkyACTCBBkAAJpyKwHYSLjWluZ3pxAlsnos7Dz7oup+yQhxbTSNzFDW9TZzDd92l7sSp+uQPkT1H0pEFtPd56vEhISVORYEVZJc3SF2+p/3ww1CtZiDpSqVmRAjlicCdUL+6QhQKL3XkgleigmZn0/z5orLO1J2IubnzSbIKTZBwVL9yMYWL4EtuwUR2zSi/xBkidZZ5+1fM5NN2hrCULE6mopNuZWKlx+rBhQQTTpf2WflwFUekMZJfF4JpavoG4aR/9CNx09vtK10Phs5DwD+x5ClTpixatOj3339HlqGaiOzYsQO3YOOJY69evZ5//vm0tDTlP7GVK1dCp9m6dWvl1q/IFFYquIXGNfXJ9UyACTABJsAELgmBNWvEa1etqrQ0RQ327+ADBD+higJd5/jvxlfRdZ5l2FjyfvwxvfkmHTzobhkdLV9zTda//uU7dKhKW0mPhH33sWOh/8RuvQgfjwDaN9zQfP1t60/mnfw1/tc3Fi8vyTe/eNuIq+Ku8jJcSjeIs0yZb192BNSX3Yx4QkyACTABJsAE6pLAjyJ/pBDE5UNgzTL58kuxlY2AntHRRI4ioQ6DxN5BzSeT1uRu1qo0WmXmVuHijUw4MBJcDa8hmfR+1PcHGnWcDIGExD7rrxWd2AuEkzv6VQQnh96hXzsIp/gfgil9ExWnImW0MCYVAQfFES72isD/fasrNLyPj7vmn/6x+U63rlPpCLE40za4x+YopP2vimrEJ20yjrr+j/ovpWb3lb9R51l+3vJR8m4jLpd2oPwj/3RUF+L51DVUdEJ8kfCR1XQf7PLyQtL5Pc/SKSi/VSK+J0u9IQAfdiQj+uKLLywWC+JvQhBqE6OD3zpSriNL+7Fjx37++eebb74Z6drbtxc5poYMGQLl5k033bRz587ly5c/9dRT6ESx1rznnnuOHj06bdq0AwcOvPPOO998883D2HxgYQJMgAkwASZQnwggESWcgcLDEe290rCwOsVGeFRUeeU56zqR5+iDDwjbh5MnC10ncmViiYks70ePyrNn27t2LU+IWeHNb79N48YJBSmSZOJpRcK9wvd9dlf+/O9G08fj2oxjXWd9+gU1irGwurNRfGaeJBNgAkyACZwfAYdDpE2HdO4sjvAch8C4sls3euIJcX7TTeJISOoNb27YdVqaua5LpcX9NEbkP6HcvZS8rNKt1tMocgyZm1CrR0X9yV9oeTf6qQkt60rrRis2oaodU2nrfZSziwqPC3/qlb1pUUhI5osbN9KxY6Q44yKaZ3Iy7d1LZWrZ0nTTld52zhd5FeIrebcmjUkoalf1pZ3ThcZz32yy55JnHA38ja74Rmh4w4aSyzGqXNo+Lc67zyO9NwW7QnmWZNIvcbS4JSGvEXL+1B9RbDajbiBNJfdk9wCb3UMqrchctN8VvKD7+xRSc5ir+jOpRjOSd999Fyl6+vfvD8tNRb5GMi8ivV6/atUqaDZbtmz56KOPXnvttb/88otCRaPRwPMdR1huTpw4EZrQZ555RrkF+9AlS5bAqLNDhw6vvfbahx9+iOTsjYYlT5QJMAEmwAQaAAEoJH/6iRC18/rraeFC94B37ybkGvr009Klqasa7uTnZteJmPRdutCkSaIvaDxh3ZmSIryHkOK9Sr7Oypz0epHJHanUofSE+7sr+R8UpMLjHnaiISENgCoP8fIjwM7sl9835RkxASbABJhAnRFAWnP4sMMrB0aUcHWFk2t8fHkET6ztxg1PorX3CWUlJGRwNWtBUzB5xlLBEVpbwRMcMSKbT3GPEv7vKh1tf5QQJVORkz+rNk4weQ9UHZwjKuAMDn9q6EAV2fmExrdzVJRQwcDLdtMmQqSknTvFPWzA//vfYu1bB3LyJ3cnMMzs/Tkd/5L2vSxqcDz2JRUlivOWD4msPjUJhg1bV7MrXiky//h1oq33CzVu3kFRkO2n7VPuR3P30+EPqPV/CKwuvthy6YQrd3zTW6t/uUcEQRN6rDT+QFD/6ptx7SUiAGf2at+M9EFr166t9hYqkbG9otN6xWbQnG7fvr2mB7meCTABJsAEmMClJYBwmNB4QgMJhWSzZpSURGFhNHIkEqmL/W/4lSuyN23v2G/Gwod9bOuxZfE6axw5dJNTpxKSE0HgKDRzprDuRBClcxSMBKtT7MEjz+dbbxFCiyJRp2cFn59z7I+bM4HzJ1Dzv1LOv09+kgkwASbABJjAZUIAvkKQW8YlttK8M2SQHXqVisrEPr2dPrvGuHWd8HGOnlD9tMP+7a6HchDmkIPW0pW/kNajtFJFLR50B+5Evu/BG0hjVKUs9T7wmGjQbha1f4YiRlGXt8kUSqYwUVmaBr1/f3EFzYyi7oTx6TffCM+mfyqYpxLLEl7qw/eQbwfq8AKNThLROSGKrrPjK9Ts3jO9CMaeiq4TjeDdH3OTmHvc3RT8L/FU0vflz257iA6+IUxHL74c+4K+8xH5iKDVhU65JoHDviIIxoqERSxMgAkwASbABJgAE7hEBKBMhHIT8TPhtD5okPA6WrKEkLzowAG6+mqR0xLy+7Hf+yzok1qY2j64/UejPjpTOqD8fJo+nVq1ErpOhOG87z6xt4/I9Oeu61R4QA+7bZs4RZAlbMPD6wj78SxM4OITYHXnxWfOb2QCTIAJMIGGQQBKP8VD/Okrh8OpfNb4FzDuv/92Dx6rzPcfXyhCbUIFNmQzjc1yK/JOn1zHlyjyWpHgG57dwf1FvEt1Ze8KaAYRxzNkEP1rhcgJ3ssdj1MO7FtuAin84pOpnyuSaPISyt5Je57r1k7kEdq1S6xLIdjhrxvJ2ChSkMOBvUyBC0UtjByRTylshHgFrDVbTz2TaWe14/DrLDzB+3wjHszeQQXH3K1SV4mT/HhaP1b47Ne5pP5Gv7anb31oRW+RTb6iHHzTfQXV7Rm8tMq819WGc551nU+HO2QCTIAJMAEmwAQaKwGsTrEZP7rU52fYMELaIviMQ0sJT3YYZUK+2vPVVZ9dlVuSi7zna25eY9bXoG5EX3BfatGCXnqJbDYaPFjsn8+d+w+zXiJKNpamkMOHKS6usX4nnnc9IMDO7PXgI/AQmAATYAJMoP4R+P57kfE8J4fiwk54y3swwK5ebxO54lGSCJ0ZES5pfnX5dyNIZYAreVBNAkPOvt+Ro7g8hdHpLcNHEIoiTa6V+i22HvrU2O0lVRVvcb+u5NFE2Fcu7Yi2w3UfRvit37jR5TBOdbemhGs5BLpOfeW0R8gdf+XPVJQkQo6etxgDCGpchMJM/lUE/ZQcwpdfLhH9weTT0lzoUhHlE83OTxAVNHs7ITV8mfpy++NCewtBgvXf/019F4lAq/tfoeb3U+YWUd/vp+qTFJUNQFv67wQfkeiGhQkwASbABJgAE2ACF5/AoUMiYjsKNJOKDBhA06YRYs0jQVBkJEmy9Mofrz6+SqTKvLbVtZ+O+dSkK82fWWW42MCfMoUQDx4SG0tz5tCIEWfa+q31bKHu3LOHcnNFmnhWd9YaGzesewJs3Vn3TLlHJsAEmAATaOgE7Ha3rhMTefLGL5XpaJ2ZzUIO4VytFt5DmvRVVHBYmHY2m1Sr+Zala69N67Bhea3fqEarCBVei9Kgn0jGYj8+fdQrSn+BgW73pdp0f6Y2zhI64bIhjbm1mmYYwD/RdSo9Km7jyH0EKUggqQT++8LPHZKyjHbPoh8CKf79at5em6rNt9OKniLTfeK3wksdZrBZf4nnYDnb5Dpxsm0K/XGdMMv98zZxCQ1yxNVnX98P3UrhV1OPebUZArdhAkyACTABJsAEmEDdEkC8TthyQtE5dCh5lIZEQmR5Ly8RxxO6zm3J23rP763oOh/s8eDXY7+uXtdZXCxUpEi7CV0n/MxffFGE/IR7/BncXM5lJs2bC/Xr8uXk6yvCibIwgUtFgK07LxV5fi8TYAJMgAnUXwLwEoJdpyKjO31OpalQ3n7wg6HTX/3ho/20+1tKWycaxNxCZaZ/F2dCLR8lY7AIGBrYD5q7G/t8/shns0vsxjrbPz+1UiQUQpDQwN4XakImV3jRohNUnCLyzkO8WlL7Z0XCIhhmokD+uoeOf1VxACoiX5tNhfxQZxDZQekbxP0Ti0SBXhWGnBAE3wwdTMYgSvxavLeiRI45Q3/lt9DVlaXpm2r1ADdiAkyACTABJsAEmECdEUDCTKtVWGQOr5D8EipKJAUKb5Mw8YcZn+/+HC/z1Hu+MuiVe7vVEGAdedNvv90dBQkB6V99tS6CvleaI8I9tWkjAoHW2dK0zhByR42LAKs7G9f35tkyASbABJhAbQgglSTkP/+hW0bv9TmyU+QR6rGANt00JOb9v/54omv2ONq9191Ps3tq02FdtsHCFml/UCQnPLK9KWlEp8XfbxnbtGkdvURJIhQ59gIGqUQYUAg0jyiKeLUWukioFGF0WSZpv1ecEtSdhorXtTlXeoM+us0TonlFV/QxKZR3gAqPU1SdZLKvzWi4DRNgAkyACTABJsAEzpPA22+LZOlPPlnp8bySPOsVz0/Z/IYNwXyIbmx34yuDXwmzuDJbVhFJEjE6Z8wgnCCB+nvvCYvOCyPIpYkQoGU54i/MS7hXJnAWAqzuPAsgvs0EmAATYAKNjQCySf7xh8h3+cADFJoq9skpdBhF3wjdoipnd1frDZRbquv07UjerS8ZHyQ4ihhDh97q22I91J1wZq8DkSURUhOCXPAXTjxOSx7v01a8rdl9wqhTpaU+X5LsJMlecQgIR5WXm+fl7aWuEs+0yjgRKRXfCxa5WX/TvheEPzuCq+JLQUQogIfp4BxRYwoRhYUJMAEmwASYABNgAvWewL59tH49fe5alpbJhsQN478dn1KQgppBTQe9POjlzqGdq58KvJZuvpl++UXcxcmbb5JP5fjs1T92nrXQySJvElt3nic+fqyOCLC6s45AcjdMgAkwASbQAAkgtFBCQqWE5oiLpGybjx9PoSESbflCTCtmotCURd9EO6bRqRWlE1VRB5Gr/VIKEvIQTbhq6/wdNKl2EURrHK01XegH9d4iN7rWQoFX1Njyn99QnNmVfto/R/Zcir1TXMXeRk1vFSfVRo+SJGtamldQkAieWhtB/iglkX3FxsiDhEidQf1q0wG3YQJMgAkwASbABJhAfSDw8ssE1/OKe9vv/vXuA8secEiOOL+4OVfNGd5suKra5RNGj3zr115LR46QwSCsLpGL8wILQnauXk0hvK18gTlz92cmwOrOM/Phu0yACTABJnDZEpBlGjeOfvyREKkzNJSg6OzVi557TsRWNxpp9p1z6UtXUiDo/sJcOdPDhwt1pyKjEkV2HWOdWFT+A8L+XfFwoHb7rh0OUv+Dv9NPLqY/biBHgXsoIYNIc8YQmf9gyOJRBAYtE2ReQrqnMqlppf4P31j2OBJGBfevq864HybABJgAE2ACTIAJ1C0BeJwj9RBKmSDr+tKltGVLec2bf7750PKHcD2+zfgFVy8w6801juGTT8SWOKJ+RkfTd99Rly41tqzTG8jPzsIELi2Bf/BPo0s7cH47E2ACTIAJMIF/QAC6TgRnh64TMqY0V81rrwnnJq9AxAAAIABJREFUHshH76eHpZQmQI+8hpSk6l6t3C/0bErmyH/w8rp71NJMaGMd+YSAm+bo8+xXrae/7ivXdaIXBAa9oFJRl1pR13lBX8qdMwEmwASYABNgAkygfhNYvJimT6fRowmxlb75RsSRRx72//6XFiwQ6kqILMvPr39+xm8zcD6j34xZ/WfVaNRZWEiPPkrvvy8eQy/whPfzq9+z59ExgbokwOrOuqTJfTEBJsAEmECDIFBQIPa5v3D5qVcUrAkhTZrQuHZv0H7XHdghthSb50JgeNjlTdrzHPWplDHcffeS/IEolkjvg5Q+f/zjfDvI9t5zIR37nKInUtjQSzIbfikTYAJMgAkwASbABBonAezEQzOJtejTT9OLL9KyZXTffXTXXeLSbKZ//1tQsTvt9yy+Z8GOBTiffsX0M+k616wRDx89KpavUJei1DIWUOOkz7O+HAmwuvNy/Ko8JybABJgAEzgjgSlThK5ToxGrSWyhw429Rw+y2+nvv8VjUyZlq+PfFmd9F1Hk6Eo9tXiAUOqVQBtrTSFXOs7zFPG4lVpNpbBholxMQc50FibABJgAE2ACTIAJNHoCWJHC7/zXX+nKK4X7UadONHs2xceLbOw4ga4y15o79tuxq46uQs7GucPm3tvt3uqZ5ebStGkEB3hIZCR9+CENGVJ9S65lApc1AVZ3XtaflyfHBJgAE2ACpxEoKhLOQZCffqLhw6ldW+f7H2jeekvUfPYZSRI9OOh5OpxPPu1ETpv6L0ih/g+zqCM3Uc4uCh54UefaeQ5tf5T6uL4ECxNgAkyACTABJsAEGjGBkhJ6911auZK6iySUBJd2+J3DLhOL1eJiEVN+b9re6767bm/6XrPO/PXYr4c3H14NLaxx580jZDVKEbnahaIUcUAtlmpachUTaAQEWN3ZCD4yT5EJMAEmwAQqEMDCEatBxD8SbkHbHh6a++7QD1aTzodImj69HR2eR1teE83bzSK4ijcGMQYRchNdZIFRatxdxNadFxk7v44JMAEmwASYABOofwRWrBD6zW7d3COLiCgfot7gfGvz3MdXPV7iLAnxDFkyYUnn0M5VZ4A4TVCXIix9Wpq4FRcnjDphJsrCBBoxAVZ3NuKPz1NnAkyACTQyAjk5Yh34/PNi2uPGSqp9r9DBN8TFytLklwjNudd1u+1/KbI0gVEjo3Txpsu6zovHmt/EBJgAE2ACTIAJ1FMCGzfSM8/QuHHCnLOKrD229oFlD+xK3YX6YXHD5l89P9QSWqkNXNfnzqU5cygzU9RjPx/pjW69lQyGqn3xNRNoZARY3dnIPjhPlwkwASbQWAkg+vsjjwi7TsiAniee7X8j7VxXFca2B0WNRxNq+1TVW3zNBJgAE2ACTIAJMAEmwATqjsDmzULRuW4d3XuviCZfUdIL0x9b+dgnOz9Bpa/R98WBL97d5e5KSdiReB3b+G+8QdjPh8Ci84knaOJE0unqboDcExNowARY3dmAPx4PnQkwASbABGpJAEE577lHtG3bViwrR/vcpUpZJzypO75C8e9Q7l6KHEu2bEpdLRq1epTUvFKsJVpuxgSYABNgAkyACTABJnDOBLZsoUGD6P77af58Cgkpf1yW5Y93fvzYiscyizNVpJrUZdJzA57z9/Avb4FI899+S1OnUlKSqGzVip58kq67jrSs3jnnr8APXMYE+L+Hy/jj8tSYABNgAkxApB564QWaMUOgwIISKYlURYn003JxPeRP8mlLQX0p8Vtq9RipjZS8hGQnRV7D4JgAE2ACTIAJMAEmwASYwAUisGoVjR0r1qhTplR6w6HMQ/csvue3Y7+htn1w+w9GfNAjokd5C6xrkbV91izaJdzbKSpKJCaCGzwSt7MwASZQmQCrO/kXwQSYABNgApczgQcfFBGNIA88QK+/Tqq8A7TlbiKZgvoLXScEGdhRFOF4nZfzb4HnxgSYABNgAkyACTCBS0/g7bdFgM133qFbbikfTImj5OU/Xn5h/QtISWTSmmb1n/VQz4d0mlJ/I7tdKDqfe86t6ES+9UcfpWnTyGS69PPhETCBekmA1Z318rPwoJgAE2ACTKAuCOzYQf/7n+ho3jy645qdqnWPU4rLrhPS/L66eAP3wQSYABNgAkyACTABJsAEakvgyBF6/HFavZp69Sp/ZE3CmslLJh/MPIiqIbFD3hv+XoxvjPv23r20cCF9+qk76zoUndjMf/hhkcqdhQkwgZoJsLqzZjZ8hwkwASbABBomgfXr6aOPRFaipUtJlkUsoztH/UGrh5M9l0hF4SOp2b0UNrRhTo5HzQSYABNgAkyACTABJtDACOTlCXVlSoowyrzxRreu0yE5ftj/w+ubXt98cjPmE2wOfmPoG9e1uU6kJELK9a++ogULCDE+FUGAz7vuooceYkVnA/v2PNxLRIDVnZcIPL+WCTABJtAwCfzx44a8+N8MIR1tOSdkp+2KWydZfIz1Zyr79glF55w55HC4B9Wls3Pegy/SqpkiKGdgX+r1EXk2rT8D5pEwASbABJgAE2ACTIAJ/BMC2OHW60WeHpx4ePyTni7Is9h6x078+PGUlUW+vjRhAj37rHww49CPB358d+u7x3OP4616jf6uznchJZGP3ot++02Yc373HVmtYkCY2MiRdPvtNHQoJyO6IF+IO71MCbC68zL9sDwtJsAEmEBdE0g5nrXvs8cGxiykcFfXrvyQ697Z2Hvql1qdiI+enVG0ddEiSt8Yqt9kMWRltfm+04AudT2K8v4Qqz05meDfs3kzGQyEPfOtW2nFCneDgQNp2DBq1oxGBE5SJ8wXtVHXU/d5pPO8cEPinpkAE2ACTIAJMAEmwAQuGgGnk957j554gnx8xDsTE2nyZBG0HcaRZVJQIOwjt22jq0c7msdphOHkBRaMCqmDCgtFXM0vvhDJhBKOydOeOdVn1L4Dmft3p+7usGDV0eyjyigCPAImd508ufOk4J2Hafos+uEHMQ1FWremO+6giRMpKOgCD5m7ZwKXIQFWd16GH5WnxASYABOoEwIpifn2EnuTZn6H96QkbFoTV/z0wJgj6Dm7yE+W1ZnFkc0CtveL/mbZ7HC1X7vWg0fm/Th4cOgOMrtfbt81Mb/z3xaf8wmgfvIk/fqrWNphG3zPHoLN5p9/UkwMPf00de5M+/eLbW/seR8+XHWiWFyOGEG33UajRsFrXabjX9JG6DpV1HMBxdxSafFb9VG+ZgJMgAkwASbABJgAE2gwBKDHxHrv2DHh811SIuw6Q0NpyBDq0oWuHp+TmJdwMP3I8+8e2Zt8xBByVPY9Mu3zRA+9salv0+b+zVv6t2wV2KplQMsW/i0sBss5zRnvwi77smWUn0+jR1NYmHgaJpwHDogAm0lJtHSltcgYX+wR7xcXn284FDXxgJ72zczPoc/K32NU6a7x6nm9pedVhaH6j3fSdR0pPd1928uLbrhBmHN268Zr13P6NNyYCVQkwOpO/j0wASbABC4xgY0/rC48+H33u2d7+5dqCi/xiEiW5OWv/GdIxGy1Ws5d69XUmB9nlqHHTMmNKOr8dWyP3hggoqNvXPhmb8NDQ6PniPEi4lAoZRYExDsmGsO7haU8Ghd0YNUnbw96YFrtZ4Nl4i+/ULt2IqoRzqvI9u1iTVlFvL2pf3/SaMRGOLSiSEk0YXwx7ZxO339CzmJyupyAWjxITW+t+iRfMwEmwASYABNgAkyACVRH4OhRoTqsb0m/4eGNhSLcd4qLhWIROX86dRKJys1maBvl7ae2Lzq0OHTqpjsPbpNfK1UdhooFaknpHIvsRXvS9qBUnHTHkI7Xt7n++rbXR/lEnQ4DekwUp126aVRe0p7cUHNeZkKewZbXJiIv2CPvval5HVrZiovtJzJOleiSgsNPBhpPtmyeroJpgEzqTBLHE+KolSlCtkTaTMFFar8Cpyk9W+VYT4RSKnB0h9P6mDFCZVsPffJPR8M1TKB+E2B1Z/3+Pjw6JsAELncCDruzt3UQRdHqT4MHPvT0JZ+u5JRXvjevmWP20CZuy0lvjzyM6khm2xxns/ARs2PjYssG2WPifYffnRcXsLesJr/bip5YeEL5+aUtSL6tvf61gtwpnt6mFf97L6z4A22/L1p2b1nTHDdu1N95pyo7u/w+DDmxzu7alfz9hU4T3kAff0w2G0VFUd++BHf1a64RC1whUGva852FKZoDL9EPi8mR7+5FbaBmk6njizW9lOuZABNgAkyACTABJsAEKhJAvKABA+iBB+iRR+oLGLiiQ9GJ4OxTpwpfH+TswfBatKC4Nnnrkv9YfGjxz4d+PpF3wj1cJXxnYaAuP/bqvrGtQ5u20Ie1zjPkrHGs/ejwhFHHinJTirLTrGmZ+sJc2WF3qHc4VTsOqP+TZLD4ePh66Tw9VHojCmm8MwtOHc0323O85Nwv4TZUUUrfRtsq1J48MzEsUEvXqGiIoJwREdSypVjsXnmlKDrdmZ/nu0yACdSeAKs7a8+KWzIBJsAE6p7Atl/X9HL16u9YTVT36k4sWBHlHDvEfy3/K3PXYtKY+t75kNmranKhEqtz19rteckJ+pSvror+QZnnZturlsi2uQdWRA24PbZVm9Mnr9FpA8av2r5ptfb4/HZBv22W3uvh0nVCuo698cS8mRE+x3/77ktLRLshvveSLx3YML6w1d9mi/irx2GX43cckyQpqlXU1p8WB6Y+M8TvUNKrskpEARW76EasMV3nbkmmvv3p3f5ipVkecmlx6V3JCpNUTVljj0jq+BIF9CRTGGmqTrZCp3zKBJgAE2ACTIAJMAEmUInAmjV0/LhQL15odSe8wnNyRPCiM4TTxJrwtdeEirPPFfKCr9P9W+4LGhYfnxn/c/bhQ9sP7V+5X5IlZfQeOo+rmg4ZZe7So8g3Olve/k1yrCoh6O94SlhR5if+LzR1RXSvQSqrI6GQJHfIeqW9Ta8pMKqzdY4cvZyHwPEGyteTVUuSCopKfYA5MNAzGCXIK9TTYFHB+QhRlsoKJgkv9cBAdwkPFwa0aMPCBJjAhSHA6s4Lw5V7ZQJMgAmcjQBWb9uXborLfZJcwcdbB/2Zk57nE+h1tudqez83q3jLN1+EF74dF7jvSFZ0t6B4Zb226oOcPvc+mxSfGtEsVJak+G0HU3f/1pLmdPNPIANRNDkl9ZbC6dFXTujRsrV42cCrzvBKn5CQTmNutBVfk3LsSI9WbctaanS6o6q7Iuipf5nucKZjqSfutAzZnf5F2InO61p0a7nutXsGNPlA1B6h/ljpucIeVRLoNZ1V63B9lvDywf+iDi+Qf3dS9KbVdMBVTIAJMAEmwASYABNgAtUTyMhQv/yyatw4QvpJ6CKVFEDVNz2vWrjJL1hAwcGUm0tvvEGZmfTMMzRjRqW+4Jm+/u/01+cnbjmYaDMlWj0PNH9x39/WfWM3Z4roSZWlkz7qZnvrYVn+cUeyNW9totQflfuKPUF5W/gKxcYesMfuzQhq19Pz5988/Zv6/HnAp3kb3U0TnEF+jtyi7G9XHTiYEm83pzk8MjNsmU5jYYGeso2UY6RskzjatFibiuWpTq1rEdCidWDrNoFtcGwf3D7OL07Ni8+qH4evmcClJMDqzktJn9/NBJhAYyNw6O+jCet/VBt9vZu0sW6fPSz6O+g6c4p8fDxy9Fr75uVL+k684Z8zSUlI3/3t6118PhjslUUu9WlsULwkqU7mxUT6HB0U9nLB13ObGwutOwxOWdPRUKTkWM8r9kotjHHKOqn9y73+NeCchqE3mUIr6DqVZ2OuHEc7nsK5Ri3tSbui0HtkD8PjgZb0I6seXLq66zBF11n6mr9Sx/oPeCg6JkSNPfDzEJhw2vMpaxtFXkMaaG1ZmAATYAJMgAkwASbABM5OAGnEIbAyhEvQ7Nn07LMBiBf09tt08CAtWUI33nj2HmrTAtv8yDP55psiww+ySm7cKCwdP/pItpmP3nD/4X3GpP3JiQXaRLIkpZUkFmiSZE0JBZMqkAxOMtkp7Th5OyjUTh3UoR2dQS2s5uhcVWhqoc/JTC0sUQmlVOAhHhtLTZuKHJfKUTlBuHcicxJd35T0S8RMJ9xB3Q/TtGm0/U/67DM6dZDuv59efVVYgv7+O02YQNffnLs9YXuBpiApLykxNxFmpCadKdonumtYVyQ40mnY8bw2X57bMIFLRoDVnZcMPb+YCTCBxkCgpNgBO8rYduHwX9m6fEvTxKHNA13BKXGIJrtD+1fe5HbXPbXu67f6+T1nSP6YqFbqzsJ8274/dtitxYHR0c06Rjns0vGDqU673elw5KVnBB+eMCTiCF5yMicqyXR/aLveOadSmnTuERkWsfmNm3oEfeZpLMRdo17EbYeW81RBbI7/HZ0m3NbMpMQ6qpsvE9m6+bE1LaL9Du5IHdTx4ZXoNH7Tlc0SevaMWkGEQptTxvd45MukXTuykhI6jR2ZgSzsnkHC5ef8xBRKXs3P71F+igkwASbABJgAE2ACjZAA0ohDuRkfTx06CI1ndrbq88+zRo70xcJ10PUHZ/9yMD02ISE7ISEn4XjucY1KE2QOCoTLtkcgTpQSbA5WTqAKrAkgAiv9+98ip9CkSfTqm0WnCtfu/3vFiX2bVn281ye94H8G8l1IZht52shsdx1t5GEno5OMjtO7TCFCqSxxcdS9u7t07HiGFEuRkSL+OxKeT54semjTRnjK44lDh0TGy1tvFRrPMpEkS0u/lkFBQee5GV91lHzNBJjARSXA6s6LiptfxgSYQKMiYLc5d701rFvkqr+WDnBIpu6RSzVmKT0/OK04Ntxzf3pRk+zY53tOHIYlVOygW+nv57qGrTj+doxRW5xRFGZzmoLGfBverNzHe/UHH/rnLMiU2mvl/KaWDd38EgXMffT3iiv8jMmxAUfL2QYghXp4etTcdteNDHeFBCpLM9njwU8Sdz5cUlgQ271H1smTRTk5ke06eF2wsEH2rp9s3PZdu1ueUMbWrFePfX92bx28pchmOpzdM/qa2XA5j+zQGQVBPBvVb4MnywSYABNgAkyACTCBi08AVpaPPiqCRg4eTFu20MyZIhn4ypX0558i2vvAq6zbUjbM/H3bRzs/SrIlUSt6eHltx6iTLJqCwJB8/04Wr27GJvKeUHV6ocWa5WXNNubnPOnIjfFP083L8XqtpFkJ9a1tr6XtYLOJsO5IYQmfdES9DAsTmSthxYnSurWorLXAvFSvL2+NREGjRlFAgLA8RZJMFibABC4bAqzuvGw+JU+ECTCB+kXAZnWsf/ORgZGrMKxukWuUwW1JHd/mtnltfISHuZckpaWlKfXhLWO3LxnUKXRVlP8x1AR7p+K45td54Q+6kxcd25fUWz/FFGEl2qQ8UmD1zCoObuJ7pHPEBtQg4KbNoZdkjUPSphVGa/p81L5LR6VlpaNK1aSjeykXEN20mgZ1WtWsZ3eUil36Dv988+ZlHcbe2t7Ts05fxZ0xASbABJgAE2ACTIAJnIUAlHrffEMwcnz+eZHZHD7dY8YVbz755/7gteuOr7tn/iarA6tNIUat0beojeepiGhHsEeaPx3z7tsuv2ebU9asdHtulpSb7czJzz9RYHEW+dlLAorlgKJ83+J8NVXYgK8yllPl10UmbVFIgDYq2hLbWhMVLfSVWBmazeKonCDPpqLfVI5Qd9aRVNR1Kl1+/XUddc3dMAEmUJ8I1Nn/a9SnSfFYmMAFIJB7gLK3U0APwolGT8EDz5RB8AK8n7tsEAQK8uxpSemOkhI4j2v3TB8YuQ7D/rNghqz3Q67xsM4Duk/oUNNE4m75aufmDWb/QLVGm/3HS12CFvXyfun3FxMiTH8W2b3bh28h10b05tSJTnNztd6r/bW3NvH2Prh+fea+1aaQNm0GDzdhXegSEZqovkpo87jQ5hXchOrrOHlcTIAJMAEmwASYABO4nAggDfpjj9Enn9vnfZ3kGX1gf/r+/Rn756bvvf2Vv21Om9FOTbPpqkzqkO/RpyS4Y5Yu8HiGClHRCaVUDhB9e3YkVotHlqc63STneGryLPoCi6HQy1TobfIIaRLTrFvrln1Dm3fx8PauywhKZx8Ut2ACTKDREWB1Z6P75Dzh8yFgz7ct7a+XhMGdIlLQYHX/H0nLf02fD85L/gwisufnFJ04cMzs6x3TOhwZzFOPnQppGu7lU8GzBfaSDvnIrmPH13zg69xcLAVIZLB59yJ7garklM6ZrlUVqEhCCTYd1Gusem2JXlPiaSxoqinNJh5B+VbPQz7zek64vjZTtgT4dxg+SmmZG/UhrVpk0lv7RyGap1syCwJyuqzqUVlh2gLxh1BYmAATYAJMgAkwgUZGwG4nnStXCtyTEWmRpZEQwOf+4w/Cahb2ji1aOciQezIzNyE5Ly2nMLewWG0sSkopzsgpKnIUF9uLChx5mQU5Nlumzp4p52d66k90Gp36yUI5pIAi8qhHPl2TJ04iC1S+RXIpwCKihEowYXTp4+O0eG856GM1eBdovWWzpVjn5Rlq6fNvL58IC/n5CW9wpfj5GbVaBGMqj8fUSD4MT5MJMIF6RoDVnfXsg/Bw6hUBe4G8dYqcuU1y2BVdJ3Jb709uFROY4JG2smjrKx49Z1YzXslJ2Tu89r9GO5Oow9PktJI5igyBZAqpprFSVXyK8g+RMZR0XmQM4hVrjaAq30g/mXPiwJG4ru22LfreK+09kzZX3e/rkNiYnNTMvPRMr0D/439vKck4rPOJ1BotMV27myweqUcT03+b1TX4R0+trS30ksfp4PK2Mf4Hm2vt0j5VeqG/LCPKULjV4e1jTA62nET68uaVFmufnXVsDqemxGEoslmOF/YIGTa7S6vzSZ7jHeS3OWVcj9Bvt58aQnGTVGq1Z2BIdMeO/gbjWQfADZgAE2ACTIAJMIHLnkBenohYGBQksmkjz8z119NbbwlXYJZ6QuDYMZGIHPl5goMrjcjhEBmBytTTsiznlxS+szDraEp2fFJ2Tkl28/ZZJersI4lFpC02+1hljVWtL9aZrEX24vxia4HVWphdaLTlelOutzPPy1HiXULeVlKOPq6TmNJLnHu5iqmahD9VOLl0nd7ecrNm1ogIY5s2Kvy8kMcHUTKR0NylVkcw+FXPkq8v3XuvmAILE2ACTKCeE2B1Zz3/QDy8S0dAloqXDTflr8NmuZIoetTrP+5IG9GipaYJffvhreO18a9Q21ukva/Ix74iU7gmuDdJWFC0sh3+Ql+42232uWZwxQk4DeGaiKGk95eyd8t5hzWWJmRNlW25cnGymtwmgZLKQzIEawO7yLhlL1J7xZLGRI5CUWQneTal9rOESrQRy+51O09t+drs2Ncm4LdOHnm0hPrDKDPCReRQSzpU6sqd5MrPE+CqxyLvT/GnH1GrJq4aV0ZyL1Nei+A9OLc7tTqNI9CSgfMgL3c8TVHv0B7I7J3vM4ZIJReeMNn22FSBTl2IyhSkNlhgTSE7rD7R7Q0Wi85g1BkMHt6eXkEhWpUa/9wIdL/nPP/oMGnhieNPd7qhNau/z5MgP8YEmAATYAJM4LIjUFws1JrNmtGvv4ocLbffThaLUEndd5/IOYM4jGVSaCs8VXBKKamFqcczU1ZuTG7eQu3tqTcadAaNHtm0o7yjonyicPQz+ek0QqXllJzFjuISxOVx2OySzSk7sdiRxYpHRgODg4xWh9GpMkgqtd1BsC+12UTBCeItQhMGKz+cND5bUyid9++n48dp7lyhHgSJhZ9aQ+JSZ3+R2vGK1JTczJSsbK0lu8CZdSIzW+WRrfbAZZasz9I4si0lTmgkhWrSSU2dZN5EoSXUoYISs6IqE5pN5Cs/P3GYDJKnp9rbW+Ptq4IWNiJC/HRQyk58fPChc9PSDEFB2Gs//S0zZpxexzVMgAkwgXpKgNWd9fTD8LAuOQHr3g+h6yy2Gb/dPC6rwG/NgauemDusZ08xrg3rx65b2bdfy/X0c1P3QqAghwr2KmOG5g1JYxIzmsQEHUONzaHTa+3KLU3JSToyH+fup4ricQ51Kkp6XoBBV2I2FGrURWprAiUlKPWUUyFcjqsX29FF+k5PUvP7kNJa6fZCHzMyhNWAwSB2p7EiqivB2hlrY4cdtrPO3StXFSVuVOl90DmWWfAQJ1kSq2ut0eDbRHY61Mk/tvVfplaJ5N3tPPLaVXaPAeS/c27t4PUpvL/RAPytdhNgJmbHppa0NakyLbpTUX6HcauwxCMxt62z1X/DWrfzi4g8eTD+1IGdEe26BDeNKchMyz6VLjkcOckn7EV55oAwv4iIgMjwdgZTXU35nPoxepojsKnOwgSYABNgAkyACTABFwEsnAYMEOmzc3NFZpdPPqFWrcTCaV/6vsFPrZ794dGdH54oVJ3al3iqgE451IVVsWlou1gNnSYyedoorEAfVOgMLHAGF1JwAeEIf+egQmE5aLGJBpYS0ouF2FnEqVFbLSa7t6fk46Py99f5Bxq9/LRGD7GUREFmbYQahxlqlSMuUXBXKYqX/lledWFvFxUJG0YMWZLkQltRfklBrjW/wFZQIhfkl+TnFuWtXZ2dk5pF9hzJmnv8cJ7WnudtyA/yzVI5s63J2Tf3LzbZhVmlxxrqbBcMhU7T6ja3LLO71JR5kJ/jbJyeZtnLQj6+alF8hJK1YqlY4+VFKBaLtjbZfrD8ZmECTIAJXBYEWN15WXxGnsQ/IXBqNSUtkm1ZtvR9qpJ0MobIslNj9NZnroca8tWVL7Qc/bBvEb0xi5qWZrG+oq/qv1/P6Udd8Vpo1qZ9+crgtiu7xGxbsPb2qIDjxTbTgq3PRrXyO3bIKuUf1wV1ysmR+4XM7d1s419Hu/l45JiNhfnFlr0n2uAkOTsst8hb1liCmrXGdn1hXrEjPznSsqtZSPzxjCgk2kaHBm1JYYkZRaexPzxsTqvwA7TtAduJ37QevlLWPpudCmEWZSWaAAAgAElEQVT66RD76NiFRVFOsEpUHJqw26zszrp0ixiwK9aPRoT7EY3VpNMS1jVohoJnUXJzKD2DEM4comzb4wRXiUQZLrNV1y6/eFzxZFGetcuWXG0XlWTXOlNl0WuBpyZZkrVOWAOo7N6GFE99boqkc0palUrWqu2ehjwPQ5FeLRbOffC/UNFz9YL/oyo1yUQDMN+Wdo3Tr58pMKr9VcMKMjP1HuaeFkv68Rn7t2+J69Xb08/PrNXLzpImWmPZc5KtyF5iM3t6t6pgcRDesjmK8lLPgGAUnEd1rC6hefUj41omwASYABNgAkyACVwkAjDezM+nbduEDi7Xmrs6YfXrPy9ddmTZibwTYgTdaOVJ10hKN8RVDpPWGurICW4aGNwr0q+NLGVtk+M0OV7ZuZ4ZOfajGRGOnMDCYmg5PYSzs62W03CoyKYRxe46ojjUQh/qV0wGJ2mckjmnkFCOl0e9r2XPZc1kjUY2GiQPE3Jzy0IBanTqTTk2Q4lGV6jR5Tm16blyiSyRVrYEOLUmCec2BF1XO51aHB022VFCTpvKrjI4HBq71SmrJAkDIzuOshbLU0lWO0TROiQsM3VOWeNas2rQpdLAiW15WSfhrkMnS1oJbcjooDCoL6HEtAsTy1qFZq/FzDFZqCNV0EhCX1l2VE7KNJhVFJoWi4b9yWvBlpswASbQmAmwurMxf/1GOXcoN1OWyU6bVJymUmlseSnGnDUAAVNKg8KjMFn8iQjdKpr/++3dJ065alg1oCY/1eW/97/cJ271u388/8r8rj/++OiCNfLNN6sSE7Eqo5VvSjk5aYGBQbLs59pGVW3ZMmX79ikPTqWDBwl7xXA7eqATnTol3H1wjvVM6YoFhoSxKSmxR49SkyYiTk5SkvAQUva/oXl8681bQja/+PQ1s/Spi9AvVrPo3gOjdwWqdwuUl3ByQRGWjiLOjiIwOy1PxINFrUubqQg6QLOylvD49vMvv3suZyvPpXF5Wxhd7skaIau0UKKKaQmNpBrnWinXQ53slPXFFOrb/T7vYBHY1Ozj0x2h0EvFK9gdFDUwKhKlrF6lrRTmUq33MOg5tdT5fR9+igkwASbABJgAE7hIBLCjvGQJHThAaWm0Y4eIzokVII7p6bRkqWPut7te37J86eGlG5M2wtNcGZNRa7yySb8u6uYb5hq7WbS39HGGWW2OI4X+tixt+in51CnVqZ1iAXpGgW5RCgqSg4NUwSHqkFB1SIjw60GBog2rVRTXstVuMpSonFaHFQ7vOBbbrUtWWOe+Z+3as7hNl4ytf59QFx4vTD2pLUrxVqX7SVk+Up7R6YQaVO8k+MILa0c7mbG4tbtOXEelBrdwqYjK6VQVFqkLy8eMpW71UfAPnXFWF/6mQ6u2GbROg85p0DuNBqzaNR6eWrNF7+mt8/RSlZmsAqCizayi0ISiE20an/v/hf8y/AYmwAQaOwFWdzb2X0Cjmr+cs9++cgSSaCvaPcxd0Yd9sv6m7cc6peRGwINHK+fCStLLlJlpa3Hb1F7V6jrxIFaA/35s2pYt0z5fJowop01DHXp1C6wdxbWqPIx39+6EAokS4STdguhG1UpoKKEoghdVlHc/MGz84+kfvts9rMOvH6+/ZfWegRLpW7QQEYJg4InVcFk5mUwwF60oGB/WVzo9eZqFQWhBgbDfFHaapw3CZKRhw4R7FOw3scQNDBTLMwi82qGHhRJWbxCzxeNKDzAxgLq2MOOklLOfVDqVR5gsOVUI8OQbKXzSJZieaky+QXYVWcyeqAAajVbr4eNtNHto9TqtTmsyefTAyFiYABNgAkyACTABJtDICCxaJLbAT7gMNLE827ePdu2i/v3Jy6+4+/Cjh3PiC7SH9xfF5/gdlNptvWNDYWARReXQ2Bzqbgvo6Qhpnq/3SytQJ62n4hVucpV3n8tWqJLFogoPR6GwMBGfCEcULDpdak01ojrWgjzUjiiees+ytm1vomt7UadOtNGDRo8WC+MOo6hdO+FIhIVicbGcVZSL4KGncjNWbMtIzkm3BGeUaDKs6gybNt1pyChSZRRRBlzy1djElzQmh0ZnlWCUaXIiSKjDZJcMdofRIRkdssWp8ZZ0Xq5ilLUGlc6o0mIRaiCca3UyTjR6QghStQ4nshqOTFpJpXKo9dhDx1JVq5HhfaTRSuIoziWNutjhMEKNq9PJcH3C0VWPocuiaHRGD6PB02iymIwWvcmsNlVwty/VY2o1Gv4XdS1+ONyECTABJnCxCfD/OZ+ReO7+o0edcOzF39+l4lINwa+hIIv0qUIb5IpvkpcvQlNDMYTiYZIVh+LKXZ+mU6omMMppbUQXp1XW5sFq2sB80V8kurm0m4eSnUqyyFlEzmJyFJH1lJyzR7Zmwae6OP2YM/+YruSYpDIZml1ry0uTHCV6zwDo1bQmH8lWqDV6FqQclHMPILAjilPtVaxvCTcaNRVryKqSiqFZU2k9sbzRevibYgaSE+aLWNwYyZouW9Os2SnOpMWeWiQ0NH+w5u6kzEiN2plREFiobXPrI10faS+UelDbKW7a2P8+a5h1xPFUQnlW/tAX/Kp3H9WXx7+7f5U84Ub1rX3E98SwTxfoOrFcxk8RPvhQbsLmFKvP01si9hOW11CD4qcLVyEoaqE2hUKz2ohJAREUcL5+3pIkpaWlBQUFqRXX+tNHzDVMgAkwASbABJgAE2jIBLDHK5L8OJHnRxxtTpuISO5ae4twQeLMfRQ1rsvly+nh6eldOx4NtBzXS4kmKblNYGq/4emO7FN0IMdrJw22EtJtBxYStJyIpOlfaTMbKRZFlsVywT459Jg4KgWqzNJzKTAwragIK7FqU9D8Q+pxcbR3rzBBxYLzNMH0EZwdpQXdftrNWleUkaz1E2dvyKvTszPiFkyACTCBBkuA1Z1n+nTSsl5NnbmiRUqlZtj5LPekdd3xQvoU/JF0pt7qw71iya9E08QQ2d/oH1WYvM+en4ywNiTZVI4csejyai45rK4k4AVqZ6Gk8dQFtIWZnmS3StBI2rPLpqCzp5hUKVY52GaIFZWyU2svzlNLKtkuCtlwRDWSjMuw9ZNL1CiEYter8tWqStkEsQJS9pyRyVqIchH/mvunmel+p7LbXL6PjGonedm3uG9X+QMfLWVBxTr0KtLNaOlAcovPT/02/vFQLAWh2oNRZJW4N4o2GO4m9VlumKBCOfMIobvs0sXdRLHNrLa9EhGo4i09G1lWS4ormQATYAJMgAnUAwITJghPjlmzqHVrsUeLoDfYsMS+ZmoqZWdrs7PF5iX+Kofj8zPPiC1MRH9BThvxl3uLn5fmvuprtgRYLBa9xWIQR7Pe7KHzUIpZZ4bJHopySzkqqrozzVvxK4EhnxIUvEJTDG/rVsrJEZuvvXqJyDwwXTyV6swsyM+zFuQh64s9PyA8364S6V9QhH2fSo034qgUaAMrnBPiKgrDPUmFoxZLTGxz4yirUK9yShJG4nQgvaHssMsOp+Sw5Wdnm+Gx4nS6apR6VwOkFBfNxDkYOe0OWxFqnCokJc93FOY7rfmITml3ltjtJXZHiQNJFb3NcFl2SHaHFraCskNDTjVCRJJ4ROWQ1FgJyzhKGhlBIcU4kX+mxhPXXREj0nVynUS320h99EyMq94DUCxko6MpJkYcURACCQ5EkZHV7GyXPYyF79n82au+6FyuMYQLKmf/KV7Q13PnTIAJMAEm0NAIsLrzjF/MGJidabBVCHGI1iJrdGVRaoShJ+66vJjhrFvWBPZ0MJSDEs3hUBVhPxb31GIl6koao8LKEGtBPItmaIPFHWoUV2hEbMRiTKNRldnZoXP4AaO93a5CTkYlO41ix1nTqCqONMw32aTLMslZlLgDSWcqqQ6Vdrk7Ks0MasnUP6tM1n3p0j6aVSfNdiUiuktNqdihKlOvCAnnlZkVlZiKbB5I6YOM53tOtE3LC8IK8kR2dL4cI5miLPatMT47T2Q3QU4bizEH+Xm8PXJzCn2Q1iajICjN0c2G+D9OVaD5ZLAl0WozFtlMyJ9uc5jUGqwaC6FXbRG0o0343nyr0FkadVb0n54XiGOWo2W7YaOfma1TdJrVT41rmQATYAJMgAkwASZQXwlceSXt3k09eohQilBe5eUpjkYIO6NCxHAsEeE+rOQenDyZWrYUes/MTBGOZsmuhLQu66l0I7k289OoNH4mP38P/wCPAH+TP4qJ/PRaHSz4oIhUeui6+O8xbyxTzrEKRlZup0rtUKkkGDWS3FIsfGWMDFvihSKYjRwmU1iFhaHKtXp0Lx4rnIvKyrdq42ddm0nV2zYlOnWxp8FmNjm9PWVvH71foDko3OgfrFJy1MALCcaTyhHhkDhNTb39kDwwJsAEmAATqB8EWN15pu+gHhVvcdDMmbR+PWFdgQJ3EPgIBwVJslxgNHra7WqsKaGXjI6mW24Ru9oiuXahCC4OP+JNm+ijj87Uf53cgzIUMRYj4GUcQEOGCLXp5s106JBYESEOD6wXFcdkjC35cGHOyQRN/r7m3qsCLBkHU1rnOKIllVFG6HCNRePMN8gnHbLZqTJLak9ZY9bZT5hVxxEqB3kI7eTl1MKk1b20lbVeGu8YR16ituSk0O2qVHanBuFtZJUBm+4qNaLlwIpAVjkLCd7rahFUR4VwOqjUWrSWEJOHGhvwWCtj5B2vFkNFrnAcFS9nm60LQrMDNZbJ0OqiJZby8LYGW8Xh+qzcEFgAn8DbpdDFB2odIOCgsN3iWdFxAybABJgAE2ACTKA+E5g0SYzuxhvFMglLKSg0ofREvBpEHSwNGoMsL2JlVWXZcyRrxN8pYct+y//y+3wbFTi1+aTPJ11RTItCHI+dLJJ1BSavQpsqX9Lly7p8QpJr2ZlelI5yBiD3HqIxpbdFtkGnpCPX5v9FEYQ3ctlYqpw4qlWSGpcqXOIEl64TlVMjjqJo4IiESrUkanBUyyhqFek0Kq1aqcGJiN6oEQYICDQOowPEIlfjXKdT40SnV2v1GpzrDDhqtAaN3qAVNQYtTnAUJyad60QYLIh4kSJM5FlOXElsDEakuWFhAkyACTABJsAE6oYAqzvPwhFLlOeeq9oGe+ZpaYh943l6EEKYbaJccYUot99OyNONWONDhwr/HZhhwu/kscfoq69o2zaxPIWOEpvtWKpCN4oCtemxY8IXCTpKNIaC76qrhI8SlHdKQEl0oqgvER+nY0cRAhwjwXmVMItjx1YdcOk1/MXboqSnj8/KopFNqz5Y02M117uzYNdt4BuszkFGESzfIdBylh1rHkz5HXjzVMwIVJtHuA0TYAJMgAkwASbABBoKAfiGl4kSLVHxDVIqFfValbnE+sWijG1NbWwEE1F4uCNMOTzNY2OF5lRZkaJGEUmSd++3Hk/POpWbuSs+06rJlPSZmdbM4Kgsjc4Bi1GbHa7nIipl7rXSbaMlL6Ns0csaSdI4cZSh9MRmODzlLQYvOMV7wnFeFHGOI/zl9Rq9O4Kk4nFTm2N1SkO4vtcUg6duV6cN5YfB42QCTIAJ/L+9e4Gaqfr/ON7jUa4hl0gUVheUCFF0ISQLpSLdJEoklaS1YpXSb7lUcsmyXFIqt0Sli+6iWiEiUa4rofiRSyGFwv9T5/8//7Nmn5nneWbOmdkz857Vao095+zZ+7X32c/37NnnHAQQQMARYLozxJ6gqdJPPvkn/4hLp++88wT9l8KXroPRf7wQQAABBBBAAAEEskpAQWm/fv9fY1374rzcN84/dXuluucVq3vC6Sf88x8vBBBAAAEEEEAgzQSY7gy3wSImOsP9MnJHAAEEEEAAAQQQQAABBBBAAAEEEEAguwUy/q7f2d281B4BBBBAAAEEEEAAAQQQQAABBBBAAIFsErBiunPcuHHVqlUrWrRo48aNly5dmk3+1BUBBBBAAAEEEEDALgFCU7vag9IggAACCCCAAAIFFEj9dOesWbP69ev3+OOPr1ixom7duq1bt9ZjJQtYCzZHAAEEEEAAAQQQQCAAAULTABDJAgEEEEAAAQQQSKlA6qc7R44c2aNHj27dutWuXXvChAnFixd/8cUXU2rClyOAAAIIIIAAAghkqQChaZY2PNVGAAEEEEAAgQwSSPF055EjR5YvX96yZUuHtFChQnq/ePHiDBKmKggggAACCCCAAALpIUBomh7tRCkRQAABBBBAAIGYAil+Mvvu3buPHj1asWJFt5B6v27dOm+ZD//7clL279+vN8f+fcWsV7gf6tuPHz+e2jKEW8MC5g5IBBggZg/CBBNTwJtCD2EYid1D9CmdxCRKskk2RD75CU3VEESnZm+0LSXJR4dt1TfLAwgmpoCZQj/xmqAR0UMA4ZAxBcyUJPeTGNFpiqc7TRozZdiwYYMHD/am79q169ChQ+aWSUsR6L59+zTjqeWoSftSm78IkIjWAcTsrphgYgp4U+ghDCOxe4g+pZOYREk2OXDggFmG7EwhOrW/3ZN8dABiv4BZQjoJJqaAN4UeEuEDiNlhMEm5SYzoNMXTneXLl8/Nzd25c6drpPeVKlXykg0YMEDPMnJStLqzatWqFSpUKFWqlMmatBT16ZycHBWD6U7HHJCIvgeIeTBigokp4E2hhzCMxO4h+pROYhIl2aRo0aJmGTIsJT+hqapMdGp/uyf56ADEfgGzhHQSTEwBbwo9JMIHELPDYJJykxjRaYqnO0866aQGDRrMnz+/Q4cOYlJf0fs+ffp4yYr8+/KmaJIx5fOMmu60oRhm30pVCiAR8oCYXRETTEwBbwo9hGEkdg/Rp3QSkyiZJimPvszqB56Sn9BUX0p0Grh8GBkm8+gIo/yB5wmISYoJJqaAN4UeEuEDiNlhMEmtSYzoNMXTnXLRys2uXbs2bNiwUaNGo0ePPnjwoJ7SbnqRggACCCCAAAIIIIBA2AKEpmELkz8CCCCAAAIIIBC2QOqnOzt37qx7cQ4aNGjHjh316tX74IMPvE8uCrv+5I8AAggggAACCCCAgCtAaEpnQAABBBBAAAEE0l0g9dOdEtTV6xEXsKc7K+VHAAEEEEAAAQQQSFMBQtM0bTiKjQACCCCAAAIIOAI8WJyegAACCCCAAAIIIIAAAggggAACCCCAAAIZIsB0Z4Y0JNVAAAEEEEAAAQQQQAABBBBAAAEEEEAAAaY76QMIIIAAAggggAACCCCAAAIIIIAAAgggkCECTHdmSENSDQQQQAABBBBAAAEEEEAAAQQQQAABBBBgupM+gAACCCCAAAIIIIAAAggggAACCCCAAAIZIsB0Z4Y0JNVAAAEEEEAAAQQQQAABBBBAAAEEEEAAAaY76QMIIIAAAggggAACCCCAAAIIIIAAAgggkCEChdOrHsePH1eB9+/fn9piHzt27MCBA0WLFi1UiPnif5oCkIgOCYh5hGKCiSngTaGHMIzE7iH8rfH1SfKB4wRgTjDmW57sTCQ6tbPdk3x02IngLRUgZhthgokpwFETw4RDxsTBJOUmMaLTNJvu1CSjNKtWrWqakoIAAggggAACCCAQtoCCsdKlS4f9LWmUP9FpGjUWRUUAAQQQQACBzBPwjU5z0usnes2db9++/eSTT87JyUlhC2n+WFOuP/30U6lSpVJYDHu+GpCItgDE7JyYYGIKeFPoIQwjsXuIPqWTmERJNlHQqGiycuXKXN3ibQuiU7Nn2pCS5KPDhirHLgMgpg8mmJgC3hR6SIQPIGaHwSTlJjGi0zRb3anwukqVKiZoSlI018l0p1cekIh+CIh5YGKCiSnAMBLDhEPGxMEktSas6zT9iU5NE3tSGDEi2gIQs3Nigokp4E2hhzCMxO4h+pROYhIl0yRadMqtJ812IQUBBBBAAAEEEEAAAQQQQAABBBBAAAEE0lKA6c60bDYKjQACCCCAAAIIIIAAAggggAACCCCAAAKmQO4TTzxhppKSp0Bubm6zZs0KF06zuwHkWa+4NwAkgg4Qsy9hgokp4E2hhzCMxO4h+pROYhJhYppkbQqdgVE0duenh5g+mGBiCnhT6CGMq7F7iD6lk5hElpik2aOKTEdSEEAAAQQQQAABBBBAAAEEEEAAAQQQQAABR4CL2ekJCCCAAAIIIIAAAggggAACCCCAAAIIIJAhAkx3ZkhDUg0EEEAAAQQQQAABBBBAAAEEEEAAAQQQYLqTPoAAAggggAACCCCAAAIIIIAAAggggAACGSKQFdOdw4YNu+iii04++eRTTz21Q4cO69evd1vv0KFD9957b7ly5UqWLHnDDTfs3LnT/ej+++9v0KBBkSJF6tWrF9Hax48fHzFixDnnnKNPTz/99CFDhkTrDrNnz65Zs2bRokXr1Knz3nvvuZu98cYbV111lb43Jydn5cqV0XYPKd1CELemvXr1ksno0aNDqrtvthaCCCHi9cwzz/gWPqTEVJl8//33OhKrVavm2w3GjRunj3RANW7ceOnSpSHVPVq2wZroMXERTVyiRIloXx2t4pMmTdIz00qVKqWsfvvtt2i7h5RuIYhTUw3Rbdq0kcncuXNDqrtvtraBbN68OXIcycnRXyXfwoeUmCqTzz//vH379pUrVza7gbrHoEGDTjvttGLFirVs2XLjxo0h1T1atsGa6Fs+/PDDiy++WEFOhQoVNH6q3aN9tZ0xSbTSZnx64D2B6DSizyQO4mZIdOpQmH9TiE4lEy1IS84gFuxIku7RqYUaTjcgNHUcCE0JTSMGxrBD06yY7vzss880p7lkyZKPP/74r7/+0jzjwYMHHegHH3zwnXfekbK22b59+/XXX+9tgO7du3fu3Nn8W/XAAw9MnjxZM57r1q17++23GzVqZG6jlEWLFt1888133nnnN998o2lWvb777jtnSxXg0ksvfeqpp3x3DDvRQhCnym+++aaaSaNA2AIR+VsI8l/P68UXX1R8qZPYZLKkyuSPP/6oUaPG8OHDK1WqFFHfWbNm9evX7/HHH1+xYkXdunVbt279yy+/pK9J//79va1cu3btTp06+VYnRsXFdfXVVw8cONB3x7ATg+0kgYA4VdbvJTpkwq6+mb9tIFWrVvX2scGDB+uHPU0EmyUPLyVVJvojq1FCp6Bm1Z5++unnnntuwoQJX331lX5j0EiiHz7NzcJLCdbkxx9/vPbaa6+88kr9dKp5z927d0dEMm5FrI1JwqO2POdge4IqS3Qa0eKJgzgZEp265y9Ep0Sn7lFmZ3Qa7LhKaBoxqCYOQmhKaOrtVMkITfVTQ1a9nPkRDYWqtRZDnXjiiZrrdATWrl0r/cWLF3tBNLeiUyZvypo1awoXLqyJzjzdbrzxxrZt27qbaT1az549vXvpLEXfqMnQPLMKbwN7QH7++WctlVVEdeaZZ44aNSq8KsfO2R4Qt5zOqWzsYof6aTJN3IqY3UC/K+h3C2eDo0ePalpcP+GGWvEYmSdu4s3cWeKt9Wi+35hnxRcsWKCR5Ndff/XdPTmJ9oBoRNVIolMymegcNTnVN7/FHhC3bLpSQb/hmUVNWkoyTdxKRXSDY8eO6WRVy5GcDRQG6CqNmTNnJg0h4osSN1EMo5hEQ6KTs36C1Vz/kSNHzBqlRUxiFjtLUhLvCUSnIYXrRKfm+YtzVBKdOg55BmnJHMQSH0m8pU336NQeDULTaGdthKY64ghN3WHH/HOT+HRZVqzu9E4h79u3T/8sW7as/r98+XIt9tS1bM4Guur8jDPO0HSnd3vzvVaDavXZu+++W716dV1Xe9ddd+3du9fcTCnKys1c/9QSkjwz980n1ERLQHScd+nS5eGHHz7vvPNCrW+emVsC4pZTN1iYN2+e1gjnWfLwNkimSbRa6OxdB6x7QBUqVEjvU3hAJW7iralWi+vmGJdddplZfdsqbpbQSbEERMtdb7nlFv1waq6/iFbykNItAXFrp8NH5y3pPpLk86iJ0aYKm3bs2OGOJKVLl1ZoldYjie66o/FwypQpmvFUr5s6dapqp59yTYS0iEnMYmdJSuIjBtFpRFcJBIToVKq+5y9Ep05/sy1IS3wkyeffWdsq7vuXwhINQtNoZ22Epk6/JTR1j1/fPze+R3f+E7NrulNRS9++fZs2bXr++efLSOc8J510UpkyZVyvihUrKjE236ZNm7Zs2aL1FK+88spLL72kA7Vjx46+uygrZVigzH3zCS/RHhBd16/1KbpfaniVzU/O9oC4pX355Zd1R7ZoFyfmp1IJbpNkk2il1RWaOpm35IAKxMStqS6knT59erR5KKsqHq117AHR/UmaNGmiJSfRipqcdHtA3Pq+8MILtWrVEk5yBMxvSaaJ+e1uivMnPpNGEv3y+tFHH+mOFlqmqnhGK9Fee+01XwH7YxLfYmdDYiBHB9FpRFcJBIToVKq+J0dEp05/sypIC2QkcY+jdI9O7dEgNI02jBCaOocboak77Pj+uUkwDsyu6U5dCatrpV999dVE1DR6Hj58WHOdWoqlh4ToQNWVpHr80datW3VbNOc1dOjQRL4iaftaAqIp4zFjxmjuOCW32/NqWwLiLZJu3Hnrrbfq4TxJ6xURX2ShSaoo3O8NxMTNTRdcHzhwoGvXrk7KF1984Y4kmgZNeWXzUwBLQHQZ76effprkB535+lgC4pbtzz//nDFjRrQpdd8qBJ5om0ngFYwjw0BMFCX36NFDA8iyZct0ox79iKufYHVZUDrGJHEYZsYugfQEotOIzpA4CNFpjOOL6DQGTqo+CmQkcQuf7tGpJRqEptEOB0LTaDKpTQ/kwLEqNC2cWtBkfnufPn10BbrujlelShXne3W1o5bi69Zd7gJPXZqR5yWQepyr1iHqylMnE62X0RudVzRv3tx9xrpzsbyy8j7qPT+ZZyeI5nd0dxXdScCpvhbxPfTQQ5qziPF42TCgLOwhktFMuu4FHkZ985Nn8k2ilap8+fK5ubk2HFBBmbg11ZXs7dq1c5ebNWzY0B1JlKgVW5ZUPFrT2MuMuDwAAAuoSURBVAOiuc4ffvjBu2BfD/jS71ILFy6MVvgw0u0BcWs3Z84cXUt1++23h1Hf/OSZZJMYRXL+xGsk0Z9yZzO9162jYuwS0kdBmejWDbokX89fcso5bdo0PQdAT2HyjiRpEZOE5Gx/tkH1BKLTiLZOHITo1B0kI06OiE7dzkZ06lJYdZ4b1Ljq1i7uWJ3QNNowQmjq9i5C01CHkaxY3allDhr19COVRhxd9uWC6o5Xur/V/PnznRRnheYll1zibuD7RtfC//333zqpdj7dsGGD3uixKpoDPev/Xs6phbJyM9c2ei58npn7fmPgibaB6K6dq1at0hSP89LNjHUTTz1hNvCKR8vQNhC3nFo7rF6qu+9HK3l46akyiVYjLVkShXtAadWG3if5gArWxKmpbtei5eHeZXfFihVzRxLdx8CGikdrFNtAHnnkEe9IomLroWe6p2G08geebhuIW0GNJNdcc02FChUCr3KeGabEJEapFAMorHRHkv3792tmMK1HEk1k665YbpX164jea4RMo5gkRntl9kfBHh1EpxG9JXEQolOH1Dx/ITp1O5sNQVqwI4lTtfSNTm3TIDR1YhLzrI3Q1B1GCE1dCvPPTQBxoAaFjH/dc889WvugBT56Vq/z0umBU+tevXppUaGmQb/++mud8OjlamzcuFGPUdOz1LWQU2/00jXs+lRrD+vXr3/55ZevWLFCe+kpB61atfI1/PLLL3W+MWLECD3zXU9419Tq6tWrnS337NmjDPUIGjWhLq7XexXMN5MwEi0E8VbTfCR3GAjePO0E0Q22ixcvPn78+LCr75t/qkx0lDmHm9Zl9O/fX+91JDol1JGipY666YGeP3v33XdrEZ+WyvsWPqTEYE2cQj766KOa39cvKDHKHKPiGjdE9Pzzz2sk0dJ1vdfYEiOrYD+yEMRbQZkk+cnsdoLoCNJ9Qt5///1gWz+fuaXKRDeIcEYSdYORI0fqvW667ZR5+PDhGj3eeustTY7rNq+KMnVFVT6rE8hmwZroFELtO3jwYP34qmtvdZd3/Q11gxxvga2NSQJRTcdMgu0JRKdhhOvefkV06mgQnRKdOj3Bzug02HHVqWmCsbp3GCE0dTQITQlNnZ6QhND0hHQMEAtaZnNWWOt9nEx0ktO7d+9TTjlF80rXXXedd87xiiuuiNhRv3Q5e23btk2PjtH99XSp6R133BFjfkFPDFD4pZ/+9MBxTW66JTcXHGk+tKD1int7C0G8dUl+QGknyMSJE7XQTzdbiLuhE9kxVSY6yiK+WkeiW5GxY8fq9wkdUI0aNVqyZEkiFYxj38BNdHaqe2voGSN5FiZaxTVuRJTKHdzyzDPxDSwE8VZKxUvydKedIAMGDNDVzepsibd4HDmkykSLpiO+Wne3dMqvlY+PPfaYc6eIFi1a6MKOOOqVyC6Bm8ycOfPCCy8sUaKEFvBqGa9+YY1WPDtjkmilzfj0wHsC0alDGmC47u2ERKeOBtGp082ITtUfLIxOAx9XE4/VvcOIikdoKhBCU6ejEpqqM4QdmuboO8xxgRQEEEAAAQQQQAABBBBAAAEEEEAAAQQQQCDtBLLi3p1p1yoUGAEEEEAAAQQQQAABBBBAAAEEEEAAAQTiEGC6Mw40dkEAAQQQQAABBBBAAAEEEEAAAQQQQAABGwWY7rSxVSgTAggggAACCCCAAAIIIIAAAggggAACCMQhwHRnHGjsggACCCCAAAIIIIAAAggggAACCCCAAAI2CjDdaWOrUCYEEEAAAQQQQAABBBBAAAEEEEAAAQQQiEOA6c440NgFAQQQQAABBBBAAAEEEEAAAQQQQAABBGwUYLrTxlahTAgggAACCCCAAAIIIIAAAggggAACCCAQhwDTnXGgsQsCCCCAAAIIIIAAAggggAACCCCAAAII2CjAdKeNrUKZEEAAAQQQQAABBBBAAAEEEEAAAQQQQCAOAaY740BjFwQQQAABBBBAAAEEEEAAAQQQQAABBBCwUYDpThtbhTIhgEBaCMyZMyfHeJ1//vlpUXgKiQACCCCAAAIIIJBhAkSnGdagVAcBBOIWKBz3nuyIAAIIICCBgQMH1qpVy6EYMmQIJggggAACCCCAAAIIpFCA6DSF+Hw1AghYIsB0pyUNQTEQQCBdBVq1atWsWTOn9JMnT969e3e61oRyI4AAAggggAACCKS/ANFp+rchNUAAgUQFuJg9UUH2RwCBrBU4cuSI6l6okP9Aunfv3v79+9epU6dkyZKlSpVq06bNt99+61gtXLjQuAj+fxOeeOIJbbNly5bevXufe+65xYoVK1euXKdOnTZv3py1zlQcAQQQQAABBBBAID8CRKf5UWIbBBDIBgFWd2ZDK1NHBBAIRcAJKIsUKeKb+6ZNm+bOnauZyurVq+/cuXPixIlXXHHFmjVrKleurIvfp06d6uw1adKktWvXjho1yvnnBRdcoDfLli1btGjRTTfdVKVKFU10jh8/XgtItW/x4sV9v4tEBBBAAAEEEEAAAQSITukDCCCAgCPAdCc9AQEEEIhTYN++fdpTCzB999e6zg0bNrhrP7t06VKzZs0XXnjhscceq1ix4m233ebs9cknn2zdutX9p5PYtm3bjh07utm2b9/+kksuef3115WJ73eRiAACCCCAAAIIIIAA0Sl9AAEEEHAE/K/BRAcBBBBAIE+BPXv2aJsKFSr4bqlVn85c59GjR7WlLmnXxekrVqzw3Tgi0Z1C/euvv7TvWWedVaZMmXzum5/82QYBBBBAAAEEEEAg8wSITjOvTakRAgjEJ8B0Z3xu7IUAAgj8c4fNwoULR5vuPHbsmC5RP/vsszXvWb58eW22atUq5yf3PO3+/PPPQYMGVa1a1d33t99+y+e+eWbOBggggAACCCCAAAIZKUB0mpHNSqUQQCAOAS5mjwONXRBAAIF/BNavX1+jRg3NePpyDB06VNetd+/e/T//+U/ZsmW10rNv376aA/XdOCLxvvvumzJlirbXNeylS5fWY4x0H8987puf/NkGAQQQQAABBBBAIPMEiE4zr02pEQIIxCfgf5YeX17shQACCGSPwOHDh1euXNmhQ4doVZ4zZ07z5s11s053A63Q1DLPaNt707Vv165dn332WSfx0KFD2jc/O7INAggggAACCCCAQHYKEJ1mZ7tTawQQ8BXgYnZfFhIRQACBPARmzJihmLJFixbRtsvNzT1+/Lj76ezZs7dt2xZt44j0iH3Hjh2rG4Dmc182QwABBBBAAAEEEMhCAaLTLGx0qowAAtEEWN0ZTYZ0BBBAwF/g4MGDmn988sknnUnJadOmudvt3Lnz999/V0qrVq3atWunbbp169akSZPVq1dPnz5dV77752ikat+pU6fqMvbatWsvXrxYT28vV66csRUJCCCAAAIIIIAAAgicQHRKJ0AAAQQiBJjupEsggAACBRPYtWvXgAEDnH169uxp7tylS5cFCxYMHDhQoad+Zp81a1b9+vXnzZv3yCOPmBv7powZM0ZzqZoh1WXsTZs21XRn69atfbckEQEEEEAAAQQQQCDLBYhOs7wDUH0EEDAFcrzXWpofk4IAAgggECGwefPm6tWra0KzWbNmJk7sT83tSUEAAQQQQAABBBBAIBGB2PFn7E8T+V72RQABBKwV4N6d1jYNBUMAAQQQQAABBBBAAAEEEEAAAQQQQACBggkw3VkwL7ZGAAEESpYseeutt1asWNGXIvanvruQiAACCCCAAAIIIIBA3AKx48/Yn8b9peyIAAII2CzAxew2tw5lQwABBBBAAAEEEEAAAQQQQAABBBBAAIECCLC6swBYbIoAAggggAACCCCAAAIIIIAAAggggAACNgsw3Wlz61A2BBBAAAEEEEAAAQQQQAABBBBAAAEEECiAANOdBcBiUwQQQAABBBBAAAEEEEAAAQQQQAABBBCwWYDpTptbh7IhgAACCCCAAAIIIIAAAggggAACCCCAQAEE/gfwCfZ1hdkQUwAAAABJRU5ErkJggg==)"
      ],
      "outputs": []
    },
    {
      "cell_type": "markdown",
      "metadata": {
        "id": "48-ixm47L08K"
      },
      "source": [
        "\u0421\u0442\u0440\u0430\u0442\u0435\u0433\u0438\u044f \u043a\u0443\u043f\u0438 \u0438 \u0434\u0435\u0440\u0436\u0438 \u0432 \u043f\u043e\u0434\u0430\u0432\u043b\u044f\u044e\u0449\u0435\u043c \u0431\u043e\u043b\u044c\u0448\u0438\u043d\u0441\u0442\u0432\u0435 \u0441\u043b\u0443\u0447\u0430\u0435\u0432 \u043d\u0435 \u0445\u0443\u0436\u0435 \u0441\u0442\u0440\u0430\u0442\u0435\u0433\u0438\u0438, \u043e\u0441\u043d\u043e\u0432\u0430\u043d\u043d\u043e\u0439 \u043d\u0430 \u0441\u043a\u043e\u043b\u044c\u0437\u044f\u0449\u0438\u0445 \u0441\u0440\u0435\u0434\u043d\u0438\u0445, \u0441\u043b\u0435\u0434\u043e\u0432\u0430\u0442\u0435\u043b\u044c\u043d\u043e \u043d\u0435 \u0438\u043c\u0435\u0435\u0442 \u0441\u043c\u044b\u0441\u043b\u0430 \u043f\u0440\u0438\u043c\u0435\u043d\u044f\u0442\u044c \u0434\u0430\u043d\u043d\u0443\u044e \u0441\u0442\u0440\u0430\u0442\u0435\u0433\u0438\u044e (\u0432\u043f\u0440\u043e\u0447\u0435\u043c, \u043a\u0430\u043a \u0438 \u0432\u0441\u0435 \u043e\u0441\u0442\u0430\u043b\u044c\u043d\u044b\u0435)."
      ],
      "outputs": []
    },
    {
      "cell_type": "markdown",
      "metadata": {
        "id": "ln30vuzhL08L"
      },
      "source": [
        "## 9. \u041e\u0442\u043a\u0430\u0437 \u043e\u0442 \u043e\u0442\u0432\u0435\u0442\u0441\u0442\u0432\u0435\u043d\u043d\u043e\u0441\u0442\u0438"
      ],
      "outputs": []
    },
    {
      "cell_type": "markdown",
      "metadata": {
        "id": "TJsrHxbTT7ZH"
      },
      "source": [
        "\u0412\u0441\u0435 \u043f\u0440\u0438\u043c\u0435\u0440\u044b \u0440\u0430\u0437\u043e\u0431\u0440\u0430\u043d\u043d\u044b\u0445 \u0437\u0434\u0435\u0441\u044c \u0441\u0442\u0440\u0430\u0442\u0435\u0433\u0438\u0439 \u044f\u0432\u043b\u044f\u044e\u0442\u0441\u044f \u0438\u0433\u0440\u0443\u0448\u0435\u0447\u043d\u044b\u043c\u0438 \u0438 \u043d\u0435 \u043f\u043e\u0434\u0445\u043e\u0434\u044f\u0442 \u0434\u043b\u044f \u0440\u0435\u0430\u043b\u044c\u043d\u043e\u0439 \u0442\u043e\u0440\u0433\u043e\u0432\u043b\u0438 \u043d\u0430 \u0431\u0438\u0440\u0436\u0435. \u0411\u0435\u0437 \u0441\u0435\u0440\u044c\u0435\u0437\u043d\u043e\u0439 \u043f\u043e\u0434\u0433\u043e\u0442\u043e\u0432\u043a\u0438 \u0432\u0430\u0441 \u0442\u0430\u043c \u0441\u044a\u0435\u0434\u044f\u0442 \u0441 \u043f\u043e\u0442\u0440\u043e\u0445\u0430\u043c\u0438."
      ],
      "outputs": []
    }
  ],
  "metadata": {
    "kernelspec": {
      "name": "python3",
      "language": "python",
      "display_name": "Python 3"
    },
    "language_info": {
      "name": "python",
      "version": "3"
    }
  },
  "nbformat": 4,
  "nbformat_minor": 10
}